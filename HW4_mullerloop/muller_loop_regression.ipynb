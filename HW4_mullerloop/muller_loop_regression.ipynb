{
  "nbformat": 4,
  "nbformat_minor": 0,
  "metadata": {
    "colab": {
      "name": "muller_loop_regression.ipynb",
      "provenance": [],
      "collapsed_sections": [],
      "include_colab_link": true
    },
    "kernelspec": {
      "name": "python3",
      "display_name": "Python 3"
    }
  },
  "cells": [
    {
      "cell_type": "markdown",
      "metadata": {
        "id": "view-in-github",
        "colab_type": "text"
      },
      "source": [
        "<a href=\"https://colab.research.google.com/github/YuxingW/machine_learning/blob/main/HW4_mullerloop/muller_loop_regression.ipynb\" target=\"_parent\"><img src=\"https://colab.research.google.com/assets/colab-badge.svg\" alt=\"Open In Colab\"/></a>"
      ]
    },
    {
      "cell_type": "markdown",
      "metadata": {
        "id": "k2FtSFBn0W6c"
      },
      "source": [
        "### What is the story\n",
        "\n",
        "This note book is to predict the instant power consumption based on smart home sensor data and latent variables <br />\n",
        "Dataset<br />\n",
        "&nbsp;  &nbsp; &nbsp; Home C sensor data set in 2015<br />\n",
        "\n",
        "Objective fuction<br />\n",
        "Predict instant power consumption based on sensor data solar energy and latent variables -- weather info<br />\n",
        "\n"
      ]
    },
    {
      "cell_type": "code",
      "metadata": {
        "id": "GCd5PqpMHKFb"
      },
      "source": [
        "import requests\n",
        "import numpy as np\n",
        "import pandas as pd\n",
        "import tensorflow as tf\n",
        "import seaborn as sns\n",
        "import matplotlib.pyplot as plt\n",
        "from sklearn.tree import DecisionTreeClassifier\n",
        "from sklearn.metrics import silhouette_samples, silhouette_score\n",
        "from sklearn.model_selection import train_test_split\n",
        "from sklearn.preprocessing import RobustScaler\n",
        "from io import BytesIO"
      ],
      "execution_count": 5,
      "outputs": []
    },
    {
      "cell_type": "markdown",
      "metadata": {
        "id": "ineTmZcEHTg_"
      },
      "source": [
        "Load the dataset which has aggregated the sensor power consumption data combined with weather data of Home C."
      ]
    },
    {
      "cell_type": "code",
      "metadata": {
        "colab": {
          "base_uri": "https://localhost:8080/",
          "height": 370
        },
        "id": "WGlLAUwcHNgf",
        "outputId": "831c7ed7-4640-4f11-8d13-2281d0bf1680"
      },
      "source": [
        "train_url = 'https://docs.google.com/spreadsheets/d/e/2PACX-1vTAH13xa_KY8QeIy48jCgbAY7OkFQCQYfHh-7Nt-TgXKTBeH8buWJZ6Izm91LxIXCo9W9oebwmbgbeF/pub?output=csv#'\n",
        "r = requests.get(train_url)\n",
        "data = r.content\n",
        "stats = pd.read_csv(BytesIO(data))\n",
        "stats.head()"
      ],
      "execution_count": 6,
      "outputs": [
        {
          "output_type": "stream",
          "text": [
            "/usr/local/lib/python3.7/dist-packages/IPython/core/interactiveshell.py:2718: DtypeWarning: Columns (27) have mixed types.Specify dtype option on import or set low_memory=False.\n",
            "  interactivity=interactivity, compiler=compiler, result=result)\n"
          ],
          "name": "stderr"
        },
        {
          "output_type": "execute_result",
          "data": {
            "text/html": [
              "<div>\n",
              "<style scoped>\n",
              "    .dataframe tbody tr th:only-of-type {\n",
              "        vertical-align: middle;\n",
              "    }\n",
              "\n",
              "    .dataframe tbody tr th {\n",
              "        vertical-align: top;\n",
              "    }\n",
              "\n",
              "    .dataframe thead th {\n",
              "        text-align: right;\n",
              "    }\n",
              "</style>\n",
              "<table border=\"1\" class=\"dataframe\">\n",
              "  <thead>\n",
              "    <tr style=\"text-align: right;\">\n",
              "      <th></th>\n",
              "      <th>time</th>\n",
              "      <th>use [kW]</th>\n",
              "      <th>gen [kW]</th>\n",
              "      <th>House overall [kW]</th>\n",
              "      <th>Dishwasher [kW]</th>\n",
              "      <th>Furnace 1 [kW]</th>\n",
              "      <th>Furnace 2 [kW]</th>\n",
              "      <th>Home office [kW]</th>\n",
              "      <th>Fridge [kW]</th>\n",
              "      <th>Wine cellar [kW]</th>\n",
              "      <th>Garage door [kW]</th>\n",
              "      <th>Kitchen 12 [kW]</th>\n",
              "      <th>Kitchen 14 [kW]</th>\n",
              "      <th>Kitchen 38 [kW]</th>\n",
              "      <th>Barn [kW]</th>\n",
              "      <th>Well [kW]</th>\n",
              "      <th>Microwave [kW]</th>\n",
              "      <th>Living room [kW]</th>\n",
              "      <th>Solar [kW]</th>\n",
              "      <th>temperature</th>\n",
              "      <th>icon</th>\n",
              "      <th>humidity</th>\n",
              "      <th>visibility</th>\n",
              "      <th>summary</th>\n",
              "      <th>apparentTemperature</th>\n",
              "      <th>pressure</th>\n",
              "      <th>windSpeed</th>\n",
              "      <th>cloudCover</th>\n",
              "      <th>windBearing</th>\n",
              "      <th>precipIntensity</th>\n",
              "      <th>dewPoint</th>\n",
              "      <th>precipProbability</th>\n",
              "    </tr>\n",
              "  </thead>\n",
              "  <tbody>\n",
              "    <tr>\n",
              "      <th>0</th>\n",
              "      <td>1451624400</td>\n",
              "      <td>0.932833</td>\n",
              "      <td>0.003483</td>\n",
              "      <td>0.932833</td>\n",
              "      <td>0.000033</td>\n",
              "      <td>0.020700</td>\n",
              "      <td>0.061917</td>\n",
              "      <td>0.442633</td>\n",
              "      <td>0.124150</td>\n",
              "      <td>0.006983</td>\n",
              "      <td>0.013083</td>\n",
              "      <td>0.000417</td>\n",
              "      <td>0.000150</td>\n",
              "      <td>0.000000</td>\n",
              "      <td>0.031350</td>\n",
              "      <td>0.001017</td>\n",
              "      <td>0.004067</td>\n",
              "      <td>0.001517</td>\n",
              "      <td>0.003483</td>\n",
              "      <td>36.14</td>\n",
              "      <td>clear-night</td>\n",
              "      <td>0.62</td>\n",
              "      <td>10.0</td>\n",
              "      <td>Clear</td>\n",
              "      <td>29.26</td>\n",
              "      <td>1016.91</td>\n",
              "      <td>9.18</td>\n",
              "      <td>cloudCover</td>\n",
              "      <td>282</td>\n",
              "      <td>0.0</td>\n",
              "      <td>24.4</td>\n",
              "      <td>0.0</td>\n",
              "    </tr>\n",
              "    <tr>\n",
              "      <th>1</th>\n",
              "      <td>1451624401</td>\n",
              "      <td>0.934333</td>\n",
              "      <td>0.003467</td>\n",
              "      <td>0.934333</td>\n",
              "      <td>0.000000</td>\n",
              "      <td>0.020717</td>\n",
              "      <td>0.063817</td>\n",
              "      <td>0.444067</td>\n",
              "      <td>0.124000</td>\n",
              "      <td>0.006983</td>\n",
              "      <td>0.013117</td>\n",
              "      <td>0.000417</td>\n",
              "      <td>0.000150</td>\n",
              "      <td>0.000000</td>\n",
              "      <td>0.031500</td>\n",
              "      <td>0.001017</td>\n",
              "      <td>0.004067</td>\n",
              "      <td>0.001650</td>\n",
              "      <td>0.003467</td>\n",
              "      <td>36.14</td>\n",
              "      <td>clear-night</td>\n",
              "      <td>0.62</td>\n",
              "      <td>10.0</td>\n",
              "      <td>Clear</td>\n",
              "      <td>29.26</td>\n",
              "      <td>1016.91</td>\n",
              "      <td>9.18</td>\n",
              "      <td>cloudCover</td>\n",
              "      <td>282</td>\n",
              "      <td>0.0</td>\n",
              "      <td>24.4</td>\n",
              "      <td>0.0</td>\n",
              "    </tr>\n",
              "    <tr>\n",
              "      <th>2</th>\n",
              "      <td>1451624402</td>\n",
              "      <td>0.931817</td>\n",
              "      <td>0.003467</td>\n",
              "      <td>0.931817</td>\n",
              "      <td>0.000017</td>\n",
              "      <td>0.020700</td>\n",
              "      <td>0.062317</td>\n",
              "      <td>0.446067</td>\n",
              "      <td>0.123533</td>\n",
              "      <td>0.006983</td>\n",
              "      <td>0.013083</td>\n",
              "      <td>0.000433</td>\n",
              "      <td>0.000167</td>\n",
              "      <td>0.000017</td>\n",
              "      <td>0.031517</td>\n",
              "      <td>0.001000</td>\n",
              "      <td>0.004067</td>\n",
              "      <td>0.001650</td>\n",
              "      <td>0.003467</td>\n",
              "      <td>36.14</td>\n",
              "      <td>clear-night</td>\n",
              "      <td>0.62</td>\n",
              "      <td>10.0</td>\n",
              "      <td>Clear</td>\n",
              "      <td>29.26</td>\n",
              "      <td>1016.91</td>\n",
              "      <td>9.18</td>\n",
              "      <td>cloudCover</td>\n",
              "      <td>282</td>\n",
              "      <td>0.0</td>\n",
              "      <td>24.4</td>\n",
              "      <td>0.0</td>\n",
              "    </tr>\n",
              "    <tr>\n",
              "      <th>3</th>\n",
              "      <td>1451624403</td>\n",
              "      <td>1.022050</td>\n",
              "      <td>0.003483</td>\n",
              "      <td>1.022050</td>\n",
              "      <td>0.000017</td>\n",
              "      <td>0.106900</td>\n",
              "      <td>0.068517</td>\n",
              "      <td>0.446583</td>\n",
              "      <td>0.123133</td>\n",
              "      <td>0.006983</td>\n",
              "      <td>0.013000</td>\n",
              "      <td>0.000433</td>\n",
              "      <td>0.000217</td>\n",
              "      <td>0.000000</td>\n",
              "      <td>0.031500</td>\n",
              "      <td>0.001017</td>\n",
              "      <td>0.004067</td>\n",
              "      <td>0.001617</td>\n",
              "      <td>0.003483</td>\n",
              "      <td>36.14</td>\n",
              "      <td>clear-night</td>\n",
              "      <td>0.62</td>\n",
              "      <td>10.0</td>\n",
              "      <td>Clear</td>\n",
              "      <td>29.26</td>\n",
              "      <td>1016.91</td>\n",
              "      <td>9.18</td>\n",
              "      <td>cloudCover</td>\n",
              "      <td>282</td>\n",
              "      <td>0.0</td>\n",
              "      <td>24.4</td>\n",
              "      <td>0.0</td>\n",
              "    </tr>\n",
              "    <tr>\n",
              "      <th>4</th>\n",
              "      <td>1451624404</td>\n",
              "      <td>1.139400</td>\n",
              "      <td>0.003467</td>\n",
              "      <td>1.139400</td>\n",
              "      <td>0.000133</td>\n",
              "      <td>0.236933</td>\n",
              "      <td>0.063983</td>\n",
              "      <td>0.446533</td>\n",
              "      <td>0.122850</td>\n",
              "      <td>0.006850</td>\n",
              "      <td>0.012783</td>\n",
              "      <td>0.000450</td>\n",
              "      <td>0.000333</td>\n",
              "      <td>0.000000</td>\n",
              "      <td>0.031500</td>\n",
              "      <td>0.001017</td>\n",
              "      <td>0.004067</td>\n",
              "      <td>0.001583</td>\n",
              "      <td>0.003467</td>\n",
              "      <td>36.14</td>\n",
              "      <td>clear-night</td>\n",
              "      <td>0.62</td>\n",
              "      <td>10.0</td>\n",
              "      <td>Clear</td>\n",
              "      <td>29.26</td>\n",
              "      <td>1016.91</td>\n",
              "      <td>9.18</td>\n",
              "      <td>cloudCover</td>\n",
              "      <td>282</td>\n",
              "      <td>0.0</td>\n",
              "      <td>24.4</td>\n",
              "      <td>0.0</td>\n",
              "    </tr>\n",
              "  </tbody>\n",
              "</table>\n",
              "</div>"
            ],
            "text/plain": [
              "         time  use [kW]  gen [kW]  ...  precipIntensity  dewPoint  precipProbability\n",
              "0  1451624400  0.932833  0.003483  ...              0.0      24.4                0.0\n",
              "1  1451624401  0.934333  0.003467  ...              0.0      24.4                0.0\n",
              "2  1451624402  0.931817  0.003467  ...              0.0      24.4                0.0\n",
              "3  1451624403  1.022050  0.003483  ...              0.0      24.4                0.0\n",
              "4  1451624404  1.139400  0.003467  ...              0.0      24.4                0.0\n",
              "\n",
              "[5 rows x 32 columns]"
            ]
          },
          "metadata": {
            "tags": []
          },
          "execution_count": 6
        }
      ]
    },
    {
      "cell_type": "markdown",
      "metadata": {
        "id": "PAUcycN9HuWY"
      },
      "source": [
        "### Data preprosessing\n",
        "Remove unit(kW) from dataset column names."
      ]
    },
    {
      "cell_type": "code",
      "metadata": {
        "id": "eK9G3J9KHufk"
      },
      "source": [
        "stats.columns = [i.replace(' [kW]', '') for i in stats.columns]"
      ],
      "execution_count": 7,
      "outputs": []
    },
    {
      "cell_type": "markdown",
      "metadata": {
        "id": "aEbyY4uFNSQP"
      },
      "source": [
        "'cloudCover' value was found in the column, let's replace these invalid values with the next valid value."
      ]
    },
    {
      "cell_type": "code",
      "metadata": {
        "colab": {
          "base_uri": "https://localhost:8080/",
          "height": 317
        },
        "id": "vDRUcqSzNSaT",
        "outputId": "692f84ed-9800-4034-9c4c-79d540da0d52"
      },
      "source": [
        "stats['cloudCover'].replace(['cloudCover'], method='bfill', inplace=True)\n",
        "stats['cloudCover'] = stats['cloudCover'].astype('float')\n",
        "stats.head()"
      ],
      "execution_count": 8,
      "outputs": [
        {
          "output_type": "execute_result",
          "data": {
            "text/html": [
              "<div>\n",
              "<style scoped>\n",
              "    .dataframe tbody tr th:only-of-type {\n",
              "        vertical-align: middle;\n",
              "    }\n",
              "\n",
              "    .dataframe tbody tr th {\n",
              "        vertical-align: top;\n",
              "    }\n",
              "\n",
              "    .dataframe thead th {\n",
              "        text-align: right;\n",
              "    }\n",
              "</style>\n",
              "<table border=\"1\" class=\"dataframe\">\n",
              "  <thead>\n",
              "    <tr style=\"text-align: right;\">\n",
              "      <th></th>\n",
              "      <th>time</th>\n",
              "      <th>use</th>\n",
              "      <th>gen</th>\n",
              "      <th>House overall</th>\n",
              "      <th>Dishwasher</th>\n",
              "      <th>Furnace 1</th>\n",
              "      <th>Furnace 2</th>\n",
              "      <th>Home office</th>\n",
              "      <th>Fridge</th>\n",
              "      <th>Wine cellar</th>\n",
              "      <th>Garage door</th>\n",
              "      <th>Kitchen 12</th>\n",
              "      <th>Kitchen 14</th>\n",
              "      <th>Kitchen 38</th>\n",
              "      <th>Barn</th>\n",
              "      <th>Well</th>\n",
              "      <th>Microwave</th>\n",
              "      <th>Living room</th>\n",
              "      <th>Solar</th>\n",
              "      <th>temperature</th>\n",
              "      <th>icon</th>\n",
              "      <th>humidity</th>\n",
              "      <th>visibility</th>\n",
              "      <th>summary</th>\n",
              "      <th>apparentTemperature</th>\n",
              "      <th>pressure</th>\n",
              "      <th>windSpeed</th>\n",
              "      <th>cloudCover</th>\n",
              "      <th>windBearing</th>\n",
              "      <th>precipIntensity</th>\n",
              "      <th>dewPoint</th>\n",
              "      <th>precipProbability</th>\n",
              "    </tr>\n",
              "  </thead>\n",
              "  <tbody>\n",
              "    <tr>\n",
              "      <th>0</th>\n",
              "      <td>1451624400</td>\n",
              "      <td>0.932833</td>\n",
              "      <td>0.003483</td>\n",
              "      <td>0.932833</td>\n",
              "      <td>0.000033</td>\n",
              "      <td>0.020700</td>\n",
              "      <td>0.061917</td>\n",
              "      <td>0.442633</td>\n",
              "      <td>0.124150</td>\n",
              "      <td>0.006983</td>\n",
              "      <td>0.013083</td>\n",
              "      <td>0.000417</td>\n",
              "      <td>0.000150</td>\n",
              "      <td>0.000000</td>\n",
              "      <td>0.031350</td>\n",
              "      <td>0.001017</td>\n",
              "      <td>0.004067</td>\n",
              "      <td>0.001517</td>\n",
              "      <td>0.003483</td>\n",
              "      <td>36.14</td>\n",
              "      <td>clear-night</td>\n",
              "      <td>0.62</td>\n",
              "      <td>10.0</td>\n",
              "      <td>Clear</td>\n",
              "      <td>29.26</td>\n",
              "      <td>1016.91</td>\n",
              "      <td>9.18</td>\n",
              "      <td>0.75</td>\n",
              "      <td>282</td>\n",
              "      <td>0.0</td>\n",
              "      <td>24.4</td>\n",
              "      <td>0.0</td>\n",
              "    </tr>\n",
              "    <tr>\n",
              "      <th>1</th>\n",
              "      <td>1451624401</td>\n",
              "      <td>0.934333</td>\n",
              "      <td>0.003467</td>\n",
              "      <td>0.934333</td>\n",
              "      <td>0.000000</td>\n",
              "      <td>0.020717</td>\n",
              "      <td>0.063817</td>\n",
              "      <td>0.444067</td>\n",
              "      <td>0.124000</td>\n",
              "      <td>0.006983</td>\n",
              "      <td>0.013117</td>\n",
              "      <td>0.000417</td>\n",
              "      <td>0.000150</td>\n",
              "      <td>0.000000</td>\n",
              "      <td>0.031500</td>\n",
              "      <td>0.001017</td>\n",
              "      <td>0.004067</td>\n",
              "      <td>0.001650</td>\n",
              "      <td>0.003467</td>\n",
              "      <td>36.14</td>\n",
              "      <td>clear-night</td>\n",
              "      <td>0.62</td>\n",
              "      <td>10.0</td>\n",
              "      <td>Clear</td>\n",
              "      <td>29.26</td>\n",
              "      <td>1016.91</td>\n",
              "      <td>9.18</td>\n",
              "      <td>0.75</td>\n",
              "      <td>282</td>\n",
              "      <td>0.0</td>\n",
              "      <td>24.4</td>\n",
              "      <td>0.0</td>\n",
              "    </tr>\n",
              "    <tr>\n",
              "      <th>2</th>\n",
              "      <td>1451624402</td>\n",
              "      <td>0.931817</td>\n",
              "      <td>0.003467</td>\n",
              "      <td>0.931817</td>\n",
              "      <td>0.000017</td>\n",
              "      <td>0.020700</td>\n",
              "      <td>0.062317</td>\n",
              "      <td>0.446067</td>\n",
              "      <td>0.123533</td>\n",
              "      <td>0.006983</td>\n",
              "      <td>0.013083</td>\n",
              "      <td>0.000433</td>\n",
              "      <td>0.000167</td>\n",
              "      <td>0.000017</td>\n",
              "      <td>0.031517</td>\n",
              "      <td>0.001000</td>\n",
              "      <td>0.004067</td>\n",
              "      <td>0.001650</td>\n",
              "      <td>0.003467</td>\n",
              "      <td>36.14</td>\n",
              "      <td>clear-night</td>\n",
              "      <td>0.62</td>\n",
              "      <td>10.0</td>\n",
              "      <td>Clear</td>\n",
              "      <td>29.26</td>\n",
              "      <td>1016.91</td>\n",
              "      <td>9.18</td>\n",
              "      <td>0.75</td>\n",
              "      <td>282</td>\n",
              "      <td>0.0</td>\n",
              "      <td>24.4</td>\n",
              "      <td>0.0</td>\n",
              "    </tr>\n",
              "    <tr>\n",
              "      <th>3</th>\n",
              "      <td>1451624403</td>\n",
              "      <td>1.022050</td>\n",
              "      <td>0.003483</td>\n",
              "      <td>1.022050</td>\n",
              "      <td>0.000017</td>\n",
              "      <td>0.106900</td>\n",
              "      <td>0.068517</td>\n",
              "      <td>0.446583</td>\n",
              "      <td>0.123133</td>\n",
              "      <td>0.006983</td>\n",
              "      <td>0.013000</td>\n",
              "      <td>0.000433</td>\n",
              "      <td>0.000217</td>\n",
              "      <td>0.000000</td>\n",
              "      <td>0.031500</td>\n",
              "      <td>0.001017</td>\n",
              "      <td>0.004067</td>\n",
              "      <td>0.001617</td>\n",
              "      <td>0.003483</td>\n",
              "      <td>36.14</td>\n",
              "      <td>clear-night</td>\n",
              "      <td>0.62</td>\n",
              "      <td>10.0</td>\n",
              "      <td>Clear</td>\n",
              "      <td>29.26</td>\n",
              "      <td>1016.91</td>\n",
              "      <td>9.18</td>\n",
              "      <td>0.75</td>\n",
              "      <td>282</td>\n",
              "      <td>0.0</td>\n",
              "      <td>24.4</td>\n",
              "      <td>0.0</td>\n",
              "    </tr>\n",
              "    <tr>\n",
              "      <th>4</th>\n",
              "      <td>1451624404</td>\n",
              "      <td>1.139400</td>\n",
              "      <td>0.003467</td>\n",
              "      <td>1.139400</td>\n",
              "      <td>0.000133</td>\n",
              "      <td>0.236933</td>\n",
              "      <td>0.063983</td>\n",
              "      <td>0.446533</td>\n",
              "      <td>0.122850</td>\n",
              "      <td>0.006850</td>\n",
              "      <td>0.012783</td>\n",
              "      <td>0.000450</td>\n",
              "      <td>0.000333</td>\n",
              "      <td>0.000000</td>\n",
              "      <td>0.031500</td>\n",
              "      <td>0.001017</td>\n",
              "      <td>0.004067</td>\n",
              "      <td>0.001583</td>\n",
              "      <td>0.003467</td>\n",
              "      <td>36.14</td>\n",
              "      <td>clear-night</td>\n",
              "      <td>0.62</td>\n",
              "      <td>10.0</td>\n",
              "      <td>Clear</td>\n",
              "      <td>29.26</td>\n",
              "      <td>1016.91</td>\n",
              "      <td>9.18</td>\n",
              "      <td>0.75</td>\n",
              "      <td>282</td>\n",
              "      <td>0.0</td>\n",
              "      <td>24.4</td>\n",
              "      <td>0.0</td>\n",
              "    </tr>\n",
              "  </tbody>\n",
              "</table>\n",
              "</div>"
            ],
            "text/plain": [
              "         time       use       gen  ...  precipIntensity  dewPoint  precipProbability\n",
              "0  1451624400  0.932833  0.003483  ...              0.0      24.4                0.0\n",
              "1  1451624401  0.934333  0.003467  ...              0.0      24.4                0.0\n",
              "2  1451624402  0.931817  0.003467  ...              0.0      24.4                0.0\n",
              "3  1451624403  1.022050  0.003483  ...              0.0      24.4                0.0\n",
              "4  1451624404  1.139400  0.003467  ...              0.0      24.4                0.0\n",
              "\n",
              "[5 rows x 32 columns]"
            ]
          },
          "metadata": {
            "tags": []
          },
          "execution_count": 8
        }
      ]
    },
    {
      "cell_type": "markdown",
      "metadata": {
        "id": "CjoSu95rzaCi"
      },
      "source": [
        "Combine 'Furnace 1' and 'Furnace 2' to 'Furnace', combine 'Kitchen 12' 'Kitchen 14' and 'Kitchen 38' to 'Kitchen'."
      ]
    },
    {
      "cell_type": "code",
      "metadata": {
        "id": "KMbHNbKIzaMc"
      },
      "source": [
        "stats['Furnace'] = stats[['Furnace 1','Furnace 2']].sum(axis=1)\n",
        "stats['Kitchen'] = stats[['Kitchen 12','Kitchen 14','Kitchen 38']].sum(axis=1)"
      ],
      "execution_count": 9,
      "outputs": []
    },
    {
      "cell_type": "markdown",
      "metadata": {
        "id": "FQrwgXpFwcUG"
      },
      "source": [
        "See feature correlations, Solar data is negatively correlated to power consumption, that is expected."
      ]
    },
    {
      "cell_type": "code",
      "metadata": {
        "colab": {
          "base_uri": "https://localhost:8080/"
        },
        "id": "VrwXUHhVwckj",
        "outputId": "b2a4acbe-76b0-48b8-dba0-6ded1df636cf"
      },
      "source": [
        "  feature = 'use'\n",
        "  df_corr = stats.corr()[feature]\n",
        "  golden_features_list = df_corr[abs(df_corr) > 0.1].sort_values(ascending=True)\n",
        "  print(\"There is {} correlated values with feature {}:\\n{}\"\n",
        "        .format(len(golden_features_list), feature, golden_features_list))"
      ],
      "execution_count": 10,
      "outputs": [
        {
          "output_type": "stream",
          "text": [
            "There is 21 correlated values with feature use:\n",
            "gen                   -0.309440\n",
            "Solar                 -0.309440\n",
            "time                  -0.159069\n",
            "apparentTemperature   -0.154378\n",
            "temperature           -0.152890\n",
            "dewPoint              -0.120681\n",
            "Kitchen 38             0.107878\n",
            "Kitchen 14             0.154937\n",
            "Home office            0.155206\n",
            "Microwave              0.158953\n",
            "Kitchen                0.170290\n",
            "Fridge                 0.188517\n",
            "Barn                   0.239522\n",
            "Well                   0.257693\n",
            "Dishwasher             0.302407\n",
            "Furnace 1              0.329671\n",
            "Living room            0.342365\n",
            "Furnace 2              0.483417\n",
            "Furnace                0.543849\n",
            "House overall          1.000000\n",
            "use                    1.000000\n",
            "Name: use, dtype: float64\n"
          ],
          "name": "stdout"
        }
      ]
    },
    {
      "cell_type": "markdown",
      "metadata": {
        "id": "TtAuYHEGvnQl"
      },
      "source": [
        "Observe duplicate feature 'use' and 'House overall', 'gen' and 'Solar', remove one of them. <br />\n",
        "Keep only features which absolute correlation with 'use' > 0.1, not involving duplicate features."
      ]
    },
    {
      "cell_type": "code",
      "metadata": {
        "colab": {
          "base_uri": "https://localhost:8080/",
          "height": 197
        },
        "id": "hAJW4sPZvnaf",
        "outputId": "38073463-6ae5-4536-92ec-067f0344e2a9"
      },
      "source": [
        "feature_list = ['gen' , 'apparentTemperature', 'temperature', 'dewPoint', 'Kitchen', 'Furnace', \\\n",
        "                'Home office', 'Microwave', 'Fridge', 'Barn', 'Well', 'Dishwasher', 'Living room', 'use']\n",
        "df = stats[feature_list]\n",
        "df.head()"
      ],
      "execution_count": 11,
      "outputs": [
        {
          "output_type": "execute_result",
          "data": {
            "text/html": [
              "<div>\n",
              "<style scoped>\n",
              "    .dataframe tbody tr th:only-of-type {\n",
              "        vertical-align: middle;\n",
              "    }\n",
              "\n",
              "    .dataframe tbody tr th {\n",
              "        vertical-align: top;\n",
              "    }\n",
              "\n",
              "    .dataframe thead th {\n",
              "        text-align: right;\n",
              "    }\n",
              "</style>\n",
              "<table border=\"1\" class=\"dataframe\">\n",
              "  <thead>\n",
              "    <tr style=\"text-align: right;\">\n",
              "      <th></th>\n",
              "      <th>gen</th>\n",
              "      <th>apparentTemperature</th>\n",
              "      <th>temperature</th>\n",
              "      <th>dewPoint</th>\n",
              "      <th>Kitchen</th>\n",
              "      <th>Furnace</th>\n",
              "      <th>Home office</th>\n",
              "      <th>Microwave</th>\n",
              "      <th>Fridge</th>\n",
              "      <th>Barn</th>\n",
              "      <th>Well</th>\n",
              "      <th>Dishwasher</th>\n",
              "      <th>Living room</th>\n",
              "      <th>use</th>\n",
              "    </tr>\n",
              "  </thead>\n",
              "  <tbody>\n",
              "    <tr>\n",
              "      <th>0</th>\n",
              "      <td>0.003483</td>\n",
              "      <td>29.26</td>\n",
              "      <td>36.14</td>\n",
              "      <td>24.4</td>\n",
              "      <td>0.000567</td>\n",
              "      <td>0.082617</td>\n",
              "      <td>0.442633</td>\n",
              "      <td>0.004067</td>\n",
              "      <td>0.124150</td>\n",
              "      <td>0.031350</td>\n",
              "      <td>0.001017</td>\n",
              "      <td>0.000033</td>\n",
              "      <td>0.001517</td>\n",
              "      <td>0.932833</td>\n",
              "    </tr>\n",
              "    <tr>\n",
              "      <th>1</th>\n",
              "      <td>0.003467</td>\n",
              "      <td>29.26</td>\n",
              "      <td>36.14</td>\n",
              "      <td>24.4</td>\n",
              "      <td>0.000567</td>\n",
              "      <td>0.084533</td>\n",
              "      <td>0.444067</td>\n",
              "      <td>0.004067</td>\n",
              "      <td>0.124000</td>\n",
              "      <td>0.031500</td>\n",
              "      <td>0.001017</td>\n",
              "      <td>0.000000</td>\n",
              "      <td>0.001650</td>\n",
              "      <td>0.934333</td>\n",
              "    </tr>\n",
              "    <tr>\n",
              "      <th>2</th>\n",
              "      <td>0.003467</td>\n",
              "      <td>29.26</td>\n",
              "      <td>36.14</td>\n",
              "      <td>24.4</td>\n",
              "      <td>0.000617</td>\n",
              "      <td>0.083017</td>\n",
              "      <td>0.446067</td>\n",
              "      <td>0.004067</td>\n",
              "      <td>0.123533</td>\n",
              "      <td>0.031517</td>\n",
              "      <td>0.001000</td>\n",
              "      <td>0.000017</td>\n",
              "      <td>0.001650</td>\n",
              "      <td>0.931817</td>\n",
              "    </tr>\n",
              "    <tr>\n",
              "      <th>3</th>\n",
              "      <td>0.003483</td>\n",
              "      <td>29.26</td>\n",
              "      <td>36.14</td>\n",
              "      <td>24.4</td>\n",
              "      <td>0.000650</td>\n",
              "      <td>0.175417</td>\n",
              "      <td>0.446583</td>\n",
              "      <td>0.004067</td>\n",
              "      <td>0.123133</td>\n",
              "      <td>0.031500</td>\n",
              "      <td>0.001017</td>\n",
              "      <td>0.000017</td>\n",
              "      <td>0.001617</td>\n",
              "      <td>1.022050</td>\n",
              "    </tr>\n",
              "    <tr>\n",
              "      <th>4</th>\n",
              "      <td>0.003467</td>\n",
              "      <td>29.26</td>\n",
              "      <td>36.14</td>\n",
              "      <td>24.4</td>\n",
              "      <td>0.000783</td>\n",
              "      <td>0.300917</td>\n",
              "      <td>0.446533</td>\n",
              "      <td>0.004067</td>\n",
              "      <td>0.122850</td>\n",
              "      <td>0.031500</td>\n",
              "      <td>0.001017</td>\n",
              "      <td>0.000133</td>\n",
              "      <td>0.001583</td>\n",
              "      <td>1.139400</td>\n",
              "    </tr>\n",
              "  </tbody>\n",
              "</table>\n",
              "</div>"
            ],
            "text/plain": [
              "        gen  apparentTemperature  ...  Living room       use\n",
              "0  0.003483                29.26  ...     0.001517  0.932833\n",
              "1  0.003467                29.26  ...     0.001650  0.934333\n",
              "2  0.003467                29.26  ...     0.001650  0.931817\n",
              "3  0.003483                29.26  ...     0.001617  1.022050\n",
              "4  0.003467                29.26  ...     0.001583  1.139400\n",
              "\n",
              "[5 rows x 14 columns]"
            ]
          },
          "metadata": {
            "tags": []
          },
          "execution_count": 11
        }
      ]
    },
    {
      "cell_type": "code",
      "metadata": {
        "colab": {
          "base_uri": "https://localhost:8080/"
        },
        "id": "mevcc_gkp-gX",
        "outputId": "777c82dd-c553-4613-de5b-48edec82d99f"
      },
      "source": [
        "df.shape"
      ],
      "execution_count": 12,
      "outputs": [
        {
          "output_type": "execute_result",
          "data": {
            "text/plain": [
              "(113176, 14)"
            ]
          },
          "metadata": {
            "tags": []
          },
          "execution_count": 12
        }
      ]
    },
    {
      "cell_type": "markdown",
      "metadata": {
        "id": "XT0vS0HAJtoQ"
      },
      "source": [
        "### Apply Mullar Loop\n",
        "Apply MLP, LinearRegression, RandomForestRegressor, KNNRegressor, XBoost Regressors and evaluate the learnings with r2_score and MSE."
      ]
    },
    {
      "cell_type": "code",
      "metadata": {
        "id": "0p6JD-OdOMiz"
      },
      "source": [
        "from sklearn.model_selection import train_test_split\n",
        "from sklearn.preprocessing import StandardScaler\n",
        "from sklearn.linear_model import LinearRegression\n",
        "from sklearn.metrics import mean_squared_error, r2_score\n",
        "import matplotlib.pyplot as plt\n",
        "\n",
        "from sklearn.neural_network import MLPRegressor\n",
        "from sklearn.neighbors import KNeighborsRegressor\n",
        "from sklearn.tree import DecisionTreeRegressor\n",
        "from sklearn.ensemble import RandomForestRegressor\n",
        "from sklearn.metrics import explained_variance_score\n",
        "from sklearn.metrics import mean_squared_error\n",
        "from sklearn.metrics import mean_absolute_error\n",
        "import xgboost as xgb\n",
        "from time import time"
      ],
      "execution_count": 13,
      "outputs": []
    },
    {
      "cell_type": "code",
      "metadata": {
        "id": "1QtQ-m-ENVL9"
      },
      "source": [
        "X, y = df.drop(['use'], axis=1), df['use']\n",
        "\n",
        "X = StandardScaler().fit_transform(X)\n",
        "X_train, X_test, y_train, y_test = \\\n",
        "    train_test_split(X, y, test_size=.2, shuffle=True)"
      ],
      "execution_count": 14,
      "outputs": []
    },
    {
      "cell_type": "code",
      "metadata": {
        "id": "Ex-Tbw1EfSsn"
      },
      "source": [
        "def muller_loop(X_train, y_train, X_test, y_test):\n",
        "  names = ['Linear Regression', \n",
        "           'Random Forest',\n",
        "           'Decision Tree',\n",
        "           'MLP Regressor',\n",
        "           'XBoost Regressor',\n",
        "           'KNN Regressor'\n",
        "          ]\n",
        "  regression = [\n",
        "            LinearRegression(),\n",
        "            RandomForestRegressor(max_depth=5, n_estimators=10),\n",
        "            DecisionTreeRegressor(max_depth=5),\n",
        "            MLPRegressor(random_state=1, alpha=1, max_iter=1000),\n",
        "            xgb.XGBRegressor(objective ='reg:linear', colsample_bytree = 0.3, learning_rate = 0.1,\n",
        "                max_depth = 5, alpha = 10, n_estimators = 10),\n",
        "            KNeighborsRegressor(3),\n",
        "          ]\n",
        "  result = pd.DataFrame(columns=['model','r2 score', 'mean squared error', 'mean absolute error', 'time'])\n",
        "  # TODO (Apply): All cross-validation\n",
        "\n",
        "  max_score = 0.0\n",
        "  max_class = ''\n",
        "  # iterate over classifiers\n",
        "  for name, clf in zip(names, regression):\n",
        "      start_time = time()\n",
        "      clf.fit(X_train, y_train)\n",
        "      r2 = 100.0 * clf.score(X_test, y_test)\n",
        "      y_pred = clf.predict(X_test)\n",
        "      v_score = 100.0 * explained_variance_score(y_test, y_pred, multioutput='raw_values')[0]\n",
        "      mse =  mean_squared_error(y_test, y_pred)\n",
        "      mae =  mean_absolute_error(y_test, y_pred)\n",
        "      result = result.append({'model': name, 'r2 score': r2, 'mean squared error': mse, 'mean absolute error': mae ,'time': (time() - start_time) }, ignore_index=True)\n",
        "\n",
        "      if r2 > max_score:\n",
        "          clf_best = clf\n",
        "          max_score = r2\n",
        "          max_class = name\n",
        "\n",
        "  display(result)"
      ],
      "execution_count": 25,
      "outputs": []
    },
    {
      "cell_type": "code",
      "metadata": {
        "colab": {
          "base_uri": "https://localhost:8080/",
          "height": 245
        },
        "id": "U9SHHGT5gkvH",
        "outputId": "20c911a0-576a-459c-fbea-0516476b0ec2"
      },
      "source": [
        "muller_loop(X_train, y_train, X_test, y_test)"
      ],
      "execution_count": 26,
      "outputs": [
        {
          "output_type": "stream",
          "text": [
            "[04:51:47] WARNING: /workspace/src/objective/regression_obj.cu:152: reg:linear is now deprecated in favor of reg:squarederror.\n"
          ],
          "name": "stdout"
        },
        {
          "output_type": "display_data",
          "data": {
            "text/html": [
              "<div>\n",
              "<style scoped>\n",
              "    .dataframe tbody tr th:only-of-type {\n",
              "        vertical-align: middle;\n",
              "    }\n",
              "\n",
              "    .dataframe tbody tr th {\n",
              "        vertical-align: top;\n",
              "    }\n",
              "\n",
              "    .dataframe thead th {\n",
              "        text-align: right;\n",
              "    }\n",
              "</style>\n",
              "<table border=\"1\" class=\"dataframe\">\n",
              "  <thead>\n",
              "    <tr style=\"text-align: right;\">\n",
              "      <th></th>\n",
              "      <th>model</th>\n",
              "      <th>r2 score</th>\n",
              "      <th>mean squared error</th>\n",
              "      <th>mean absolute error</th>\n",
              "      <th>time</th>\n",
              "    </tr>\n",
              "  </thead>\n",
              "  <tbody>\n",
              "    <tr>\n",
              "      <th>0</th>\n",
              "      <td>Linear Regression</td>\n",
              "      <td>75.371517</td>\n",
              "      <td>0.116378</td>\n",
              "      <td>0.153765</td>\n",
              "      <td>0.044595</td>\n",
              "    </tr>\n",
              "    <tr>\n",
              "      <th>1</th>\n",
              "      <td>Random Forest</td>\n",
              "      <td>63.283852</td>\n",
              "      <td>0.173496</td>\n",
              "      <td>0.242867</td>\n",
              "      <td>3.010132</td>\n",
              "    </tr>\n",
              "    <tr>\n",
              "      <th>2</th>\n",
              "      <td>Decision Tree</td>\n",
              "      <td>61.176183</td>\n",
              "      <td>0.183456</td>\n",
              "      <td>0.248552</td>\n",
              "      <td>0.460096</td>\n",
              "    </tr>\n",
              "    <tr>\n",
              "      <th>3</th>\n",
              "      <td>MLP Regressor</td>\n",
              "      <td>77.052136</td>\n",
              "      <td>0.108436</td>\n",
              "      <td>0.143961</td>\n",
              "      <td>10.666155</td>\n",
              "    </tr>\n",
              "    <tr>\n",
              "      <th>4</th>\n",
              "      <td>XBoost Regressor</td>\n",
              "      <td>40.127532</td>\n",
              "      <td>0.282918</td>\n",
              "      <td>0.323179</td>\n",
              "      <td>0.696721</td>\n",
              "    </tr>\n",
              "    <tr>\n",
              "      <th>5</th>\n",
              "      <td>KNN Regressor</td>\n",
              "      <td>88.140586</td>\n",
              "      <td>0.056040</td>\n",
              "      <td>0.076253</td>\n",
              "      <td>36.435657</td>\n",
              "    </tr>\n",
              "  </tbody>\n",
              "</table>\n",
              "</div>"
            ],
            "text/plain": [
              "               model   r2 score  ...  mean absolute error       time\n",
              "0  Linear Regression  75.371517  ...             0.153765   0.044595\n",
              "1      Random Forest  63.283852  ...             0.242867   3.010132\n",
              "2      Decision Tree  61.176183  ...             0.248552   0.460096\n",
              "3      MLP Regressor  77.052136  ...             0.143961  10.666155\n",
              "4   XBoost Regressor  40.127532  ...             0.323179   0.696721\n",
              "5      KNN Regressor  88.140586  ...             0.076253  36.435657\n",
              "\n",
              "[6 rows x 5 columns]"
            ]
          },
          "metadata": {
            "tags": []
          }
        }
      ]
    },
    {
      "cell_type": "markdown",
      "metadata": {
        "id": "i5jyKK999EFy"
      },
      "source": [
        "### Apply a Multi-Layer Perceptron Neural Network with Keras"
      ]
    },
    {
      "cell_type": "code",
      "metadata": {
        "id": "SWasacsrlUTR"
      },
      "source": [
        "import keras\n",
        "from keras.models import Sequential\n",
        "from keras.layers import Activation, Dense"
      ],
      "execution_count": 17,
      "outputs": []
    },
    {
      "cell_type": "code",
      "metadata": {
        "id": "xaEqHg76P7mR"
      },
      "source": [
        "#define a model\n",
        "def neural_network(X_train, y_train, X_test, y_test, n):\n",
        " #define a model\n",
        "  model = Sequential()\n",
        "  model.add(Dense(25, input_dim=n, activation='relu', kernel_initializer='he_uniform'))\n",
        "  model.add(Dense(10, activation='relu'))\n",
        "  model.add(Dense(1, activation='linear'))\n",
        "  # compile a model\n",
        "  model.compile(loss='mean_squared_logarithmic_error', optimizer=keras.optimizers.Adam(lr=0.01), metrics=['mse'])\n",
        "  display(model.summary())\n",
        "  # fit model\n",
        "  history = model.fit(X_train, y_train, validation_data=(X_test, y_test), epochs=15)\n",
        "  return (model,history)\n",
        "\n",
        "def evaluate_model(model, history, X_train, y_train, X_test, y_test):\n",
        "  _, train_mse = model.evaluate(X_train, y_train, verbose=0)\n",
        "  _, test_mse = model.evaluate(X_test, y_test, verbose=0)\n",
        "  print('MSE Train: %.3f, Test: %.3f' % (train_mse, test_mse))\n",
        "\n",
        "  y_train_predict = model.predict(X_train)\n",
        "  y_test_predict = model.predict(X_test)\n",
        "  y_train_r2 = r2_score(y_train, y_train_predict)\n",
        "  y_test_r2 = r2_score(y_test, y_test_predict)\n",
        "  print('R2 score: Train: %.3f, Test: %.3f' % (y_train_r2, y_test_r2))"
      ],
      "execution_count": 20,
      "outputs": []
    },
    {
      "cell_type": "code",
      "metadata": {
        "colab": {
          "base_uri": "https://localhost:8080/",
          "height": 816
        },
        "id": "4_AryIgRP8v3",
        "outputId": "b3faf87b-2529-47ee-c887-e2f90493b05a"
      },
      "source": [
        "# Defining, compiling and fitting the NN.\n",
        "model, summary = neural_network(X_train,y_train,X_test,y_test,13)"
      ],
      "execution_count": 21,
      "outputs": [
        {
          "output_type": "stream",
          "text": [
            "Model: \"sequential_1\"\n",
            "_________________________________________________________________\n",
            "Layer (type)                 Output Shape              Param #   \n",
            "=================================================================\n",
            "dense_3 (Dense)              (None, 25)                350       \n",
            "_________________________________________________________________\n",
            "dense_4 (Dense)              (None, 10)                260       \n",
            "_________________________________________________________________\n",
            "dense_5 (Dense)              (None, 1)                 11        \n",
            "=================================================================\n",
            "Total params: 621\n",
            "Trainable params: 621\n",
            "Non-trainable params: 0\n",
            "_________________________________________________________________\n"
          ],
          "name": "stdout"
        },
        {
          "output_type": "display_data",
          "data": {
            "text/plain": [
              "None"
            ]
          },
          "metadata": {
            "tags": []
          }
        },
        {
          "output_type": "stream",
          "text": [
            "Epoch 1/15\n",
            "2830/2830 [==============================] - 5s 2ms/step - loss: 0.0192 - mse: 0.1543 - val_loss: 0.0132 - val_mse: 0.1123\n",
            "Epoch 2/15\n",
            "2830/2830 [==============================] - 5s 2ms/step - loss: 0.0124 - mse: 0.1045 - val_loss: 0.0130 - val_mse: 0.1070\n",
            "Epoch 3/15\n",
            "2830/2830 [==============================] - 5s 2ms/step - loss: 0.0123 - mse: 0.1047 - val_loss: 0.0129 - val_mse: 0.1077\n",
            "Epoch 4/15\n",
            "2830/2830 [==============================] - 5s 2ms/step - loss: 0.0121 - mse: 0.1038 - val_loss: 0.0125 - val_mse: 0.1096\n",
            "Epoch 5/15\n",
            "2830/2830 [==============================] - 4s 2ms/step - loss: 0.0123 - mse: 0.1092 - val_loss: 0.0121 - val_mse: 0.1033\n",
            "Epoch 6/15\n",
            "2830/2830 [==============================] - 4s 2ms/step - loss: 0.0119 - mse: 0.1010 - val_loss: 0.0141 - val_mse: 0.1177\n",
            "Epoch 7/15\n",
            "2830/2830 [==============================] - 5s 2ms/step - loss: 0.0119 - mse: 0.1025 - val_loss: 0.0127 - val_mse: 0.1127\n",
            "Epoch 8/15\n",
            "2830/2830 [==============================] - 4s 1ms/step - loss: 0.0114 - mse: 0.0962 - val_loss: 0.0122 - val_mse: 0.1042\n",
            "Epoch 9/15\n",
            "2830/2830 [==============================] - 4s 1ms/step - loss: 0.0118 - mse: 0.1012 - val_loss: 0.0116 - val_mse: 0.0994\n",
            "Epoch 10/15\n",
            "2830/2830 [==============================] - 4s 1ms/step - loss: 0.0116 - mse: 0.1002 - val_loss: 0.0128 - val_mse: 0.1114\n",
            "Epoch 11/15\n",
            "2830/2830 [==============================] - 4s 1ms/step - loss: 0.0116 - mse: 0.0994 - val_loss: 0.0120 - val_mse: 0.1020\n",
            "Epoch 12/15\n",
            "2830/2830 [==============================] - 4s 1ms/step - loss: 0.0114 - mse: 0.0980 - val_loss: 0.0116 - val_mse: 0.1004\n",
            "Epoch 13/15\n",
            "2830/2830 [==============================] - 4s 1ms/step - loss: 0.0114 - mse: 0.0971 - val_loss: 0.0122 - val_mse: 0.1032\n",
            "Epoch 14/15\n",
            "2830/2830 [==============================] - 4s 1ms/step - loss: 0.0116 - mse: 0.0980 - val_loss: 0.0114 - val_mse: 0.0992\n",
            "Epoch 15/15\n",
            "2830/2830 [==============================] - 4s 1ms/step - loss: 0.0115 - mse: 0.0984 - val_loss: 0.0114 - val_mse: 0.0989\n"
          ],
          "name": "stdout"
        }
      ]
    },
    {
      "cell_type": "code",
      "metadata": {
        "colab": {
          "base_uri": "https://localhost:8080/"
        },
        "id": "91hpQYkjqlaq",
        "outputId": "306761ff-f115-4a11-b312-02553d0f3974"
      },
      "source": [
        "evaluate_model(model, summary, X_train, y_train, X_test, y_test)"
      ],
      "execution_count": 22,
      "outputs": [
        {
          "output_type": "stream",
          "text": [
            "MSE Train: 0.094, Test: 0.099\n",
            "R2 score: Train: 0.798, Test: 0.791\n"
          ],
          "name": "stdout"
        }
      ]
    },
    {
      "cell_type": "markdown",
      "metadata": {
        "id": "fkeNv2qJYMja"
      },
      "source": [
        "### Conclusion \n",
        "<br />\n",
        "1. The models perform better using latent variable weather comparing to results not using latent variables: <br />\n",
        "model\tr2_score\tmean_squared_error\tmean_absolute_error\ttime<br />\n",
        "0\tLinear Regression\t76.107805\t0.108219\t0.150529\t0.045837 <br />\n",
        "1\tRandom Forest\t62.857130\t0.168238\t0.240153\t1.976813<br />\n",
        "2\tDecision Tree\t61.509206\t0.174343\t0.245260\t0.307280<br />\n",
        "3\tMLP Regressor\t77.786256\t0.100617\t0.144268\t9.806735<br />\n",
        "4\tXBoost Regressor\t37.678032\t0.282286\t0.335495\t0.707462<br />\n",
        "5\tKNN Regressor\t82.910443\t0.077407\t0.102803\t23.215633<br />\n",
        "On models KNN, it increased 5%. <br />\n",
        "<br />\n",
        "2. The Keras MLP didn't perform better than KNN, but still achieved the second best performanance in all the models. Expect to see the different results after optimizing the hyper-variables."
      ]
    }
  ]
}