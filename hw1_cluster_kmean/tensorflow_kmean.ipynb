{
  "nbformat": 4,
  "nbformat_minor": 0,
  "metadata": {
    "colab": {
      "name": "tensorflow_kmean.ipynb",
      "provenance": [],
      "collapsed_sections": [],
      "include_colab_link": true
    },
    "kernelspec": {
      "name": "python3",
      "display_name": "Python 3"
    }
  },
  "cells": [
    {
      "cell_type": "markdown",
      "metadata": {
        "id": "view-in-github",
        "colab_type": "text"
      },
      "source": [
        "<a href=\"https://colab.research.google.com/github/YuxingW/machine_learning/blob/main/hw1_cluster_kmean/tensorflow_kmean.ipynb\" target=\"_parent\"><img src=\"https://colab.research.google.com/assets/colab-badge.svg\" alt=\"Open In Colab\"/></a>"
      ]
    },
    {
      "cell_type": "markdown",
      "metadata": {
        "id": "WFg1k8Bg5lKA"
      },
      "source": [
        "# What is the story is telling us\n",
        "For a PXE server (an ISO installation system) in a software enterprise company, it is often hard to automatically recognize the porformance issue in the system. <br />\n",
        "This notebook is to use tensorflow KMean algorithm to identify the porformance issue based on the cluster patterns. <br />\n",
        "\n",
        "###The data set is statistic of number of clients to complete the ISO installation based on the installation time (hours) they take, features <br />\n",
        "1h - Number of clients which ISO installation time are within 1h <br />\n",
        "2h - Number of clients which ISO installation time are from 1h to 2h <br />\n",
        "3h - Number of clients which ISO installation time are from 2h to 3h <br />\n",
        "\n",
        "###We think the system performance is good if most clients can complete the ISO installation within 2h."
      ]
    },
    {
      "cell_type": "code",
      "metadata": {
        "colab": {
          "resources": {
            "http://localhost:8080/nbextensions/google.colab/files.js": {
              "data": "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",
              "ok": true,
              "headers": [
                [
                  "content-type",
                  "application/javascript"
                ]
              ],
              "status": 200,
              "status_text": "OK"
            }
          },
          "base_uri": "https://localhost:8080/",
          "height": 259
        },
        "id": "DZfVtlMp5lTt",
        "outputId": "f5cbd1b2-3bb1-4664-a234-b2effe235d4f"
      },
      "source": [
        "import numpy as np\n",
        "import pandas as pd\n",
        "import tensorflow as tf\n",
        "from google.colab import files\n",
        "import io\n",
        "\n",
        "uploaded = files.upload()\n",
        "df = pd.read_csv(io.BytesIO(uploaded['dataset.csv'])) #.to_numpy()\n",
        "df.head()"
      ],
      "execution_count": 1,
      "outputs": [
        {
          "output_type": "display_data",
          "data": {
            "text/html": [
              "\n",
              "     <input type=\"file\" id=\"files-34e5b5d4-40f7-4e71-86c1-dbd3cb31897d\" name=\"files[]\" multiple disabled\n",
              "        style=\"border:none\" />\n",
              "     <output id=\"result-34e5b5d4-40f7-4e71-86c1-dbd3cb31897d\">\n",
              "      Upload widget is only available when the cell has been executed in the\n",
              "      current browser session. Please rerun this cell to enable.\n",
              "      </output>\n",
              "      <script src=\"/nbextensions/google.colab/files.js\"></script> "
            ],
            "text/plain": [
              "<IPython.core.display.HTML object>"
            ]
          },
          "metadata": {
            "tags": []
          }
        },
        {
          "output_type": "stream",
          "text": [
            "Saving dataset.csv to dataset.csv\n"
          ],
          "name": "stdout"
        },
        {
          "output_type": "execute_result",
          "data": {
            "text/html": [
              "<div>\n",
              "<style scoped>\n",
              "    .dataframe tbody tr th:only-of-type {\n",
              "        vertical-align: middle;\n",
              "    }\n",
              "\n",
              "    .dataframe tbody tr th {\n",
              "        vertical-align: top;\n",
              "    }\n",
              "\n",
              "    .dataframe thead th {\n",
              "        text-align: right;\n",
              "    }\n",
              "</style>\n",
              "<table border=\"1\" class=\"dataframe\">\n",
              "  <thead>\n",
              "    <tr style=\"text-align: right;\">\n",
              "      <th></th>\n",
              "      <th>1h</th>\n",
              "      <th>2h</th>\n",
              "      <th>3h</th>\n",
              "      <th>label</th>\n",
              "    </tr>\n",
              "  </thead>\n",
              "  <tbody>\n",
              "    <tr>\n",
              "      <th>0</th>\n",
              "      <td>58</td>\n",
              "      <td>140</td>\n",
              "      <td>25</td>\n",
              "      <td>0</td>\n",
              "    </tr>\n",
              "    <tr>\n",
              "      <th>1</th>\n",
              "      <td>49</td>\n",
              "      <td>144</td>\n",
              "      <td>33</td>\n",
              "      <td>0</td>\n",
              "    </tr>\n",
              "    <tr>\n",
              "      <th>2</th>\n",
              "      <td>60</td>\n",
              "      <td>144</td>\n",
              "      <td>26</td>\n",
              "      <td>0</td>\n",
              "    </tr>\n",
              "    <tr>\n",
              "      <th>3</th>\n",
              "      <td>60</td>\n",
              "      <td>124</td>\n",
              "      <td>35</td>\n",
              "      <td>0</td>\n",
              "    </tr>\n",
              "    <tr>\n",
              "      <th>4</th>\n",
              "      <td>58</td>\n",
              "      <td>132</td>\n",
              "      <td>31</td>\n",
              "      <td>0</td>\n",
              "    </tr>\n",
              "  </tbody>\n",
              "</table>\n",
              "</div>"
            ],
            "text/plain": [
              "   1h   2h  3h  label\n",
              "0  58  140  25      0\n",
              "1  49  144  33      0\n",
              "2  60  144  26      0\n",
              "3  60  124  35      0\n",
              "4  58  132  31      0"
            ]
          },
          "metadata": {
            "tags": []
          },
          "execution_count": 1
        }
      ]
    },
    {
      "cell_type": "markdown",
      "metadata": {
        "id": "j4dlplPV2dgu"
      },
      "source": [
        "Normalize data"
      ]
    },
    {
      "cell_type": "code",
      "metadata": {
        "id": "Fj7eINw52dtN"
      },
      "source": [
        "from sklearn import preprocessing\n",
        "\n",
        "x = df.drop(['label'], axis=1).to_numpy() #returns a numpy array\n",
        "min_max_scaler = preprocessing.MinMaxScaler()\n",
        "x_scaled = min_max_scaler.fit_transform(x)\n",
        "normalized_df = pd.DataFrame(x_scaled)"
      ],
      "execution_count": 3,
      "outputs": []
    },
    {
      "cell_type": "markdown",
      "metadata": {
        "id": "c5LTPJqB16ne"
      },
      "source": [
        "Use elbow method to determine cluster numbers N"
      ]
    },
    {
      "cell_type": "code",
      "metadata": {
        "colab": {
          "base_uri": "https://localhost:8080/",
          "height": 513
        },
        "id": "grX_bo2k16zG",
        "outputId": "87cffdcb-6b86-4b78-9f78-c2cf98bbabf3"
      },
      "source": [
        "from sklearn.cluster import KMeans\n",
        "import matplotlib.pyplot as plt\n",
        "\n",
        "wcss = []\n",
        "K = range(1,10)\n",
        "for k in K:\n",
        "    kmeanModel = KMeans(n_clusters=k, init='k-means++', random_state=42)\n",
        "    kmeanModel.fit(x_scaled)\n",
        "    wcss.append(kmeanModel.inertia_)\n",
        "\n",
        "plt.figure(figsize=(16,8))\n",
        "plt.plot(K, wcss, 'bx-')\n",
        "plt.xlabel('Num of clusters')\n",
        "plt.ylabel('WCSS')\n",
        "plt.title('The Elbow Method showing the optimal k')\n",
        "plt.show()"
      ],
      "execution_count": 4,
      "outputs": [
        {
          "output_type": "display_data",
          "data": {
            "image/png": "[encoded data removed]",
            "text/plain": [
              "<Figure size 1152x576 with 1 Axes>"
            ]
          },
          "metadata": {
            "tags": [],
            "needs_background": "light"
          }
        }
      ]
    },
    {
      "cell_type": "code",
      "metadata": {
        "colab": {
          "base_uri": "https://localhost:8080/"
        },
        "id": "x2uGaKee_jL8",
        "outputId": "95839b1a-509b-48c7-a929-5abe5838bf2e"
      },
      "source": [
        "num_points = 33\n",
        "dimensions = 3\n",
        "num_clusters = 3\n",
        "#points = np.random.uniform(0, 1000, [num_points, dimensions])\n",
        "points = df.drop(['label'], axis=1).values #returns a numpy array\n",
        "\n",
        "def input_fn():\n",
        "  return tf.compat.v1.train.limit_epochs(\n",
        "      tf.convert_to_tensor(points, dtype=tf.float32), num_epochs=1)\n",
        "\n",
        "kmeans = tf.compat.v1.estimator.experimental.KMeans(\n",
        "    num_clusters=num_clusters, use_mini_batch=False)"
      ],
      "execution_count": 5,
      "outputs": [
        {
          "output_type": "stream",
          "text": [
            "INFO:tensorflow:Using default config.\n",
            "WARNING:tensorflow:Using temporary folder as model directory: /tmp/tmpzl1bfvo6\n",
            "INFO:tensorflow:Using config: {'_model_dir': '/tmp/tmpzl1bfvo6', '_tf_random_seed': None, '_save_summary_steps': 100, '_save_checkpoints_steps': None, '_save_checkpoints_secs': 600, '_session_config': allow_soft_placement: true\n",
            "graph_options {\n",
            "  rewrite_options {\n",
            "    meta_optimizer_iterations: ONE\n",
            "  }\n",
            "}\n",
            ", '_keep_checkpoint_max': 5, '_keep_checkpoint_every_n_hours': 10000, '_log_step_count_steps': 100, '_train_distribute': None, '_device_fn': None, '_protocol': None, '_eval_distribute': None, '_experimental_distribute': None, '_experimental_max_worker_delay_secs': None, '_session_creation_timeout_secs': 7200, '_checkpoint_save_graph_def': True, '_service': None, '_cluster_spec': ClusterSpec({}), '_task_type': 'worker', '_task_id': 0, '_global_id_in_cluster': 0, '_master': '', '_evaluation_master': '', '_is_chief': True, '_num_ps_replicas': 0, '_num_worker_replicas': 1}\n"
          ],
          "name": "stdout"
        }
      ]
    },
    {
      "cell_type": "markdown",
      "metadata": {
        "id": "wcP83VPy_1jh"
      },
      "source": [
        "## Train"
      ]
    },
    {
      "cell_type": "code",
      "metadata": {
        "colab": {
          "base_uri": "https://localhost:8080/"
        },
        "id": "U8xTW-XJ_1uw",
        "outputId": "bcb29b52-ec99-4316-87b8-618ae9282b20"
      },
      "source": [
        "num_iterations = 10\n",
        "previous_centers = None\n",
        "for _ in range(num_iterations):\n",
        "  kmeans.train(input_fn)\n",
        "  cluster_centers = kmeans.cluster_centers()\n",
        "  if previous_centers is not None:\n",
        "    print('delta:', cluster_centers - previous_centers)\n",
        "  previous_centers = cluster_centers\n",
        "  print('score:', kmeans.score(input_fn))\n",
        "print('cluster centers:', cluster_centers)"
      ],
      "execution_count": 6,
      "outputs": [
        {
          "output_type": "stream",
          "text": [
            "WARNING:tensorflow:From /usr/local/lib/python3.6/dist-packages/tensorflow/python/training/training_util.py:236: Variable.initialized_value (from tensorflow.python.ops.variables) is deprecated and will be removed in a future version.\n",
            "Instructions for updating:\n",
            "Use Variable.read_value. Variables in 2.X are initialized automatically both in eager and graph (inside tf.defun) contexts.\n",
            "WARNING:tensorflow:From <ipython-input-5-7da005826818>:9: limit_epochs (from tensorflow.python.training.input) is deprecated and will be removed in a future version.\n",
            "Instructions for updating:\n",
            "Queue-based input pipelines have been replaced by `tf.data`. Use `tf.data.Dataset.from_tensors(tensor).repeat(num_epochs)`.\n",
            "WARNING:tensorflow:From /usr/local/lib/python3.6/dist-packages/tensorflow/python/training/input.py:112: BaseResourceVariable.count_up_to (from tensorflow.python.ops.resource_variable_ops) is deprecated and will be removed in a future version.\n",
            "Instructions for updating:\n",
            "Prefer Dataset.range instead.\n",
            "INFO:tensorflow:Calling model_fn.\n",
            "INFO:tensorflow:Done calling model_fn.\n",
            "INFO:tensorflow:Create CheckpointSaverHook.\n",
            "INFO:tensorflow:Graph was finalized.\n",
            "INFO:tensorflow:Running local_init_op.\n",
            "INFO:tensorflow:Done running local_init_op.\n",
            "INFO:tensorflow:Calling checkpoint listeners before saving checkpoint 0...\n",
            "INFO:tensorflow:Saving checkpoints for 0 into /tmp/tmpzl1bfvo6/model.ckpt.\n",
            "INFO:tensorflow:Calling checkpoint listeners after saving checkpoint 0...\n",
            "INFO:tensorflow:Calling checkpoint listeners before saving checkpoint 1...\n",
            "INFO:tensorflow:Saving checkpoints for 1 into /tmp/tmpzl1bfvo6/model.ckpt.\n",
            "INFO:tensorflow:Calling checkpoint listeners after saving checkpoint 1...\n",
            "WARNING:tensorflow:Training with estimator made no steps. Perhaps input is empty or misspecified.\n",
            "INFO:tensorflow:Loss for final step: None.\n",
            "INFO:tensorflow:Calling model_fn.\n",
            "INFO:tensorflow:Done calling model_fn.\n",
            "INFO:tensorflow:Starting evaluation at 2021-02-14T18:43:59Z\n",
            "INFO:tensorflow:Graph was finalized.\n",
            "INFO:tensorflow:Restoring parameters from /tmp/tmpzl1bfvo6/model.ckpt-1\n",
            "INFO:tensorflow:Running local_init_op.\n",
            "INFO:tensorflow:Done running local_init_op.\n",
            "INFO:tensorflow:Evaluation [1/1]\n",
            "INFO:tensorflow:Inference Time : 0.17661s\n",
            "INFO:tensorflow:Finished evaluation at 2021-02-14-18:44:00\n",
            "INFO:tensorflow:Saving dict for global step 1: global_step = 1, loss = 67919.0, score = 67919.0\n",
            "INFO:tensorflow:Saving 'checkpoint_path' summary for global step 1: /tmp/tmpzl1bfvo6/model.ckpt-1\n",
            "score: 67919.0\n",
            "INFO:tensorflow:Calling model_fn.\n",
            "INFO:tensorflow:Done calling model_fn.\n",
            "INFO:tensorflow:Create CheckpointSaverHook.\n",
            "INFO:tensorflow:Graph was finalized.\n",
            "INFO:tensorflow:Restoring parameters from /tmp/tmpzl1bfvo6/model.ckpt-1\n",
            "WARNING:tensorflow:From /usr/local/lib/python3.6/dist-packages/tensorflow/python/training/saver.py:1076: get_checkpoint_mtimes (from tensorflow.python.training.checkpoint_management) is deprecated and will be removed in a future version.\n",
            "Instructions for updating:\n",
            "Use standard file utilities to get mtimes.\n",
            "INFO:tensorflow:Running local_init_op.\n",
            "INFO:tensorflow:Done running local_init_op.\n",
            "INFO:tensorflow:Calling checkpoint listeners before saving checkpoint 1...\n",
            "INFO:tensorflow:Saving checkpoints for 1 into /tmp/tmpzl1bfvo6/model.ckpt.\n",
            "INFO:tensorflow:Calling checkpoint listeners after saving checkpoint 1...\n",
            "INFO:tensorflow:loss = 67919.0, step = 1\n",
            "INFO:tensorflow:Calling checkpoint listeners before saving checkpoint 3...\n",
            "INFO:tensorflow:Saving checkpoints for 3 into /tmp/tmpzl1bfvo6/model.ckpt.\n",
            "INFO:tensorflow:Calling checkpoint listeners after saving checkpoint 3...\n",
            "INFO:tensorflow:Loss for final step: 67919.0.\n",
            "delta: [[ 5.299999  -3.2000122  7.899994 ]\n",
            " [-4.57143   -4.357155  10.142853 ]\n",
            " [ 7.999996  -5.0000153  0.5555515]]\n",
            "INFO:tensorflow:Calling model_fn.\n",
            "INFO:tensorflow:Done calling model_fn.\n",
            "INFO:tensorflow:Starting evaluation at 2021-02-14T18:44:00Z\n",
            "INFO:tensorflow:Graph was finalized.\n",
            "INFO:tensorflow:Restoring parameters from /tmp/tmpzl1bfvo6/model.ckpt-3\n",
            "INFO:tensorflow:Running local_init_op.\n",
            "INFO:tensorflow:Done running local_init_op.\n",
            "INFO:tensorflow:Evaluation [1/1]\n",
            "INFO:tensorflow:Inference Time : 0.14972s\n",
            "INFO:tensorflow:Finished evaluation at 2021-02-14-18:44:01\n",
            "INFO:tensorflow:Saving dict for global step 3: global_step = 3, loss = 59525.344, score = 59525.344\n",
            "INFO:tensorflow:Saving 'checkpoint_path' summary for global step 3: /tmp/tmpzl1bfvo6/model.ckpt-3\n",
            "score: 59525.344\n",
            "INFO:tensorflow:Calling model_fn.\n",
            "INFO:tensorflow:Done calling model_fn.\n",
            "INFO:tensorflow:Create CheckpointSaverHook.\n",
            "INFO:tensorflow:Graph was finalized.\n",
            "INFO:tensorflow:Restoring parameters from /tmp/tmpzl1bfvo6/model.ckpt-3\n",
            "INFO:tensorflow:Running local_init_op.\n",
            "INFO:tensorflow:Done running local_init_op.\n",
            "INFO:tensorflow:Calling checkpoint listeners before saving checkpoint 3...\n",
            "INFO:tensorflow:Saving checkpoints for 3 into /tmp/tmpzl1bfvo6/model.ckpt.\n",
            "INFO:tensorflow:Calling checkpoint listeners after saving checkpoint 3...\n",
            "INFO:tensorflow:loss = 59525.344, step = 3\n",
            "INFO:tensorflow:Calling checkpoint listeners before saving checkpoint 5...\n",
            "INFO:tensorflow:Saving checkpoints for 5 into /tmp/tmpzl1bfvo6/model.ckpt.\n",
            "INFO:tensorflow:Calling checkpoint listeners after saving checkpoint 5...\n",
            "INFO:tensorflow:Loss for final step: 59525.344.\n",
            "delta: [[  0.          0.          0.       ]\n",
            " [-14.228577  -25.64286    39.857132 ]\n",
            " [  3.6666641  -6.5555573  -2.2777767]]\n",
            "INFO:tensorflow:Calling model_fn.\n",
            "INFO:tensorflow:Done calling model_fn.\n",
            "INFO:tensorflow:Starting evaluation at 2021-02-14T18:44:01Z\n",
            "INFO:tensorflow:Graph was finalized.\n",
            "INFO:tensorflow:Restoring parameters from /tmp/tmpzl1bfvo6/model.ckpt-5\n",
            "INFO:tensorflow:Running local_init_op.\n",
            "INFO:tensorflow:Done running local_init_op.\n",
            "INFO:tensorflow:Evaluation [1/1]\n",
            "INFO:tensorflow:Inference Time : 0.14920s\n",
            "INFO:tensorflow:Finished evaluation at 2021-02-14-18:44:01\n",
            "INFO:tensorflow:Saving dict for global step 5: global_step = 5, loss = 34388.562, score = 34388.562\n",
            "INFO:tensorflow:Saving 'checkpoint_path' summary for global step 5: /tmp/tmpzl1bfvo6/model.ckpt-5\n",
            "score: 34388.562\n",
            "INFO:tensorflow:Calling model_fn.\n",
            "INFO:tensorflow:Done calling model_fn.\n",
            "INFO:tensorflow:Create CheckpointSaverHook.\n",
            "INFO:tensorflow:Graph was finalized.\n",
            "INFO:tensorflow:Restoring parameters from /tmp/tmpzl1bfvo6/model.ckpt-5\n",
            "INFO:tensorflow:Running local_init_op.\n",
            "INFO:tensorflow:Done running local_init_op.\n",
            "INFO:tensorflow:Calling checkpoint listeners before saving checkpoint 5...\n",
            "INFO:tensorflow:Saving checkpoints for 5 into /tmp/tmpzl1bfvo6/model.ckpt.\n",
            "INFO:tensorflow:Calling checkpoint listeners after saving checkpoint 5...\n",
            "INFO:tensorflow:loss = 34388.562, step = 5\n",
            "INFO:tensorflow:Calling checkpoint listeners before saving checkpoint 7...\n",
            "INFO:tensorflow:Saving checkpoints for 7 into /tmp/tmpzl1bfvo6/model.ckpt.\n",
            "INFO:tensorflow:Calling checkpoint listeners after saving checkpoint 7...\n",
            "INFO:tensorflow:Loss for final step: 34388.562.\n",
            "delta: [[  0.           0.           0.        ]\n",
            " [-32.699993   -45.500008    79.99994   ]\n",
            " [  0.47619247  -2.30159      0.91269875]]\n",
            "INFO:tensorflow:Calling model_fn.\n",
            "INFO:tensorflow:Done calling model_fn.\n",
            "INFO:tensorflow:Starting evaluation at 2021-02-14T18:44:02Z\n",
            "INFO:tensorflow:Graph was finalized.\n",
            "INFO:tensorflow:Restoring parameters from /tmp/tmpzl1bfvo6/model.ckpt-7\n",
            "INFO:tensorflow:Running local_init_op.\n",
            "INFO:tensorflow:Done running local_init_op.\n",
            "INFO:tensorflow:Evaluation [1/1]\n",
            "INFO:tensorflow:Inference Time : 0.13565s\n",
            "INFO:tensorflow:Finished evaluation at 2021-02-14-18:44:02\n",
            "INFO:tensorflow:Saving dict for global step 7: global_step = 7, loss = 15175.975, score = 15175.975\n",
            "INFO:tensorflow:Saving 'checkpoint_path' summary for global step 7: /tmp/tmpzl1bfvo6/model.ckpt-7\n",
            "score: 15175.975\n",
            "INFO:tensorflow:Calling model_fn.\n",
            "INFO:tensorflow:Done calling model_fn.\n",
            "INFO:tensorflow:Create CheckpointSaverHook.\n",
            "INFO:tensorflow:Graph was finalized.\n",
            "INFO:tensorflow:Restoring parameters from /tmp/tmpzl1bfvo6/model.ckpt-7\n",
            "INFO:tensorflow:Running local_init_op.\n",
            "INFO:tensorflow:Done running local_init_op.\n",
            "INFO:tensorflow:Calling checkpoint listeners before saving checkpoint 7...\n",
            "INFO:tensorflow:Saving checkpoints for 7 into /tmp/tmpzl1bfvo6/model.ckpt.\n",
            "INFO:tensorflow:Calling checkpoint listeners after saving checkpoint 7...\n",
            "INFO:tensorflow:loss = 15175.975, step = 7\n",
            "INFO:tensorflow:Calling checkpoint listeners before saving checkpoint 9...\n",
            "INFO:tensorflow:Saving checkpoints for 9 into /tmp/tmpzl1bfvo6/model.ckpt.\n",
            "WARNING:tensorflow:From /usr/local/lib/python3.6/dist-packages/tensorflow/python/training/saver.py:970: remove_checkpoint (from tensorflow.python.training.checkpoint_management) is deprecated and will be removed in a future version.\n",
            "Instructions for updating:\n",
            "Use standard file APIs to delete files with this prefix.\n",
            "INFO:tensorflow:Calling checkpoint listeners after saving checkpoint 9...\n",
            "INFO:tensorflow:Loss for final step: 15175.975.\n",
            "delta: [[0. 0. 0.]\n",
            " [0. 0. 0.]\n",
            " [0. 0. 0.]]\n",
            "INFO:tensorflow:Calling model_fn.\n",
            "INFO:tensorflow:Done calling model_fn.\n",
            "INFO:tensorflow:Starting evaluation at 2021-02-14T18:44:03Z\n",
            "INFO:tensorflow:Graph was finalized.\n",
            "INFO:tensorflow:Restoring parameters from /tmp/tmpzl1bfvo6/model.ckpt-9\n",
            "INFO:tensorflow:Running local_init_op.\n",
            "INFO:tensorflow:Done running local_init_op.\n",
            "INFO:tensorflow:Evaluation [1/1]\n",
            "INFO:tensorflow:Inference Time : 0.15329s\n",
            "INFO:tensorflow:Finished evaluation at 2021-02-14-18:44:03\n",
            "INFO:tensorflow:Saving dict for global step 9: global_step = 9, loss = 15175.975, score = 15175.975\n",
            "INFO:tensorflow:Saving 'checkpoint_path' summary for global step 9: /tmp/tmpzl1bfvo6/model.ckpt-9\n",
            "score: 15175.975\n",
            "INFO:tensorflow:Calling model_fn.\n",
            "INFO:tensorflow:Done calling model_fn.\n",
            "INFO:tensorflow:Create CheckpointSaverHook.\n",
            "INFO:tensorflow:Graph was finalized.\n",
            "INFO:tensorflow:Restoring parameters from /tmp/tmpzl1bfvo6/model.ckpt-9\n",
            "INFO:tensorflow:Running local_init_op.\n",
            "INFO:tensorflow:Done running local_init_op.\n",
            "INFO:tensorflow:Calling checkpoint listeners before saving checkpoint 9...\n",
            "INFO:tensorflow:Saving checkpoints for 9 into /tmp/tmpzl1bfvo6/model.ckpt.\n",
            "INFO:tensorflow:Calling checkpoint listeners after saving checkpoint 9...\n",
            "INFO:tensorflow:loss = 15175.975, step = 9\n",
            "INFO:tensorflow:Calling checkpoint listeners before saving checkpoint 11...\n",
            "INFO:tensorflow:Saving checkpoints for 11 into /tmp/tmpzl1bfvo6/model.ckpt.\n",
            "INFO:tensorflow:Calling checkpoint listeners after saving checkpoint 11...\n",
            "INFO:tensorflow:Loss for final step: 15175.975.\n",
            "delta: [[0. 0. 0.]\n",
            " [0. 0. 0.]\n",
            " [0. 0. 0.]]\n",
            "INFO:tensorflow:Calling model_fn.\n",
            "INFO:tensorflow:Done calling model_fn.\n",
            "INFO:tensorflow:Starting evaluation at 2021-02-14T18:44:04Z\n",
            "INFO:tensorflow:Graph was finalized.\n",
            "INFO:tensorflow:Restoring parameters from /tmp/tmpzl1bfvo6/model.ckpt-11\n",
            "INFO:tensorflow:Running local_init_op.\n",
            "INFO:tensorflow:Done running local_init_op.\n",
            "INFO:tensorflow:Evaluation [1/1]\n",
            "INFO:tensorflow:Inference Time : 0.14721s\n",
            "INFO:tensorflow:Finished evaluation at 2021-02-14-18:44:04\n",
            "INFO:tensorflow:Saving dict for global step 11: global_step = 11, loss = 15175.975, score = 15175.975\n",
            "INFO:tensorflow:Saving 'checkpoint_path' summary for global step 11: /tmp/tmpzl1bfvo6/model.ckpt-11\n",
            "score: 15175.975\n",
            "INFO:tensorflow:Calling model_fn.\n",
            "INFO:tensorflow:Done calling model_fn.\n",
            "INFO:tensorflow:Create CheckpointSaverHook.\n",
            "INFO:tensorflow:Graph was finalized.\n",
            "INFO:tensorflow:Restoring parameters from /tmp/tmpzl1bfvo6/model.ckpt-11\n",
            "INFO:tensorflow:Running local_init_op.\n",
            "INFO:tensorflow:Done running local_init_op.\n",
            "INFO:tensorflow:Calling checkpoint listeners before saving checkpoint 11...\n",
            "INFO:tensorflow:Saving checkpoints for 11 into /tmp/tmpzl1bfvo6/model.ckpt.\n",
            "INFO:tensorflow:Calling checkpoint listeners after saving checkpoint 11...\n",
            "INFO:tensorflow:loss = 15175.975, step = 11\n",
            "INFO:tensorflow:Calling checkpoint listeners before saving checkpoint 13...\n",
            "INFO:tensorflow:Saving checkpoints for 13 into /tmp/tmpzl1bfvo6/model.ckpt.\n",
            "INFO:tensorflow:Calling checkpoint listeners after saving checkpoint 13...\n",
            "INFO:tensorflow:Loss for final step: 15175.975.\n",
            "delta: [[0. 0. 0.]\n",
            " [0. 0. 0.]\n",
            " [0. 0. 0.]]\n",
            "INFO:tensorflow:Calling model_fn.\n",
            "INFO:tensorflow:Done calling model_fn.\n",
            "INFO:tensorflow:Starting evaluation at 2021-02-14T18:44:05Z\n",
            "INFO:tensorflow:Graph was finalized.\n",
            "INFO:tensorflow:Restoring parameters from /tmp/tmpzl1bfvo6/model.ckpt-13\n",
            "INFO:tensorflow:Running local_init_op.\n",
            "INFO:tensorflow:Done running local_init_op.\n",
            "INFO:tensorflow:Evaluation [1/1]\n",
            "INFO:tensorflow:Inference Time : 0.14931s\n",
            "INFO:tensorflow:Finished evaluation at 2021-02-14-18:44:05\n",
            "INFO:tensorflow:Saving dict for global step 13: global_step = 13, loss = 15175.975, score = 15175.975\n",
            "INFO:tensorflow:Saving 'checkpoint_path' summary for global step 13: /tmp/tmpzl1bfvo6/model.ckpt-13\n",
            "score: 15175.975\n",
            "INFO:tensorflow:Calling model_fn.\n",
            "INFO:tensorflow:Done calling model_fn.\n",
            "INFO:tensorflow:Create CheckpointSaverHook.\n",
            "INFO:tensorflow:Graph was finalized.\n",
            "INFO:tensorflow:Restoring parameters from /tmp/tmpzl1bfvo6/model.ckpt-13\n",
            "INFO:tensorflow:Running local_init_op.\n",
            "INFO:tensorflow:Done running local_init_op.\n",
            "INFO:tensorflow:Calling checkpoint listeners before saving checkpoint 13...\n",
            "INFO:tensorflow:Saving checkpoints for 13 into /tmp/tmpzl1bfvo6/model.ckpt.\n",
            "INFO:tensorflow:Calling checkpoint listeners after saving checkpoint 13...\n",
            "INFO:tensorflow:loss = 15175.975, step = 13\n",
            "INFO:tensorflow:Calling checkpoint listeners before saving checkpoint 15...\n",
            "INFO:tensorflow:Saving checkpoints for 15 into /tmp/tmpzl1bfvo6/model.ckpt.\n",
            "INFO:tensorflow:Calling checkpoint listeners after saving checkpoint 15...\n",
            "INFO:tensorflow:Loss for final step: 15175.975.\n",
            "delta: [[0. 0. 0.]\n",
            " [0. 0. 0.]\n",
            " [0. 0. 0.]]\n",
            "INFO:tensorflow:Calling model_fn.\n",
            "INFO:tensorflow:Done calling model_fn.\n",
            "INFO:tensorflow:Starting evaluation at 2021-02-14T18:44:06Z\n",
            "INFO:tensorflow:Graph was finalized.\n",
            "INFO:tensorflow:Restoring parameters from /tmp/tmpzl1bfvo6/model.ckpt-15\n",
            "INFO:tensorflow:Running local_init_op.\n",
            "INFO:tensorflow:Done running local_init_op.\n",
            "INFO:tensorflow:Evaluation [1/1]\n",
            "INFO:tensorflow:Inference Time : 0.15229s\n",
            "INFO:tensorflow:Finished evaluation at 2021-02-14-18:44:06\n",
            "INFO:tensorflow:Saving dict for global step 15: global_step = 15, loss = 15175.975, score = 15175.975\n",
            "INFO:tensorflow:Saving 'checkpoint_path' summary for global step 15: /tmp/tmpzl1bfvo6/model.ckpt-15\n",
            "score: 15175.975\n",
            "INFO:tensorflow:Calling model_fn.\n",
            "INFO:tensorflow:Done calling model_fn.\n",
            "INFO:tensorflow:Create CheckpointSaverHook.\n",
            "INFO:tensorflow:Graph was finalized.\n",
            "INFO:tensorflow:Restoring parameters from /tmp/tmpzl1bfvo6/model.ckpt-15\n",
            "INFO:tensorflow:Running local_init_op.\n",
            "INFO:tensorflow:Done running local_init_op.\n",
            "INFO:tensorflow:Calling checkpoint listeners before saving checkpoint 15...\n",
            "INFO:tensorflow:Saving checkpoints for 15 into /tmp/tmpzl1bfvo6/model.ckpt.\n",
            "INFO:tensorflow:Calling checkpoint listeners after saving checkpoint 15...\n",
            "INFO:tensorflow:loss = 15175.975, step = 15\n",
            "INFO:tensorflow:Calling checkpoint listeners before saving checkpoint 17...\n",
            "INFO:tensorflow:Saving checkpoints for 17 into /tmp/tmpzl1bfvo6/model.ckpt.\n",
            "INFO:tensorflow:Calling checkpoint listeners after saving checkpoint 17...\n",
            "INFO:tensorflow:Loss for final step: 15175.975.\n",
            "delta: [[0. 0. 0.]\n",
            " [0. 0. 0.]\n",
            " [0. 0. 0.]]\n",
            "INFO:tensorflow:Calling model_fn.\n",
            "INFO:tensorflow:Done calling model_fn.\n",
            "INFO:tensorflow:Starting evaluation at 2021-02-14T18:44:07Z\n",
            "INFO:tensorflow:Graph was finalized.\n",
            "INFO:tensorflow:Restoring parameters from /tmp/tmpzl1bfvo6/model.ckpt-17\n",
            "INFO:tensorflow:Running local_init_op.\n",
            "INFO:tensorflow:Done running local_init_op.\n",
            "INFO:tensorflow:Evaluation [1/1]\n",
            "INFO:tensorflow:Inference Time : 0.13869s\n",
            "INFO:tensorflow:Finished evaluation at 2021-02-14-18:44:07\n",
            "INFO:tensorflow:Saving dict for global step 17: global_step = 17, loss = 15175.975, score = 15175.975\n",
            "INFO:tensorflow:Saving 'checkpoint_path' summary for global step 17: /tmp/tmpzl1bfvo6/model.ckpt-17\n",
            "score: 15175.975\n",
            "INFO:tensorflow:Calling model_fn.\n",
            "INFO:tensorflow:Done calling model_fn.\n",
            "INFO:tensorflow:Create CheckpointSaverHook.\n",
            "INFO:tensorflow:Graph was finalized.\n",
            "INFO:tensorflow:Restoring parameters from /tmp/tmpzl1bfvo6/model.ckpt-17\n",
            "INFO:tensorflow:Running local_init_op.\n",
            "INFO:tensorflow:Done running local_init_op.\n",
            "INFO:tensorflow:Calling checkpoint listeners before saving checkpoint 17...\n",
            "INFO:tensorflow:Saving checkpoints for 17 into /tmp/tmpzl1bfvo6/model.ckpt.\n",
            "INFO:tensorflow:Calling checkpoint listeners after saving checkpoint 17...\n",
            "INFO:tensorflow:loss = 15175.975, step = 17\n",
            "INFO:tensorflow:Calling checkpoint listeners before saving checkpoint 19...\n",
            "INFO:tensorflow:Saving checkpoints for 19 into /tmp/tmpzl1bfvo6/model.ckpt.\n",
            "INFO:tensorflow:Calling checkpoint listeners after saving checkpoint 19...\n",
            "INFO:tensorflow:Loss for final step: 15175.975.\n",
            "delta: [[0. 0. 0.]\n",
            " [0. 0. 0.]\n",
            " [0. 0. 0.]]\n",
            "INFO:tensorflow:Calling model_fn.\n",
            "INFO:tensorflow:Done calling model_fn.\n",
            "INFO:tensorflow:Starting evaluation at 2021-02-14T18:44:08Z\n",
            "INFO:tensorflow:Graph was finalized.\n",
            "INFO:tensorflow:Restoring parameters from /tmp/tmpzl1bfvo6/model.ckpt-19\n",
            "INFO:tensorflow:Running local_init_op.\n",
            "INFO:tensorflow:Done running local_init_op.\n",
            "INFO:tensorflow:Evaluation [1/1]\n",
            "INFO:tensorflow:Inference Time : 0.14444s\n",
            "INFO:tensorflow:Finished evaluation at 2021-02-14-18:44:08\n",
            "INFO:tensorflow:Saving dict for global step 19: global_step = 19, loss = 15175.975, score = 15175.975\n",
            "INFO:tensorflow:Saving 'checkpoint_path' summary for global step 19: /tmp/tmpzl1bfvo6/model.ckpt-19\n",
            "score: 15175.975\n",
            "cluster centers: [[ 11.299999  167.79999    47.899994 ]\n",
            " [  3.4999983  49.499977  168.99992  ]\n",
            " [ 55.142853  139.14284    30.190474 ]]\n"
          ],
          "name": "stdout"
        }
      ]
    },
    {
      "cell_type": "markdown",
      "metadata": {
        "id": "fcxtDcy1AlmA"
      },
      "source": [
        "## Map the input points to their clusters"
      ]
    },
    {
      "cell_type": "code",
      "metadata": {
        "colab": {
          "base_uri": "https://localhost:8080/"
        },
        "id": "ofW01KXHAlwc",
        "outputId": "0184b86e-5d1b-4ae6-bd09-0a6cfd5e881e"
      },
      "source": [
        "cluster_indices = list(kmeans.predict_cluster_index(input_fn))\n",
        "print(cluster_indices)\n",
        "for i, point in enumerate(points):\n",
        "  cluster_index = cluster_indices[i]\n",
        "  center = cluster_centers[cluster_index]\n",
        "  print('point:', point, 'is in cluster', cluster_index, 'centered at', center)"
      ],
      "execution_count": 7,
      "outputs": [
        {
          "output_type": "stream",
          "text": [
            "WARNING:tensorflow:Input graph does not use tf.data.Dataset or contain a QueueRunner. That means predict yields forever. This is probably a mistake.\n",
            "INFO:tensorflow:Calling model_fn.\n",
            "INFO:tensorflow:Done calling model_fn.\n",
            "INFO:tensorflow:Graph was finalized.\n",
            "INFO:tensorflow:Restoring parameters from /tmp/tmpzl1bfvo6/model.ckpt-19\n",
            "INFO:tensorflow:Running local_init_op.\n",
            "INFO:tensorflow:Done running local_init_op.\n",
            "[2, 2, 2, 2, 2, 0, 0, 1, 2, 2, 2, 2, 0, 2, 2, 0, 0, 0, 0, 0, 1, 0, 0, 2, 2, 2, 2, 2, 2, 2, 2, 2, 2]\n",
            "point: [ 58 140  25] is in cluster 2 centered at [ 55.142853 139.14284   30.190474]\n",
            "point: [ 49 144  33] is in cluster 2 centered at [ 55.142853 139.14284   30.190474]\n",
            "point: [ 60 144  26] is in cluster 2 centered at [ 55.142853 139.14284   30.190474]\n",
            "point: [ 60 124  35] is in cluster 2 centered at [ 55.142853 139.14284   30.190474]\n",
            "point: [ 58 132  31] is in cluster 2 centered at [ 55.142853 139.14284   30.190474]\n",
            "point: [ 23 163  43] is in cluster 0 centered at [ 11.299999 167.79999   47.899994]\n",
            "point: [ 18 175  37] is in cluster 0 centered at [ 11.299999 167.79999   47.899994]\n",
            "point: [  7  98 124] is in cluster 1 centered at [  3.4999983  49.499977  168.99992  ]\n",
            "point: [ 57 133  32] is in cluster 2 centered at [ 55.142853 139.14284   30.190474]\n",
            "point: [ 55 125  39] is in cluster 2 centered at [ 55.142853 139.14284   30.190474]\n",
            "point: [ 40 153  35] is in cluster 2 centered at [ 55.142853 139.14284   30.190474]\n",
            "point: [ 43 153  31] is in cluster 2 centered at [ 55.142853 139.14284   30.190474]\n",
            "point: [ 15 165  64] is in cluster 0 centered at [ 11.299999 167.79999   47.899994]\n",
            "point: [ 56 130  32] is in cluster 2 centered at [ 55.142853 139.14284   30.190474]\n",
            "point: [ 41 151  44] is in cluster 2 centered at [ 55.142853 139.14284   30.190474]\n",
            "point: [  5 177  42] is in cluster 0 centered at [ 11.299999 167.79999   47.899994]\n",
            "point: [ 20 151  53] is in cluster 0 centered at [ 11.299999 167.79999   47.899994]\n",
            "point: [ 11 173  40] is in cluster 0 centered at [ 11.299999 167.79999   47.899994]\n",
            "point: [  7 151  68] is in cluster 0 centered at [ 11.299999 167.79999   47.899994]\n",
            "point: [  4 170  52] is in cluster 0 centered at [ 11.299999 167.79999   47.899994]\n",
            "point: [  0   1 214] is in cluster 1 centered at [  3.4999983  49.499977  168.99992  ]\n",
            "point: [  6 171  40] is in cluster 0 centered at [ 11.299999 167.79999   47.899994]\n",
            "point: [  4 182  40] is in cluster 0 centered at [ 11.299999 167.79999   47.899994]\n",
            "point: [ 57 143  23] is in cluster 2 centered at [ 55.142853 139.14284   30.190474]\n",
            "point: [ 55 139  23] is in cluster 2 centered at [ 55.142853 139.14284   30.190474]\n",
            "point: [ 58 145  19] is in cluster 2 centered at [ 55.142853 139.14284   30.190474]\n",
            "point: [ 56 160  50] is in cluster 2 centered at [ 55.142853 139.14284   30.190474]\n",
            "point: [ 59 127  33] is in cluster 2 centered at [ 55.142853 139.14284   30.190474]\n",
            "point: [ 62 139  24] is in cluster 2 centered at [ 55.142853 139.14284   30.190474]\n",
            "point: [ 58 132  28] is in cluster 2 centered at [ 55.142853 139.14284   30.190474]\n",
            "point: [ 57 134  23] is in cluster 2 centered at [ 55.142853 139.14284   30.190474]\n",
            "point: [ 58 137  26] is in cluster 2 centered at [ 55.142853 139.14284   30.190474]\n",
            "point: [ 61 137  22] is in cluster 2 centered at [ 55.142853 139.14284   30.190474]\n"
          ],
          "name": "stdout"
        }
      ]
    },
    {
      "cell_type": "code",
      "metadata": {
        "colab": {
          "base_uri": "https://localhost:8080/",
          "height": 265
        },
        "id": "5zwNKd-Z3YH2",
        "outputId": "18b6139a-1005-4c13-a928-95a470759a82"
      },
      "source": [
        "X = normalized_df[0:].values\n",
        "plt.scatter(X[:, 0], X[:, 1], c=cluster_indices, s=30, cmap='viridis')\n",
        "plt.show()"
      ],
      "execution_count": 11,
      "outputs": [
        {
          "output_type": "display_data",
          "data": {
            "image/png": "[encoded data removed]",
            "text/plain": [
              "<Figure size 432x288 with 1 Axes>"
            ]
          },
          "metadata": {
            "tags": [],
            "needs_background": "light"
          }
        }
      ]
    },
    {
      "cell_type": "markdown",
      "metadata": {
        "id": "kwU4p-2FmkfD"
      },
      "source": [
        "###What the clustering results represent: <br />\n",
        "cluster 0: Most clients complete their ISO Installation in 1h - 2h, then less in 2h - 3h, least in 0h - 1h <br />\n",
        "cluster 1: Most clients complete their ISO Installation in 2h - 3h, then less in 1h - 2h, least in 0h - 1h <br />\n",
        "cluster 2: Most clients complete their ISO Installation in 1h - 2h, then less in 0h - 1h, least in 2h - 3h <br />\n",
        "\n",
        "Therefore, <br />\n",
        "if the latest data falls to cluster 0, it indicates that the performance of the system is getting worse, maintainers need to pay attention. <br />\n",
        "if the latest data falls to cluster 1, it indicates that the performance of the system needs to improve immediately, that is the worst scenario. <br />\n",
        "if the latest data falls to cluster 2, it indicates that the performance of the system is doing well, that is called ideal scenario. <br />\n"
      ]
    },
    {
      "cell_type": "markdown",
      "metadata": {
        "id": "rfk9cpO2LgjJ"
      },
      "source": [
        "Refference:\n",
        "https://www.tensorflow.org/api_docs/python/tf/compat/v1/estimator/experimental/KMeans"
      ]
    }
  ]
}