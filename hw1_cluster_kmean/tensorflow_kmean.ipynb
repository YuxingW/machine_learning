{
  "nbformat": 4,
  "nbformat_minor": 0,
  "metadata": {
    "colab": {
      "name": "tensorflow_kmean.ipynb",
      "provenance": [],
      "collapsed_sections": [],
      "include_colab_link": true
    },
    "kernelspec": {
      "name": "python3",
      "display_name": "Python 3"
    }
  },
  "cells": [
    {
      "cell_type": "markdown",
      "metadata": {
        "id": "view-in-github",
        "colab_type": "text"
      },
      "source": [
        "<a href=\"https://colab.research.google.com/github/YuxingW/machine_learning/blob/main/hw1_cluster_kmean/tensorflow_kmean.ipynb\" target=\"_parent\"><img src=\"https://colab.research.google.com/assets/colab-badge.svg\" alt=\"Open In Colab\"/></a>"
      ]
    },
    {
      "cell_type": "markdown",
      "metadata": {
        "id": "WFg1k8Bg5lKA"
      },
      "source": [
        "# What is the story is telling us\n",
        "For a PXE server (an ISO installation system) in a software enterprise company, it is often hard to automatically recognize the porformance issue in the system. <br />\n",
        "This notebook is to use tensorflow KMean algorithm to identify the porformance issue based on the cluster patterns. <br />\n",
        "\n",
        "###The data set is statistic of number of clients to complete the ISO installation based on the installation time (hours) they take, features <br />\n",
        "1h - Number of clients which ISO installation time are within 1h <br />\n",
        "2h - Number of clients which ISO installation time are from 1h to 2h <br />\n",
        "3h - Number of clients which ISO installation time are from 2h to 3h <br />\n",
        "\n",
        "###We think the system performance is good if most clients can complete the ISO installation within 2h."
      ]
    },
    {
      "cell_type": "code",
      "metadata": {
        "colab": {
          "base_uri": "https://localhost:8080/",
          "height": 206
        },
        "id": "DZfVtlMp5lTt",
        "outputId": "170e752c-83d8-41ba-a757-fec9b51980f8"
      },
      "source": [
        "import numpy as np\n",
        "import pandas as pd\n",
        "import tensorflow as tf\n",
        "import requests\n",
        "import pandas as pd\n",
        "from io import BytesIO\n",
        "\n",
        "train_url = 'https://docs.google.com/spreadsheets/d/e/2PACX-1vQ6Mh5ImYPClwVFxwEy9HfV-h0syzcjozBkqq-dq5Mc2Wnrgk5KD7m38sQDa81elTMoqqR82CfRz3vm/pub?output=csv'\n",
        "r = requests.get(train_url)\n",
        "data = r.content\n",
        "df = pd.read_csv(BytesIO(data))\n",
        "df.head()"
      ],
      "execution_count": 1,
      "outputs": [
        {
          "output_type": "execute_result",
          "data": {
            "text/html": [
              "<div>\n",
              "<style scoped>\n",
              "    .dataframe tbody tr th:only-of-type {\n",
              "        vertical-align: middle;\n",
              "    }\n",
              "\n",
              "    .dataframe tbody tr th {\n",
              "        vertical-align: top;\n",
              "    }\n",
              "\n",
              "    .dataframe thead th {\n",
              "        text-align: right;\n",
              "    }\n",
              "</style>\n",
              "<table border=\"1\" class=\"dataframe\">\n",
              "  <thead>\n",
              "    <tr style=\"text-align: right;\">\n",
              "      <th></th>\n",
              "      <th>1h</th>\n",
              "      <th>2h</th>\n",
              "      <th>3h</th>\n",
              "      <th>label</th>\n",
              "    </tr>\n",
              "  </thead>\n",
              "  <tbody>\n",
              "    <tr>\n",
              "      <th>0</th>\n",
              "      <td>58</td>\n",
              "      <td>140</td>\n",
              "      <td>25</td>\n",
              "      <td>0</td>\n",
              "    </tr>\n",
              "    <tr>\n",
              "      <th>1</th>\n",
              "      <td>49</td>\n",
              "      <td>144</td>\n",
              "      <td>33</td>\n",
              "      <td>0</td>\n",
              "    </tr>\n",
              "    <tr>\n",
              "      <th>2</th>\n",
              "      <td>60</td>\n",
              "      <td>144</td>\n",
              "      <td>26</td>\n",
              "      <td>0</td>\n",
              "    </tr>\n",
              "    <tr>\n",
              "      <th>3</th>\n",
              "      <td>60</td>\n",
              "      <td>124</td>\n",
              "      <td>35</td>\n",
              "      <td>0</td>\n",
              "    </tr>\n",
              "    <tr>\n",
              "      <th>4</th>\n",
              "      <td>58</td>\n",
              "      <td>132</td>\n",
              "      <td>31</td>\n",
              "      <td>0</td>\n",
              "    </tr>\n",
              "  </tbody>\n",
              "</table>\n",
              "</div>"
            ],
            "text/plain": [
              "   1h   2h  3h  label\n",
              "0  58  140  25      0\n",
              "1  49  144  33      0\n",
              "2  60  144  26      0\n",
              "3  60  124  35      0\n",
              "4  58  132  31      0"
            ]
          },
          "metadata": {
            "tags": []
          },
          "execution_count": 1
        }
      ]
    },
    {
      "cell_type": "markdown",
      "metadata": {
        "id": "j4dlplPV2dgu"
      },
      "source": [
        "Normalize data"
      ]
    },
    {
      "cell_type": "code",
      "metadata": {
        "id": "Fj7eINw52dtN"
      },
      "source": [
        "from sklearn import preprocessing\n",
        "\n",
        "x = df.drop(['label'], axis=1).to_numpy() #returns a numpy array\n",
        "min_max_scaler = preprocessing.MinMaxScaler()\n",
        "x_scaled = min_max_scaler.fit_transform(x)\n",
        "normalized_df = pd.DataFrame(x_scaled)"
      ],
      "execution_count": 2,
      "outputs": []
    },
    {
      "cell_type": "markdown",
      "metadata": {
        "id": "c5LTPJqB16ne"
      },
      "source": [
        "Use elbow method to determine cluster numbers N"
      ]
    },
    {
      "cell_type": "code",
      "metadata": {
        "colab": {
          "base_uri": "https://localhost:8080/",
          "height": 513
        },
        "id": "grX_bo2k16zG",
        "outputId": "be9487a7-4f0b-4f30-eae5-14fc89d83432"
      },
      "source": [
        "from sklearn.cluster import KMeans\n",
        "import matplotlib.pyplot as plt\n",
        "\n",
        "wcss = []\n",
        "K = range(1,10)\n",
        "for k in K:\n",
        "    kmeanModel = KMeans(n_clusters=k, init='k-means++', random_state=42)\n",
        "    kmeanModel.fit(x_scaled)\n",
        "    wcss.append(kmeanModel.inertia_)\n",
        "\n",
        "plt.figure(figsize=(16,8))\n",
        "plt.plot(K, wcss, 'bx-')\n",
        "plt.xlabel('Num of clusters')\n",
        "plt.ylabel('WCSS')\n",
        "plt.title('The Elbow Method showing the optimal k')\n",
        "plt.show()"
      ],
      "execution_count": 3,
      "outputs": [
        {
          "output_type": "display_data",
          "data": {
            "image/png": "[encoded data removed]",
            "text/plain": [
              "<Figure size 1152x576 with 1 Axes>"
            ]
          },
          "metadata": {
            "tags": [],
            "needs_background": "light"
          }
        }
      ]
    },
    {
      "cell_type": "code",
      "metadata": {
        "colab": {
          "base_uri": "https://localhost:8080/"
        },
        "id": "x2uGaKee_jL8",
        "outputId": "5c556ce6-9502-4971-fc3c-fc5f11cb0030"
      },
      "source": [
        "num_points = 33\n",
        "dimensions = 3\n",
        "num_clusters = 3\n",
        "#points = np.random.uniform(0, 1000, [num_points, dimensions])\n",
        "points = df.drop(['label'], axis=1).values #returns a numpy array\n",
        "\n",
        "def input_fn():\n",
        "  return tf.compat.v1.train.limit_epochs(\n",
        "      tf.convert_to_tensor(points, dtype=tf.float32), num_epochs=1)\n",
        "\n",
        "kmeans = tf.compat.v1.estimator.experimental.KMeans(\n",
        "    num_clusters=num_clusters, use_mini_batch=False)"
      ],
      "execution_count": 4,
      "outputs": [
        {
          "output_type": "stream",
          "text": [
            "INFO:tensorflow:Using default config.\n",
            "WARNING:tensorflow:Using temporary folder as model directory: /tmp/tmp78kqi9up\n",
            "INFO:tensorflow:Using config: {'_model_dir': '/tmp/tmp78kqi9up', '_tf_random_seed': None, '_save_summary_steps': 100, '_save_checkpoints_steps': None, '_save_checkpoints_secs': 600, '_session_config': allow_soft_placement: true\n",
            "graph_options {\n",
            "  rewrite_options {\n",
            "    meta_optimizer_iterations: ONE\n",
            "  }\n",
            "}\n",
            ", '_keep_checkpoint_max': 5, '_keep_checkpoint_every_n_hours': 10000, '_log_step_count_steps': 100, '_train_distribute': None, '_device_fn': None, '_protocol': None, '_eval_distribute': None, '_experimental_distribute': None, '_experimental_max_worker_delay_secs': None, '_session_creation_timeout_secs': 7200, '_checkpoint_save_graph_def': True, '_service': None, '_cluster_spec': ClusterSpec({}), '_task_type': 'worker', '_task_id': 0, '_global_id_in_cluster': 0, '_master': '', '_evaluation_master': '', '_is_chief': True, '_num_ps_replicas': 0, '_num_worker_replicas': 1}\n"
          ],
          "name": "stdout"
        }
      ]
    },
    {
      "cell_type": "markdown",
      "metadata": {
        "id": "wcP83VPy_1jh"
      },
      "source": [
        "## Train"
      ]
    },
    {
      "cell_type": "code",
      "metadata": {
        "colab": {
          "base_uri": "https://localhost:8080/"
        },
        "id": "U8xTW-XJ_1uw",
        "outputId": "38c3156e-e15c-4792-c819-71736aac955f"
      },
      "source": [
        "num_iterations = 10\n",
        "previous_centers = None\n",
        "for _ in range(num_iterations):\n",
        "  kmeans.train(input_fn)\n",
        "  cluster_centers = kmeans.cluster_centers()\n",
        "  if previous_centers is not None:\n",
        "    print('delta:', cluster_centers - previous_centers)\n",
        "  previous_centers = cluster_centers\n",
        "  print('score:', kmeans.score(input_fn))\n",
        "print('cluster centers:', cluster_centers)"
      ],
      "execution_count": 5,
      "outputs": [
        {
          "output_type": "stream",
          "text": [
            "WARNING:tensorflow:From /usr/local/lib/python3.6/dist-packages/tensorflow/python/training/training_util.py:236: Variable.initialized_value (from tensorflow.python.ops.variables) is deprecated and will be removed in a future version.\n",
            "Instructions for updating:\n",
            "Use Variable.read_value. Variables in 2.X are initialized automatically both in eager and graph (inside tf.defun) contexts.\n",
            "WARNING:tensorflow:From <ipython-input-4-7da005826818>:9: limit_epochs (from tensorflow.python.training.input) is deprecated and will be removed in a future version.\n",
            "Instructions for updating:\n",
            "Queue-based input pipelines have been replaced by `tf.data`. Use `tf.data.Dataset.from_tensors(tensor).repeat(num_epochs)`.\n",
            "WARNING:tensorflow:From /usr/local/lib/python3.6/dist-packages/tensorflow/python/training/input.py:112: BaseResourceVariable.count_up_to (from tensorflow.python.ops.resource_variable_ops) is deprecated and will be removed in a future version.\n",
            "Instructions for updating:\n",
            "Prefer Dataset.range instead.\n",
            "INFO:tensorflow:Calling model_fn.\n",
            "INFO:tensorflow:Done calling model_fn.\n",
            "INFO:tensorflow:Create CheckpointSaverHook.\n",
            "INFO:tensorflow:Graph was finalized.\n",
            "INFO:tensorflow:Running local_init_op.\n",
            "INFO:tensorflow:Done running local_init_op.\n",
            "INFO:tensorflow:Calling checkpoint listeners before saving checkpoint 0...\n",
            "INFO:tensorflow:Saving checkpoints for 0 into /tmp/tmp78kqi9up/model.ckpt.\n",
            "INFO:tensorflow:Calling checkpoint listeners after saving checkpoint 0...\n",
            "INFO:tensorflow:Calling checkpoint listeners before saving checkpoint 1...\n",
            "INFO:tensorflow:Saving checkpoints for 1 into /tmp/tmp78kqi9up/model.ckpt.\n",
            "INFO:tensorflow:Calling checkpoint listeners after saving checkpoint 1...\n",
            "WARNING:tensorflow:Training with estimator made no steps. Perhaps input is empty or misspecified.\n",
            "INFO:tensorflow:Loss for final step: None.\n",
            "INFO:tensorflow:Calling model_fn.\n",
            "INFO:tensorflow:Done calling model_fn.\n",
            "INFO:tensorflow:Starting evaluation at 2021-02-16T01:20:26Z\n",
            "INFO:tensorflow:Graph was finalized.\n",
            "INFO:tensorflow:Restoring parameters from /tmp/tmp78kqi9up/model.ckpt-1\n",
            "INFO:tensorflow:Running local_init_op.\n",
            "INFO:tensorflow:Done running local_init_op.\n",
            "INFO:tensorflow:Evaluation [1/1]\n",
            "INFO:tensorflow:Inference Time : 0.18202s\n",
            "INFO:tensorflow:Finished evaluation at 2021-02-16-01:20:26\n",
            "INFO:tensorflow:Saving dict for global step 1: global_step = 1, loss = 70652.0, score = 70652.0\n",
            "INFO:tensorflow:Saving 'checkpoint_path' summary for global step 1: /tmp/tmp78kqi9up/model.ckpt-1\n",
            "score: 70652.0\n",
            "INFO:tensorflow:Calling model_fn.\n",
            "INFO:tensorflow:Done calling model_fn.\n",
            "INFO:tensorflow:Create CheckpointSaverHook.\n",
            "INFO:tensorflow:Graph was finalized.\n",
            "INFO:tensorflow:Restoring parameters from /tmp/tmp78kqi9up/model.ckpt-1\n",
            "WARNING:tensorflow:From /usr/local/lib/python3.6/dist-packages/tensorflow/python/training/saver.py:1076: get_checkpoint_mtimes (from tensorflow.python.training.checkpoint_management) is deprecated and will be removed in a future version.\n",
            "Instructions for updating:\n",
            "Use standard file utilities to get mtimes.\n",
            "INFO:tensorflow:Running local_init_op.\n",
            "INFO:tensorflow:Done running local_init_op.\n",
            "INFO:tensorflow:Calling checkpoint listeners before saving checkpoint 1...\n",
            "INFO:tensorflow:Saving checkpoints for 1 into /tmp/tmp78kqi9up/model.ckpt.\n",
            "INFO:tensorflow:Calling checkpoint listeners after saving checkpoint 1...\n",
            "INFO:tensorflow:loss = 70652.0, step = 1\n",
            "INFO:tensorflow:Calling checkpoint listeners before saving checkpoint 3...\n",
            "INFO:tensorflow:Saving checkpoints for 3 into /tmp/tmp78kqi9up/model.ckpt.\n",
            "INFO:tensorflow:Calling checkpoint listeners after saving checkpoint 3...\n",
            "INFO:tensorflow:Loss for final step: 70652.0.\n",
            "delta: [[ -6.800003    6.399994    6.7999973]\n",
            " [  5.299999   -3.2000122   7.899994 ]\n",
            " [-16.000004  -15.250015   32.499992 ]]\n",
            "INFO:tensorflow:Calling model_fn.\n",
            "INFO:tensorflow:Done calling model_fn.\n",
            "INFO:tensorflow:Starting evaluation at 2021-02-16T01:20:27Z\n",
            "INFO:tensorflow:Graph was finalized.\n",
            "INFO:tensorflow:Restoring parameters from /tmp/tmp78kqi9up/model.ckpt-3\n",
            "INFO:tensorflow:Running local_init_op.\n",
            "INFO:tensorflow:Done running local_init_op.\n",
            "INFO:tensorflow:Evaluation [1/1]\n",
            "INFO:tensorflow:Inference Time : 0.13486s\n",
            "INFO:tensorflow:Finished evaluation at 2021-02-16-01:20:27\n",
            "INFO:tensorflow:Saving dict for global step 3: global_step = 3, loss = 46521.934, score = 46521.934\n",
            "INFO:tensorflow:Saving 'checkpoint_path' summary for global step 3: /tmp/tmp78kqi9up/model.ckpt-3\n",
            "score: 46521.934\n",
            "INFO:tensorflow:Calling model_fn.\n",
            "INFO:tensorflow:Done calling model_fn.\n",
            "INFO:tensorflow:Create CheckpointSaverHook.\n",
            "INFO:tensorflow:Graph was finalized.\n",
            "INFO:tensorflow:Restoring parameters from /tmp/tmp78kqi9up/model.ckpt-3\n",
            "INFO:tensorflow:Running local_init_op.\n",
            "INFO:tensorflow:Done running local_init_op.\n",
            "INFO:tensorflow:Calling checkpoint listeners before saving checkpoint 3...\n",
            "INFO:tensorflow:Saving checkpoints for 3 into /tmp/tmp78kqi9up/model.ckpt.\n",
            "INFO:tensorflow:Calling checkpoint listeners after saving checkpoint 3...\n",
            "INFO:tensorflow:loss = 46521.934, step = 3\n",
            "INFO:tensorflow:Calling checkpoint listeners before saving checkpoint 5...\n",
            "INFO:tensorflow:Saving checkpoints for 5 into /tmp/tmp78kqi9up/model.ckpt.\n",
            "INFO:tensorflow:Calling checkpoint listeners after saving checkpoint 5...\n",
            "INFO:tensorflow:Loss for final step: 46521.934.\n",
            "delta: [[  0.94285583  -4.2571564    1.3904762 ]\n",
            " [  0.           0.           0.        ]\n",
            " [-40.499996   -59.250008   101.49993   ]]\n",
            "INFO:tensorflow:Calling model_fn.\n",
            "INFO:tensorflow:Done calling model_fn.\n",
            "INFO:tensorflow:Starting evaluation at 2021-02-16T01:20:27Z\n",
            "INFO:tensorflow:Graph was finalized.\n",
            "INFO:tensorflow:Restoring parameters from /tmp/tmp78kqi9up/model.ckpt-5\n",
            "INFO:tensorflow:Running local_init_op.\n",
            "INFO:tensorflow:Done running local_init_op.\n",
            "INFO:tensorflow:Evaluation [1/1]\n",
            "INFO:tensorflow:Inference Time : 0.13103s\n",
            "INFO:tensorflow:Finished evaluation at 2021-02-16-01:20:28\n",
            "INFO:tensorflow:Saving dict for global step 5: global_step = 5, loss = 15175.975, score = 15175.975\n",
            "INFO:tensorflow:Saving 'checkpoint_path' summary for global step 5: /tmp/tmp78kqi9up/model.ckpt-5\n",
            "score: 15175.975\n",
            "INFO:tensorflow:Calling model_fn.\n",
            "INFO:tensorflow:Done calling model_fn.\n",
            "INFO:tensorflow:Create CheckpointSaverHook.\n",
            "INFO:tensorflow:Graph was finalized.\n",
            "INFO:tensorflow:Restoring parameters from /tmp/tmp78kqi9up/model.ckpt-5\n",
            "INFO:tensorflow:Running local_init_op.\n",
            "INFO:tensorflow:Done running local_init_op.\n",
            "INFO:tensorflow:Calling checkpoint listeners before saving checkpoint 5...\n",
            "INFO:tensorflow:Saving checkpoints for 5 into /tmp/tmp78kqi9up/model.ckpt.\n",
            "INFO:tensorflow:Calling checkpoint listeners after saving checkpoint 5...\n",
            "INFO:tensorflow:loss = 15175.975, step = 5\n",
            "INFO:tensorflow:Calling checkpoint listeners before saving checkpoint 7...\n",
            "INFO:tensorflow:Saving checkpoints for 7 into /tmp/tmp78kqi9up/model.ckpt.\n",
            "INFO:tensorflow:Calling checkpoint listeners after saving checkpoint 7...\n",
            "INFO:tensorflow:Loss for final step: 15175.975.\n",
            "delta: [[0. 0. 0.]\n",
            " [0. 0. 0.]\n",
            " [0. 0. 0.]]\n",
            "INFO:tensorflow:Calling model_fn.\n",
            "INFO:tensorflow:Done calling model_fn.\n",
            "INFO:tensorflow:Starting evaluation at 2021-02-16T01:20:28Z\n",
            "INFO:tensorflow:Graph was finalized.\n",
            "INFO:tensorflow:Restoring parameters from /tmp/tmp78kqi9up/model.ckpt-7\n",
            "INFO:tensorflow:Running local_init_op.\n",
            "INFO:tensorflow:Done running local_init_op.\n",
            "INFO:tensorflow:Evaluation [1/1]\n",
            "INFO:tensorflow:Inference Time : 0.13741s\n",
            "INFO:tensorflow:Finished evaluation at 2021-02-16-01:20:28\n",
            "INFO:tensorflow:Saving dict for global step 7: global_step = 7, loss = 15175.975, score = 15175.975\n",
            "INFO:tensorflow:Saving 'checkpoint_path' summary for global step 7: /tmp/tmp78kqi9up/model.ckpt-7\n",
            "score: 15175.975\n",
            "INFO:tensorflow:Calling model_fn.\n",
            "INFO:tensorflow:Done calling model_fn.\n",
            "INFO:tensorflow:Create CheckpointSaverHook.\n",
            "INFO:tensorflow:Graph was finalized.\n",
            "INFO:tensorflow:Restoring parameters from /tmp/tmp78kqi9up/model.ckpt-7\n",
            "INFO:tensorflow:Running local_init_op.\n",
            "INFO:tensorflow:Done running local_init_op.\n",
            "INFO:tensorflow:Calling checkpoint listeners before saving checkpoint 7...\n",
            "INFO:tensorflow:Saving checkpoints for 7 into /tmp/tmp78kqi9up/model.ckpt.\n",
            "INFO:tensorflow:Calling checkpoint listeners after saving checkpoint 7...\n",
            "INFO:tensorflow:loss = 15175.975, step = 7\n",
            "INFO:tensorflow:Calling checkpoint listeners before saving checkpoint 9...\n",
            "INFO:tensorflow:Saving checkpoints for 9 into /tmp/tmp78kqi9up/model.ckpt.\n",
            "WARNING:tensorflow:From /usr/local/lib/python3.6/dist-packages/tensorflow/python/training/saver.py:970: remove_checkpoint (from tensorflow.python.training.checkpoint_management) is deprecated and will be removed in a future version.\n",
            "Instructions for updating:\n",
            "Use standard file APIs to delete files with this prefix.\n",
            "INFO:tensorflow:Calling checkpoint listeners after saving checkpoint 9...\n",
            "INFO:tensorflow:Loss for final step: 15175.975.\n",
            "delta: [[0. 0. 0.]\n",
            " [0. 0. 0.]\n",
            " [0. 0. 0.]]\n",
            "INFO:tensorflow:Calling model_fn.\n",
            "INFO:tensorflow:Done calling model_fn.\n",
            "INFO:tensorflow:Starting evaluation at 2021-02-16T01:20:29Z\n",
            "INFO:tensorflow:Graph was finalized.\n",
            "INFO:tensorflow:Restoring parameters from /tmp/tmp78kqi9up/model.ckpt-9\n",
            "INFO:tensorflow:Running local_init_op.\n",
            "INFO:tensorflow:Done running local_init_op.\n",
            "INFO:tensorflow:Evaluation [1/1]\n",
            "INFO:tensorflow:Inference Time : 0.13436s\n",
            "INFO:tensorflow:Finished evaluation at 2021-02-16-01:20:29\n",
            "INFO:tensorflow:Saving dict for global step 9: global_step = 9, loss = 15175.975, score = 15175.975\n",
            "INFO:tensorflow:Saving 'checkpoint_path' summary for global step 9: /tmp/tmp78kqi9up/model.ckpt-9\n",
            "score: 15175.975\n",
            "INFO:tensorflow:Calling model_fn.\n",
            "INFO:tensorflow:Done calling model_fn.\n",
            "INFO:tensorflow:Create CheckpointSaverHook.\n",
            "INFO:tensorflow:Graph was finalized.\n",
            "INFO:tensorflow:Restoring parameters from /tmp/tmp78kqi9up/model.ckpt-9\n",
            "INFO:tensorflow:Running local_init_op.\n",
            "INFO:tensorflow:Done running local_init_op.\n",
            "INFO:tensorflow:Calling checkpoint listeners before saving checkpoint 9...\n",
            "INFO:tensorflow:Saving checkpoints for 9 into /tmp/tmp78kqi9up/model.ckpt.\n",
            "INFO:tensorflow:Calling checkpoint listeners after saving checkpoint 9...\n",
            "INFO:tensorflow:loss = 15175.975, step = 9\n",
            "INFO:tensorflow:Calling checkpoint listeners before saving checkpoint 11...\n",
            "INFO:tensorflow:Saving checkpoints for 11 into /tmp/tmp78kqi9up/model.ckpt.\n",
            "INFO:tensorflow:Calling checkpoint listeners after saving checkpoint 11...\n",
            "INFO:tensorflow:Loss for final step: 15175.975.\n",
            "delta: [[0. 0. 0.]\n",
            " [0. 0. 0.]\n",
            " [0. 0. 0.]]\n",
            "INFO:tensorflow:Calling model_fn.\n",
            "INFO:tensorflow:Done calling model_fn.\n",
            "INFO:tensorflow:Starting evaluation at 2021-02-16T01:20:30Z\n",
            "INFO:tensorflow:Graph was finalized.\n",
            "INFO:tensorflow:Restoring parameters from /tmp/tmp78kqi9up/model.ckpt-11\n",
            "INFO:tensorflow:Running local_init_op.\n",
            "INFO:tensorflow:Done running local_init_op.\n",
            "INFO:tensorflow:Evaluation [1/1]\n",
            "INFO:tensorflow:Inference Time : 0.15888s\n",
            "INFO:tensorflow:Finished evaluation at 2021-02-16-01:20:30\n",
            "INFO:tensorflow:Saving dict for global step 11: global_step = 11, loss = 15175.975, score = 15175.975\n",
            "INFO:tensorflow:Saving 'checkpoint_path' summary for global step 11: /tmp/tmp78kqi9up/model.ckpt-11\n",
            "score: 15175.975\n",
            "INFO:tensorflow:Calling model_fn.\n",
            "INFO:tensorflow:Done calling model_fn.\n",
            "INFO:tensorflow:Create CheckpointSaverHook.\n",
            "INFO:tensorflow:Graph was finalized.\n",
            "INFO:tensorflow:Restoring parameters from /tmp/tmp78kqi9up/model.ckpt-11\n",
            "INFO:tensorflow:Running local_init_op.\n",
            "INFO:tensorflow:Done running local_init_op.\n",
            "INFO:tensorflow:Calling checkpoint listeners before saving checkpoint 11...\n",
            "INFO:tensorflow:Saving checkpoints for 11 into /tmp/tmp78kqi9up/model.ckpt.\n",
            "INFO:tensorflow:Calling checkpoint listeners after saving checkpoint 11...\n",
            "INFO:tensorflow:loss = 15175.975, step = 11\n",
            "INFO:tensorflow:Calling checkpoint listeners before saving checkpoint 13...\n",
            "INFO:tensorflow:Saving checkpoints for 13 into /tmp/tmp78kqi9up/model.ckpt.\n",
            "INFO:tensorflow:Calling checkpoint listeners after saving checkpoint 13...\n",
            "INFO:tensorflow:Loss for final step: 15175.975.\n",
            "delta: [[0. 0. 0.]\n",
            " [0. 0. 0.]\n",
            " [0. 0. 0.]]\n",
            "INFO:tensorflow:Calling model_fn.\n",
            "INFO:tensorflow:Done calling model_fn.\n",
            "INFO:tensorflow:Starting evaluation at 2021-02-16T01:20:31Z\n",
            "INFO:tensorflow:Graph was finalized.\n",
            "INFO:tensorflow:Restoring parameters from /tmp/tmp78kqi9up/model.ckpt-13\n",
            "INFO:tensorflow:Running local_init_op.\n",
            "INFO:tensorflow:Done running local_init_op.\n",
            "INFO:tensorflow:Evaluation [1/1]\n",
            "INFO:tensorflow:Inference Time : 0.14631s\n",
            "INFO:tensorflow:Finished evaluation at 2021-02-16-01:20:31\n",
            "INFO:tensorflow:Saving dict for global step 13: global_step = 13, loss = 15175.975, score = 15175.975\n",
            "INFO:tensorflow:Saving 'checkpoint_path' summary for global step 13: /tmp/tmp78kqi9up/model.ckpt-13\n",
            "score: 15175.975\n",
            "INFO:tensorflow:Calling model_fn.\n",
            "INFO:tensorflow:Done calling model_fn.\n",
            "INFO:tensorflow:Create CheckpointSaverHook.\n",
            "INFO:tensorflow:Graph was finalized.\n",
            "INFO:tensorflow:Restoring parameters from /tmp/tmp78kqi9up/model.ckpt-13\n",
            "INFO:tensorflow:Running local_init_op.\n",
            "INFO:tensorflow:Done running local_init_op.\n",
            "INFO:tensorflow:Calling checkpoint listeners before saving checkpoint 13...\n",
            "INFO:tensorflow:Saving checkpoints for 13 into /tmp/tmp78kqi9up/model.ckpt.\n",
            "INFO:tensorflow:Calling checkpoint listeners after saving checkpoint 13...\n",
            "INFO:tensorflow:loss = 15175.975, step = 13\n",
            "INFO:tensorflow:Calling checkpoint listeners before saving checkpoint 15...\n",
            "INFO:tensorflow:Saving checkpoints for 15 into /tmp/tmp78kqi9up/model.ckpt.\n",
            "INFO:tensorflow:Calling checkpoint listeners after saving checkpoint 15...\n",
            "INFO:tensorflow:Loss for final step: 15175.975.\n",
            "delta: [[0. 0. 0.]\n",
            " [0. 0. 0.]\n",
            " [0. 0. 0.]]\n",
            "INFO:tensorflow:Calling model_fn.\n",
            "INFO:tensorflow:Done calling model_fn.\n",
            "INFO:tensorflow:Starting evaluation at 2021-02-16T01:20:32Z\n",
            "INFO:tensorflow:Graph was finalized.\n",
            "INFO:tensorflow:Restoring parameters from /tmp/tmp78kqi9up/model.ckpt-15\n",
            "INFO:tensorflow:Running local_init_op.\n",
            "INFO:tensorflow:Done running local_init_op.\n",
            "INFO:tensorflow:Evaluation [1/1]\n",
            "INFO:tensorflow:Inference Time : 0.14206s\n",
            "INFO:tensorflow:Finished evaluation at 2021-02-16-01:20:32\n",
            "INFO:tensorflow:Saving dict for global step 15: global_step = 15, loss = 15175.975, score = 15175.975\n",
            "INFO:tensorflow:Saving 'checkpoint_path' summary for global step 15: /tmp/tmp78kqi9up/model.ckpt-15\n",
            "score: 15175.975\n",
            "INFO:tensorflow:Calling model_fn.\n",
            "INFO:tensorflow:Done calling model_fn.\n",
            "INFO:tensorflow:Create CheckpointSaverHook.\n",
            "INFO:tensorflow:Graph was finalized.\n",
            "INFO:tensorflow:Restoring parameters from /tmp/tmp78kqi9up/model.ckpt-15\n",
            "INFO:tensorflow:Running local_init_op.\n",
            "INFO:tensorflow:Done running local_init_op.\n",
            "INFO:tensorflow:Calling checkpoint listeners before saving checkpoint 15...\n",
            "INFO:tensorflow:Saving checkpoints for 15 into /tmp/tmp78kqi9up/model.ckpt.\n",
            "INFO:tensorflow:Calling checkpoint listeners after saving checkpoint 15...\n",
            "INFO:tensorflow:loss = 15175.975, step = 15\n",
            "INFO:tensorflow:Calling checkpoint listeners before saving checkpoint 17...\n",
            "INFO:tensorflow:Saving checkpoints for 17 into /tmp/tmp78kqi9up/model.ckpt.\n",
            "INFO:tensorflow:Calling checkpoint listeners after saving checkpoint 17...\n",
            "INFO:tensorflow:Loss for final step: 15175.975.\n",
            "delta: [[0. 0. 0.]\n",
            " [0. 0. 0.]\n",
            " [0. 0. 0.]]\n",
            "INFO:tensorflow:Calling model_fn.\n",
            "INFO:tensorflow:Done calling model_fn.\n",
            "INFO:tensorflow:Starting evaluation at 2021-02-16T01:20:33Z\n",
            "INFO:tensorflow:Graph was finalized.\n",
            "INFO:tensorflow:Restoring parameters from /tmp/tmp78kqi9up/model.ckpt-17\n",
            "INFO:tensorflow:Running local_init_op.\n",
            "INFO:tensorflow:Done running local_init_op.\n",
            "INFO:tensorflow:Evaluation [1/1]\n",
            "INFO:tensorflow:Inference Time : 0.15221s\n",
            "INFO:tensorflow:Finished evaluation at 2021-02-16-01:20:33\n",
            "INFO:tensorflow:Saving dict for global step 17: global_step = 17, loss = 15175.975, score = 15175.975\n",
            "INFO:tensorflow:Saving 'checkpoint_path' summary for global step 17: /tmp/tmp78kqi9up/model.ckpt-17\n",
            "score: 15175.975\n",
            "INFO:tensorflow:Calling model_fn.\n",
            "INFO:tensorflow:Done calling model_fn.\n",
            "INFO:tensorflow:Create CheckpointSaverHook.\n",
            "INFO:tensorflow:Graph was finalized.\n",
            "INFO:tensorflow:Restoring parameters from /tmp/tmp78kqi9up/model.ckpt-17\n",
            "INFO:tensorflow:Running local_init_op.\n",
            "INFO:tensorflow:Done running local_init_op.\n",
            "INFO:tensorflow:Calling checkpoint listeners before saving checkpoint 17...\n",
            "INFO:tensorflow:Saving checkpoints for 17 into /tmp/tmp78kqi9up/model.ckpt.\n",
            "INFO:tensorflow:Calling checkpoint listeners after saving checkpoint 17...\n",
            "INFO:tensorflow:loss = 15175.975, step = 17\n",
            "INFO:tensorflow:Calling checkpoint listeners before saving checkpoint 19...\n",
            "INFO:tensorflow:Saving checkpoints for 19 into /tmp/tmp78kqi9up/model.ckpt.\n",
            "INFO:tensorflow:Calling checkpoint listeners after saving checkpoint 19...\n",
            "INFO:tensorflow:Loss for final step: 15175.975.\n",
            "delta: [[0. 0. 0.]\n",
            " [0. 0. 0.]\n",
            " [0. 0. 0.]]\n",
            "INFO:tensorflow:Calling model_fn.\n",
            "INFO:tensorflow:Done calling model_fn.\n",
            "INFO:tensorflow:Starting evaluation at 2021-02-16T01:20:34Z\n",
            "INFO:tensorflow:Graph was finalized.\n",
            "INFO:tensorflow:Restoring parameters from /tmp/tmp78kqi9up/model.ckpt-19\n",
            "INFO:tensorflow:Running local_init_op.\n",
            "INFO:tensorflow:Done running local_init_op.\n",
            "INFO:tensorflow:Evaluation [1/1]\n",
            "INFO:tensorflow:Inference Time : 0.14716s\n",
            "INFO:tensorflow:Finished evaluation at 2021-02-16-01:20:34\n",
            "INFO:tensorflow:Saving dict for global step 19: global_step = 19, loss = 15175.975, score = 15175.975\n",
            "INFO:tensorflow:Saving 'checkpoint_path' summary for global step 19: /tmp/tmp78kqi9up/model.ckpt-19\n",
            "score: 15175.975\n",
            "cluster centers: [[ 55.142853  139.14284    30.190474 ]\n",
            " [ 11.299999  167.79999    47.899994 ]\n",
            " [  3.4999983  49.499977  168.99992  ]]\n"
          ],
          "name": "stdout"
        }
      ]
    },
    {
      "cell_type": "markdown",
      "metadata": {
        "id": "fcxtDcy1AlmA"
      },
      "source": [
        "## Map the input points to their clusters"
      ]
    },
    {
      "cell_type": "code",
      "metadata": {
        "colab": {
          "base_uri": "https://localhost:8080/"
        },
        "id": "ofW01KXHAlwc",
        "outputId": "98709cc7-3684-4788-8357-401cc77908ba"
      },
      "source": [
        "cluster_indices = list(kmeans.predict_cluster_index(input_fn))\n",
        "print(cluster_indices)\n",
        "for i, point in enumerate(points):\n",
        "  cluster_index = cluster_indices[i]\n",
        "  center = cluster_centers[cluster_index]\n",
        "  print('point:', point, 'is in cluster', cluster_index, 'centered at', center)"
      ],
      "execution_count": 6,
      "outputs": [
        {
          "output_type": "stream",
          "text": [
            "WARNING:tensorflow:Input graph does not use tf.data.Dataset or contain a QueueRunner. That means predict yields forever. This is probably a mistake.\n",
            "INFO:tensorflow:Calling model_fn.\n",
            "INFO:tensorflow:Done calling model_fn.\n",
            "INFO:tensorflow:Graph was finalized.\n",
            "INFO:tensorflow:Restoring parameters from /tmp/tmp78kqi9up/model.ckpt-19\n",
            "INFO:tensorflow:Running local_init_op.\n",
            "INFO:tensorflow:Done running local_init_op.\n",
            "[0, 0, 0, 0, 0, 1, 1, 2, 0, 0, 0, 0, 1, 0, 0, 1, 1, 1, 1, 1, 2, 1, 1, 0, 0, 0, 0, 0, 0, 0, 0, 0, 0]\n",
            "point: [ 58 140  25] is in cluster 0 centered at [ 55.142853 139.14284   30.190474]\n",
            "point: [ 49 144  33] is in cluster 0 centered at [ 55.142853 139.14284   30.190474]\n",
            "point: [ 60 144  26] is in cluster 0 centered at [ 55.142853 139.14284   30.190474]\n",
            "point: [ 60 124  35] is in cluster 0 centered at [ 55.142853 139.14284   30.190474]\n",
            "point: [ 58 132  31] is in cluster 0 centered at [ 55.142853 139.14284   30.190474]\n",
            "point: [ 23 163  43] is in cluster 1 centered at [ 11.299999 167.79999   47.899994]\n",
            "point: [ 18 175  37] is in cluster 1 centered at [ 11.299999 167.79999   47.899994]\n",
            "point: [  7  98 124] is in cluster 2 centered at [  3.4999983  49.499977  168.99992  ]\n",
            "point: [ 57 133  32] is in cluster 0 centered at [ 55.142853 139.14284   30.190474]\n",
            "point: [ 55 125  39] is in cluster 0 centered at [ 55.142853 139.14284   30.190474]\n",
            "point: [ 40 153  35] is in cluster 0 centered at [ 55.142853 139.14284   30.190474]\n",
            "point: [ 43 153  31] is in cluster 0 centered at [ 55.142853 139.14284   30.190474]\n",
            "point: [ 15 165  64] is in cluster 1 centered at [ 11.299999 167.79999   47.899994]\n",
            "point: [ 56 130  32] is in cluster 0 centered at [ 55.142853 139.14284   30.190474]\n",
            "point: [ 41 151  44] is in cluster 0 centered at [ 55.142853 139.14284   30.190474]\n",
            "point: [  5 177  42] is in cluster 1 centered at [ 11.299999 167.79999   47.899994]\n",
            "point: [ 20 151  53] is in cluster 1 centered at [ 11.299999 167.79999   47.899994]\n",
            "point: [ 11 173  40] is in cluster 1 centered at [ 11.299999 167.79999   47.899994]\n",
            "point: [  7 151  68] is in cluster 1 centered at [ 11.299999 167.79999   47.899994]\n",
            "point: [  4 170  52] is in cluster 1 centered at [ 11.299999 167.79999   47.899994]\n",
            "point: [  0   1 214] is in cluster 2 centered at [  3.4999983  49.499977  168.99992  ]\n",
            "point: [  6 171  40] is in cluster 1 centered at [ 11.299999 167.79999   47.899994]\n",
            "point: [  4 182  40] is in cluster 1 centered at [ 11.299999 167.79999   47.899994]\n",
            "point: [ 57 143  23] is in cluster 0 centered at [ 55.142853 139.14284   30.190474]\n",
            "point: [ 55 139  23] is in cluster 0 centered at [ 55.142853 139.14284   30.190474]\n",
            "point: [ 58 145  19] is in cluster 0 centered at [ 55.142853 139.14284   30.190474]\n",
            "point: [ 56 160  50] is in cluster 0 centered at [ 55.142853 139.14284   30.190474]\n",
            "point: [ 59 127  33] is in cluster 0 centered at [ 55.142853 139.14284   30.190474]\n",
            "point: [ 62 139  24] is in cluster 0 centered at [ 55.142853 139.14284   30.190474]\n",
            "point: [ 58 132  28] is in cluster 0 centered at [ 55.142853 139.14284   30.190474]\n",
            "point: [ 57 134  23] is in cluster 0 centered at [ 55.142853 139.14284   30.190474]\n",
            "point: [ 58 137  26] is in cluster 0 centered at [ 55.142853 139.14284   30.190474]\n",
            "point: [ 61 137  22] is in cluster 0 centered at [ 55.142853 139.14284   30.190474]\n"
          ],
          "name": "stdout"
        }
      ]
    },
    {
      "cell_type": "code",
      "metadata": {
        "colab": {
          "base_uri": "https://localhost:8080/",
          "height": 265
        },
        "id": "5zwNKd-Z3YH2",
        "outputId": "84d54524-6a8d-4e96-ee4d-dc62a655f1e4"
      },
      "source": [
        "X = normalized_df[0:].values\n",
        "plt.scatter(X[:, 0], X[:, 1], c=cluster_indices, s=30, cmap='viridis')\n",
        "plt.show()"
      ],
      "execution_count": 8,
      "outputs": [
        {
          "output_type": "display_data",
          "data": {
            "image/png": "[encoded data removed]",
            "text/plain": [
              "<Figure size 432x288 with 1 Axes>"
            ]
          },
          "metadata": {
            "tags": [],
            "needs_background": "light"
          }
        }
      ]
    },
    {
      "cell_type": "markdown",
      "metadata": {
        "id": "kwU4p-2FmkfD"
      },
      "source": [
        "###What the clustering results represent: <br />\n",
        "cluster 0: Most clients complete their ISO Installation in 1h - 2h, then less in 0h - 1h, least in 2h - 3h <br />\n",
        "cluster 1: Most clients complete their ISO Installation in 1h - 2h, then less in 2h - 3h, least in 0h - 1h <br />\n",
        "cluster 2: Most clients complete their ISO Installation in 2h - 3h, then less in 1h - 2h, least in 0h - 1h <br />\n",
        "\n",
        "\n",
        "Therefore, <br />\n",
        "if the latest data falls to cluster 0, it indicates that the performance of the system is doing well, that is called ideal scenario. <br />\n",
        "if the latest data falls to cluster 1, it indicates that the performance of the system is getting worse, maintainers need to pay attention. <br />\n",
        "if the latest data falls to cluster 2, it indicates that the performance of the system needs to improve immediately, that is the worst scenario. <br />\n",
        "\n"
      ]
    },
    {
      "cell_type": "markdown",
      "metadata": {
        "id": "rfk9cpO2LgjJ"
      },
      "source": [
        "Refference:\n",
        "https://www.tensorflow.org/api_docs/python/tf/compat/v1/estimator/experimental/KMeans"
      ]
    }
  ]
}