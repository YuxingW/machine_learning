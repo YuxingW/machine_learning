{
  "nbformat": 4,
  "nbformat_minor": 0,
  "metadata": {
    "colab": {
      "name": "golden_clustering.ipynb",
      "provenance": [],
      "collapsed_sections": [],
      "authorship_tag": "ABX9TyO6203MBzcgIqZ/3JJuIR17",
      "include_colab_link": true
    },
    "kernelspec": {
      "name": "python3",
      "display_name": "Python 3"
    }
  },
  "cells": [
    {
      "cell_type": "markdown",
      "metadata": {
        "id": "view-in-github",
        "colab_type": "text"
      },
      "source": [
        "<a href=\"https://colab.research.google.com/github/YuxingW/machine_learning/blob/main/hw2_clustering/golden_clustering.ipynb\" target=\"_parent\"><img src=\"https://colab.research.google.com/assets/colab-badge.svg\" alt=\"Open In Colab\"/></a>"
      ]
    },
    {
      "cell_type": "markdown",
      "metadata": {
        "id": "k2FtSFBn0W6c"
      },
      "source": [
        "### What is the story\n",
        "\n",
        "For power supply company and electronics manufacturers, they can be interested in finding the customers whose power consumptions stably increase every year. <br />\n",
        "This note book is to find these customers as a golden cluster based on: <br />\n",
        "Dataset<br />\n",
        "&nbsp;  &nbsp; &nbsp; 114 apartments yearly power consumption in 2014-2016<br />\n",
        "\n",
        "Objective fuctions<br />\n",
        "  1. Average yearly incremental rate of power consumption is high<br />\n",
        "  2. Variance among yearly incremental rate is low<br />"
      ]
    },
    {
      "cell_type": "code",
      "metadata": {
        "id": "GCd5PqpMHKFb"
      },
      "source": [
        "import requests\n",
        "import numpy as np\n",
        "import pandas as pd\n",
        "import tensorflow as tf\n",
        "import seaborn as sns\n",
        "import matplotlib.pyplot as plt\n",
        "from sklearn.tree import DecisionTreeClassifier\n",
        "from sklearn.metrics import silhouette_samples, silhouette_score\n",
        "from sklearn.model_selection import train_test_split\n",
        "from io import BytesIO"
      ],
      "execution_count": 70,
      "outputs": []
    },
    {
      "cell_type": "markdown",
      "metadata": {
        "id": "ineTmZcEHTg_"
      },
      "source": [
        "Load the dataset which has aggregated the power consumption data of 114 apartments to yearly basis."
      ]
    },
    {
      "cell_type": "code",
      "metadata": {
        "colab": {
          "base_uri": "https://localhost:8080/",
          "height": 204
        },
        "id": "WGlLAUwcHNgf",
        "outputId": "b864033d-7637-4c18-fe33-9e1f7e33f727"
      },
      "source": [
        "train_url = 'https://docs.google.com/spreadsheets/d/e/2PACX-1vTSrkksG6J0eW2uQVdlLoYvcc52nL4jtLx2snJxAMzXDpliwgHjjpuLdKTyaWA3r89Xz2NExw0_hNK1/pub?output=csv'\n",
        "r = requests.get(train_url)\n",
        "data = r.content\n",
        "stats = pd.read_csv(BytesIO(data))\n",
        "stats.head()"
      ],
      "execution_count": 71,
      "outputs": [
        {
          "output_type": "execute_result",
          "data": {
            "text/html": [
              "<div>\n",
              "<style scoped>\n",
              "    .dataframe tbody tr th:only-of-type {\n",
              "        vertical-align: middle;\n",
              "    }\n",
              "\n",
              "    .dataframe tbody tr th {\n",
              "        vertical-align: top;\n",
              "    }\n",
              "\n",
              "    .dataframe thead th {\n",
              "        text-align: right;\n",
              "    }\n",
              "</style>\n",
              "<table border=\"1\" class=\"dataframe\">\n",
              "  <thead>\n",
              "    <tr style=\"text-align: right;\">\n",
              "      <th></th>\n",
              "      <th>apt</th>\n",
              "      <th>sum_2014</th>\n",
              "      <th>sum_2015</th>\n",
              "      <th>sum_2016</th>\n",
              "    </tr>\n",
              "  </thead>\n",
              "  <tbody>\n",
              "    <tr>\n",
              "      <th>0</th>\n",
              "      <td>1</td>\n",
              "      <td>2459.677764</td>\n",
              "      <td>3975.893503</td>\n",
              "      <td>4173.596942</td>\n",
              "    </tr>\n",
              "    <tr>\n",
              "      <th>1</th>\n",
              "      <td>2</td>\n",
              "      <td>3644.218922</td>\n",
              "      <td>5346.137168</td>\n",
              "      <td>5809.360482</td>\n",
              "    </tr>\n",
              "    <tr>\n",
              "      <th>2</th>\n",
              "      <td>3</td>\n",
              "      <td>1.216667</td>\n",
              "      <td>1966.595428</td>\n",
              "      <td>4882.375903</td>\n",
              "    </tr>\n",
              "    <tr>\n",
              "      <th>3</th>\n",
              "      <td>4</td>\n",
              "      <td>2516.462672</td>\n",
              "      <td>2912.109103</td>\n",
              "      <td>1823.633984</td>\n",
              "    </tr>\n",
              "    <tr>\n",
              "      <th>4</th>\n",
              "      <td>5</td>\n",
              "      <td>3917.460015</td>\n",
              "      <td>4776.046606</td>\n",
              "      <td>4204.387063</td>\n",
              "    </tr>\n",
              "  </tbody>\n",
              "</table>\n",
              "</div>"
            ],
            "text/plain": [
              "   apt     sum_2014     sum_2015     sum_2016\n",
              "0    1  2459.677764  3975.893503  4173.596942\n",
              "1    2  3644.218922  5346.137168  5809.360482\n",
              "2    3     1.216667  1966.595428  4882.375903\n",
              "3    4  2516.462672  2912.109103  1823.633984\n",
              "4    5  3917.460015  4776.046606  4204.387063"
            ]
          },
          "metadata": {
            "tags": []
          },
          "execution_count": 71
        }
      ]
    },
    {
      "cell_type": "markdown",
      "metadata": {
        "id": "PAUcycN9HuWY"
      },
      "source": [
        "### Data preprosessing\n",
        "Get 114 apartments overall yearly average power consumption"
      ]
    },
    {
      "cell_type": "code",
      "metadata": {
        "colab": {
          "base_uri": "https://localhost:8080/"
        },
        "id": "eK9G3J9KHufk",
        "outputId": "3a9ef735-91fc-4335-afc7-54c2723c5a96"
      },
      "source": [
        "avg_2014 = stats['sum_2014'].to_numpy().sum()/114\n",
        "avg_2015 = stats['sum_2015'].to_numpy().sum()/114\n",
        "avg_2016 = stats['sum_2016'].to_numpy().sum()/114\n",
        "print('avg_2014: %s avg_2015: %s avg_2016: %s' % (avg_2014, avg_2015, avg_2016))"
      ],
      "execution_count": 72,
      "outputs": [
        {
          "output_type": "stream",
          "text": [
            "avg_2014: 2595.3284100206315 avg_2015: 4638.032251017544 avg_2016: 4592.061797868421\n"
          ],
          "name": "stdout"
        }
      ]
    },
    {
      "cell_type": "markdown",
      "metadata": {
        "id": "aEbyY4uFNSQP"
      },
      "source": [
        "Fill overall average power consumption data for apartments that do not have any sensor data in 2014"
      ]
    },
    {
      "cell_type": "code",
      "metadata": {
        "colab": {
          "base_uri": "https://localhost:8080/",
          "height": 204
        },
        "id": "vDRUcqSzNSaT",
        "outputId": "dc0619ea-37e9-4528-e4a0-91fbe497f4a4"
      },
      "source": [
        "def set_avg(x):\n",
        "  return x if x > 2 else avg_2014\n",
        "\n",
        "stats['sum_2014'] = stats['sum_2014'].apply(set_avg)\n",
        "stats.head()"
      ],
      "execution_count": 73,
      "outputs": [
        {
          "output_type": "execute_result",
          "data": {
            "text/html": [
              "<div>\n",
              "<style scoped>\n",
              "    .dataframe tbody tr th:only-of-type {\n",
              "        vertical-align: middle;\n",
              "    }\n",
              "\n",
              "    .dataframe tbody tr th {\n",
              "        vertical-align: top;\n",
              "    }\n",
              "\n",
              "    .dataframe thead th {\n",
              "        text-align: right;\n",
              "    }\n",
              "</style>\n",
              "<table border=\"1\" class=\"dataframe\">\n",
              "  <thead>\n",
              "    <tr style=\"text-align: right;\">\n",
              "      <th></th>\n",
              "      <th>apt</th>\n",
              "      <th>sum_2014</th>\n",
              "      <th>sum_2015</th>\n",
              "      <th>sum_2016</th>\n",
              "    </tr>\n",
              "  </thead>\n",
              "  <tbody>\n",
              "    <tr>\n",
              "      <th>0</th>\n",
              "      <td>1</td>\n",
              "      <td>2459.677764</td>\n",
              "      <td>3975.893503</td>\n",
              "      <td>4173.596942</td>\n",
              "    </tr>\n",
              "    <tr>\n",
              "      <th>1</th>\n",
              "      <td>2</td>\n",
              "      <td>3644.218922</td>\n",
              "      <td>5346.137168</td>\n",
              "      <td>5809.360482</td>\n",
              "    </tr>\n",
              "    <tr>\n",
              "      <th>2</th>\n",
              "      <td>3</td>\n",
              "      <td>2595.328410</td>\n",
              "      <td>1966.595428</td>\n",
              "      <td>4882.375903</td>\n",
              "    </tr>\n",
              "    <tr>\n",
              "      <th>3</th>\n",
              "      <td>4</td>\n",
              "      <td>2516.462672</td>\n",
              "      <td>2912.109103</td>\n",
              "      <td>1823.633984</td>\n",
              "    </tr>\n",
              "    <tr>\n",
              "      <th>4</th>\n",
              "      <td>5</td>\n",
              "      <td>3917.460015</td>\n",
              "      <td>4776.046606</td>\n",
              "      <td>4204.387063</td>\n",
              "    </tr>\n",
              "  </tbody>\n",
              "</table>\n",
              "</div>"
            ],
            "text/plain": [
              "   apt     sum_2014     sum_2015     sum_2016\n",
              "0    1  2459.677764  3975.893503  4173.596942\n",
              "1    2  3644.218922  5346.137168  5809.360482\n",
              "2    3  2595.328410  1966.595428  4882.375903\n",
              "3    4  2516.462672  2912.109103  1823.633984\n",
              "4    5  3917.460015  4776.046606  4204.387063"
            ]
          },
          "metadata": {
            "tags": []
          },
          "execution_count": 73
        }
      ]
    },
    {
      "cell_type": "markdown",
      "metadata": {
        "id": "XT0vS0HAJtoQ"
      },
      "source": [
        "### Created interested composite features\n",
        "inc_2015: increment rate of power consuption from 2014 to 2015 <br />\n",
        "inc_2016: increment rate of power consuption from 2015 to 2016 <br />\n",
        "avg_years: average increment rate of power consuption from 2014 to 2016 <br />\n",
        "var_years: variance of increment rates from 2014 to 2016"
      ]
    },
    {
      "cell_type": "code",
      "metadata": {
        "colab": {
          "base_uri": "https://localhost:8080/",
          "height": 204
        },
        "id": "RyHHXRHWJtyM",
        "outputId": "8df95286-a5b0-46fb-d017-d49b4cfffd46"
      },
      "source": [
        "extra_feats = {\n",
        "     'inc_2015': lambda x: np.true_divide(x['sum_2015']-x['sum_2014'], x['sum_2014']),\n",
        "     'inc_2016': lambda x: np.true_divide(x['sum_2016']-x['sum_2015'], x['sum_2015']),\n",
        "     'avg_years': lambda x: np.true_divide(x['inc_2015']+x['inc_2016'], 2),\n",
        "     'var_years': lambda x: np.true_divide((x['inc_2015']-x['avg_years'])**2 \\\n",
        "                                        + (x['inc_2016']-x['avg_years'])**2, 2)\n",
        "}\n",
        "stats = stats.assign(**extra_feats)\n",
        "\n",
        "stats.head()"
      ],
      "execution_count": 74,
      "outputs": [
        {
          "output_type": "execute_result",
          "data": {
            "text/html": [
              "<div>\n",
              "<style scoped>\n",
              "    .dataframe tbody tr th:only-of-type {\n",
              "        vertical-align: middle;\n",
              "    }\n",
              "\n",
              "    .dataframe tbody tr th {\n",
              "        vertical-align: top;\n",
              "    }\n",
              "\n",
              "    .dataframe thead th {\n",
              "        text-align: right;\n",
              "    }\n",
              "</style>\n",
              "<table border=\"1\" class=\"dataframe\">\n",
              "  <thead>\n",
              "    <tr style=\"text-align: right;\">\n",
              "      <th></th>\n",
              "      <th>apt</th>\n",
              "      <th>sum_2014</th>\n",
              "      <th>sum_2015</th>\n",
              "      <th>sum_2016</th>\n",
              "      <th>inc_2015</th>\n",
              "      <th>inc_2016</th>\n",
              "      <th>avg_years</th>\n",
              "      <th>var_years</th>\n",
              "    </tr>\n",
              "  </thead>\n",
              "  <tbody>\n",
              "    <tr>\n",
              "      <th>0</th>\n",
              "      <td>1</td>\n",
              "      <td>2459.677764</td>\n",
              "      <td>3975.893503</td>\n",
              "      <td>4173.596942</td>\n",
              "      <td>0.616429</td>\n",
              "      <td>0.049726</td>\n",
              "      <td>0.333077</td>\n",
              "      <td>0.080288</td>\n",
              "    </tr>\n",
              "    <tr>\n",
              "      <th>1</th>\n",
              "      <td>2</td>\n",
              "      <td>3644.218922</td>\n",
              "      <td>5346.137168</td>\n",
              "      <td>5809.360482</td>\n",
              "      <td>0.467019</td>\n",
              "      <td>0.086646</td>\n",
              "      <td>0.276833</td>\n",
              "      <td>0.036171</td>\n",
              "    </tr>\n",
              "    <tr>\n",
              "      <th>2</th>\n",
              "      <td>3</td>\n",
              "      <td>2595.328410</td>\n",
              "      <td>1966.595428</td>\n",
              "      <td>4882.375903</td>\n",
              "      <td>-0.242256</td>\n",
              "      <td>1.482654</td>\n",
              "      <td>0.620199</td>\n",
              "      <td>0.743828</td>\n",
              "    </tr>\n",
              "    <tr>\n",
              "      <th>3</th>\n",
              "      <td>4</td>\n",
              "      <td>2516.462672</td>\n",
              "      <td>2912.109103</td>\n",
              "      <td>1823.633984</td>\n",
              "      <td>0.157223</td>\n",
              "      <td>-0.373776</td>\n",
              "      <td>-0.108276</td>\n",
              "      <td>0.070490</td>\n",
              "    </tr>\n",
              "    <tr>\n",
              "      <th>4</th>\n",
              "      <td>5</td>\n",
              "      <td>3917.460015</td>\n",
              "      <td>4776.046606</td>\n",
              "      <td>4204.387063</td>\n",
              "      <td>0.219169</td>\n",
              "      <td>-0.119693</td>\n",
              "      <td>0.049738</td>\n",
              "      <td>0.028707</td>\n",
              "    </tr>\n",
              "  </tbody>\n",
              "</table>\n",
              "</div>"
            ],
            "text/plain": [
              "   apt     sum_2014     sum_2015  ...  inc_2016  avg_years  var_years\n",
              "0    1  2459.677764  3975.893503  ...  0.049726   0.333077   0.080288\n",
              "1    2  3644.218922  5346.137168  ...  0.086646   0.276833   0.036171\n",
              "2    3  2595.328410  1966.595428  ...  1.482654   0.620199   0.743828\n",
              "3    4  2516.462672  2912.109103  ... -0.373776  -0.108276   0.070490\n",
              "4    5  3917.460015  4776.046606  ... -0.119693   0.049738   0.028707\n",
              "\n",
              "[5 rows x 8 columns]"
            ]
          },
          "metadata": {
            "tags": []
          },
          "execution_count": 74
        }
      ]
    },
    {
      "cell_type": "markdown",
      "metadata": {
        "id": "xhq9s2OHOrBk"
      },
      "source": [
        "### Fractal clustering\n",
        "Clustering apartments based on each of them average increment and variance over years. <br />\n",
        "\n",
        "Plot SSE and silhouette score by KMean clustering with different clusters."
      ]
    },
    {
      "cell_type": "code",
      "metadata": {
        "colab": {
          "base_uri": "https://localhost:8080/"
        },
        "id": "Osw6ewgZOrJx",
        "outputId": "b98b7844-bdf1-4f2b-980a-a31ece27a4b2"
      },
      "source": [
        "df_main = stats[['apt', 'avg_years', 'var_years']]\n",
        "df_main.info()"
      ],
      "execution_count": 75,
      "outputs": [
        {
          "output_type": "stream",
          "text": [
            "<class 'pandas.core.frame.DataFrame'>\n",
            "RangeIndex: 114 entries, 0 to 113\n",
            "Data columns (total 3 columns):\n",
            " #   Column     Non-Null Count  Dtype  \n",
            "---  ------     --------------  -----  \n",
            " 0   apt        114 non-null    int64  \n",
            " 1   avg_years  114 non-null    float64\n",
            " 2   var_years  114 non-null    float64\n",
            "dtypes: float64(2), int64(1)\n",
            "memory usage: 2.8 KB\n"
          ],
          "name": "stdout"
        }
      ]
    },
    {
      "cell_type": "code",
      "metadata": {
        "id": "-i2cA891QZ2M"
      },
      "source": [
        "from sklearn.preprocessing import RobustScaler\n",
        "from sklearn.cluster import KMeans\n",
        "from sklearn import metrics"
      ],
      "execution_count": 76,
      "outputs": []
    },
    {
      "cell_type": "code",
      "metadata": {
        "id": "n9dDpQUpQbF9"
      },
      "source": [
        "def plot_cluster(df, max_loop=50):\n",
        "    \"\"\"\n",
        "    Looking at the performance of various number of clusters using K-Means.\n",
        "    Performance is evaluated by within cluster SSE and silhouette score.\n",
        "    \"\"\"\n",
        "    try:\n",
        "        df.drop('cluster', axis=1, inplace=True)\n",
        "    except:\n",
        "        next\n",
        "    X = df.iloc[:,1:]\n",
        "    \n",
        "    # robust scaling is used so that the centering and scaling statistics are therefore not influenced by a few number of very large marginal outliers as they are based on percentiles\n",
        "    rb = RobustScaler()\n",
        "    X_rb = rb.fit_transform(X)\n",
        "    \n",
        "    sse_within_cluster = {}\n",
        "    silhouette_score = {}\n",
        "    \n",
        "    for k in range(2, max_loop):\n",
        "        kmeans = KMeans(n_clusters=k,  random_state=10, n_init=10, n_jobs=-1)\n",
        "        kmeans.fit(X_rb)\n",
        "        sse_within_cluster[k] = kmeans.inertia_\n",
        "        silhouette_score[k] = metrics.silhouette_score(X_rb, kmeans.labels_, random_state=10)\n",
        "\n",
        "    _ = plt.figure(figsize=(10,6))\n",
        "    ax1 = plt.subplot(211)\n",
        "    _ = plt.plot(list(sse_within_cluster.keys()), list(sse_within_cluster.values()))\n",
        "    _ = plt.xlabel(\"Number of Clusters\")\n",
        "    _ = plt.ylabel(\"SSE Within Cluster\")\n",
        "    _ = plt.title(\"Within Cluster SSE After K-Means Clustering\")\n",
        "    _ = plt.xticks([i for i in range(2, max_loop)], rotation=75)\n",
        "    \n",
        "    ax2 = plt.subplot(212)\n",
        "    _ = plt.plot(list(silhouette_score.keys()), list(silhouette_score.values()))\n",
        "    _ = plt.xlabel(\"Number of Clusters\")\n",
        "    _ = plt.ylabel(\"Silhouette Score\")\n",
        "    _ = plt.title(\"Silhouette Score After K-Means Clustering\")\n",
        "    _ = plt.xticks([i for i in range(2, max_loop)], rotation=75)\n",
        "    \n",
        "    plt.subplots_adjust(top=0.92, bottom=0.08, left=0.10, right=0.95, hspace=0.5, wspace=0.35)"
      ],
      "execution_count": 15,
      "outputs": []
    },
    {
      "cell_type": "code",
      "metadata": {
        "colab": {
          "base_uri": "https://localhost:8080/",
          "height": 446
        },
        "id": "gEdYoAcDQmmx",
        "outputId": "21084ece-7fa0-4394-9361-bbb2e7ac3a67"
      },
      "source": [
        "plot_cluster(df_main, max_loop=25)"
      ],
      "execution_count": 77,
      "outputs": [
        {
          "output_type": "display_data",
          "data": {
            "image/png": "[encoded data removed]",
            "text/plain": [
              "<Figure size 720x432 with 2 Axes>"
            ]
          },
          "metadata": {
            "tags": [],
            "needs_background": "light"
          }
        }
      ]
    },
    {
      "cell_type": "markdown",
      "metadata": {
        "id": "vuTgkc1VRUbR"
      },
      "source": [
        "Note the drop in sihouette score is quite significant between 5 clusters and 6 clusters, I would use 5 clusters in my K-Means model below."
      ]
    },
    {
      "cell_type": "code",
      "metadata": {
        "id": "Jn2R6ylpRUkA"
      },
      "source": [
        "def apply_cluster(df, clusters=2):\n",
        "    \"\"\"\n",
        "    Applying K-Means with the optimal number of clusters identified\n",
        "    \"\"\"\n",
        "    try:\n",
        "        df.drop('cluster', axis=1, inplace=True)\n",
        "    except:\n",
        "        next\n",
        "    X = df.iloc[:,1:]\n",
        "    rb = RobustScaler()\n",
        "    X_rb = rb.fit_transform(X)\n",
        "    kmeans = KMeans(n_clusters=clusters, random_state=10, n_init=10, n_jobs=-1)  \n",
        "    kmeans.fit(X_rb) \n",
        "    score = metrics.silhouette_score(X_rb, kmeans.labels_, random_state=10)\n",
        "    df['cluster'] = kmeans.labels_\n",
        "    sse_within_cluster = kmeans.inertia_\n",
        "    \n",
        "    print(\"clustering performance\")\n",
        "    print(\"-----------------------------------\")\n",
        "    print(\"silhouette score: \" + str(score.round(2)))\n",
        "    print(\"sse withing cluster: \" + str(sse_within_cluster.round()))\n",
        "    \n",
        "    return df\n"
      ],
      "execution_count": 17,
      "outputs": []
    },
    {
      "cell_type": "code",
      "metadata": {
        "colab": {
          "base_uri": "https://localhost:8080/"
        },
        "id": "QuJ8lFO7R7qu",
        "outputId": "3281cb94-c404-430a-a7a6-3b7d5ad86d1b"
      },
      "source": [
        "first_trial = apply_cluster(df_main, clusters=5)"
      ],
      "execution_count": 78,
      "outputs": [
        {
          "output_type": "stream",
          "text": [
            "clustering performance\n",
            "-----------------------------------\n",
            "silhouette score: 0.73\n",
            "sse withing cluster: 116.0\n"
          ],
          "name": "stdout"
        },
        {
          "output_type": "stream",
          "text": [
            "/usr/local/lib/python3.7/dist-packages/ipykernel_launcher.py:15: SettingWithCopyWarning: \n",
            "A value is trying to be set on a copy of a slice from a DataFrame.\n",
            "Try using .loc[row_indexer,col_indexer] = value instead\n",
            "\n",
            "See the caveats in the documentation: https://pandas.pydata.org/pandas-docs/stable/user_guide/indexing.html#returning-a-view-versus-a-copy\n",
            "  from ipykernel import kernelapp as app\n"
          ],
          "name": "stderr"
        }
      ]
    },
    {
      "cell_type": "code",
      "metadata": {
        "colab": {
          "base_uri": "https://localhost:8080/",
          "height": 204
        },
        "id": "BA_7XHf1SSm7",
        "outputId": "76a2c49d-7e9f-486f-f637-cc1ff1346e99"
      },
      "source": [
        "cluster_perf_df = (\n",
        "    first_trial\n",
        "    .groupby('cluster')\n",
        "    .agg({\"avg_years\":\"mean\", \"var_years\":\"mean\", \"apt\":\"count\"})\n",
        "    .sort_values('avg_years')\n",
        "    .reset_index()\n",
        ")\n",
        "\n",
        "cluster_perf_df"
      ],
      "execution_count": 21,
      "outputs": [
        {
          "output_type": "execute_result",
          "data": {
            "text/html": [
              "<div>\n",
              "<style scoped>\n",
              "    .dataframe tbody tr th:only-of-type {\n",
              "        vertical-align: middle;\n",
              "    }\n",
              "\n",
              "    .dataframe tbody tr th {\n",
              "        vertical-align: top;\n",
              "    }\n",
              "\n",
              "    .dataframe thead th {\n",
              "        text-align: right;\n",
              "    }\n",
              "</style>\n",
              "<table border=\"1\" class=\"dataframe\">\n",
              "  <thead>\n",
              "    <tr style=\"text-align: right;\">\n",
              "      <th></th>\n",
              "      <th>cluster</th>\n",
              "      <th>avg_years</th>\n",
              "      <th>var_years</th>\n",
              "      <th>apt</th>\n",
              "    </tr>\n",
              "  </thead>\n",
              "  <tbody>\n",
              "    <tr>\n",
              "      <th>0</th>\n",
              "      <td>0</td>\n",
              "      <td>0.321340</td>\n",
              "      <td>0.168014</td>\n",
              "      <td>99</td>\n",
              "    </tr>\n",
              "    <tr>\n",
              "      <th>1</th>\n",
              "      <td>3</td>\n",
              "      <td>1.197664</td>\n",
              "      <td>1.446857</td>\n",
              "      <td>12</td>\n",
              "    </tr>\n",
              "    <tr>\n",
              "      <th>2</th>\n",
              "      <td>4</td>\n",
              "      <td>2.503654</td>\n",
              "      <td>4.512110</td>\n",
              "      <td>1</td>\n",
              "    </tr>\n",
              "    <tr>\n",
              "      <th>3</th>\n",
              "      <td>2</td>\n",
              "      <td>16.270298</td>\n",
              "      <td>264.299082</td>\n",
              "      <td>1</td>\n",
              "    </tr>\n",
              "    <tr>\n",
              "      <th>4</th>\n",
              "      <td>1</td>\n",
              "      <td>28.457669</td>\n",
              "      <td>794.580368</td>\n",
              "      <td>1</td>\n",
              "    </tr>\n",
              "  </tbody>\n",
              "</table>\n",
              "</div>"
            ],
            "text/plain": [
              "   cluster  avg_years   var_years  apt\n",
              "0        0   0.321340    0.168014   99\n",
              "1        3   1.197664    1.446857   12\n",
              "2        4   2.503654    4.512110    1\n",
              "3        2  16.270298  264.299082    1\n",
              "4        1  28.457669  794.580368    1"
            ]
          },
          "metadata": {
            "tags": []
          },
          "execution_count": 21
        }
      ]
    },
    {
      "cell_type": "markdown",
      "metadata": {
        "id": "MGjxdjf5S_9t"
      },
      "source": [
        "Most of the apartments are aggregated in cluster 0. For the other clusters, we can see that the variance over years are huge.\n",
        "As cluster 0 variance is low and it contains many apartments data, I will continue to conduct another K-Means clustering on cluster 0. So, the method I am adopting is fractal clustering."
      ]
    },
    {
      "cell_type": "code",
      "metadata": {
        "colab": {
          "base_uri": "https://localhost:8080/",
          "height": 204
        },
        "id": "FbrIzXm8S_zW",
        "outputId": "e41d7945-9725-4c91-9193-0de0f6726061"
      },
      "source": [
        "df_main_sub = df_main.query(\"cluster == 0\").reset_index(drop=True)\n",
        "df_main_sub.head()"
      ],
      "execution_count": 79,
      "outputs": [
        {
          "output_type": "execute_result",
          "data": {
            "text/html": [
              "<div>\n",
              "<style scoped>\n",
              "    .dataframe tbody tr th:only-of-type {\n",
              "        vertical-align: middle;\n",
              "    }\n",
              "\n",
              "    .dataframe tbody tr th {\n",
              "        vertical-align: top;\n",
              "    }\n",
              "\n",
              "    .dataframe thead th {\n",
              "        text-align: right;\n",
              "    }\n",
              "</style>\n",
              "<table border=\"1\" class=\"dataframe\">\n",
              "  <thead>\n",
              "    <tr style=\"text-align: right;\">\n",
              "      <th></th>\n",
              "      <th>apt</th>\n",
              "      <th>avg_years</th>\n",
              "      <th>var_years</th>\n",
              "      <th>cluster</th>\n",
              "    </tr>\n",
              "  </thead>\n",
              "  <tbody>\n",
              "    <tr>\n",
              "      <th>0</th>\n",
              "      <td>1</td>\n",
              "      <td>0.333077</td>\n",
              "      <td>0.080288</td>\n",
              "      <td>0</td>\n",
              "    </tr>\n",
              "    <tr>\n",
              "      <th>1</th>\n",
              "      <td>2</td>\n",
              "      <td>0.276833</td>\n",
              "      <td>0.036171</td>\n",
              "      <td>0</td>\n",
              "    </tr>\n",
              "    <tr>\n",
              "      <th>2</th>\n",
              "      <td>3</td>\n",
              "      <td>0.620199</td>\n",
              "      <td>0.743828</td>\n",
              "      <td>0</td>\n",
              "    </tr>\n",
              "    <tr>\n",
              "      <th>3</th>\n",
              "      <td>4</td>\n",
              "      <td>-0.108276</td>\n",
              "      <td>0.070490</td>\n",
              "      <td>0</td>\n",
              "    </tr>\n",
              "    <tr>\n",
              "      <th>4</th>\n",
              "      <td>5</td>\n",
              "      <td>0.049738</td>\n",
              "      <td>0.028707</td>\n",
              "      <td>0</td>\n",
              "    </tr>\n",
              "  </tbody>\n",
              "</table>\n",
              "</div>"
            ],
            "text/plain": [
              "   apt  avg_years  var_years  cluster\n",
              "0    1   0.333077   0.080288        0\n",
              "1    2   0.276833   0.036171        0\n",
              "2    3   0.620199   0.743828        0\n",
              "3    4  -0.108276   0.070490        0\n",
              "4    5   0.049738   0.028707        0"
            ]
          },
          "metadata": {
            "tags": []
          },
          "execution_count": 79
        }
      ]
    },
    {
      "cell_type": "code",
      "metadata": {
        "colab": {
          "base_uri": "https://localhost:8080/",
          "height": 446
        },
        "id": "cOBmpQtyTrIg",
        "outputId": "ddc9d982-4615-496c-bcb1-ac915cccfa4f"
      },
      "source": [
        "plot_cluster(df_main_sub, max_loop=25)"
      ],
      "execution_count": 80,
      "outputs": [
        {
          "output_type": "display_data",
          "data": {
            "image/png": "[encoded data removed]",
            "text/plain": [
              "<Figure size 720x432 with 2 Axes>"
            ]
          },
          "metadata": {
            "tags": [],
            "needs_background": "light"
          }
        }
      ]
    },
    {
      "cell_type": "markdown",
      "metadata": {
        "id": "8tHzbWGJU9ne"
      },
      "source": [
        "\n",
        "From the graph, Silhouette Score After K-Means Clustering, we can see that there were continuous drops between 3 clusters and 6 clusters, and continuous raises between 6 and 16. As such, I would use 16 clusters in my K-Means model below"
      ]
    },
    {
      "cell_type": "code",
      "metadata": {
        "colab": {
          "base_uri": "https://localhost:8080/"
        },
        "id": "KE1RAneLU9yO",
        "outputId": "d18ecb97-bf24-4c38-8da8-b24306ebe3ed"
      },
      "source": [
        "second_trial= apply_cluster(df_main_sub, clusters=16)"
      ],
      "execution_count": 81,
      "outputs": [
        {
          "output_type": "stream",
          "text": [
            "clustering performance\n",
            "-----------------------------------\n",
            "silhouette score: 0.45\n",
            "sse withing cluster: 4.0\n"
          ],
          "name": "stdout"
        }
      ]
    },
    {
      "cell_type": "code",
      "metadata": {
        "colab": {
          "base_uri": "https://localhost:8080/",
          "height": 545
        },
        "id": "-U6DVT7pWXbU",
        "outputId": "a736e734-50ea-413c-9790-f245514338cf"
      },
      "source": [
        "sub_cluster_perf_df = (\n",
        "    second_trial\n",
        "    .groupby('cluster')\n",
        "    .agg({\"avg_years\":\"mean\", \"var_years\":\"mean\", \"apt\":\"count\"})\n",
        "    .sort_values('avg_years')\n",
        "    .reset_index()\n",
        ")\n",
        "\n",
        "sub_cluster_perf_df"
      ],
      "execution_count": 82,
      "outputs": [
        {
          "output_type": "execute_result",
          "data": {
            "text/html": [
              "<div>\n",
              "<style scoped>\n",
              "    .dataframe tbody tr th:only-of-type {\n",
              "        vertical-align: middle;\n",
              "    }\n",
              "\n",
              "    .dataframe tbody tr th {\n",
              "        vertical-align: top;\n",
              "    }\n",
              "\n",
              "    .dataframe thead th {\n",
              "        text-align: right;\n",
              "    }\n",
              "</style>\n",
              "<table border=\"1\" class=\"dataframe\">\n",
              "  <thead>\n",
              "    <tr style=\"text-align: right;\">\n",
              "      <th></th>\n",
              "      <th>cluster</th>\n",
              "      <th>avg_years</th>\n",
              "      <th>var_years</th>\n",
              "      <th>apt</th>\n",
              "    </tr>\n",
              "  </thead>\n",
              "  <tbody>\n",
              "    <tr>\n",
              "      <th>0</th>\n",
              "      <td>13</td>\n",
              "      <td>-0.229160</td>\n",
              "      <td>0.236649</td>\n",
              "      <td>1</td>\n",
              "    </tr>\n",
              "    <tr>\n",
              "      <th>1</th>\n",
              "      <td>4</td>\n",
              "      <td>-0.222317</td>\n",
              "      <td>0.046124</td>\n",
              "      <td>5</td>\n",
              "    </tr>\n",
              "    <tr>\n",
              "      <th>2</th>\n",
              "      <td>1</td>\n",
              "      <td>0.100529</td>\n",
              "      <td>0.042221</td>\n",
              "      <td>15</td>\n",
              "    </tr>\n",
              "    <tr>\n",
              "      <th>3</th>\n",
              "      <td>9</td>\n",
              "      <td>0.164569</td>\n",
              "      <td>0.202790</td>\n",
              "      <td>6</td>\n",
              "    </tr>\n",
              "    <tr>\n",
              "      <th>4</th>\n",
              "      <td>14</td>\n",
              "      <td>0.249971</td>\n",
              "      <td>0.033211</td>\n",
              "      <td>12</td>\n",
              "    </tr>\n",
              "    <tr>\n",
              "      <th>5</th>\n",
              "      <td>6</td>\n",
              "      <td>0.298706</td>\n",
              "      <td>0.389630</td>\n",
              "      <td>4</td>\n",
              "    </tr>\n",
              "    <tr>\n",
              "      <th>6</th>\n",
              "      <td>10</td>\n",
              "      <td>0.336428</td>\n",
              "      <td>0.122033</td>\n",
              "      <td>11</td>\n",
              "    </tr>\n",
              "    <tr>\n",
              "      <th>7</th>\n",
              "      <td>12</td>\n",
              "      <td>0.393557</td>\n",
              "      <td>0.252659</td>\n",
              "      <td>8</td>\n",
              "    </tr>\n",
              "    <tr>\n",
              "      <th>8</th>\n",
              "      <td>5</td>\n",
              "      <td>0.395772</td>\n",
              "      <td>0.025628</td>\n",
              "      <td>8</td>\n",
              "    </tr>\n",
              "    <tr>\n",
              "      <th>9</th>\n",
              "      <td>0</td>\n",
              "      <td>0.472175</td>\n",
              "      <td>0.184565</td>\n",
              "      <td>9</td>\n",
              "    </tr>\n",
              "    <tr>\n",
              "      <th>10</th>\n",
              "      <td>8</td>\n",
              "      <td>0.524858</td>\n",
              "      <td>0.397223</td>\n",
              "      <td>5</td>\n",
              "    </tr>\n",
              "    <tr>\n",
              "      <th>11</th>\n",
              "      <td>7</td>\n",
              "      <td>0.587266</td>\n",
              "      <td>0.078245</td>\n",
              "      <td>4</td>\n",
              "    </tr>\n",
              "    <tr>\n",
              "      <th>12</th>\n",
              "      <td>15</td>\n",
              "      <td>0.607115</td>\n",
              "      <td>0.260361</td>\n",
              "      <td>5</td>\n",
              "    </tr>\n",
              "    <tr>\n",
              "      <th>13</th>\n",
              "      <td>3</td>\n",
              "      <td>0.621308</td>\n",
              "      <td>0.535429</td>\n",
              "      <td>2</td>\n",
              "    </tr>\n",
              "    <tr>\n",
              "      <th>14</th>\n",
              "      <td>2</td>\n",
              "      <td>0.630905</td>\n",
              "      <td>0.784586</td>\n",
              "      <td>2</td>\n",
              "    </tr>\n",
              "    <tr>\n",
              "      <th>15</th>\n",
              "      <td>11</td>\n",
              "      <td>0.842672</td>\n",
              "      <td>0.444180</td>\n",
              "      <td>2</td>\n",
              "    </tr>\n",
              "  </tbody>\n",
              "</table>\n",
              "</div>"
            ],
            "text/plain": [
              "    cluster  avg_years  var_years  apt\n",
              "0        13  -0.229160   0.236649    1\n",
              "1         4  -0.222317   0.046124    5\n",
              "2         1   0.100529   0.042221   15\n",
              "3         9   0.164569   0.202790    6\n",
              "4        14   0.249971   0.033211   12\n",
              "5         6   0.298706   0.389630    4\n",
              "6        10   0.336428   0.122033   11\n",
              "7        12   0.393557   0.252659    8\n",
              "8         5   0.395772   0.025628    8\n",
              "9         0   0.472175   0.184565    9\n",
              "10        8   0.524858   0.397223    5\n",
              "11        7   0.587266   0.078245    4\n",
              "12       15   0.607115   0.260361    5\n",
              "13        3   0.621308   0.535429    2\n",
              "14        2   0.630905   0.784586    2\n",
              "15       11   0.842672   0.444180    2"
            ]
          },
          "metadata": {
            "tags": []
          },
          "execution_count": 82
        }
      ]
    },
    {
      "cell_type": "markdown",
      "metadata": {
        "id": "Udwe3AqpnVaH"
      },
      "source": [
        "Similar to the sharpe ratio in stock, we want to see a ratio between avg_years and var_years"
      ]
    },
    {
      "cell_type": "code",
      "metadata": {
        "colab": {
          "base_uri": "https://localhost:8080/",
          "height": 545
        },
        "id": "WtQ3mnn9n1fv",
        "outputId": "071da2c2-64a6-4d61-ac4c-a063129c4f4e"
      },
      "source": [
        "extra_feats = {\n",
        "     'ratio': lambda x: np.true_divide(x['avg_years'], x['var_years'])\n",
        "}\n",
        "sub_cluster_perf_df = sub_cluster_perf_df.assign(**extra_feats)\n",
        "sub_cluster_perf_df"
      ],
      "execution_count": 83,
      "outputs": [
        {
          "output_type": "execute_result",
          "data": {
            "text/html": [
              "<div>\n",
              "<style scoped>\n",
              "    .dataframe tbody tr th:only-of-type {\n",
              "        vertical-align: middle;\n",
              "    }\n",
              "\n",
              "    .dataframe tbody tr th {\n",
              "        vertical-align: top;\n",
              "    }\n",
              "\n",
              "    .dataframe thead th {\n",
              "        text-align: right;\n",
              "    }\n",
              "</style>\n",
              "<table border=\"1\" class=\"dataframe\">\n",
              "  <thead>\n",
              "    <tr style=\"text-align: right;\">\n",
              "      <th></th>\n",
              "      <th>cluster</th>\n",
              "      <th>avg_years</th>\n",
              "      <th>var_years</th>\n",
              "      <th>apt</th>\n",
              "      <th>ratio</th>\n",
              "    </tr>\n",
              "  </thead>\n",
              "  <tbody>\n",
              "    <tr>\n",
              "      <th>0</th>\n",
              "      <td>13</td>\n",
              "      <td>-0.229160</td>\n",
              "      <td>0.236649</td>\n",
              "      <td>1</td>\n",
              "      <td>-0.968355</td>\n",
              "    </tr>\n",
              "    <tr>\n",
              "      <th>1</th>\n",
              "      <td>4</td>\n",
              "      <td>-0.222317</td>\n",
              "      <td>0.046124</td>\n",
              "      <td>5</td>\n",
              "      <td>-4.819966</td>\n",
              "    </tr>\n",
              "    <tr>\n",
              "      <th>2</th>\n",
              "      <td>1</td>\n",
              "      <td>0.100529</td>\n",
              "      <td>0.042221</td>\n",
              "      <td>15</td>\n",
              "      <td>2.381004</td>\n",
              "    </tr>\n",
              "    <tr>\n",
              "      <th>3</th>\n",
              "      <td>9</td>\n",
              "      <td>0.164569</td>\n",
              "      <td>0.202790</td>\n",
              "      <td>6</td>\n",
              "      <td>0.811524</td>\n",
              "    </tr>\n",
              "    <tr>\n",
              "      <th>4</th>\n",
              "      <td>14</td>\n",
              "      <td>0.249971</td>\n",
              "      <td>0.033211</td>\n",
              "      <td>12</td>\n",
              "      <td>7.526773</td>\n",
              "    </tr>\n",
              "    <tr>\n",
              "      <th>5</th>\n",
              "      <td>6</td>\n",
              "      <td>0.298706</td>\n",
              "      <td>0.389630</td>\n",
              "      <td>4</td>\n",
              "      <td>0.766642</td>\n",
              "    </tr>\n",
              "    <tr>\n",
              "      <th>6</th>\n",
              "      <td>10</td>\n",
              "      <td>0.336428</td>\n",
              "      <td>0.122033</td>\n",
              "      <td>11</td>\n",
              "      <td>2.756858</td>\n",
              "    </tr>\n",
              "    <tr>\n",
              "      <th>7</th>\n",
              "      <td>12</td>\n",
              "      <td>0.393557</td>\n",
              "      <td>0.252659</td>\n",
              "      <td>8</td>\n",
              "      <td>1.557658</td>\n",
              "    </tr>\n",
              "    <tr>\n",
              "      <th>8</th>\n",
              "      <td>5</td>\n",
              "      <td>0.395772</td>\n",
              "      <td>0.025628</td>\n",
              "      <td>8</td>\n",
              "      <td>15.443247</td>\n",
              "    </tr>\n",
              "    <tr>\n",
              "      <th>9</th>\n",
              "      <td>0</td>\n",
              "      <td>0.472175</td>\n",
              "      <td>0.184565</td>\n",
              "      <td>9</td>\n",
              "      <td>2.558306</td>\n",
              "    </tr>\n",
              "    <tr>\n",
              "      <th>10</th>\n",
              "      <td>8</td>\n",
              "      <td>0.524858</td>\n",
              "      <td>0.397223</td>\n",
              "      <td>5</td>\n",
              "      <td>1.321318</td>\n",
              "    </tr>\n",
              "    <tr>\n",
              "      <th>11</th>\n",
              "      <td>7</td>\n",
              "      <td>0.587266</td>\n",
              "      <td>0.078245</td>\n",
              "      <td>4</td>\n",
              "      <td>7.505469</td>\n",
              "    </tr>\n",
              "    <tr>\n",
              "      <th>12</th>\n",
              "      <td>15</td>\n",
              "      <td>0.607115</td>\n",
              "      <td>0.260361</td>\n",
              "      <td>5</td>\n",
              "      <td>2.331820</td>\n",
              "    </tr>\n",
              "    <tr>\n",
              "      <th>13</th>\n",
              "      <td>3</td>\n",
              "      <td>0.621308</td>\n",
              "      <td>0.535429</td>\n",
              "      <td>2</td>\n",
              "      <td>1.160393</td>\n",
              "    </tr>\n",
              "    <tr>\n",
              "      <th>14</th>\n",
              "      <td>2</td>\n",
              "      <td>0.630905</td>\n",
              "      <td>0.784586</td>\n",
              "      <td>2</td>\n",
              "      <td>0.804124</td>\n",
              "    </tr>\n",
              "    <tr>\n",
              "      <th>15</th>\n",
              "      <td>11</td>\n",
              "      <td>0.842672</td>\n",
              "      <td>0.444180</td>\n",
              "      <td>2</td>\n",
              "      <td>1.897139</td>\n",
              "    </tr>\n",
              "  </tbody>\n",
              "</table>\n",
              "</div>"
            ],
            "text/plain": [
              "    cluster  avg_years  var_years  apt      ratio\n",
              "0        13  -0.229160   0.236649    1  -0.968355\n",
              "1         4  -0.222317   0.046124    5  -4.819966\n",
              "2         1   0.100529   0.042221   15   2.381004\n",
              "3         9   0.164569   0.202790    6   0.811524\n",
              "4        14   0.249971   0.033211   12   7.526773\n",
              "5         6   0.298706   0.389630    4   0.766642\n",
              "6        10   0.336428   0.122033   11   2.756858\n",
              "7        12   0.393557   0.252659    8   1.557658\n",
              "8         5   0.395772   0.025628    8  15.443247\n",
              "9         0   0.472175   0.184565    9   2.558306\n",
              "10        8   0.524858   0.397223    5   1.321318\n",
              "11        7   0.587266   0.078245    4   7.505469\n",
              "12       15   0.607115   0.260361    5   2.331820\n",
              "13        3   0.621308   0.535429    2   1.160393\n",
              "14        2   0.630905   0.784586    2   0.804124\n",
              "15       11   0.842672   0.444180    2   1.897139"
            ]
          },
          "metadata": {
            "tags": []
          },
          "execution_count": 83
        }
      ]
    },
    {
      "cell_type": "code",
      "metadata": {
        "colab": {
          "base_uri": "https://localhost:8080/",
          "height": 297
        },
        "id": "AtccPCq5hLSe",
        "outputId": "1bcd3b72-5917-43be-b3b4-4713d90bf764"
      },
      "source": [
        "golden_cluster = second_trial.query(\"cluster == 5\")\n",
        "golden_cluster\n"
      ],
      "execution_count": 84,
      "outputs": [
        {
          "output_type": "execute_result",
          "data": {
            "text/html": [
              "<div>\n",
              "<style scoped>\n",
              "    .dataframe tbody tr th:only-of-type {\n",
              "        vertical-align: middle;\n",
              "    }\n",
              "\n",
              "    .dataframe tbody tr th {\n",
              "        vertical-align: top;\n",
              "    }\n",
              "\n",
              "    .dataframe thead th {\n",
              "        text-align: right;\n",
              "    }\n",
              "</style>\n",
              "<table border=\"1\" class=\"dataframe\">\n",
              "  <thead>\n",
              "    <tr style=\"text-align: right;\">\n",
              "      <th></th>\n",
              "      <th>apt</th>\n",
              "      <th>avg_years</th>\n",
              "      <th>var_years</th>\n",
              "      <th>cluster</th>\n",
              "    </tr>\n",
              "  </thead>\n",
              "  <tbody>\n",
              "    <tr>\n",
              "      <th>7</th>\n",
              "      <td>8</td>\n",
              "      <td>0.450322</td>\n",
              "      <td>0.000539</td>\n",
              "      <td>5</td>\n",
              "    </tr>\n",
              "    <tr>\n",
              "      <th>12</th>\n",
              "      <td>16</td>\n",
              "      <td>0.458760</td>\n",
              "      <td>0.032598</td>\n",
              "      <td>5</td>\n",
              "    </tr>\n",
              "    <tr>\n",
              "      <th>29</th>\n",
              "      <td>35</td>\n",
              "      <td>0.336468</td>\n",
              "      <td>0.024315</td>\n",
              "      <td>5</td>\n",
              "    </tr>\n",
              "    <tr>\n",
              "      <th>33</th>\n",
              "      <td>39</td>\n",
              "      <td>0.392282</td>\n",
              "      <td>0.047111</td>\n",
              "      <td>5</td>\n",
              "    </tr>\n",
              "    <tr>\n",
              "      <th>40</th>\n",
              "      <td>47</td>\n",
              "      <td>0.430771</td>\n",
              "      <td>0.001588</td>\n",
              "      <td>5</td>\n",
              "    </tr>\n",
              "    <tr>\n",
              "      <th>55</th>\n",
              "      <td>66</td>\n",
              "      <td>0.394044</td>\n",
              "      <td>0.001866</td>\n",
              "      <td>5</td>\n",
              "    </tr>\n",
              "    <tr>\n",
              "      <th>61</th>\n",
              "      <td>72</td>\n",
              "      <td>0.355001</td>\n",
              "      <td>0.057790</td>\n",
              "      <td>5</td>\n",
              "    </tr>\n",
              "    <tr>\n",
              "      <th>90</th>\n",
              "      <td>104</td>\n",
              "      <td>0.348531</td>\n",
              "      <td>0.039213</td>\n",
              "      <td>5</td>\n",
              "    </tr>\n",
              "  </tbody>\n",
              "</table>\n",
              "</div>"
            ],
            "text/plain": [
              "    apt  avg_years  var_years  cluster\n",
              "7     8   0.450322   0.000539        5\n",
              "12   16   0.458760   0.032598        5\n",
              "29   35   0.336468   0.024315        5\n",
              "33   39   0.392282   0.047111        5\n",
              "40   47   0.430771   0.001588        5\n",
              "55   66   0.394044   0.001866        5\n",
              "61   72   0.355001   0.057790        5\n",
              "90  104   0.348531   0.039213        5"
            ]
          },
          "metadata": {
            "tags": []
          },
          "execution_count": 84
        }
      ]
    },
    {
      "cell_type": "markdown",
      "metadata": {
        "id": "gNQlXnqJmWGo"
      },
      "source": [
        "Print the power consumption of the golden_cluster and we can see the results are reasonable"
      ]
    },
    {
      "cell_type": "code",
      "metadata": {
        "colab": {
          "base_uri": "https://localhost:8080/",
          "height": 297
        },
        "id": "t372IQTqmVhc",
        "outputId": "f6e8971a-1f3b-4086-d222-a40a7a17f64c"
      },
      "source": [
        "apts = golden_cluster['apt'].to_numpy()\n",
        "golden_df = stats[stats.apt.isin(apts)]\n",
        "golden_df"
      ],
      "execution_count": 85,
      "outputs": [
        {
          "output_type": "execute_result",
          "data": {
            "text/html": [
              "<div>\n",
              "<style scoped>\n",
              "    .dataframe tbody tr th:only-of-type {\n",
              "        vertical-align: middle;\n",
              "    }\n",
              "\n",
              "    .dataframe tbody tr th {\n",
              "        vertical-align: top;\n",
              "    }\n",
              "\n",
              "    .dataframe thead th {\n",
              "        text-align: right;\n",
              "    }\n",
              "</style>\n",
              "<table border=\"1\" class=\"dataframe\">\n",
              "  <thead>\n",
              "    <tr style=\"text-align: right;\">\n",
              "      <th></th>\n",
              "      <th>apt</th>\n",
              "      <th>sum_2014</th>\n",
              "      <th>sum_2015</th>\n",
              "      <th>sum_2016</th>\n",
              "      <th>inc_2015</th>\n",
              "      <th>inc_2016</th>\n",
              "      <th>avg_years</th>\n",
              "      <th>var_years</th>\n",
              "    </tr>\n",
              "  </thead>\n",
              "  <tbody>\n",
              "    <tr>\n",
              "      <th>7</th>\n",
              "      <td>8</td>\n",
              "      <td>3557.161673</td>\n",
              "      <td>5076.478927</td>\n",
              "      <td>7480.335970</td>\n",
              "      <td>0.427115</td>\n",
              "      <td>0.473528</td>\n",
              "      <td>0.450322</td>\n",
              "      <td>0.000539</td>\n",
              "    </tr>\n",
              "    <tr>\n",
              "      <th>15</th>\n",
              "      <td>16</td>\n",
              "      <td>2344.647626</td>\n",
              "      <td>3843.603452</td>\n",
              "      <td>4912.931646</td>\n",
              "      <td>0.639310</td>\n",
              "      <td>0.278210</td>\n",
              "      <td>0.458760</td>\n",
              "      <td>0.032598</td>\n",
              "    </tr>\n",
              "    <tr>\n",
              "      <th>34</th>\n",
              "      <td>35</td>\n",
              "      <td>1746.730537</td>\n",
              "      <td>2606.821325</td>\n",
              "      <td>3077.445859</td>\n",
              "      <td>0.492400</td>\n",
              "      <td>0.180536</td>\n",
              "      <td>0.336468</td>\n",
              "      <td>0.024315</td>\n",
              "    </tr>\n",
              "    <tr>\n",
              "      <th>38</th>\n",
              "      <td>39</td>\n",
              "      <td>3650.271381</td>\n",
              "      <td>5874.499687</td>\n",
              "      <td>6903.899063</td>\n",
              "      <td>0.609332</td>\n",
              "      <td>0.175232</td>\n",
              "      <td>0.392282</td>\n",
              "      <td>0.047111</td>\n",
              "    </tr>\n",
              "    <tr>\n",
              "      <th>46</th>\n",
              "      <td>47</td>\n",
              "      <td>1896.749811</td>\n",
              "      <td>2789.400456</td>\n",
              "      <td>3879.833077</td>\n",
              "      <td>0.470621</td>\n",
              "      <td>0.390920</td>\n",
              "      <td>0.430771</td>\n",
              "      <td>0.001588</td>\n",
              "    </tr>\n",
              "    <tr>\n",
              "      <th>65</th>\n",
              "      <td>66</td>\n",
              "      <td>2646.359887</td>\n",
              "      <td>3803.466287</td>\n",
              "      <td>5137.886077</td>\n",
              "      <td>0.437245</td>\n",
              "      <td>0.350843</td>\n",
              "      <td>0.394044</td>\n",
              "      <td>0.001866</td>\n",
              "    </tr>\n",
              "    <tr>\n",
              "      <th>71</th>\n",
              "      <td>72</td>\n",
              "      <td>2512.914941</td>\n",
              "      <td>4009.097852</td>\n",
              "      <td>4468.561013</td>\n",
              "      <td>0.595397</td>\n",
              "      <td>0.114605</td>\n",
              "      <td>0.355001</td>\n",
              "      <td>0.057790</td>\n",
              "    </tr>\n",
              "    <tr>\n",
              "      <th>103</th>\n",
              "      <td>104</td>\n",
              "      <td>2774.087567</td>\n",
              "      <td>3191.609382</td>\n",
              "      <td>4935.994652</td>\n",
              "      <td>0.150508</td>\n",
              "      <td>0.546553</td>\n",
              "      <td>0.348531</td>\n",
              "      <td>0.039213</td>\n",
              "    </tr>\n",
              "  </tbody>\n",
              "</table>\n",
              "</div>"
            ],
            "text/plain": [
              "     apt     sum_2014     sum_2015  ...  inc_2016  avg_years  var_years\n",
              "7      8  3557.161673  5076.478927  ...  0.473528   0.450322   0.000539\n",
              "15    16  2344.647626  3843.603452  ...  0.278210   0.458760   0.032598\n",
              "34    35  1746.730537  2606.821325  ...  0.180536   0.336468   0.024315\n",
              "38    39  3650.271381  5874.499687  ...  0.175232   0.392282   0.047111\n",
              "46    47  1896.749811  2789.400456  ...  0.390920   0.430771   0.001588\n",
              "65    66  2646.359887  3803.466287  ...  0.350843   0.394044   0.001866\n",
              "71    72  2512.914941  4009.097852  ...  0.114605   0.355001   0.057790\n",
              "103  104  2774.087567  3191.609382  ...  0.546553   0.348531   0.039213\n",
              "\n",
              "[8 rows x 8 columns]"
            ]
          },
          "metadata": {
            "tags": []
          },
          "execution_count": 85
        }
      ]
    }
  ]
}