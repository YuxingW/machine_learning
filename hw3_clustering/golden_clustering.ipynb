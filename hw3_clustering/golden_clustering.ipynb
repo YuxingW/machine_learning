{
  "nbformat": 4,
  "nbformat_minor": 0,
  "metadata": {
    "colab": {
      "name": "golden_clustering_2.ipynb",
      "provenance": [],
      "collapsed_sections": [],
      "authorship_tag": "ABX9TyM898MGo6YjmITD6LxsZEVe",
      "include_colab_link": true
    },
    "kernelspec": {
      "name": "python3",
      "display_name": "Python 3"
    }
  },
  "cells": [
    {
      "cell_type": "markdown",
      "metadata": {
        "id": "view-in-github",
        "colab_type": "text"
      },
      "source": [
        "<a href=\"https://colab.research.google.com/github/YuxingW/machine_learning/blob/main/hw3_clustering/golden_clustering.ipynb\" target=\"_parent\"><img src=\"https://colab.research.google.com/assets/colab-badge.svg\" alt=\"Open In Colab\"/></a>"
      ]
    },
    {
      "cell_type": "markdown",
      "metadata": {
        "id": "k2FtSFBn0W6c"
      },
      "source": [
        "### What is the story\n",
        "\n",
        "For power supply company and electronics manufacturers, they can be interested in finding the customers whose power consumptions stably increase every year. <br />\n",
        "This note book is to find these customers/apartments as a golden cluster based on the dataset and objective functions: <br />\n",
        "Dataset<br />\n",
        "&nbsp;  &nbsp; &nbsp; 114 apartments yearly power consumption in 2014-2016<br />\n",
        "\n",
        "Objective fuctions<br />\n",
        "  1. Average yearly incremental rate of power consumption is high<br />\n",
        "  2. Variance among yearly incremental rate is low<br />\n",
        "We are going to use fractal clustering to find the golden cluster. <br />\n",
        "Reference of fractal clustering: <br />\n",
        "https://github.com/ttimong/blog-posts/blob/master/blog1-kmeans-clustering/final_model.ipynb"
      ]
    },
    {
      "cell_type": "code",
      "metadata": {
        "id": "GCd5PqpMHKFb"
      },
      "source": [
        "import requests\n",
        "import numpy as np\n",
        "import pandas as pd\n",
        "import tensorflow as tf\n",
        "import seaborn as sns\n",
        "import matplotlib.pyplot as plt\n",
        "from sklearn.tree import DecisionTreeClassifier\n",
        "from sklearn.metrics import silhouette_samples, silhouette_score\n",
        "from sklearn.model_selection import train_test_split\n",
        "from io import BytesIO"
      ],
      "execution_count": 83,
      "outputs": []
    },
    {
      "cell_type": "markdown",
      "metadata": {
        "id": "ineTmZcEHTg_"
      },
      "source": [
        "Load the dataset which has aggregated the power consumption data of 114 apartments to yearly basis."
      ]
    },
    {
      "cell_type": "code",
      "metadata": {
        "colab": {
          "base_uri": "https://localhost:8080/",
          "height": 204
        },
        "id": "WGlLAUwcHNgf",
        "outputId": "cb15ff9e-bf03-40f5-fc76-9b8c818c0294"
      },
      "source": [
        "train_url = 'https://docs.google.com/spreadsheets/d/e/2PACX-1vR1nVAmd-QzKndd59vv-bphAPo9KPX7mRXuTsrWP1jCF1zYg9oQljGFV6Lof8pUsJPkCOegPSWWFReW/pub?output=csv'\n",
        "r = requests.get(train_url)\n",
        "data = r.content\n",
        "stats = pd.read_csv(BytesIO(data))\n",
        "stats.head()"
      ],
      "execution_count": 119,
      "outputs": [
        {
          "output_type": "execute_result",
          "data": {
            "text/html": [
              "<div>\n",
              "<style scoped>\n",
              "    .dataframe tbody tr th:only-of-type {\n",
              "        vertical-align: middle;\n",
              "    }\n",
              "\n",
              "    .dataframe tbody tr th {\n",
              "        vertical-align: top;\n",
              "    }\n",
              "\n",
              "    .dataframe thead th {\n",
              "        text-align: right;\n",
              "    }\n",
              "</style>\n",
              "<table border=\"1\" class=\"dataframe\">\n",
              "  <thead>\n",
              "    <tr style=\"text-align: right;\">\n",
              "      <th></th>\n",
              "      <th>apt</th>\n",
              "      <th>sum_2014</th>\n",
              "      <th>sum_2015</th>\n",
              "      <th>sum_2016</th>\n",
              "    </tr>\n",
              "  </thead>\n",
              "  <tbody>\n",
              "    <tr>\n",
              "      <th>0</th>\n",
              "      <td>1</td>\n",
              "      <td>2459.677764</td>\n",
              "      <td>3975.893503</td>\n",
              "      <td>4173.596942</td>\n",
              "    </tr>\n",
              "    <tr>\n",
              "      <th>1</th>\n",
              "      <td>2</td>\n",
              "      <td>3644.218922</td>\n",
              "      <td>5346.137168</td>\n",
              "      <td>5809.360482</td>\n",
              "    </tr>\n",
              "    <tr>\n",
              "      <th>2</th>\n",
              "      <td>3</td>\n",
              "      <td>1.216667</td>\n",
              "      <td>1966.595428</td>\n",
              "      <td>4882.375903</td>\n",
              "    </tr>\n",
              "    <tr>\n",
              "      <th>3</th>\n",
              "      <td>4</td>\n",
              "      <td>2516.462672</td>\n",
              "      <td>2912.109103</td>\n",
              "      <td>1823.633984</td>\n",
              "    </tr>\n",
              "    <tr>\n",
              "      <th>4</th>\n",
              "      <td>5</td>\n",
              "      <td>3917.460015</td>\n",
              "      <td>4776.046606</td>\n",
              "      <td>4204.387063</td>\n",
              "    </tr>\n",
              "  </tbody>\n",
              "</table>\n",
              "</div>"
            ],
            "text/plain": [
              "   apt     sum_2014     sum_2015     sum_2016\n",
              "0    1  2459.677764  3975.893503  4173.596942\n",
              "1    2  3644.218922  5346.137168  5809.360482\n",
              "2    3     1.216667  1966.595428  4882.375903\n",
              "3    4  2516.462672  2912.109103  1823.633984\n",
              "4    5  3917.460015  4776.046606  4204.387063"
            ]
          },
          "metadata": {
            "tags": []
          },
          "execution_count": 119
        }
      ]
    },
    {
      "cell_type": "markdown",
      "metadata": {
        "id": "PAUcycN9HuWY"
      },
      "source": [
        "### Data preprosessing\n",
        "Get 114 apartments overall yearly average power consumption"
      ]
    },
    {
      "cell_type": "code",
      "metadata": {
        "colab": {
          "base_uri": "https://localhost:8080/"
        },
        "id": "eK9G3J9KHufk",
        "outputId": "ce8c95b2-6425-4141-dc8e-ae328ba87734"
      },
      "source": [
        "avg_2014 = stats['sum_2014'].to_numpy().sum()/114\n",
        "avg_2015 = stats['sum_2015'].to_numpy().sum()/114\n",
        "avg_2016 = stats['sum_2016'].to_numpy().sum()/114\n",
        "print('avg_2014: %s avg_2015: %s avg_2016: %s' % (avg_2014, avg_2015, avg_2016))"
      ],
      "execution_count": 120,
      "outputs": [
        {
          "output_type": "stream",
          "text": [
            "avg_2014: 2595.3284100206315 avg_2015: 4638.032251017544 avg_2016: 4592.061797868421\n"
          ],
          "name": "stdout"
        }
      ]
    },
    {
      "cell_type": "markdown",
      "metadata": {
        "id": "aEbyY4uFNSQP"
      },
      "source": [
        "Fill overall average power consumption data for apartments that do not have any sensor data in 2014"
      ]
    },
    {
      "cell_type": "code",
      "metadata": {
        "colab": {
          "base_uri": "https://localhost:8080/",
          "height": 204
        },
        "id": "vDRUcqSzNSaT",
        "outputId": "314adb6a-1f3a-4661-eddf-9d388180cb92"
      },
      "source": [
        "def set_avg(x):\n",
        "  return x if x > 2 else avg_2014\n",
        "\n",
        "stats['sum_2014'] = stats['sum_2014'].apply(set_avg)\n",
        "stats.head()"
      ],
      "execution_count": 121,
      "outputs": [
        {
          "output_type": "execute_result",
          "data": {
            "text/html": [
              "<div>\n",
              "<style scoped>\n",
              "    .dataframe tbody tr th:only-of-type {\n",
              "        vertical-align: middle;\n",
              "    }\n",
              "\n",
              "    .dataframe tbody tr th {\n",
              "        vertical-align: top;\n",
              "    }\n",
              "\n",
              "    .dataframe thead th {\n",
              "        text-align: right;\n",
              "    }\n",
              "</style>\n",
              "<table border=\"1\" class=\"dataframe\">\n",
              "  <thead>\n",
              "    <tr style=\"text-align: right;\">\n",
              "      <th></th>\n",
              "      <th>apt</th>\n",
              "      <th>sum_2014</th>\n",
              "      <th>sum_2015</th>\n",
              "      <th>sum_2016</th>\n",
              "    </tr>\n",
              "  </thead>\n",
              "  <tbody>\n",
              "    <tr>\n",
              "      <th>0</th>\n",
              "      <td>1</td>\n",
              "      <td>2459.677764</td>\n",
              "      <td>3975.893503</td>\n",
              "      <td>4173.596942</td>\n",
              "    </tr>\n",
              "    <tr>\n",
              "      <th>1</th>\n",
              "      <td>2</td>\n",
              "      <td>3644.218922</td>\n",
              "      <td>5346.137168</td>\n",
              "      <td>5809.360482</td>\n",
              "    </tr>\n",
              "    <tr>\n",
              "      <th>2</th>\n",
              "      <td>3</td>\n",
              "      <td>2595.328410</td>\n",
              "      <td>1966.595428</td>\n",
              "      <td>4882.375903</td>\n",
              "    </tr>\n",
              "    <tr>\n",
              "      <th>3</th>\n",
              "      <td>4</td>\n",
              "      <td>2516.462672</td>\n",
              "      <td>2912.109103</td>\n",
              "      <td>1823.633984</td>\n",
              "    </tr>\n",
              "    <tr>\n",
              "      <th>4</th>\n",
              "      <td>5</td>\n",
              "      <td>3917.460015</td>\n",
              "      <td>4776.046606</td>\n",
              "      <td>4204.387063</td>\n",
              "    </tr>\n",
              "  </tbody>\n",
              "</table>\n",
              "</div>"
            ],
            "text/plain": [
              "   apt     sum_2014     sum_2015     sum_2016\n",
              "0    1  2459.677764  3975.893503  4173.596942\n",
              "1    2  3644.218922  5346.137168  5809.360482\n",
              "2    3  2595.328410  1966.595428  4882.375903\n",
              "3    4  2516.462672  2912.109103  1823.633984\n",
              "4    5  3917.460015  4776.046606  4204.387063"
            ]
          },
          "metadata": {
            "tags": []
          },
          "execution_count": 121
        }
      ]
    },
    {
      "cell_type": "markdown",
      "metadata": {
        "id": "XT0vS0HAJtoQ"
      },
      "source": [
        "### Created interested composite features\n",
        "inc_2015: increment rate of power consuption from 2014 to 2015 <br />\n",
        "inc_2016: increment rate of power consuption from 2015 to 2016 <br />\n",
        "avg_years: average increment rate of power consuption from 2014 to 2016 <br />\n",
        "var_years: variance of increment rates from 2014 to 2016"
      ]
    },
    {
      "cell_type": "code",
      "metadata": {
        "colab": {
          "base_uri": "https://localhost:8080/",
          "height": 204
        },
        "id": "RyHHXRHWJtyM",
        "outputId": "8e195c04-12ce-4b99-8f3d-6e2999423ccd"
      },
      "source": [
        "extra_feats = {\n",
        "     'inc_2015': lambda x: np.true_divide(x['sum_2015']-x['sum_2014'], x['sum_2014']),\n",
        "     'inc_2016': lambda x: np.true_divide(x['sum_2016']-x['sum_2015'], x['sum_2015']),\n",
        "     'avg_years': lambda x: np.true_divide(x['inc_2015']+x['inc_2016'], 2),\n",
        "     'var_years': lambda x: np.true_divide((x['inc_2015']-x['avg_years'])**2 \\\n",
        "                                        + (x['inc_2016']-x['avg_years'])**2, 2)\n",
        "}\n",
        "stats = stats.assign(**extra_feats)\n",
        "\n",
        "stats.head()"
      ],
      "execution_count": 122,
      "outputs": [
        {
          "output_type": "execute_result",
          "data": {
            "text/html": [
              "<div>\n",
              "<style scoped>\n",
              "    .dataframe tbody tr th:only-of-type {\n",
              "        vertical-align: middle;\n",
              "    }\n",
              "\n",
              "    .dataframe tbody tr th {\n",
              "        vertical-align: top;\n",
              "    }\n",
              "\n",
              "    .dataframe thead th {\n",
              "        text-align: right;\n",
              "    }\n",
              "</style>\n",
              "<table border=\"1\" class=\"dataframe\">\n",
              "  <thead>\n",
              "    <tr style=\"text-align: right;\">\n",
              "      <th></th>\n",
              "      <th>apt</th>\n",
              "      <th>sum_2014</th>\n",
              "      <th>sum_2015</th>\n",
              "      <th>sum_2016</th>\n",
              "      <th>inc_2015</th>\n",
              "      <th>inc_2016</th>\n",
              "      <th>avg_years</th>\n",
              "      <th>var_years</th>\n",
              "    </tr>\n",
              "  </thead>\n",
              "  <tbody>\n",
              "    <tr>\n",
              "      <th>0</th>\n",
              "      <td>1</td>\n",
              "      <td>2459.677764</td>\n",
              "      <td>3975.893503</td>\n",
              "      <td>4173.596942</td>\n",
              "      <td>0.616429</td>\n",
              "      <td>0.049726</td>\n",
              "      <td>0.333077</td>\n",
              "      <td>0.080288</td>\n",
              "    </tr>\n",
              "    <tr>\n",
              "      <th>1</th>\n",
              "      <td>2</td>\n",
              "      <td>3644.218922</td>\n",
              "      <td>5346.137168</td>\n",
              "      <td>5809.360482</td>\n",
              "      <td>0.467019</td>\n",
              "      <td>0.086646</td>\n",
              "      <td>0.276833</td>\n",
              "      <td>0.036171</td>\n",
              "    </tr>\n",
              "    <tr>\n",
              "      <th>2</th>\n",
              "      <td>3</td>\n",
              "      <td>2595.328410</td>\n",
              "      <td>1966.595428</td>\n",
              "      <td>4882.375903</td>\n",
              "      <td>-0.242256</td>\n",
              "      <td>1.482654</td>\n",
              "      <td>0.620199</td>\n",
              "      <td>0.743828</td>\n",
              "    </tr>\n",
              "    <tr>\n",
              "      <th>3</th>\n",
              "      <td>4</td>\n",
              "      <td>2516.462672</td>\n",
              "      <td>2912.109103</td>\n",
              "      <td>1823.633984</td>\n",
              "      <td>0.157223</td>\n",
              "      <td>-0.373776</td>\n",
              "      <td>-0.108276</td>\n",
              "      <td>0.070490</td>\n",
              "    </tr>\n",
              "    <tr>\n",
              "      <th>4</th>\n",
              "      <td>5</td>\n",
              "      <td>3917.460015</td>\n",
              "      <td>4776.046606</td>\n",
              "      <td>4204.387063</td>\n",
              "      <td>0.219169</td>\n",
              "      <td>-0.119693</td>\n",
              "      <td>0.049738</td>\n",
              "      <td>0.028707</td>\n",
              "    </tr>\n",
              "  </tbody>\n",
              "</table>\n",
              "</div>"
            ],
            "text/plain": [
              "   apt     sum_2014     sum_2015  ...  inc_2016  avg_years  var_years\n",
              "0    1  2459.677764  3975.893503  ...  0.049726   0.333077   0.080288\n",
              "1    2  3644.218922  5346.137168  ...  0.086646   0.276833   0.036171\n",
              "2    3  2595.328410  1966.595428  ...  1.482654   0.620199   0.743828\n",
              "3    4  2516.462672  2912.109103  ... -0.373776  -0.108276   0.070490\n",
              "4    5  3917.460015  4776.046606  ... -0.119693   0.049738   0.028707\n",
              "\n",
              "[5 rows x 8 columns]"
            ]
          },
          "metadata": {
            "tags": []
          },
          "execution_count": 122
        }
      ]
    },
    {
      "cell_type": "markdown",
      "metadata": {
        "id": "xhq9s2OHOrBk"
      },
      "source": [
        "### Fractal clustering\n",
        "Clustering apartments based on each of them average increment and variance over years. <br />\n",
        "\n",
        "Plot SSE and silhouette score by KMean clustering with different clusters."
      ]
    },
    {
      "cell_type": "code",
      "metadata": {
        "colab": {
          "base_uri": "https://localhost:8080/"
        },
        "id": "Osw6ewgZOrJx",
        "outputId": "52985cec-24bf-48c4-80d4-a2eb2b5bb7bb"
      },
      "source": [
        "df_main = stats[['apt', 'avg_years', 'var_years']]\n",
        "df_main.info()"
      ],
      "execution_count": 88,
      "outputs": [
        {
          "output_type": "stream",
          "text": [
            "<class 'pandas.core.frame.DataFrame'>\n",
            "RangeIndex: 114 entries, 0 to 113\n",
            "Data columns (total 3 columns):\n",
            " #   Column     Non-Null Count  Dtype  \n",
            "---  ------     --------------  -----  \n",
            " 0   apt        114 non-null    int64  \n",
            " 1   avg_years  114 non-null    float64\n",
            " 2   var_years  114 non-null    float64\n",
            "dtypes: float64(2), int64(1)\n",
            "memory usage: 2.8 KB\n"
          ],
          "name": "stdout"
        }
      ]
    },
    {
      "cell_type": "code",
      "metadata": {
        "id": "-i2cA891QZ2M"
      },
      "source": [
        "from sklearn.preprocessing import RobustScaler\n",
        "from sklearn.cluster import KMeans\n",
        "from sklearn import metrics"
      ],
      "execution_count": 89,
      "outputs": []
    },
    {
      "cell_type": "code",
      "metadata": {
        "id": "n9dDpQUpQbF9"
      },
      "source": [
        "def plot_cluster(df, max_loop=50):\n",
        "    \"\"\"\n",
        "    Looking at the performance of various number of clusters using K-Means.\n",
        "    Performance is evaluated by within cluster SSE and silhouette score.\n",
        "    \"\"\"\n",
        "    try:\n",
        "        df.drop('cluster', axis=1, inplace=True)\n",
        "    except:\n",
        "        next\n",
        "    X = df.iloc[:,1:]\n",
        "    \n",
        "    # robust scaling is used so that the centering and scaling statistics are therefore not influenced by a few number of very large marginal outliers as they are based on percentiles\n",
        "    rb = RobustScaler()\n",
        "    X_rb = rb.fit_transform(X)\n",
        "    \n",
        "    sse_within_cluster = {}\n",
        "    silhouette_score = {}\n",
        "    \n",
        "    for k in range(2, max_loop):\n",
        "        kmeans = KMeans(n_clusters=k,  random_state=10, n_init=10, n_jobs=-1)\n",
        "        kmeans.fit(X_rb)\n",
        "        sse_within_cluster[k] = kmeans.inertia_\n",
        "        silhouette_score[k] = metrics.silhouette_score(X_rb, kmeans.labels_, random_state=10)\n",
        "\n",
        "    _ = plt.figure(figsize=(10,6))\n",
        "    ax1 = plt.subplot(211)\n",
        "    _ = plt.plot(list(sse_within_cluster.keys()), list(sse_within_cluster.values()))\n",
        "    _ = plt.xlabel(\"Number of Clusters\")\n",
        "    _ = plt.ylabel(\"SSE Within Cluster\")\n",
        "    _ = plt.title(\"Within Cluster SSE After K-Means Clustering\")\n",
        "    _ = plt.xticks([i for i in range(2, max_loop)], rotation=75)\n",
        "    \n",
        "    ax2 = plt.subplot(212)\n",
        "    _ = plt.plot(list(silhouette_score.keys()), list(silhouette_score.values()))\n",
        "    _ = plt.xlabel(\"Number of Clusters\")\n",
        "    _ = plt.ylabel(\"Silhouette Score\")\n",
        "    _ = plt.title(\"Silhouette Score After K-Means Clustering\")\n",
        "    _ = plt.xticks([i for i in range(2, max_loop)], rotation=75)\n",
        "    \n",
        "    plt.subplots_adjust(top=0.92, bottom=0.08, left=0.10, right=0.95, hspace=0.5, wspace=0.35)"
      ],
      "execution_count": 90,
      "outputs": []
    },
    {
      "cell_type": "code",
      "metadata": {
        "colab": {
          "base_uri": "https://localhost:8080/",
          "height": 446
        },
        "id": "gEdYoAcDQmmx",
        "outputId": "c677b30b-d4e9-46da-9bd4-2c06862b2428"
      },
      "source": [
        "plot_cluster(df_main, max_loop=25)"
      ],
      "execution_count": 91,
      "outputs": [
        {
          "output_type": "display_data",
          "data": {
            "image/png": "[encoded data removed]",
            "text/plain": [
              "<Figure size 720x432 with 2 Axes>"
            ]
          },
          "metadata": {
            "tags": [],
            "needs_background": "light"
          }
        }
      ]
    },
    {
      "cell_type": "markdown",
      "metadata": {
        "id": "vuTgkc1VRUbR"
      },
      "source": [
        "Note the drop in sihouette score is quite significant between 3 clusters and 4 clusters, I would use 3 clusters in my K-Means model below."
      ]
    },
    {
      "cell_type": "code",
      "metadata": {
        "id": "Jn2R6ylpRUkA"
      },
      "source": [
        "def apply_cluster(df, clusters=2):\n",
        "    \"\"\"\n",
        "    Applying K-Means with the optimal number of clusters identified\n",
        "    \"\"\"\n",
        "    try:\n",
        "        df.drop('cluster', axis=1, inplace=True)\n",
        "    except:\n",
        "        next\n",
        "    X = df.iloc[:,1:]\n",
        "    rb = RobustScaler()\n",
        "    X_rb = rb.fit_transform(X)\n",
        "    kmeans = KMeans(n_clusters=clusters, random_state=10, n_init=10, n_jobs=-1)  \n",
        "    kmeans.fit(X_rb) \n",
        "    score = metrics.silhouette_score(X_rb, kmeans.labels_, random_state=10)\n",
        "    df['cluster'] = kmeans.labels_\n",
        "    sse_within_cluster = kmeans.inertia_\n",
        "    \n",
        "    print(\"clustering performance\")\n",
        "    print(\"-----------------------------------\")\n",
        "    print(\"silhouette score: \" + str(score.round(2)))\n",
        "    print(\"sse withing cluster: \" + str(sse_within_cluster.round()))\n",
        "    \n",
        "    return df, kmeans\n"
      ],
      "execution_count": 53,
      "outputs": []
    },
    {
      "cell_type": "code",
      "metadata": {
        "colab": {
          "base_uri": "https://localhost:8080/"
        },
        "id": "QuJ8lFO7R7qu",
        "outputId": "6686da53-d29c-4582-c3b6-2a8ed46d93ea"
      },
      "source": [
        "first_trial, kmeans = apply_cluster(df_main, clusters=3)"
      ],
      "execution_count": 95,
      "outputs": [
        {
          "output_type": "stream",
          "text": [
            "clustering performance\n",
            "-----------------------------------\n",
            "silhouette score: 0.98\n",
            "sse withing cluster: 587.0\n"
          ],
          "name": "stdout"
        },
        {
          "output_type": "stream",
          "text": [
            "/usr/local/lib/python3.7/dist-packages/pandas/core/frame.py:4174: SettingWithCopyWarning: \n",
            "A value is trying to be set on a copy of a slice from a DataFrame\n",
            "\n",
            "See the caveats in the documentation: https://pandas.pydata.org/pandas-docs/stable/user_guide/indexing.html#returning-a-view-versus-a-copy\n",
            "  errors=errors,\n",
            "/usr/local/lib/python3.7/dist-packages/ipykernel_launcher.py:15: SettingWithCopyWarning: \n",
            "A value is trying to be set on a copy of a slice from a DataFrame.\n",
            "Try using .loc[row_indexer,col_indexer] = value instead\n",
            "\n",
            "See the caveats in the documentation: https://pandas.pydata.org/pandas-docs/stable/user_guide/indexing.html#returning-a-view-versus-a-copy\n",
            "  from ipykernel import kernelapp as app\n"
          ],
          "name": "stderr"
        }
      ]
    },
    {
      "cell_type": "markdown",
      "metadata": {
        "id": "SDsGN4Y-WVqR"
      },
      "source": [
        "Plot the KMean clustering distribution"
      ]
    },
    {
      "cell_type": "code",
      "metadata": {
        "id": "DKUCgvfKWVzF"
      },
      "source": [
        "def plot_kmean(df, kmeans):\n",
        "  df_c = df.drop(columns=['apt'])\n",
        "  X = df_c[0:].values\n",
        "  plt.scatter(X[:, 0], X[:, 1], c=kmeans.labels_, s=30, cmap='viridis')\n",
        "  plt.scatter(kmeans.cluster_centers_[:, 0], kmeans.cluster_centers_[:, 1], s=300, c='yellow', label = 'Centroids')\n",
        "  plt.show()"
      ],
      "execution_count": 102,
      "outputs": []
    },
    {
      "cell_type": "code",
      "metadata": {
        "colab": {
          "base_uri": "https://localhost:8080/",
          "height": 265
        },
        "id": "Njd3egSoWstV",
        "outputId": "f4d791e3-1752-4a41-efea-44e627b826d2"
      },
      "source": [
        "plot_kmean(df_main, kmeans)"
      ],
      "execution_count": 103,
      "outputs": [
        {
          "output_type": "display_data",
          "data": {
            "image/png": "[encoded data removed]",
            "text/plain": [
              "<Figure size 432x288 with 1 Axes>"
            ]
          },
          "metadata": {
            "tags": [],
            "needs_background": "light"
          }
        }
      ]
    },
    {
      "cell_type": "code",
      "metadata": {
        "colab": {
          "base_uri": "https://localhost:8080/",
          "height": 142
        },
        "id": "BA_7XHf1SSm7",
        "outputId": "90c58533-a3f9-4599-be2c-7161a33477a5"
      },
      "source": [
        "cluster_perf_df = (\n",
        "    first_trial\n",
        "    .groupby('cluster')\n",
        "    .agg({\"avg_years\":\"mean\", \"var_years\":\"mean\", \"apt\":\"count\"})\n",
        "    .sort_values('avg_years')\n",
        "    .reset_index()\n",
        ")\n",
        "\n",
        "cluster_perf_df"
      ],
      "execution_count": 104,
      "outputs": [
        {
          "output_type": "execute_result",
          "data": {
            "text/html": [
              "<div>\n",
              "<style scoped>\n",
              "    .dataframe tbody tr th:only-of-type {\n",
              "        vertical-align: middle;\n",
              "    }\n",
              "\n",
              "    .dataframe tbody tr th {\n",
              "        vertical-align: top;\n",
              "    }\n",
              "\n",
              "    .dataframe thead th {\n",
              "        text-align: right;\n",
              "    }\n",
              "</style>\n",
              "<table border=\"1\" class=\"dataframe\">\n",
              "  <thead>\n",
              "    <tr style=\"text-align: right;\">\n",
              "      <th></th>\n",
              "      <th>cluster</th>\n",
              "      <th>avg_years</th>\n",
              "      <th>var_years</th>\n",
              "      <th>apt</th>\n",
              "    </tr>\n",
              "  </thead>\n",
              "  <tbody>\n",
              "    <tr>\n",
              "      <th>0</th>\n",
              "      <td>0</td>\n",
              "      <td>0.434717</td>\n",
              "      <td>0.343820</td>\n",
              "      <td>112</td>\n",
              "    </tr>\n",
              "    <tr>\n",
              "      <th>1</th>\n",
              "      <td>2</td>\n",
              "      <td>16.270298</td>\n",
              "      <td>264.299082</td>\n",
              "      <td>1</td>\n",
              "    </tr>\n",
              "    <tr>\n",
              "      <th>2</th>\n",
              "      <td>1</td>\n",
              "      <td>28.457669</td>\n",
              "      <td>794.580368</td>\n",
              "      <td>1</td>\n",
              "    </tr>\n",
              "  </tbody>\n",
              "</table>\n",
              "</div>"
            ],
            "text/plain": [
              "   cluster  avg_years   var_years  apt\n",
              "0        0   0.434717    0.343820  112\n",
              "1        2  16.270298  264.299082    1\n",
              "2        1  28.457669  794.580368    1"
            ]
          },
          "metadata": {
            "tags": []
          },
          "execution_count": 104
        }
      ]
    },
    {
      "cell_type": "markdown",
      "metadata": {
        "id": "MGjxdjf5S_9t"
      },
      "source": [
        "Most of the apartments are aggregated in cluster 0. For the other clusters, we can see that the variance over years are huge.\n",
        "As cluster 0 variance is low and it contains many apartments data, I will continue to conduct another K-Means clustering on cluster 0. So, the method I am adopting is fractal clustering. <br />\n"
      ]
    },
    {
      "cell_type": "code",
      "metadata": {
        "colab": {
          "base_uri": "https://localhost:8080/",
          "height": 204
        },
        "id": "FbrIzXm8S_zW",
        "outputId": "1e21221b-c63d-4970-947e-2f659a855882"
      },
      "source": [
        "df_main_sub = df_main.query(\"cluster == 0\").reset_index(drop=True)\n",
        "df_main_sub.head()"
      ],
      "execution_count": 105,
      "outputs": [
        {
          "output_type": "execute_result",
          "data": {
            "text/html": [
              "<div>\n",
              "<style scoped>\n",
              "    .dataframe tbody tr th:only-of-type {\n",
              "        vertical-align: middle;\n",
              "    }\n",
              "\n",
              "    .dataframe tbody tr th {\n",
              "        vertical-align: top;\n",
              "    }\n",
              "\n",
              "    .dataframe thead th {\n",
              "        text-align: right;\n",
              "    }\n",
              "</style>\n",
              "<table border=\"1\" class=\"dataframe\">\n",
              "  <thead>\n",
              "    <tr style=\"text-align: right;\">\n",
              "      <th></th>\n",
              "      <th>apt</th>\n",
              "      <th>avg_years</th>\n",
              "      <th>var_years</th>\n",
              "      <th>cluster</th>\n",
              "    </tr>\n",
              "  </thead>\n",
              "  <tbody>\n",
              "    <tr>\n",
              "      <th>0</th>\n",
              "      <td>1</td>\n",
              "      <td>0.333077</td>\n",
              "      <td>0.080288</td>\n",
              "      <td>0</td>\n",
              "    </tr>\n",
              "    <tr>\n",
              "      <th>1</th>\n",
              "      <td>2</td>\n",
              "      <td>0.276833</td>\n",
              "      <td>0.036171</td>\n",
              "      <td>0</td>\n",
              "    </tr>\n",
              "    <tr>\n",
              "      <th>2</th>\n",
              "      <td>3</td>\n",
              "      <td>0.620199</td>\n",
              "      <td>0.743828</td>\n",
              "      <td>0</td>\n",
              "    </tr>\n",
              "    <tr>\n",
              "      <th>3</th>\n",
              "      <td>4</td>\n",
              "      <td>-0.108276</td>\n",
              "      <td>0.070490</td>\n",
              "      <td>0</td>\n",
              "    </tr>\n",
              "    <tr>\n",
              "      <th>4</th>\n",
              "      <td>5</td>\n",
              "      <td>0.049738</td>\n",
              "      <td>0.028707</td>\n",
              "      <td>0</td>\n",
              "    </tr>\n",
              "  </tbody>\n",
              "</table>\n",
              "</div>"
            ],
            "text/plain": [
              "   apt  avg_years  var_years  cluster\n",
              "0    1   0.333077   0.080288        0\n",
              "1    2   0.276833   0.036171        0\n",
              "2    3   0.620199   0.743828        0\n",
              "3    4  -0.108276   0.070490        0\n",
              "4    5   0.049738   0.028707        0"
            ]
          },
          "metadata": {
            "tags": []
          },
          "execution_count": 105
        }
      ]
    },
    {
      "cell_type": "code",
      "metadata": {
        "colab": {
          "base_uri": "https://localhost:8080/",
          "height": 446
        },
        "id": "cOBmpQtyTrIg",
        "outputId": "54b80133-fcdd-4f98-a455-fff14732a513"
      },
      "source": [
        "plot_cluster(df_main_sub, max_loop=25)"
      ],
      "execution_count": 106,
      "outputs": [
        {
          "output_type": "display_data",
          "data": {
            "image/png": "[encoded data removed]",
            "text/plain": [
              "<Figure size 720x432 with 2 Axes>"
            ]
          },
          "metadata": {
            "tags": [],
            "needs_background": "light"
          }
        }
      ]
    },
    {
      "cell_type": "markdown",
      "metadata": {
        "id": "8tHzbWGJU9ne"
      },
      "source": [
        "\n",
        "From the graph, Silhouette Score After K-Means Clustering, we can see that there was a significant between 4 clusters and 5 clusters, I would use 4 clusters in my K-Means model below, also it has a much lower SSE than 3 clusters."
      ]
    },
    {
      "cell_type": "code",
      "metadata": {
        "colab": {
          "base_uri": "https://localhost:8080/"
        },
        "id": "KE1RAneLU9yO",
        "outputId": "8954297e-8b54-4d6f-a406-439ef222a860"
      },
      "source": [
        "second_trial, kmeans = apply_cluster(df_main_sub, clusters=4)"
      ],
      "execution_count": 107,
      "outputs": [
        {
          "output_type": "stream",
          "text": [
            "clustering performance\n",
            "-----------------------------------\n",
            "silhouette score: 0.71\n",
            "sse withing cluster: 89.0\n"
          ],
          "name": "stdout"
        }
      ]
    },
    {
      "cell_type": "code",
      "metadata": {
        "colab": {
          "base_uri": "https://localhost:8080/",
          "height": 265
        },
        "id": "QeQsWQZUZG3x",
        "outputId": "a4d818bb-6893-4d42-f6da-d15332762c3e"
      },
      "source": [
        "plot_kmean(df_main_sub, kmeans)"
      ],
      "execution_count": 108,
      "outputs": [
        {
          "output_type": "display_data",
          "data": {
            "image/png": "[encoded data removed]",
            "text/plain": [
              "<Figure size 432x288 with 1 Axes>"
            ]
          },
          "metadata": {
            "tags": [],
            "needs_background": "light"
          }
        }
      ]
    },
    {
      "cell_type": "code",
      "metadata": {
        "colab": {
          "base_uri": "https://localhost:8080/",
          "height": 173
        },
        "id": "-U6DVT7pWXbU",
        "outputId": "33d55ef2-1590-4d47-c2a3-5cb9d03e7d0a"
      },
      "source": [
        "sub_cluster_perf_df = (\n",
        "    second_trial\n",
        "    .groupby('cluster')\n",
        "    .agg({\"avg_years\":\"mean\", \"var_years\":\"mean\", \"apt\":\"count\"})\n",
        "    .sort_values('avg_years')\n",
        "    .reset_index()\n",
        ")\n",
        "\n",
        "sub_cluster_perf_df"
      ],
      "execution_count": 109,
      "outputs": [
        {
          "output_type": "execute_result",
          "data": {
            "text/html": [
              "<div>\n",
              "<style scoped>\n",
              "    .dataframe tbody tr th:only-of-type {\n",
              "        vertical-align: middle;\n",
              "    }\n",
              "\n",
              "    .dataframe tbody tr th {\n",
              "        vertical-align: top;\n",
              "    }\n",
              "\n",
              "    .dataframe thead th {\n",
              "        text-align: right;\n",
              "    }\n",
              "</style>\n",
              "<table border=\"1\" class=\"dataframe\">\n",
              "  <thead>\n",
              "    <tr style=\"text-align: right;\">\n",
              "      <th></th>\n",
              "      <th>cluster</th>\n",
              "      <th>avg_years</th>\n",
              "      <th>var_years</th>\n",
              "      <th>apt</th>\n",
              "    </tr>\n",
              "  </thead>\n",
              "  <tbody>\n",
              "    <tr>\n",
              "      <th>0</th>\n",
              "      <td>0</td>\n",
              "      <td>0.314958</td>\n",
              "      <td>0.155301</td>\n",
              "      <td>97</td>\n",
              "    </tr>\n",
              "    <tr>\n",
              "      <th>1</th>\n",
              "      <td>1</td>\n",
              "      <td>1.013645</td>\n",
              "      <td>1.095247</td>\n",
              "      <td>11</td>\n",
              "    </tr>\n",
              "    <tr>\n",
              "      <th>2</th>\n",
              "      <td>3</td>\n",
              "      <td>1.494560</td>\n",
              "      <td>2.294581</td>\n",
              "      <td>3</td>\n",
              "    </tr>\n",
              "    <tr>\n",
              "      <th>3</th>\n",
              "      <td>2</td>\n",
              "      <td>2.503654</td>\n",
              "      <td>4.512110</td>\n",
              "      <td>1</td>\n",
              "    </tr>\n",
              "  </tbody>\n",
              "</table>\n",
              "</div>"
            ],
            "text/plain": [
              "   cluster  avg_years  var_years  apt\n",
              "0        0   0.314958   0.155301   97\n",
              "1        1   1.013645   1.095247   11\n",
              "2        3   1.494560   2.294581    3\n",
              "3        2   2.503654   4.512110    1"
            ]
          },
          "metadata": {
            "tags": []
          },
          "execution_count": 109
        }
      ]
    },
    {
      "cell_type": "markdown",
      "metadata": {
        "id": "_cpck2aCH4WU"
      },
      "source": [
        "Most of the apartments are aggregated in cluster 0. For the other clusters, we can see that the variance over years are much higher.\n",
        "As cluster 0 variance is low and it still contains many apartments data, I will continue to conduct another K-Means clustering on cluster 0."
      ]
    },
    {
      "cell_type": "code",
      "metadata": {
        "colab": {
          "base_uri": "https://localhost:8080/",
          "height": 204
        },
        "id": "8-PFpryYEVg0",
        "outputId": "17eb869e-ba6c-4c26-e9c6-39a111ca9c1a"
      },
      "source": [
        "df_main_third = df_main_sub.query(\"cluster == 0\").reset_index(drop=True)\n",
        "df_main_third.head()"
      ],
      "execution_count": 110,
      "outputs": [
        {
          "output_type": "execute_result",
          "data": {
            "text/html": [
              "<div>\n",
              "<style scoped>\n",
              "    .dataframe tbody tr th:only-of-type {\n",
              "        vertical-align: middle;\n",
              "    }\n",
              "\n",
              "    .dataframe tbody tr th {\n",
              "        vertical-align: top;\n",
              "    }\n",
              "\n",
              "    .dataframe thead th {\n",
              "        text-align: right;\n",
              "    }\n",
              "</style>\n",
              "<table border=\"1\" class=\"dataframe\">\n",
              "  <thead>\n",
              "    <tr style=\"text-align: right;\">\n",
              "      <th></th>\n",
              "      <th>apt</th>\n",
              "      <th>avg_years</th>\n",
              "      <th>var_years</th>\n",
              "      <th>cluster</th>\n",
              "    </tr>\n",
              "  </thead>\n",
              "  <tbody>\n",
              "    <tr>\n",
              "      <th>0</th>\n",
              "      <td>1</td>\n",
              "      <td>0.333077</td>\n",
              "      <td>0.080288</td>\n",
              "      <td>0</td>\n",
              "    </tr>\n",
              "    <tr>\n",
              "      <th>1</th>\n",
              "      <td>2</td>\n",
              "      <td>0.276833</td>\n",
              "      <td>0.036171</td>\n",
              "      <td>0</td>\n",
              "    </tr>\n",
              "    <tr>\n",
              "      <th>2</th>\n",
              "      <td>4</td>\n",
              "      <td>-0.108276</td>\n",
              "      <td>0.070490</td>\n",
              "      <td>0</td>\n",
              "    </tr>\n",
              "    <tr>\n",
              "      <th>3</th>\n",
              "      <td>5</td>\n",
              "      <td>0.049738</td>\n",
              "      <td>0.028707</td>\n",
              "      <td>0</td>\n",
              "    </tr>\n",
              "    <tr>\n",
              "      <th>4</th>\n",
              "      <td>6</td>\n",
              "      <td>0.499714</td>\n",
              "      <td>0.132583</td>\n",
              "      <td>0</td>\n",
              "    </tr>\n",
              "  </tbody>\n",
              "</table>\n",
              "</div>"
            ],
            "text/plain": [
              "   apt  avg_years  var_years  cluster\n",
              "0    1   0.333077   0.080288        0\n",
              "1    2   0.276833   0.036171        0\n",
              "2    4  -0.108276   0.070490        0\n",
              "3    5   0.049738   0.028707        0\n",
              "4    6   0.499714   0.132583        0"
            ]
          },
          "metadata": {
            "tags": []
          },
          "execution_count": 110
        }
      ]
    },
    {
      "cell_type": "markdown",
      "metadata": {
        "id": "xYmw7HZcH9kM"
      },
      "source": [
        "\n",
        "Plot the clustering attempts and see SSE and Silhouette score"
      ]
    },
    {
      "cell_type": "code",
      "metadata": {
        "colab": {
          "base_uri": "https://localhost:8080/",
          "height": 446
        },
        "id": "T0YQ6j5tEV6B",
        "outputId": "26349c01-f271-49ef-91e7-ed8b8874c97e"
      },
      "source": [
        "plot_cluster(df_main_third, max_loop=25)"
      ],
      "execution_count": 111,
      "outputs": [
        {
          "output_type": "display_data",
          "data": {
            "image/png": "[encoded data removed]",
            "text/plain": [
              "<Figure size 720x432 with 2 Axes>"
            ]
          },
          "metadata": {
            "tags": [],
            "needs_background": "light"
          }
        }
      ]
    },
    {
      "cell_type": "markdown",
      "metadata": {
        "id": "Y7aXkWx7H-q3"
      },
      "source": [
        "From the graph, to pick low SSE and high Silhouette score for a good clustering, I would use 14 clusters in my K-Means model below"
      ]
    },
    {
      "cell_type": "code",
      "metadata": {
        "colab": {
          "base_uri": "https://localhost:8080/"
        },
        "id": "Yc1K5_vcEWC-",
        "outputId": "f8f3f19e-ed79-475b-ee8b-281ad29c7df9"
      },
      "source": [
        "third_trial, kmeans = apply_cluster(df_main_third, clusters=14)"
      ],
      "execution_count": 112,
      "outputs": [
        {
          "output_type": "stream",
          "text": [
            "clustering performance\n",
            "-----------------------------------\n",
            "silhouette score: 0.44\n",
            "sse withing cluster: 5.0\n"
          ],
          "name": "stdout"
        }
      ]
    },
    {
      "cell_type": "code",
      "metadata": {
        "colab": {
          "base_uri": "https://localhost:8080/",
          "height": 265
        },
        "id": "Ju4r6RhiZYFZ",
        "outputId": "bfa42b09-e0bc-4fb0-ab2a-0db927fa5aab"
      },
      "source": [
        "plot_kmean(df_main_third, kmeans)"
      ],
      "execution_count": 113,
      "outputs": [
        {
          "output_type": "display_data",
          "data": {
            "image/png": "[encoded data removed]",
            "text/plain": [
              "<Figure size 432x288 with 1 Axes>"
            ]
          },
          "metadata": {
            "tags": [],
            "needs_background": "light"
          }
        }
      ]
    },
    {
      "cell_type": "markdown",
      "metadata": {
        "id": "ShZRcOr1H_9t"
      },
      "source": [
        "See the performance of the third trial"
      ]
    },
    {
      "cell_type": "code",
      "metadata": {
        "colab": {
          "base_uri": "https://localhost:8080/",
          "height": 483
        },
        "id": "kvXs562eEVwt",
        "outputId": "ba64e6f6-e70a-4cd3-9f6c-22902e8c3832"
      },
      "source": [
        "sub_cluster_perf_df = (\n",
        "    third_trial\n",
        "    .groupby('cluster')\n",
        "    .agg({\"avg_years\":\"mean\", \"var_years\":\"mean\", \"apt\":\"count\"})\n",
        "    .sort_values('avg_years')\n",
        "    .reset_index()\n",
        ")\n",
        "\n",
        "sub_cluster_perf_df"
      ],
      "execution_count": 114,
      "outputs": [
        {
          "output_type": "execute_result",
          "data": {
            "text/html": [
              "<div>\n",
              "<style scoped>\n",
              "    .dataframe tbody tr th:only-of-type {\n",
              "        vertical-align: middle;\n",
              "    }\n",
              "\n",
              "    .dataframe tbody tr th {\n",
              "        vertical-align: top;\n",
              "    }\n",
              "\n",
              "    .dataframe thead th {\n",
              "        text-align: right;\n",
              "    }\n",
              "</style>\n",
              "<table border=\"1\" class=\"dataframe\">\n",
              "  <thead>\n",
              "    <tr style=\"text-align: right;\">\n",
              "      <th></th>\n",
              "      <th>cluster</th>\n",
              "      <th>avg_years</th>\n",
              "      <th>var_years</th>\n",
              "      <th>apt</th>\n",
              "    </tr>\n",
              "  </thead>\n",
              "  <tbody>\n",
              "    <tr>\n",
              "      <th>0</th>\n",
              "      <td>10</td>\n",
              "      <td>-0.229160</td>\n",
              "      <td>0.236649</td>\n",
              "      <td>1</td>\n",
              "    </tr>\n",
              "    <tr>\n",
              "      <th>1</th>\n",
              "      <td>5</td>\n",
              "      <td>-0.222317</td>\n",
              "      <td>0.046124</td>\n",
              "      <td>5</td>\n",
              "    </tr>\n",
              "    <tr>\n",
              "      <th>2</th>\n",
              "      <td>1</td>\n",
              "      <td>0.095494</td>\n",
              "      <td>0.044641</td>\n",
              "      <td>14</td>\n",
              "    </tr>\n",
              "    <tr>\n",
              "      <th>3</th>\n",
              "      <td>11</td>\n",
              "      <td>0.164569</td>\n",
              "      <td>0.202790</td>\n",
              "      <td>6</td>\n",
              "    </tr>\n",
              "    <tr>\n",
              "      <th>4</th>\n",
              "      <td>3</td>\n",
              "      <td>0.243898</td>\n",
              "      <td>0.031298</td>\n",
              "      <td>13</td>\n",
              "    </tr>\n",
              "    <tr>\n",
              "      <th>5</th>\n",
              "      <td>0</td>\n",
              "      <td>0.298706</td>\n",
              "      <td>0.389630</td>\n",
              "      <td>4</td>\n",
              "    </tr>\n",
              "    <tr>\n",
              "      <th>6</th>\n",
              "      <td>6</td>\n",
              "      <td>0.336428</td>\n",
              "      <td>0.122033</td>\n",
              "      <td>11</td>\n",
              "    </tr>\n",
              "    <tr>\n",
              "      <th>7</th>\n",
              "      <td>13</td>\n",
              "      <td>0.413591</td>\n",
              "      <td>0.233951</td>\n",
              "      <td>13</td>\n",
              "    </tr>\n",
              "    <tr>\n",
              "      <th>8</th>\n",
              "      <td>8</td>\n",
              "      <td>0.414907</td>\n",
              "      <td>0.022931</td>\n",
              "      <td>9</td>\n",
              "    </tr>\n",
              "    <tr>\n",
              "      <th>9</th>\n",
              "      <td>9</td>\n",
              "      <td>0.524858</td>\n",
              "      <td>0.397223</td>\n",
              "      <td>5</td>\n",
              "    </tr>\n",
              "    <tr>\n",
              "      <th>10</th>\n",
              "      <td>2</td>\n",
              "      <td>0.543203</td>\n",
              "      <td>0.136088</td>\n",
              "      <td>7</td>\n",
              "    </tr>\n",
              "    <tr>\n",
              "      <th>11</th>\n",
              "      <td>7</td>\n",
              "      <td>0.607115</td>\n",
              "      <td>0.260361</td>\n",
              "      <td>5</td>\n",
              "    </tr>\n",
              "    <tr>\n",
              "      <th>12</th>\n",
              "      <td>12</td>\n",
              "      <td>0.621308</td>\n",
              "      <td>0.535429</td>\n",
              "      <td>2</td>\n",
              "    </tr>\n",
              "    <tr>\n",
              "      <th>13</th>\n",
              "      <td>4</td>\n",
              "      <td>0.842672</td>\n",
              "      <td>0.444180</td>\n",
              "      <td>2</td>\n",
              "    </tr>\n",
              "  </tbody>\n",
              "</table>\n",
              "</div>"
            ],
            "text/plain": [
              "    cluster  avg_years  var_years  apt\n",
              "0        10  -0.229160   0.236649    1\n",
              "1         5  -0.222317   0.046124    5\n",
              "2         1   0.095494   0.044641   14\n",
              "3        11   0.164569   0.202790    6\n",
              "4         3   0.243898   0.031298   13\n",
              "5         0   0.298706   0.389630    4\n",
              "6         6   0.336428   0.122033   11\n",
              "7        13   0.413591   0.233951   13\n",
              "8         8   0.414907   0.022931    9\n",
              "9         9   0.524858   0.397223    5\n",
              "10        2   0.543203   0.136088    7\n",
              "11        7   0.607115   0.260361    5\n",
              "12       12   0.621308   0.535429    2\n",
              "13        4   0.842672   0.444180    2"
            ]
          },
          "metadata": {
            "tags": []
          },
          "execution_count": 114
        }
      ]
    },
    {
      "cell_type": "markdown",
      "metadata": {
        "id": "Udwe3AqpnVaH"
      },
      "source": [
        "Similar to the sharpe ratio in stock, we want to see a ratio between avg_years and var_years to find high avg_years and low var_years."
      ]
    },
    {
      "cell_type": "code",
      "metadata": {
        "colab": {
          "base_uri": "https://localhost:8080/",
          "height": 483
        },
        "id": "WtQ3mnn9n1fv",
        "outputId": "386e62c0-14c4-480a-f6a7-838e1d4b23e7"
      },
      "source": [
        "extra_feats = {\n",
        "     'ratio': lambda x: np.true_divide(x['avg_years'], x['var_years'])\n",
        "}\n",
        "sub_cluster_perf_df = sub_cluster_perf_df.assign(**extra_feats)\n",
        "sub_cluster_perf_df"
      ],
      "execution_count": 115,
      "outputs": [
        {
          "output_type": "execute_result",
          "data": {
            "text/html": [
              "<div>\n",
              "<style scoped>\n",
              "    .dataframe tbody tr th:only-of-type {\n",
              "        vertical-align: middle;\n",
              "    }\n",
              "\n",
              "    .dataframe tbody tr th {\n",
              "        vertical-align: top;\n",
              "    }\n",
              "\n",
              "    .dataframe thead th {\n",
              "        text-align: right;\n",
              "    }\n",
              "</style>\n",
              "<table border=\"1\" class=\"dataframe\">\n",
              "  <thead>\n",
              "    <tr style=\"text-align: right;\">\n",
              "      <th></th>\n",
              "      <th>cluster</th>\n",
              "      <th>avg_years</th>\n",
              "      <th>var_years</th>\n",
              "      <th>apt</th>\n",
              "      <th>ratio</th>\n",
              "    </tr>\n",
              "  </thead>\n",
              "  <tbody>\n",
              "    <tr>\n",
              "      <th>0</th>\n",
              "      <td>10</td>\n",
              "      <td>-0.229160</td>\n",
              "      <td>0.236649</td>\n",
              "      <td>1</td>\n",
              "      <td>-0.968355</td>\n",
              "    </tr>\n",
              "    <tr>\n",
              "      <th>1</th>\n",
              "      <td>5</td>\n",
              "      <td>-0.222317</td>\n",
              "      <td>0.046124</td>\n",
              "      <td>5</td>\n",
              "      <td>-4.819966</td>\n",
              "    </tr>\n",
              "    <tr>\n",
              "      <th>2</th>\n",
              "      <td>1</td>\n",
              "      <td>0.095494</td>\n",
              "      <td>0.044641</td>\n",
              "      <td>14</td>\n",
              "      <td>2.139152</td>\n",
              "    </tr>\n",
              "    <tr>\n",
              "      <th>3</th>\n",
              "      <td>11</td>\n",
              "      <td>0.164569</td>\n",
              "      <td>0.202790</td>\n",
              "      <td>6</td>\n",
              "      <td>0.811524</td>\n",
              "    </tr>\n",
              "    <tr>\n",
              "      <th>4</th>\n",
              "      <td>3</td>\n",
              "      <td>0.243898</td>\n",
              "      <td>0.031298</td>\n",
              "      <td>13</td>\n",
              "      <td>7.792709</td>\n",
              "    </tr>\n",
              "    <tr>\n",
              "      <th>5</th>\n",
              "      <td>0</td>\n",
              "      <td>0.298706</td>\n",
              "      <td>0.389630</td>\n",
              "      <td>4</td>\n",
              "      <td>0.766642</td>\n",
              "    </tr>\n",
              "    <tr>\n",
              "      <th>6</th>\n",
              "      <td>6</td>\n",
              "      <td>0.336428</td>\n",
              "      <td>0.122033</td>\n",
              "      <td>11</td>\n",
              "      <td>2.756858</td>\n",
              "    </tr>\n",
              "    <tr>\n",
              "      <th>7</th>\n",
              "      <td>13</td>\n",
              "      <td>0.413591</td>\n",
              "      <td>0.233951</td>\n",
              "      <td>13</td>\n",
              "      <td>1.767850</td>\n",
              "    </tr>\n",
              "    <tr>\n",
              "      <th>8</th>\n",
              "      <td>8</td>\n",
              "      <td>0.414907</td>\n",
              "      <td>0.022931</td>\n",
              "      <td>9</td>\n",
              "      <td>18.093713</td>\n",
              "    </tr>\n",
              "    <tr>\n",
              "      <th>9</th>\n",
              "      <td>9</td>\n",
              "      <td>0.524858</td>\n",
              "      <td>0.397223</td>\n",
              "      <td>5</td>\n",
              "      <td>1.321318</td>\n",
              "    </tr>\n",
              "    <tr>\n",
              "      <th>10</th>\n",
              "      <td>2</td>\n",
              "      <td>0.543203</td>\n",
              "      <td>0.136088</td>\n",
              "      <td>7</td>\n",
              "      <td>3.991556</td>\n",
              "    </tr>\n",
              "    <tr>\n",
              "      <th>11</th>\n",
              "      <td>7</td>\n",
              "      <td>0.607115</td>\n",
              "      <td>0.260361</td>\n",
              "      <td>5</td>\n",
              "      <td>2.331820</td>\n",
              "    </tr>\n",
              "    <tr>\n",
              "      <th>12</th>\n",
              "      <td>12</td>\n",
              "      <td>0.621308</td>\n",
              "      <td>0.535429</td>\n",
              "      <td>2</td>\n",
              "      <td>1.160393</td>\n",
              "    </tr>\n",
              "    <tr>\n",
              "      <th>13</th>\n",
              "      <td>4</td>\n",
              "      <td>0.842672</td>\n",
              "      <td>0.444180</td>\n",
              "      <td>2</td>\n",
              "      <td>1.897139</td>\n",
              "    </tr>\n",
              "  </tbody>\n",
              "</table>\n",
              "</div>"
            ],
            "text/plain": [
              "    cluster  avg_years  var_years  apt      ratio\n",
              "0        10  -0.229160   0.236649    1  -0.968355\n",
              "1         5  -0.222317   0.046124    5  -4.819966\n",
              "2         1   0.095494   0.044641   14   2.139152\n",
              "3        11   0.164569   0.202790    6   0.811524\n",
              "4         3   0.243898   0.031298   13   7.792709\n",
              "5         0   0.298706   0.389630    4   0.766642\n",
              "6         6   0.336428   0.122033   11   2.756858\n",
              "7        13   0.413591   0.233951   13   1.767850\n",
              "8         8   0.414907   0.022931    9  18.093713\n",
              "9         9   0.524858   0.397223    5   1.321318\n",
              "10        2   0.543203   0.136088    7   3.991556\n",
              "11        7   0.607115   0.260361    5   2.331820\n",
              "12       12   0.621308   0.535429    2   1.160393\n",
              "13        4   0.842672   0.444180    2   1.897139"
            ]
          },
          "metadata": {
            "tags": []
          },
          "execution_count": 115
        }
      ]
    },
    {
      "cell_type": "markdown",
      "metadata": {
        "id": "W8WRZmojKQ4C"
      },
      "source": [
        "Clearly, the cluster 8 has relatively high average increment rate and low virance, which is our final golden cluster."
      ]
    },
    {
      "cell_type": "code",
      "metadata": {
        "colab": {
          "base_uri": "https://localhost:8080/",
          "height": 328
        },
        "id": "AtccPCq5hLSe",
        "outputId": "c6550889-7f83-489b-8230-f37ac828e167"
      },
      "source": [
        "golden_cluster = third_trial.query(\"cluster == 8\")\n",
        "golden_cluster\n"
      ],
      "execution_count": 116,
      "outputs": [
        {
          "output_type": "execute_result",
          "data": {
            "text/html": [
              "<div>\n",
              "<style scoped>\n",
              "    .dataframe tbody tr th:only-of-type {\n",
              "        vertical-align: middle;\n",
              "    }\n",
              "\n",
              "    .dataframe tbody tr th {\n",
              "        vertical-align: top;\n",
              "    }\n",
              "\n",
              "    .dataframe thead th {\n",
              "        text-align: right;\n",
              "    }\n",
              "</style>\n",
              "<table border=\"1\" class=\"dataframe\">\n",
              "  <thead>\n",
              "    <tr style=\"text-align: right;\">\n",
              "      <th></th>\n",
              "      <th>apt</th>\n",
              "      <th>avg_years</th>\n",
              "      <th>var_years</th>\n",
              "      <th>cluster</th>\n",
              "    </tr>\n",
              "  </thead>\n",
              "  <tbody>\n",
              "    <tr>\n",
              "      <th>6</th>\n",
              "      <td>8</td>\n",
              "      <td>0.450322</td>\n",
              "      <td>0.000539</td>\n",
              "      <td>8</td>\n",
              "    </tr>\n",
              "    <tr>\n",
              "      <th>10</th>\n",
              "      <td>16</td>\n",
              "      <td>0.458760</td>\n",
              "      <td>0.032598</td>\n",
              "      <td>8</td>\n",
              "    </tr>\n",
              "    <tr>\n",
              "      <th>27</th>\n",
              "      <td>35</td>\n",
              "      <td>0.336468</td>\n",
              "      <td>0.024315</td>\n",
              "      <td>8</td>\n",
              "    </tr>\n",
              "    <tr>\n",
              "      <th>31</th>\n",
              "      <td>39</td>\n",
              "      <td>0.392282</td>\n",
              "      <td>0.047111</td>\n",
              "      <td>8</td>\n",
              "    </tr>\n",
              "    <tr>\n",
              "      <th>38</th>\n",
              "      <td>47</td>\n",
              "      <td>0.430771</td>\n",
              "      <td>0.001588</td>\n",
              "      <td>8</td>\n",
              "    </tr>\n",
              "    <tr>\n",
              "      <th>53</th>\n",
              "      <td>66</td>\n",
              "      <td>0.394044</td>\n",
              "      <td>0.001866</td>\n",
              "      <td>8</td>\n",
              "    </tr>\n",
              "    <tr>\n",
              "      <th>59</th>\n",
              "      <td>72</td>\n",
              "      <td>0.355001</td>\n",
              "      <td>0.057790</td>\n",
              "      <td>8</td>\n",
              "    </tr>\n",
              "    <tr>\n",
              "      <th>88</th>\n",
              "      <td>104</td>\n",
              "      <td>0.348531</td>\n",
              "      <td>0.039213</td>\n",
              "      <td>8</td>\n",
              "    </tr>\n",
              "    <tr>\n",
              "      <th>95</th>\n",
              "      <td>112</td>\n",
              "      <td>0.567987</td>\n",
              "      <td>0.001359</td>\n",
              "      <td>8</td>\n",
              "    </tr>\n",
              "  </tbody>\n",
              "</table>\n",
              "</div>"
            ],
            "text/plain": [
              "    apt  avg_years  var_years  cluster\n",
              "6     8   0.450322   0.000539        8\n",
              "10   16   0.458760   0.032598        8\n",
              "27   35   0.336468   0.024315        8\n",
              "31   39   0.392282   0.047111        8\n",
              "38   47   0.430771   0.001588        8\n",
              "53   66   0.394044   0.001866        8\n",
              "59   72   0.355001   0.057790        8\n",
              "88  104   0.348531   0.039213        8\n",
              "95  112   0.567987   0.001359        8"
            ]
          },
          "metadata": {
            "tags": []
          },
          "execution_count": 116
        }
      ]
    },
    {
      "cell_type": "markdown",
      "metadata": {
        "id": "gNQlXnqJmWGo"
      },
      "source": [
        "Print the power consumption of the apartments in golden_cluster and we can see whether the results are reasonable or not."
      ]
    },
    {
      "cell_type": "code",
      "metadata": {
        "colab": {
          "base_uri": "https://localhost:8080/",
          "height": 328
        },
        "id": "t372IQTqmVhc",
        "outputId": "c1a229c8-5059-4834-bf59-5f9090c15190"
      },
      "source": [
        "apts = golden_cluster['apt'].to_numpy()\n",
        "golden_df = stats[stats.apt.isin(apts)]\n",
        "golden_df"
      ],
      "execution_count": 117,
      "outputs": [
        {
          "output_type": "execute_result",
          "data": {
            "text/html": [
              "<div>\n",
              "<style scoped>\n",
              "    .dataframe tbody tr th:only-of-type {\n",
              "        vertical-align: middle;\n",
              "    }\n",
              "\n",
              "    .dataframe tbody tr th {\n",
              "        vertical-align: top;\n",
              "    }\n",
              "\n",
              "    .dataframe thead th {\n",
              "        text-align: right;\n",
              "    }\n",
              "</style>\n",
              "<table border=\"1\" class=\"dataframe\">\n",
              "  <thead>\n",
              "    <tr style=\"text-align: right;\">\n",
              "      <th></th>\n",
              "      <th>apt</th>\n",
              "      <th>sum_2014</th>\n",
              "      <th>sum_2015</th>\n",
              "      <th>sum_2016</th>\n",
              "      <th>inc_2015</th>\n",
              "      <th>inc_2016</th>\n",
              "      <th>avg_years</th>\n",
              "      <th>var_years</th>\n",
              "    </tr>\n",
              "  </thead>\n",
              "  <tbody>\n",
              "    <tr>\n",
              "      <th>7</th>\n",
              "      <td>8</td>\n",
              "      <td>3557.161673</td>\n",
              "      <td>5076.478927</td>\n",
              "      <td>7480.335970</td>\n",
              "      <td>0.427115</td>\n",
              "      <td>0.473528</td>\n",
              "      <td>0.450322</td>\n",
              "      <td>0.000539</td>\n",
              "    </tr>\n",
              "    <tr>\n",
              "      <th>15</th>\n",
              "      <td>16</td>\n",
              "      <td>2344.647626</td>\n",
              "      <td>3843.603452</td>\n",
              "      <td>4912.931646</td>\n",
              "      <td>0.639310</td>\n",
              "      <td>0.278210</td>\n",
              "      <td>0.458760</td>\n",
              "      <td>0.032598</td>\n",
              "    </tr>\n",
              "    <tr>\n",
              "      <th>34</th>\n",
              "      <td>35</td>\n",
              "      <td>1746.730537</td>\n",
              "      <td>2606.821325</td>\n",
              "      <td>3077.445859</td>\n",
              "      <td>0.492400</td>\n",
              "      <td>0.180536</td>\n",
              "      <td>0.336468</td>\n",
              "      <td>0.024315</td>\n",
              "    </tr>\n",
              "    <tr>\n",
              "      <th>38</th>\n",
              "      <td>39</td>\n",
              "      <td>3650.271381</td>\n",
              "      <td>5874.499687</td>\n",
              "      <td>6903.899063</td>\n",
              "      <td>0.609332</td>\n",
              "      <td>0.175232</td>\n",
              "      <td>0.392282</td>\n",
              "      <td>0.047111</td>\n",
              "    </tr>\n",
              "    <tr>\n",
              "      <th>46</th>\n",
              "      <td>47</td>\n",
              "      <td>1896.749811</td>\n",
              "      <td>2789.400456</td>\n",
              "      <td>3879.833077</td>\n",
              "      <td>0.470621</td>\n",
              "      <td>0.390920</td>\n",
              "      <td>0.430771</td>\n",
              "      <td>0.001588</td>\n",
              "    </tr>\n",
              "    <tr>\n",
              "      <th>65</th>\n",
              "      <td>66</td>\n",
              "      <td>2646.359887</td>\n",
              "      <td>3803.466287</td>\n",
              "      <td>5137.886077</td>\n",
              "      <td>0.437245</td>\n",
              "      <td>0.350843</td>\n",
              "      <td>0.394044</td>\n",
              "      <td>0.001866</td>\n",
              "    </tr>\n",
              "    <tr>\n",
              "      <th>71</th>\n",
              "      <td>72</td>\n",
              "      <td>2512.914941</td>\n",
              "      <td>4009.097852</td>\n",
              "      <td>4468.561013</td>\n",
              "      <td>0.595397</td>\n",
              "      <td>0.114605</td>\n",
              "      <td>0.355001</td>\n",
              "      <td>0.057790</td>\n",
              "    </tr>\n",
              "    <tr>\n",
              "      <th>103</th>\n",
              "      <td>104</td>\n",
              "      <td>2774.087567</td>\n",
              "      <td>3191.609382</td>\n",
              "      <td>4935.994652</td>\n",
              "      <td>0.150508</td>\n",
              "      <td>0.546553</td>\n",
              "      <td>0.348531</td>\n",
              "      <td>0.039213</td>\n",
              "    </tr>\n",
              "    <tr>\n",
              "      <th>111</th>\n",
              "      <td>112</td>\n",
              "      <td>2595.328410</td>\n",
              "      <td>4165.115072</td>\n",
              "      <td>6377.305864</td>\n",
              "      <td>0.604851</td>\n",
              "      <td>0.531124</td>\n",
              "      <td>0.567987</td>\n",
              "      <td>0.001359</td>\n",
              "    </tr>\n",
              "  </tbody>\n",
              "</table>\n",
              "</div>"
            ],
            "text/plain": [
              "     apt     sum_2014     sum_2015  ...  inc_2016  avg_years  var_years\n",
              "7      8  3557.161673  5076.478927  ...  0.473528   0.450322   0.000539\n",
              "15    16  2344.647626  3843.603452  ...  0.278210   0.458760   0.032598\n",
              "34    35  1746.730537  2606.821325  ...  0.180536   0.336468   0.024315\n",
              "38    39  3650.271381  5874.499687  ...  0.175232   0.392282   0.047111\n",
              "46    47  1896.749811  2789.400456  ...  0.390920   0.430771   0.001588\n",
              "65    66  2646.359887  3803.466287  ...  0.350843   0.394044   0.001866\n",
              "71    72  2512.914941  4009.097852  ...  0.114605   0.355001   0.057790\n",
              "103  104  2774.087567  3191.609382  ...  0.546553   0.348531   0.039213\n",
              "111  112  2595.328410  4165.115072  ...  0.531124   0.567987   0.001359\n",
              "\n",
              "[9 rows x 8 columns]"
            ]
          },
          "metadata": {
            "tags": []
          },
          "execution_count": 117
        }
      ]
    },
    {
      "cell_type": "markdown",
      "metadata": {
        "id": "ujRo63G2LqyC"
      },
      "source": [
        "### Conclusion and thoughts\n",
        "With fractal clustering, we are able to find 'golden cluster' that maches our objective functions. <br />\n",
        "The SSE keeps decreasing when clustering on a sub-group dataset. \n",
        "<br />\n",
        "A question in my mind was, whether the godlen cluster result will change or not if we select different number of clusters in golden clustering? <br />\n",
        "To anwser that, we tried a different 'route' -- 5 clusters in the first trial and 16 clusters in the second trial. Then the golden cluster result just differs a little, the apartment number 112 is missing in golden cluster comparing the clustering route in this note book. <br />\n",
        "Which means different 'routes' can have different result, however the divergence will not be much. It may also depend on the dataset we are fractal clustering on.\n"
      ]
    }
  ]
}