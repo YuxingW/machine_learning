{
  "nbformat": 4,
  "nbformat_minor": 0,
  "metadata": {
    "colab": {
      "name": "Copy of Copy of sentiment_analysis_tutorial.ipynb",
      "provenance": [],
      "collapsed_sections": [],
      "toc_visible": true,
      "include_colab_link": true
    },
    "kernelspec": {
      "name": "python3",
      "display_name": "Python 3"
    }
  },
  "cells": [
    {
      "cell_type": "markdown",
      "metadata": {
        "id": "view-in-github",
        "colab_type": "text"
      },
      "source": [
        "<a href=\"https://colab.research.google.com/github/YuxingW/machine_learning/blob/main/hw10/combine_factors_and_data_pipeline.ipynb\" target=\"_parent\"><img src=\"https://colab.research.google.com/assets/colab-badge.svg\" alt=\"Open In Colab\"/></a>"
      ]
    },
    {
      "cell_type": "markdown",
      "metadata": {
        "id": "WF4Qh5xVqM4D"
      },
      "source": [
        "## CMPE 257 - MLSprings 2021 Cohort\n",
        "Objective: Detect fake news in political datasets using factors\n",
        "mircro factors <br />\n",
        "Team DataCorps - Yuxing Wang, Arun Talkad, Mayuri Lalwani\n",
        "\n",
        "## True-o-meter Pipeline\n",
        "\n",
        "Micorfactors for Factor - Sychology Utilities, Yuxing\n",
        "* Sentiment\n",
        "* Group confirmation\n",
        "* Opinion leader\n",
        "\n",
        "Micorfactors for Factor - Intent, Mayuri\n",
        "* Utterance\n",
        "* Speech\n",
        "* Sentiment\n",
        "\n",
        "Micorfactors for Factor -Incredibility, Arun\n",
        "* Incredibility\n",
        "\n",
        "Reference: \n",
        "* https://towardsai.net/p/nlp/sentiment-analysis-opinion-mining-with-python-nlp-tutorial-d1f173ca4e3c\n",
        "* https://github.com/towardsai/tutorials/tree/master/sentiment_analysis_tutorial\n",
        "* https://machinelearningmastery.com/stacking-ensemble-machine-learning-with-python/\n"
      ]
    },
    {
      "cell_type": "markdown",
      "metadata": {
        "id": "7PnmDlwC8eFK"
      },
      "source": [
        "## 1.Data Preparation\n",
        "* Scrape data from politifact\n",
        "* Fetch twitter tweets by APIs"
      ]
    },
    {
      "cell_type": "markdown",
      "metadata": {
        "id": "cCdKoergjmDw"
      },
      "source": [
        "###1.1.Scrape data from politifact"
      ]
    },
    {
      "cell_type": "code",
      "metadata": {
        "id": "VLl8z7VEjpMw"
      },
      "source": [
        "!pip install -q beautifulsoup4\n",
        "!pip install -q vaderSentiment"
      ],
      "execution_count": 1,
      "outputs": []
    },
    {
      "cell_type": "code",
      "metadata": {
        "id": "6Y3x_GVAEbgX"
      },
      "source": [
        "import requests \n",
        "import pandas as pd \n",
        "from bs4 import BeautifulSoup  "
      ],
      "execution_count": 2,
      "outputs": []
    },
    {
      "cell_type": "code",
      "metadata": {
        "id": "VIodWee7Erz8",
        "colab": {
          "base_uri": "https://localhost:8080/",
          "height": 281
        },
        "outputId": "2a4c79e0-7171-4408-d7f0-2f28fe408c90"
      },
      "source": [
        "def scrape_data_from_politifact(start=1, end=10):\n",
        "  url = \"https://www.politifact.com/issues/\"\n",
        "  issues = []\n",
        "  r = requests.get(url)\n",
        "  soup = BeautifulSoup(r.text,'html.parser')\n",
        "  results = soup.find_all('div', attrs={'class':'c-chyron__value'})\n",
        "  for result in results:\n",
        "    name = result.find('a').text\n",
        "    issue = result.find('a')['href'].replace(\"/\",\"\")\n",
        "    issues.append((name, issue))\n",
        "  url = \"https://www.politifact.com/factchecks/list/?page={pgno}&category={category}\"\n",
        "\n",
        "  records = []  \n",
        "\n",
        "  for i in range(1,10):\n",
        "    for issue, issue_url in issues[0:5]:\n",
        "      fUrl = url.format(pgno=str(i), category=issue_url)\n",
        "      r = requests.get(fUrl)\n",
        "      soup = BeautifulSoup(r.text, 'html.parser')  \n",
        "      results = soup.find_all('article', attrs={'class':'m-statement'})\n",
        "      for result in results:\n",
        "        date = result.find('footer',attrs={'class':'m-statement__footer'}).text.split(\"•\")[1].rstrip(\"\\n\")\n",
        "        reporter = result.find('footer',attrs={'class':'m-statement__footer'}).text.split(\"•\")[0].replace(\"\\nBy\",\"\")   \n",
        "        author = result.find('a',attrs={'class':'m-statement__name'}).text.replace(\"\\n\",\"\")\n",
        "        statement =  result.find('div', attrs = {'class':'m-statement__quote'}).find('a').text.replace(\"\\n\",\"\")\n",
        "        statement_descr = result.find('div', {'class':'m-statement__desc'}).text.replace(\"\\n\",\"\")\n",
        "        article_url =  result.find('a')['href']\n",
        "        verdict = result.find('img', attrs = {'class':'c-image__thumb'}, alt=True).attrs['alt']\n",
        "        records.append(( date, issue, reporter, author, statement, statement_descr, verdict, article_url))\n",
        "  return records\n",
        "\n",
        "records = scrape_data_from_politifact()\n",
        "df_sample = pd.DataFrame(records,\n",
        "                         columns=['Date', 'Issue','Reporter','Author', 'Statement', 'Description', 'Verdict', 'Url'])  \n",
        "df_sample.head()"
      ],
      "execution_count": 3,
      "outputs": [
        {
          "output_type": "execute_result",
          "data": {
            "text/html": [
              "<div>\n",
              "<style scoped>\n",
              "    .dataframe tbody tr th:only-of-type {\n",
              "        vertical-align: middle;\n",
              "    }\n",
              "\n",
              "    .dataframe tbody tr th {\n",
              "        vertical-align: top;\n",
              "    }\n",
              "\n",
              "    .dataframe thead th {\n",
              "        text-align: right;\n",
              "    }\n",
              "</style>\n",
              "<table border=\"1\" class=\"dataframe\">\n",
              "  <thead>\n",
              "    <tr style=\"text-align: right;\">\n",
              "      <th></th>\n",
              "      <th>Date</th>\n",
              "      <th>Issue</th>\n",
              "      <th>Reporter</th>\n",
              "      <th>Author</th>\n",
              "      <th>Statement</th>\n",
              "      <th>Description</th>\n",
              "      <th>Verdict</th>\n",
              "      <th>Url</th>\n",
              "    </tr>\n",
              "  </thead>\n",
              "  <tbody>\n",
              "    <tr>\n",
              "      <th>0</th>\n",
              "      <td>May 7, 2021</td>\n",
              "      <td>Abortion</td>\n",
              "      <td>Bill McCarthy</td>\n",
              "      <td>Facebook posts</td>\n",
              "      <td>Says Chelsea Clinton tweeted, \"If Jesus were a...</td>\n",
              "      <td>stated on May 7, 2021 in a Facebook post:</td>\n",
              "      <td>pants-fire</td>\n",
              "      <td>/personalities/facebook-posts/</td>\n",
              "    </tr>\n",
              "    <tr>\n",
              "      <th>1</th>\n",
              "      <td>March 31, 2021</td>\n",
              "      <td>Abortion</td>\n",
              "      <td>Tom Kertscher</td>\n",
              "      <td>Facebook posts</td>\n",
              "      <td>“Joe Biden puts pro-life groups on domestic ex...</td>\n",
              "      <td>stated on March 29, 2021 in a Facebook post:</td>\n",
              "      <td>barely-true</td>\n",
              "      <td>/personalities/facebook-posts/</td>\n",
              "    </tr>\n",
              "    <tr>\n",
              "      <th>2</th>\n",
              "      <td>February 12, 2021</td>\n",
              "      <td>Abortion</td>\n",
              "      <td>Brandon Mulder</td>\n",
              "      <td>Greg Abbott</td>\n",
              "      <td>“Innocent lives will be saved” by ending taxpa...</td>\n",
              "      <td>stated on January 24, 2021 in a tweet:</td>\n",
              "      <td>false</td>\n",
              "      <td>/personalities/greg-abbott/</td>\n",
              "    </tr>\n",
              "    <tr>\n",
              "      <th>3</th>\n",
              "      <td>November 18, 2020</td>\n",
              "      <td>Abortion</td>\n",
              "      <td>Noah Y. Kim</td>\n",
              "      <td>Facebook posts</td>\n",
              "      <td>There is “aborted male fetus” in the Oxford-As...</td>\n",
              "      <td>stated on November 15, 2020 in a Facebook post:</td>\n",
              "      <td>false</td>\n",
              "      <td>/personalities/facebook-posts/</td>\n",
              "    </tr>\n",
              "    <tr>\n",
              "      <th>4</th>\n",
              "      <td>October 14, 2020</td>\n",
              "      <td>Abortion</td>\n",
              "      <td>Tom Kertscher</td>\n",
              "      <td>Tommy Tuberville</td>\n",
              "      <td>Says Doug Jones \"has voted to spend our tax do...</td>\n",
              "      <td>stated on October 8, 2020 in an ad:</td>\n",
              "      <td>false</td>\n",
              "      <td>/personalities/tommy-tuberville/</td>\n",
              "    </tr>\n",
              "  </tbody>\n",
              "</table>\n",
              "</div>"
            ],
            "text/plain": [
              "                 Date     Issue  ...      Verdict                               Url\n",
              "0         May 7, 2021  Abortion  ...   pants-fire    /personalities/facebook-posts/\n",
              "1      March 31, 2021  Abortion  ...  barely-true    /personalities/facebook-posts/\n",
              "2   February 12, 2021  Abortion  ...        false       /personalities/greg-abbott/\n",
              "3   November 18, 2020  Abortion  ...        false    /personalities/facebook-posts/\n",
              "4    October 14, 2020  Abortion  ...        false  /personalities/tommy-tuberville/\n",
              "\n",
              "[5 rows x 8 columns]"
            ]
          },
          "metadata": {
            "tags": []
          },
          "execution_count": 3
        }
      ]
    },
    {
      "cell_type": "code",
      "metadata": {
        "id": "9EJZ_Q2IFY93",
        "colab": {
          "base_uri": "https://localhost:8080/"
        },
        "outputId": "ca1ba810-050e-450e-9607-d2cc1a60f0a0"
      },
      "source": [
        "df_sample.shape"
      ],
      "execution_count": 4,
      "outputs": [
        {
          "output_type": "execute_result",
          "data": {
            "text/plain": [
              "(473, 8)"
            ]
          },
          "metadata": {
            "tags": []
          },
          "execution_count": 4
        }
      ]
    },
    {
      "cell_type": "markdown",
      "metadata": {
        "id": "-hBtFjjoqV2_"
      },
      "source": [
        "**Import Required Packages**"
      ]
    },
    {
      "cell_type": "code",
      "metadata": {
        "colab": {
          "base_uri": "https://localhost:8080/"
        },
        "id": "-sSRIdY1HZCS",
        "outputId": "62c36354-cc54-437c-bb89-75b450f56797"
      },
      "source": [
        "import pandas as pd\n",
        "import numpy as np\n",
        "import seaborn as sns\n",
        "import re\n",
        "import requests\n",
        "import string\n",
        "from string import punctuation\n",
        "from sklearn.preprocessing import StandardScaler\n",
        "from io import BytesIO\n",
        "import nltk\n",
        "from nltk.corpus import stopwords\n",
        "nltk.download('stopwords')\n",
        "\n",
        "\n",
        "import matplotlib.pyplot as plt\n",
        "from sklearn.model_selection import train_test_split\n",
        "from sklearn.feature_extraction.text import CountVectorizer\n",
        "from sklearn.feature_extraction.text import TfidfTransformer\n",
        "\n",
        "import tensorflow as tf\n",
        "from tensorflow.keras.models import Sequential\n",
        "from tensorflow.keras.layers import Dense, Activation, Dropout\n",
        "from tensorflow.keras.callbacks import EarlyStopping\n",
        "from vaderSentiment.vaderSentiment import SentimentIntensityAnalyzer"
      ],
      "execution_count": 5,
      "outputs": [
        {
          "output_type": "stream",
          "text": [
            "[nltk_data] Downloading package stopwords to /root/nltk_data...\n",
            "[nltk_data]   Package stopwords is already up-to-date!\n"
          ],
          "name": "stdout"
        }
      ]
    },
    {
      "cell_type": "markdown",
      "metadata": {
        "id": "WXXcy_o9yVec"
      },
      "source": [
        "**Load less biased twitter data set for training**"
      ]
    },
    {
      "cell_type": "code",
      "metadata": {
        "id": "Gn_vu_gprlK1",
        "colab": {
          "base_uri": "https://localhost:8080/"
        },
        "outputId": "75ab5cb8-0977-4540-c8e4-791bc842951f"
      },
      "source": [
        "train_url = 'https://docs.google.com/spreadsheets/d/e/2PACX-1vT-7fkaGbvXcppizTYkyM_weWptbtyab7PVUXJZdpJb7aJ-mKXtB1zTkY7DizLU7M64oYMoE8lPJQ1V/pub?output=csv'\n",
        "r = requests.get(train_url)\n",
        "data = r.content\n",
        "df_train = pd.read_csv(BytesIO(data))\n",
        "df_train.shape"
      ],
      "execution_count": 6,
      "outputs": [
        {
          "output_type": "execute_result",
          "data": {
            "text/plain": [
              "(762, 3)"
            ]
          },
          "metadata": {
            "tags": []
          },
          "execution_count": 6
        }
      ]
    },
    {
      "cell_type": "markdown",
      "metadata": {
        "id": "YUH7jv5KrgG-"
      },
      "source": [
        "###1.2.Scrape data from twitter"
      ]
    },
    {
      "cell_type": "code",
      "metadata": {
        "id": "Q4IUPTjmmcy4"
      },
      "source": [
        "!pip install -q datasketch\n",
        "!pip install -q networkx "
      ],
      "execution_count": 7,
      "outputs": []
    },
    {
      "cell_type": "code",
      "metadata": {
        "id": "huNUYbGMmKHm"
      },
      "source": [
        "import tweepy\n",
        "from tweepy import OAuthHandler\n",
        "import pandas as pd\n",
        "import numpy as np\n",
        "import re\n",
        "import time\n",
        "from datasketch import MinHash, MinHashLSH"
      ],
      "execution_count": 8,
      "outputs": []
    },
    {
      "cell_type": "code",
      "metadata": {
        "colab": {
          "base_uri": "https://localhost:8080/",
          "height": 197
        },
        "id": "o53hhvmfmKmZ",
        "outputId": "b2ea0f6d-f133-4054-8a0c-d056b669afc9"
      },
      "source": [
        "access_token = '1311987544507084800-iYuPqERzopIZuuyxaZ8xnqARcyKrR1'\n",
        "access_token_secret = 'DCJg5kE7srBZRToNlzF0xqT3hcxonnXMlMXKWjX91wyTe'\n",
        "consumer_key = 'YQLJJb0ELY5pdXbx7WkQXtRXo'\n",
        "consumer_secret = 'HCgQga7Mj33C5E19IP7Dr3qGChmc85M6IEYXSGtI6g4cdplBYw'\n",
        "\n",
        "auth = tweepy.OAuthHandler(consumer_key, consumer_secret)\n",
        "auth.set_access_token(access_token, access_token_secret)\n",
        "\n",
        "api = tweepy.API(auth, wait_on_rate_limit=True, wait_on_rate_limit_notify=True)\n",
        "\n",
        "tweets = []\n",
        "\n",
        "count = 1\n",
        "\n",
        "\"\"\"if you don't add since= as one of the parameters, Twitter will sample the last 7 days worth of data depending\n",
        "on how many total tweets there are with the specific hashtag, keyword, or key phrase that you are looking for. You can\n",
        "manually add in the number of items (or tweets) you want to get back in the items() section.\"\"\"\n",
        "\n",
        "for tweet in tweepy.Cursor(api.search, q=\"#breaking\", count=450, since='2020-04-10', lang='en').items(5000):\n",
        "  count += 1\n",
        "  try:\n",
        "    data = [tweet.text, tweet.retweet_count, tweet.user.followers_count]\n",
        "    data = tuple(data)\n",
        "    tweets.append(data)\n",
        "  \n",
        "  except tweepy.TweepError as e:\n",
        "    print(e.reason)\n",
        "    continue\n",
        "\n",
        "  except StopIteration:\n",
        "    break\n",
        "\n",
        "df_tweet = pd.DataFrame(tweets, columns = ['Statement', 'NumOfRetweets', 'UserNumOfFollowers'])\n",
        "df_tweet = df_tweet[:1000]\n",
        "df_tweet.head()"
      ],
      "execution_count": 9,
      "outputs": [
        {
          "output_type": "execute_result",
          "data": {
            "text/html": [
              "<div>\n",
              "<style scoped>\n",
              "    .dataframe tbody tr th:only-of-type {\n",
              "        vertical-align: middle;\n",
              "    }\n",
              "\n",
              "    .dataframe tbody tr th {\n",
              "        vertical-align: top;\n",
              "    }\n",
              "\n",
              "    .dataframe thead th {\n",
              "        text-align: right;\n",
              "    }\n",
              "</style>\n",
              "<table border=\"1\" class=\"dataframe\">\n",
              "  <thead>\n",
              "    <tr style=\"text-align: right;\">\n",
              "      <th></th>\n",
              "      <th>Statement</th>\n",
              "      <th>NumOfRetweets</th>\n",
              "      <th>UserNumOfFollowers</th>\n",
              "    </tr>\n",
              "  </thead>\n",
              "  <tbody>\n",
              "    <tr>\n",
              "      <th>0</th>\n",
              "      <td>RT @CBSLA: #BREAKING: Vans co-founder Paul Van...</td>\n",
              "      <td>5</td>\n",
              "      <td>3655</td>\n",
              "    </tr>\n",
              "    <tr>\n",
              "      <th>1</th>\n",
              "      <td>RT @Saudi_Gazette: #BREAKING: Crown Prince Muh...</td>\n",
              "      <td>31</td>\n",
              "      <td>67</td>\n",
              "    </tr>\n",
              "    <tr>\n",
              "      <th>2</th>\n",
              "      <td>RT @CBSLA: #BREAKING: Vans co-founder Paul Van...</td>\n",
              "      <td>4</td>\n",
              "      <td>1999</td>\n",
              "    </tr>\n",
              "    <tr>\n",
              "      <th>3</th>\n",
              "      <td>RT @AssaadRazzouk: Indonesia announces morator...</td>\n",
              "      <td>103</td>\n",
              "      <td>145</td>\n",
              "    </tr>\n",
              "    <tr>\n",
              "      <th>4</th>\n",
              "      <td>RT @anadoluagency: #BREAKING Turkey demands Is...</td>\n",
              "      <td>12</td>\n",
              "      <td>836</td>\n",
              "    </tr>\n",
              "  </tbody>\n",
              "</table>\n",
              "</div>"
            ],
            "text/plain": [
              "                                           Statement  ...  UserNumOfFollowers\n",
              "0  RT @CBSLA: #BREAKING: Vans co-founder Paul Van...  ...                3655\n",
              "1  RT @Saudi_Gazette: #BREAKING: Crown Prince Muh...  ...                  67\n",
              "2  RT @CBSLA: #BREAKING: Vans co-founder Paul Van...  ...                1999\n",
              "3  RT @AssaadRazzouk: Indonesia announces morator...  ...                 145\n",
              "4  RT @anadoluagency: #BREAKING Turkey demands Is...  ...                 836\n",
              "\n",
              "[5 rows x 3 columns]"
            ]
          },
          "metadata": {
            "tags": []
          },
          "execution_count": 9
        }
      ]
    },
    {
      "cell_type": "markdown",
      "metadata": {
        "id": "B3so3XNt5PXg"
      },
      "source": [
        "**Text Preprocessing**"
      ]
    },
    {
      "cell_type": "code",
      "metadata": {
        "id": "dw71eNinwMKk"
      },
      "source": [
        "df = df_tweet.copy()"
      ],
      "execution_count": 10,
      "outputs": []
    },
    {
      "cell_type": "code",
      "metadata": {
        "id": "mvi7pt-d5R6E"
      },
      "source": [
        "stopwords = stopwords.words('english')\n",
        "stopwords.append(['breaking', 'BREAKING'])\n",
        "\n",
        "def get_text_processing(text):\n",
        "    no_punctuation = [char for char in text if char not in string.punctuation]\n",
        "    no_punctuation = ''.join(no_punctuation)\n",
        "    return ' '.join([word for word in no_punctuation.split() if word.lower() not in stopwords])"
      ],
      "execution_count": 11,
      "outputs": []
    },
    {
      "cell_type": "code",
      "metadata": {
        "id": "52_Rbc3p5953"
      },
      "source": [
        "df['Statement'] = df['Statement'].apply(get_text_processing)"
      ],
      "execution_count": 12,
      "outputs": []
    },
    {
      "cell_type": "markdown",
      "metadata": {
        "id": "55CcQYeeMt7m"
      },
      "source": [
        "##2.Individual Work"
      ]
    },
    {
      "cell_type": "markdown",
      "metadata": {
        "id": "l2ppN_Gj3MXZ"
      },
      "source": [
        "### 2.1.Microfactors generation (Yuxing)"
      ]
    },
    {
      "cell_type": "markdown",
      "metadata": {
        "id": "rkFWFspPVze9"
      },
      "source": [
        "**Generate Microfactors for Factor PsychologyUtilites**"
      ]
    },
    {
      "cell_type": "markdown",
      "metadata": {
        "id": "UxDEvJZuv7yu"
      },
      "source": [
        "**1. Group Confirmation**"
      ]
    },
    {
      "cell_type": "markdown",
      "metadata": {
        "id": "xaSuc38YFWNu"
      },
      "source": [
        "The more retweets, the more social confirmation. We split the number of retwees to 'Confirmation' as 'positive' and 'negative', 300 is the threshold we can use for a 'strong' confirmation or not."
      ]
    },
    {
      "cell_type": "code",
      "metadata": {
        "colab": {
          "base_uri": "https://localhost:8080/",
          "height": 282
        },
        "id": "QvsEfv5U8hNJ",
        "outputId": "e375ee35-2871-4ed3-c014-948e22dc64e7"
      },
      "source": [
        "pd.options.mode.chained_assignment = None\n",
        "\n",
        "ulimit = np.percentile(df.NumOfRetweets, 99)\n",
        "df['NumOfRetweets'].loc[df['NumOfRetweets']>ulimit] = ulimit\n",
        "llimit = np.percentile(df.NumOfRetweets.values, 1)\n",
        "df['NumOfRetweets'].loc[df['NumOfRetweets']<llimit] = llimit\n",
        "df['NumOfRetweets'].plot.hist(color='#86bf91')"
      ],
      "execution_count": 13,
      "outputs": [
        {
          "output_type": "execute_result",
          "data": {
            "text/plain": [
              "<matplotlib.axes._subplots.AxesSubplot at 0x7fc38f83cf50>"
            ]
          },
          "metadata": {
            "tags": []
          },
          "execution_count": 13
        },
        {
          "output_type": "display_data",
          "data": {
            "image/png": "[encoded data removed]",
            "text/plain": [
              "<Figure size 432x288 with 1 Axes>"
            ]
          },
          "metadata": {
            "tags": [],
            "needs_background": "light"
          }
        }
      ]
    },
    {
      "cell_type": "code",
      "metadata": {
        "id": "3i_NvNOaxDcO"
      },
      "source": [
        "def gen_microfactor_confirmation(df):\n",
        "  df['ScaleConfirmation'] = df['NumOfRetweets']/df['NumOfRetweets'].mean()\n",
        "  df['ScaleConfirmation'] = df['ScaleConfirmation'].apply(lambda x: 1 if x > 1 else x)\n",
        "  df['Confirmation'] = df['ScaleConfirmation'].apply(lambda x: 'Positive' if x > 0.2 else 'Negative')\n",
        "\n",
        "gen_microfactor_confirmation(df)"
      ],
      "execution_count": 14,
      "outputs": []
    },
    {
      "cell_type": "code",
      "metadata": {
        "colab": {
          "base_uri": "https://localhost:8080/",
          "height": 296
        },
        "id": "BiDBQZodEhIE",
        "outputId": "f95939c7-9fb4-4232-bf42-a17d06c4ba2f"
      },
      "source": [
        "sns.set_style('whitegrid')\n",
        "sns.countplot(x='Confirmation',data=df, palette='summer')"
      ],
      "execution_count": 15,
      "outputs": [
        {
          "output_type": "execute_result",
          "data": {
            "text/plain": [
              "<matplotlib.axes._subplots.AxesSubplot at 0x7fc38fedbd50>"
            ]
          },
          "metadata": {
            "tags": []
          },
          "execution_count": 15
        },
        {
          "output_type": "display_data",
          "data": {
            "image/png": "[encoded data removed]",
            "text/plain": [
              "<Figure size 432x288 with 1 Axes>"
            ]
          },
          "metadata": {
            "tags": []
          }
        }
      ]
    },
    {
      "cell_type": "markdown",
      "metadata": {
        "id": "-wctT1YPwH58"
      },
      "source": [
        "**2. Author Sentiment**"
      ]
    },
    {
      "cell_type": "markdown",
      "metadata": {
        "id": "Zgl8lL-96Z74"
      },
      "source": [
        "We use SentimentIntensityAnalyzer to detect the score of sentiment."
      ]
    },
    {
      "cell_type": "code",
      "metadata": {
        "id": "RqSTN1I0gXHV"
      },
      "source": [
        "def get_text_sentiment(text):\n",
        "  analyzer = SentimentIntensityAnalyzer()\n",
        "  _sentiment = analyzer.polarity_scores(text)[\"compound\"]\n",
        "  return abs(_sentiment)"
      ],
      "execution_count": 16,
      "outputs": []
    },
    {
      "cell_type": "code",
      "metadata": {
        "id": "smSRphhgkT8T"
      },
      "source": [
        "df['ScaleSentiment'] = df['Statement'].apply(get_text_sentiment)\n",
        "df['Sentiment'] = df['ScaleSentiment'].apply(lambda x: 'Positive' if float(x) > 0.4 else 'Negative')"
      ],
      "execution_count": 17,
      "outputs": []
    },
    {
      "cell_type": "code",
      "metadata": {
        "id": "5pX12JjpVFRJ",
        "colab": {
          "base_uri": "https://localhost:8080/",
          "height": 300
        },
        "outputId": "1b144f95-0e44-4eb5-f6c2-5907cef67429"
      },
      "source": [
        "sns.set_style('whitegrid')\n",
        "sns.countplot(x='Sentiment',data=df, palette='summer')"
      ],
      "execution_count": 18,
      "outputs": [
        {
          "output_type": "execute_result",
          "data": {
            "text/plain": [
              "<matplotlib.axes._subplots.AxesSubplot at 0x7fc38f50ff10>"
            ]
          },
          "metadata": {
            "tags": []
          },
          "execution_count": 18
        },
        {
          "output_type": "display_data",
          "data": {
            "image/png": "[encoded data removed]",
            "text/plain": [
              "<Figure size 432x288 with 1 Axes>"
            ]
          },
          "metadata": {
            "tags": []
          }
        }
      ]
    },
    {
      "cell_type": "markdown",
      "metadata": {
        "id": "NS8-7duA59C7"
      },
      "source": [
        "**3. Opinion Leader**"
      ]
    },
    {
      "cell_type": "markdown",
      "metadata": {
        "id": "aqYWXmgh6Fjc"
      },
      "source": [
        "The opinion leaders are people who have many followers, we will use use number of followers of twitter user to detect the score of opinion leader."
      ]
    },
    {
      "cell_type": "code",
      "metadata": {
        "id": "431o22HP6WxD"
      },
      "source": [
        "def gen_microfactor_opinionleader(df):\n",
        "  df['ScaleOpinionLeader'] = df['UserNumOfFollowers']/df['UserNumOfFollowers'].mean()\n",
        "  df['ScaleOpinionLeader'] = df['ScaleOpinionLeader'].apply(lambda x: 1 if x > 1 else x)\n",
        "  df['OpinionLeader'] = df['ScaleOpinionLeader'].apply(lambda x: 'Positive' if x > 0.2 else 'Negative')\n",
        "\n",
        "gen_microfactor_opinionleader(df)"
      ],
      "execution_count": 19,
      "outputs": []
    },
    {
      "cell_type": "code",
      "metadata": {
        "colab": {
          "base_uri": "https://localhost:8080/",
          "height": 296
        },
        "id": "TglKEwxS2DcK",
        "outputId": "84472b59-78c5-4cb2-b499-0fc937c35e6f"
      },
      "source": [
        "sns.set_style('whitegrid')\n",
        "sns.countplot(x='OpinionLeader',data=df, palette='summer')"
      ],
      "execution_count": 20,
      "outputs": [
        {
          "output_type": "execute_result",
          "data": {
            "text/plain": [
              "<matplotlib.axes._subplots.AxesSubplot at 0x7fc38f543890>"
            ]
          },
          "metadata": {
            "tags": []
          },
          "execution_count": 20
        },
        {
          "output_type": "display_data",
          "data": {
            "image/png": "[encoded data removed]",
            "text/plain": [
              "<Figure size 432x288 with 1 Axes>"
            ]
          },
          "metadata": {
            "tags": []
          }
        }
      ]
    },
    {
      "cell_type": "markdown",
      "metadata": {
        "id": "Ik4VTN7KsDOa"
      },
      "source": [
        "###2.2.Factor generation(Yuxing)\n",
        "* Combine micro-factors to factor PsychologyUtilites using polynomial"
      ]
    },
    {
      "cell_type": "code",
      "metadata": {
        "id": "yFeqv9LG7N5N"
      },
      "source": [
        "# Get factor from micro factors by polynomial\n",
        "df['ScalePsychology'] = df['ScaleConfirmation'] * 0.34 + df['ScaleSentiment'] * 0.33 + df['ScaleOpinionLeader'] * 0.33\n",
        "df['PsychologyUtilites'] = df['ScalePsychology'].apply(lambda x: 'Positive' if x > 0.3 else 'Negative')"
      ],
      "execution_count": 21,
      "outputs": []
    },
    {
      "cell_type": "code",
      "metadata": {
        "colab": {
          "base_uri": "https://localhost:8080/",
          "height": 296
        },
        "id": "QLgllt-lnUFj",
        "outputId": "1078d223-595a-4a44-9c60-0f2630f2eb55"
      },
      "source": [
        "sns.set_style('whitegrid')\n",
        "sns.countplot(x='PsychologyUtilites',data=df, palette='summer')"
      ],
      "execution_count": 22,
      "outputs": [
        {
          "output_type": "execute_result",
          "data": {
            "text/plain": [
              "<matplotlib.axes._subplots.AxesSubplot at 0x7fc38ebac250>"
            ]
          },
          "metadata": {
            "tags": []
          },
          "execution_count": 22
        },
        {
          "output_type": "display_data",
          "data": {
            "image/png": "[encoded data removed]",
            "text/plain": [
              "<Figure size 432x288 with 1 Axes>"
            ]
          },
          "metadata": {
            "tags": []
          }
        }
      ]
    },
    {
      "cell_type": "code",
      "metadata": {
        "colab": {
          "base_uri": "https://localhost:8080/"
        },
        "id": "aMvgffdDOIbC",
        "outputId": "e5b43e54-069d-44ba-cff1-373e02962a1c"
      },
      "source": [
        "df.shape"
      ],
      "execution_count": 23,
      "outputs": [
        {
          "output_type": "execute_result",
          "data": {
            "text/plain": [
              "(1000, 11)"
            ]
          },
          "metadata": {
            "tags": []
          },
          "execution_count": 23
        }
      ]
    },
    {
      "cell_type": "markdown",
      "metadata": {
        "id": "AuADdT8UFgOy"
      },
      "source": [
        "**Construct a pipeline model with count vector Tfidf vector inside**"
      ]
    },
    {
      "cell_type": "markdown",
      "metadata": {
        "id": "okEtMpeHk8AU"
      },
      "source": [
        "Pipeline includes vectorization tfidf transformer and SVM training"
      ]
    },
    {
      "cell_type": "code",
      "metadata": {
        "id": "PAGbzfrrol9S"
      },
      "source": [
        "from sklearn.pipeline import Pipeline\n",
        "from sklearn.model_selection import cross_val_score\n",
        "from sklearn.tree import DecisionTreeClassifier\n",
        "from sklearn.linear_model import LogisticRegression\n",
        "from sklearn.svm import SVC\n",
        "import joblib\n",
        "\n",
        "# A pipeline with data preprocessing, training and prediction\n",
        "pipeline = Pipeline([\n",
        "    ('vect', CountVectorizer()),\n",
        "    ('tfidf', TfidfTransformer()),\n",
        "    ('svm', SVC(C=1, probability=True))\n",
        "])\n",
        "\n",
        "def data_to_pipeline(df, _source=None, _target=None):\n",
        "  # Split data for training and validation\n",
        "  X, y = df[_source].values, df[_target].values\n",
        "  X_train, X_test, y_train, y_test = train_test_split(X, y, test_size=0.30, random_state=42) \n",
        "  \n",
        "  # Training and prediction\n",
        "  pipeline.fit(X_train, y_train)\n",
        "  scores = cross_val_score(pipeline, X_test, y_test, cv=3)\n",
        "  print('now using %s to predict %s' % (_source, _target))\n",
        "  print('cross validation scores:', scores)\n",
        "  print('prediction score:', pipeline.score(X_test, y_test))\n",
        "\n",
        "  # Save the pickle file\n",
        "  pickle_filepath = '/content/' + _target + '_pipeline.pkl'\n",
        "  joblib.dump(pipeline, pickle_filepath)\n",
        "  print('pickle file is created:', pickle_filepath)\n",
        "  print('\\n')"
      ],
      "execution_count": 24,
      "outputs": []
    },
    {
      "cell_type": "code",
      "metadata": {
        "colab": {
          "base_uri": "https://localhost:8080/"
        },
        "id": "2c7q_9SvBV8h",
        "outputId": "c3a7767e-adb0-4232-cc8e-e0df9e8c5585"
      },
      "source": [
        "def factor_1_pipeline(df):\n",
        "  data_to_pipeline(df, _source='Statement', _target='Sentiment')\n",
        "  data_to_pipeline(df, _source='Statement', _target='Confirmation')\n",
        "  data_to_pipeline(df, _source='Statement', _target='OpinionLeader')\n",
        "  data_to_pipeline(df, _source='Statement', _target='PsychologyUtilites')\n",
        "\n",
        "factor_1_pipeline(df)"
      ],
      "execution_count": 25,
      "outputs": [
        {
          "output_type": "stream",
          "text": [
            "now using Statement to predict Sentiment\n",
            "cross validation scores: [0.89 0.89 0.87]\n",
            "prediction score: 0.9333333333333333\n",
            "pickle file is created: /content/Sentiment_pipeline.pkl\n",
            "\n",
            "\n",
            "now using Statement to predict Confirmation\n",
            "cross validation scores: [0.92 0.94 0.91]\n",
            "prediction score: 0.9766666666666667\n",
            "pickle file is created: /content/Confirmation_pipeline.pkl\n",
            "\n",
            "\n",
            "now using Statement to predict OpinionLeader\n",
            "cross validation scores: [0.7  0.71 0.69]\n",
            "prediction score: 0.6866666666666666\n",
            "pickle file is created: /content/OpinionLeader_pipeline.pkl\n",
            "\n",
            "\n",
            "now using Statement to predict PsychologyUtilites\n",
            "cross validation scores: [0.84 0.79 0.81]\n",
            "prediction score: 0.84\n",
            "pickle file is created: /content/PsychologyUtilites_pipeline.pkl\n",
            "\n",
            "\n"
          ],
          "name": "stdout"
        }
      ]
    },
    {
      "cell_type": "markdown",
      "metadata": {
        "id": "bZTHmnD7GwI2"
      },
      "source": [
        "### 2.3.Microfactors generation (Mayuri)"
      ]
    },
    {
      "cell_type": "markdown",
      "metadata": {
        "id": "nIF1_EZUWA0k"
      },
      "source": [
        "**Generate Microfactors for Factor Intent**"
      ]
    },
    {
      "cell_type": "markdown",
      "metadata": {
        "id": "tzl2keUcAvDg"
      },
      "source": [
        "**1. Utterance Score**"
      ]
    },
    {
      "cell_type": "markdown",
      "metadata": {
        "id": "cBwKD2KYCWUt"
      },
      "source": [
        "Where there are more sentences, there are more utterances. We can derive utterance from numberof sentences in the text."
      ]
    },
    {
      "cell_type": "code",
      "metadata": {
        "id": "OdmKn4WCGyr-"
      },
      "source": [
        "from collections import Counter\n",
        "import spacy\n",
        "\n",
        "nlp = spacy.load('en_core_web_sm')\n",
        "\n",
        "def get_sentences_num(text):\n",
        "  _doc = nlp(text)\n",
        "  sentences = list(_doc.sents)\n",
        "  return len(sentences)\n",
        "\n",
        "df['NumOfSent'] = df['Statement'].apply(get_sentences_num)"
      ],
      "execution_count": 26,
      "outputs": []
    },
    {
      "cell_type": "code",
      "metadata": {
        "id": "fHTPCIkTVmsa"
      },
      "source": [
        "def gen_microfactor_utterance(df):\n",
        "  df['ScaleUtterance'] = df['NumOfSent']/df['NumOfSent'].mean()\n",
        "  df['ScaleUtterancen'] = df['ScaleUtterance'].apply(lambda x: 1 if x > 1 else x)\n",
        "  df['Utterance'] = df['ScaleUtterance'].apply(lambda x: 'Positive' if x > 0.9 else 'Negative')\n",
        "\n",
        "gen_microfactor_utterance(df)"
      ],
      "execution_count": 27,
      "outputs": []
    },
    {
      "cell_type": "code",
      "metadata": {
        "colab": {
          "base_uri": "https://localhost:8080/",
          "height": 296
        },
        "id": "qXShrqWSBsJf",
        "outputId": "8b79d1bd-93bd-46c9-f7c4-01c8e60352de"
      },
      "source": [
        "sns.set_style('whitegrid')\n",
        "sns.countplot(x='Utterance',data=df, palette='summer')"
      ],
      "execution_count": 28,
      "outputs": [
        {
          "output_type": "execute_result",
          "data": {
            "text/plain": [
              "<matplotlib.axes._subplots.AxesSubplot at 0x7fc390699ed0>"
            ]
          },
          "metadata": {
            "tags": []
          },
          "execution_count": 28
        },
        {
          "output_type": "display_data",
          "data": {
            "image/png": "[encoded data removed]",
            "text/plain": [
              "<Figure size 432x288 with 1 Axes>"
            ]
          },
          "metadata": {
            "tags": []
          }
        }
      ]
    },
    {
      "cell_type": "markdown",
      "metadata": {
        "id": "T6ZOqGhRGRWl"
      },
      "source": [
        "**2.Speech Score**"
      ]
    },
    {
      "cell_type": "markdown",
      "metadata": {
        "id": "3mXn3pBtMno-"
      },
      "source": [
        "Where there are more verbs and nouns, there are more speech to make. We can derive speech from numberof verbs and nouns in the text."
      ]
    },
    {
      "cell_type": "code",
      "metadata": {
        "id": "gHNuLtN3GXtN"
      },
      "source": [
        "def get_verbnoun_num(text):\n",
        "  _doc = nlp(text)\n",
        "  _no_stopword_doc = [token for token in _doc if not token.is_stop]\n",
        "  return len(_no_stopword_doc)\n",
        "\n",
        "df['NumOfVerbNoun'] = df['Statement'].apply(get_verbnoun_num)"
      ],
      "execution_count": 29,
      "outputs": []
    },
    {
      "cell_type": "code",
      "metadata": {
        "id": "70Ln7p7hGi93"
      },
      "source": [
        "def gen_microfactor_speech(df):\n",
        "  df['ScaleSpeech'] = df['NumOfVerbNoun']/df['NumOfVerbNoun'].mean()\n",
        "  df['ScaleSpeech'] = df['ScaleSpeech'].apply(lambda x: 1 if x > 1 else x)\n",
        "  df['Speech'] = df['ScaleSpeech'].apply(lambda x: 'Positive' if x > 0.95 else 'Negative')\n",
        "\n",
        "gen_microfactor_speech(df)"
      ],
      "execution_count": 30,
      "outputs": []
    },
    {
      "cell_type": "code",
      "metadata": {
        "colab": {
          "base_uri": "https://localhost:8080/",
          "height": 301
        },
        "id": "HHd4Gt6sG74_",
        "outputId": "6e74bd87-c9b4-4f42-db55-eb296f84f0a5"
      },
      "source": [
        "sns.set_style('whitegrid')\n",
        "sns.countplot(x='Speech',data=df, palette='summer')"
      ],
      "execution_count": 31,
      "outputs": [
        {
          "output_type": "execute_result",
          "data": {
            "text/plain": [
              "<matplotlib.axes._subplots.AxesSubplot at 0x7fc3901a52d0>"
            ]
          },
          "metadata": {
            "tags": []
          },
          "execution_count": 31
        },
        {
          "output_type": "display_data",
          "data": {
            "image/png": "[encoded data removed]",
            "text/plain": [
              "<Figure size 432x288 with 1 Axes>"
            ]
          },
          "metadata": {
            "tags": []
          }
        }
      ]
    },
    {
      "cell_type": "markdown",
      "metadata": {
        "id": "Y4evlxrLMeJK"
      },
      "source": [
        "**3.Sentiment**"
      ]
    },
    {
      "cell_type": "markdown",
      "metadata": {
        "id": "ggeMxni_MwP7"
      },
      "source": [
        "Sentiment is a micro factor of intent, also it is micro factor of psychology utility, which has been derived earlier."
      ]
    },
    {
      "cell_type": "code",
      "metadata": {
        "colab": {
          "base_uri": "https://localhost:8080/"
        },
        "id": "Op0zkNMyMYwT",
        "outputId": "6adc490f-6698-47ea-9140-e7616f89f3a3"
      },
      "source": [
        "df['ScaleSentiment'].head()"
      ],
      "execution_count": 32,
      "outputs": [
        {
          "output_type": "execute_result",
          "data": {
            "text/plain": [
              "0    0.5574\n",
              "1    0.0000\n",
              "2    0.5574\n",
              "3    0.0000\n",
              "4    0.1531\n",
              "Name: ScaleSentiment, dtype: float64"
            ]
          },
          "metadata": {
            "tags": []
          },
          "execution_count": 32
        }
      ]
    },
    {
      "cell_type": "markdown",
      "metadata": {
        "id": "gsjqMF3ZLLvH"
      },
      "source": [
        "### 2.4.Factor generation(Mayuri)\n",
        "* Combine micro-factors to factor Intent using polynomial"
      ]
    },
    {
      "cell_type": "code",
      "metadata": {
        "id": "qrlwZeQELLvH"
      },
      "source": [
        "# Get factor from micro factors by polynomial\n",
        "df['ScaleIntent'] = df['ScaleUtterancen'] * 0.3 + df['ScaleSpeech'] * 0.3 + df['ScaleSentiment'] * 0.4\n",
        "df['Intent'] = df['ScaleIntent'].apply(lambda x: 'Positive' if x > 0.65 else 'Negative')"
      ],
      "execution_count": 33,
      "outputs": []
    },
    {
      "cell_type": "code",
      "metadata": {
        "colab": {
          "base_uri": "https://localhost:8080/",
          "height": 296
        },
        "id": "vBxxHDpxLpRD",
        "outputId": "6c9403e6-6e87-4d6a-e36e-e0b16cb4d665"
      },
      "source": [
        "sns.set_style('whitegrid')\n",
        "sns.countplot(x='Intent',data=df, palette='summer')"
      ],
      "execution_count": 34,
      "outputs": [
        {
          "output_type": "execute_result",
          "data": {
            "text/plain": [
              "<matplotlib.axes._subplots.AxesSubplot at 0x7fc390147610>"
            ]
          },
          "metadata": {
            "tags": []
          },
          "execution_count": 34
        },
        {
          "output_type": "display_data",
          "data": {
            "image/png": "[encoded data removed]",
            "text/plain": [
              "<Figure size 432x288 with 1 Axes>"
            ]
          },
          "metadata": {
            "tags": []
          }
        }
      ]
    },
    {
      "cell_type": "code",
      "metadata": {
        "colab": {
          "base_uri": "https://localhost:8080/"
        },
        "id": "GWeNTWxvKpgj",
        "outputId": "77b871ff-c99d-499c-f384-44e6cfe2e0c4"
      },
      "source": [
        "def factor_2_pipeline(df):\n",
        "  data_to_pipeline(df, _source='Statement', _target='Utterance')\n",
        "  data_to_pipeline(df, _source='Statement', _target='Speech')\n",
        "  data_to_pipeline(df, _source='Statement', _target='Intent')\n",
        "\n",
        "factor_2_pipeline(df)"
      ],
      "execution_count": 35,
      "outputs": [
        {
          "output_type": "stream",
          "text": [
            "now using Statement to predict Utterance\n",
            "cross validation scores: [0.87 0.85 0.82]\n",
            "prediction score: 0.9366666666666666\n",
            "pickle file is created: /content/Utterance_pipeline.pkl\n",
            "\n",
            "\n",
            "now using Statement to predict Speech\n",
            "cross validation scores: [0.9  0.92 0.93]\n",
            "prediction score: 0.9366666666666666\n",
            "pickle file is created: /content/Speech_pipeline.pkl\n",
            "\n",
            "\n",
            "now using Statement to predict Intent\n",
            "cross validation scores: [0.9  0.87 0.85]\n",
            "prediction score: 0.93\n",
            "pickle file is created: /content/Intent_pipeline.pkl\n",
            "\n",
            "\n"
          ],
          "name": "stdout"
        }
      ]
    },
    {
      "cell_type": "markdown",
      "metadata": {
        "id": "Jl3I183lRr40"
      },
      "source": [
        "## 3.Team Work"
      ]
    },
    {
      "cell_type": "markdown",
      "metadata": {
        "id": "CHo7uG_B21GU"
      },
      "source": [
        "###3.1.Load the pickled models for microfactors"
      ]
    },
    {
      "cell_type": "code",
      "metadata": {
        "colab": {
          "base_uri": "https://localhost:8080/"
        },
        "id": "tpFRxQMw6YrK",
        "outputId": "17e810c0-7340-48e2-9046-32659e68aa2b"
      },
      "source": [
        "! ls -l /content/*.pkl"
      ],
      "execution_count": 36,
      "outputs": [
        {
          "output_type": "stream",
          "text": [
            "-rw-r--r-- 1 root root 156272 May  7 22:05 /content/Confirmation_pipeline.pkl\n",
            "-rw-r--r-- 1 root root 153947 May  7 22:09 /content/Intent_pipeline.pkl\n",
            "-rw-r--r-- 1 root root 211316 May  7 22:05 /content/OpinionLeader_pipeline.pkl\n",
            "-rw-r--r-- 1 root root 171344 May  7 22:05 /content/PsychologyUtilites_pipeline.pkl\n",
            "-rw-r--r-- 1 root root 154211 May  7 22:05 /content/Sentiment_pipeline.pkl\n",
            "-rw-r--r-- 1 root root 152327 May  7 22:09 /content/Speech_pipeline.pkl\n",
            "-rw-r--r-- 1 root root 157376 May  7 22:09 /content/Utterance_pipeline.pkl\n",
            "-rw-r--r-- 1 root root  11246 May  7 19:03 /content/Verdict_pipeline.pkl\n"
          ],
          "name": "stdout"
        }
      ]
    },
    {
      "cell_type": "code",
      "metadata": {
        "id": "8ywq-gR921WD"
      },
      "source": [
        "import joblib\n",
        "\n",
        "microfactor_list = [\n",
        "                    'Sentiment', \n",
        "                    'Confirmation', \n",
        "                    'OpinionLeader',\n",
        "                    'Utterance',\n",
        "                    'Speech',\n",
        "                    'Intent'\n",
        "                  ]\n",
        "\n",
        "def get_micrafactor_from_pickles_(df):\n",
        "  # Preprocessing\n",
        "  df['Statement'] = df['Statement'].apply(get_text_processing)\n",
        "  statement = df['Statement'].to_numpy()\n",
        "  for microfactor in microfactor_list:\n",
        "    print('generating microfactor :', microfactor)\n",
        "    # load microfactor pickle\n",
        "    pickle_filepath = '/content/{}_pipeline.pkl'.format(microfactor)\n",
        "    microfactor_model = joblib.load(open(pickle_filepath, 'rb'))\n",
        "    # create new microfact column\n",
        "    y_microfactor = microfactor_model.predict(statement)\n",
        "    df[microfactor] = y_microfactor\n",
        "    df[microfactor] = df[microfactor].apply(lambda x: 1 if x == 'Positive' else 0)\n",
        "    "
      ],
      "execution_count": 37,
      "outputs": []
    },
    {
      "cell_type": "markdown",
      "metadata": {
        "id": "R586EHFw3LSB"
      },
      "source": [
        "###3.2.Ensemble a true-o-meter classification pipeline"
      ]
    },
    {
      "cell_type": "markdown",
      "metadata": {
        "id": "aH-A65lYqycQ"
      },
      "source": [
        "**Use politicfact dataset to generate microfactors and train Verdict**"
      ]
    },
    {
      "cell_type": "code",
      "metadata": {
        "colab": {
          "base_uri": "https://localhost:8080/"
        },
        "id": "omfvnRMjGdH3",
        "outputId": "269d28e6-2c27-4608-c73d-81678ebcbb01"
      },
      "source": [
        "df = df_sample.copy()\n",
        "get_micrafactor_from_pickles_(df)"
      ],
      "execution_count": 38,
      "outputs": [
        {
          "output_type": "stream",
          "text": [
            "generating microfactor : Sentiment\n",
            "generating microfactor : Confirmation\n",
            "generating microfactor : OpinionLeader\n",
            "generating microfactor : Utterance\n",
            "generating microfactor : Speech\n",
            "generating microfactor : Intent\n"
          ],
          "name": "stdout"
        }
      ]
    },
    {
      "cell_type": "markdown",
      "metadata": {
        "id": "nIxVGNHcrtj-"
      },
      "source": [
        "**Use ensembled model and microfactors to train Verdict, model will be pickled in data_to_pipeline processing**"
      ]
    },
    {
      "cell_type": "code",
      "metadata": {
        "colab": {
          "base_uri": "https://localhost:8080/"
        },
        "id": "YyOowx3oNL_Q",
        "outputId": "135e8fbf-359b-49e3-d82f-63589e14dd28"
      },
      "source": [
        "pipeline = Pipeline([\n",
        "    ('standardscaler', StandardScaler()),\n",
        "    ('svm', SVC(C=1, probability=True))\n",
        "])\n",
        "\n",
        "data_to_pipeline(df, _source = microfactor_list, _target = 'Verdict')"
      ],
      "execution_count": 39,
      "outputs": [
        {
          "output_type": "stream",
          "text": [
            "now using ['Sentiment', 'Confirmation', 'OpinionLeader', 'Utterance', 'Speech', 'Intent'] to predict Verdict\n",
            "cross validation scores: [0.1875     0.23404255 0.23404255]\n",
            "prediction score: 0.2323943661971831\n",
            "pickle file is created: /content/Verdict_pipeline.pkl\n",
            "\n",
            "\n"
          ],
          "name": "stdout"
        }
      ]
    },
    {
      "cell_type": "markdown",
      "metadata": {
        "id": "ttbvMNqL2_JW"
      },
      "source": [
        "###3.3.Automated Inference Pipeline\n"
      ]
    },
    {
      "cell_type": "markdown",
      "metadata": {
        "id": "UCP-VhCzReE3"
      },
      "source": [
        "**Load pickled true-o-meter pipeline**"
      ]
    },
    {
      "cell_type": "code",
      "metadata": {
        "id": "MBuqNrU6RffR"
      },
      "source": [
        "pickle_filepath = '/content/Verdict_pipeline.pkl'\n",
        "o_meter_model = joblib.load(open(pickle_filepath, 'rb'))"
      ],
      "execution_count": 40,
      "outputs": []
    },
    {
      "cell_type": "markdown",
      "metadata": {
        "id": "Q1WuitA3qCib"
      },
      "source": [
        "**Read a new piece of data from politifact**"
      ]
    },
    {
      "cell_type": "code",
      "metadata": {
        "id": "os7X1gZy3KWK"
      },
      "source": [
        "records = scrape_data_from_politifact(start=12, end=13)\n",
        "df = pd.DataFrame(records, columns=['Date', 'Issue','Reporter','Author', 'Statement', 'Description', 'Verdict', 'Url'])  "
      ],
      "execution_count": 43,
      "outputs": []
    },
    {
      "cell_type": "markdown",
      "metadata": {
        "id": "TjxtC2m5p4F0"
      },
      "source": [
        "**Predict and compare the Verdict**"
      ]
    },
    {
      "cell_type": "code",
      "metadata": {
        "colab": {
          "base_uri": "https://localhost:8080/",
          "height": 304
        },
        "id": "6C89fTR5p4SK",
        "outputId": "d84f7da1-14c7-4171-f9c1-586f0496fec0"
      },
      "source": [
        "get_micrafactor_from_pickles_(df)\n",
        "df['pred_verdict'] = o_meter_model.predict(df[microfactor_list])\n",
        "df_intestest = df[['Statement', 'Verdict', 'pred_verdict']]\n",
        "df_intestest.head()"
      ],
      "execution_count": 44,
      "outputs": [
        {
          "output_type": "stream",
          "text": [
            "generating microfactor : Sentiment\n",
            "generating microfactor : Confirmation\n",
            "generating microfactor : OpinionLeader\n",
            "generating microfactor : Utterance\n",
            "generating microfactor : Speech\n",
            "generating microfactor : Intent\n"
          ],
          "name": "stdout"
        },
        {
          "output_type": "execute_result",
          "data": {
            "text/html": [
              "<div>\n",
              "<style scoped>\n",
              "    .dataframe tbody tr th:only-of-type {\n",
              "        vertical-align: middle;\n",
              "    }\n",
              "\n",
              "    .dataframe tbody tr th {\n",
              "        vertical-align: top;\n",
              "    }\n",
              "\n",
              "    .dataframe thead th {\n",
              "        text-align: right;\n",
              "    }\n",
              "</style>\n",
              "<table border=\"1\" class=\"dataframe\">\n",
              "  <thead>\n",
              "    <tr style=\"text-align: right;\">\n",
              "      <th></th>\n",
              "      <th>Statement</th>\n",
              "      <th>Verdict</th>\n",
              "      <th>pred_verdict</th>\n",
              "    </tr>\n",
              "  </thead>\n",
              "  <tbody>\n",
              "    <tr>\n",
              "      <th>0</th>\n",
              "      <td>Says Chelsea Clinton tweeted Jesus alive today...</td>\n",
              "      <td>pants-fire</td>\n",
              "      <td>false</td>\n",
              "    </tr>\n",
              "    <tr>\n",
              "      <th>1</th>\n",
              "      <td>“Joe Biden puts prolife groups domestic extrem...</td>\n",
              "      <td>barely-true</td>\n",
              "      <td>false</td>\n",
              "    </tr>\n",
              "    <tr>\n",
              "      <th>2</th>\n",
              "      <td>“Innocent lives saved” ending taxpayer funding...</td>\n",
              "      <td>false</td>\n",
              "      <td>false</td>\n",
              "    </tr>\n",
              "    <tr>\n",
              "      <th>3</th>\n",
              "      <td>“aborted male fetus” OxfordAstraZeneca “Covid ...</td>\n",
              "      <td>false</td>\n",
              "      <td>false</td>\n",
              "    </tr>\n",
              "    <tr>\n",
              "      <th>4</th>\n",
              "      <td>Says Doug Jones voted spend tax dollars latete...</td>\n",
              "      <td>false</td>\n",
              "      <td>false</td>\n",
              "    </tr>\n",
              "  </tbody>\n",
              "</table>\n",
              "</div>"
            ],
            "text/plain": [
              "                                           Statement      Verdict pred_verdict\n",
              "0  Says Chelsea Clinton tweeted Jesus alive today...   pants-fire        false\n",
              "1  “Joe Biden puts prolife groups domestic extrem...  barely-true        false\n",
              "2  “Innocent lives saved” ending taxpayer funding...        false        false\n",
              "3  “aborted male fetus” OxfordAstraZeneca “Covid ...        false        false\n",
              "4  Says Doug Jones voted spend tax dollars latete...        false        false"
            ]
          },
          "metadata": {
            "tags": []
          },
          "execution_count": 44
        }
      ]
    }
  ]
}