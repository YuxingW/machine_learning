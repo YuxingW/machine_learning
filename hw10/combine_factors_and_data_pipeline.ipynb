{
  "nbformat": 4,
  "nbformat_minor": 0,
  "metadata": {
    "colab": {
      "name": "Copy of Copy of sentiment_analysis_tutorial.ipynb",
      "provenance": [],
      "collapsed_sections": [],
      "toc_visible": true,
      "include_colab_link": true
    },
    "kernelspec": {
      "name": "python3",
      "display_name": "Python 3"
    }
  },
  "cells": [
    {
      "cell_type": "markdown",
      "metadata": {
        "id": "view-in-github",
        "colab_type": "text"
      },
      "source": [
        "<a href=\"https://colab.research.google.com/github/YuxingW/machine_learning/blob/main/hw10/combine_factors_and_data_pipeline.ipynb\" target=\"_parent\"><img src=\"https://colab.research.google.com/assets/colab-badge.svg\" alt=\"Open In Colab\"/></a>"
      ]
    },
    {
      "cell_type": "markdown",
      "metadata": {
        "id": "WF4Qh5xVqM4D"
      },
      "source": [
        "## CMPE 257 - MLSprings 2021 Cohort\n",
        "Objective: Detect fake news in political datasets using factors\n",
        "mircro factors <br />\n",
        "Team DataCorps - Yuxing Wang, Arun Talkad, Mayuri Lalwani\n",
        "\n",
        "## True-o-meter Pipeline\n",
        "\n",
        "Micorfactors for Factor - Sychology Utilities, Yuxing\n",
        "* Sentiment\n",
        "* Group confirmation\n",
        "* Opinion leader\n",
        "\n",
        "Micorfactors for Factor - Intent, Mayuri\n",
        "* Utterance\n",
        "* Speech\n",
        "* Sentiment\n",
        "\n",
        "Micorfactors for Factor -Incredibility, Arun\n",
        "* Incredibility\n",
        "\n",
        "Reference: \n",
        "* https://towardsai.net/p/nlp/sentiment-analysis-opinion-mining-with-python-nlp-tutorial-d1f173ca4e3c\n",
        "* https://github.com/towardsai/tutorials/tree/master/sentiment_analysis_tutorial\n",
        "* https://machinelearningmastery.com/stacking-ensemble-machine-learning-with-python/\n"
      ]
    },
    {
      "cell_type": "markdown",
      "metadata": {
        "id": "7PnmDlwC8eFK"
      },
      "source": [
        "## 1.Data Preparation\n",
        "* Scrape data from politifact\n",
        "* Fetch twitter tweets by APIs"
      ]
    },
    {
      "cell_type": "markdown",
      "metadata": {
        "id": "cCdKoergjmDw"
      },
      "source": [
        "###1.1.Scrape data from politifact"
      ]
    },
    {
      "cell_type": "code",
      "metadata": {
        "id": "VLl8z7VEjpMw"
      },
      "source": [
        "!pip install -q beautifulsoup4\n",
        "!pip install -q vaderSentiment"
      ],
      "execution_count": 1,
      "outputs": []
    },
    {
      "cell_type": "markdown",
      "metadata": {
        "id": "-hBtFjjoqV2_"
      },
      "source": [
        "**Import Required Packages**"
      ]
    },
    {
      "cell_type": "code",
      "metadata": {
        "colab": {
          "base_uri": "https://localhost:8080/"
        },
        "id": "-sSRIdY1HZCS",
        "outputId": "4b37f221-e7fc-4ba6-d443-f8309df81860"
      },
      "source": [
        "import pandas as pd\n",
        "import numpy as np\n",
        "import seaborn as sns\n",
        "from bs4 import BeautifulSoup\n",
        "import re\n",
        "import requests\n",
        "import string\n",
        "from string import punctuation\n",
        "from sklearn.preprocessing import StandardScaler\n",
        "from io import BytesIO\n",
        "import nltk\n",
        "from nltk.corpus import stopwords\n",
        "nltk.download('stopwords')\n",
        "\n",
        "\n",
        "import matplotlib.pyplot as plt\n",
        "from sklearn.model_selection import train_test_split\n",
        "from sklearn.feature_extraction.text import CountVectorizer\n",
        "from sklearn.feature_extraction.text import TfidfTransformer\n",
        "\n",
        "import tensorflow as tf\n",
        "from tensorflow.keras.models import Sequential\n",
        "from tensorflow.keras.layers import Dense, Activation, Dropout\n",
        "from tensorflow.keras.callbacks import EarlyStopping\n",
        "from vaderSentiment.vaderSentiment import SentimentIntensityAnalyzer"
      ],
      "execution_count": 2,
      "outputs": [
        {
          "output_type": "stream",
          "text": [
            "[nltk_data] Downloading package stopwords to /root/nltk_data...\n",
            "[nltk_data]   Package stopwords is already up-to-date!\n"
          ],
          "name": "stdout"
        }
      ]
    },
    {
      "cell_type": "code",
      "metadata": {
        "id": "VIodWee7Erz8",
        "colab": {
          "base_uri": "https://localhost:8080/",
          "height": 281
        },
        "outputId": "9254cba6-0bf5-4b0b-eac6-a230b936625f"
      },
      "source": [
        "def scrape_data_from_politifact(start=1, end=10):\n",
        "  url = \"https://www.politifact.com/issues/\"\n",
        "  issues = []\n",
        "  r = requests.get(url)\n",
        "  soup = BeautifulSoup(r.text,'html.parser')\n",
        "  results = soup.find_all('div', attrs={'class':'c-chyron__value'})\n",
        "  for result in results:\n",
        "    name = result.find('a').text\n",
        "    issue = result.find('a')['href'].replace(\"/\",\"\")\n",
        "    issues.append((name, issue))\n",
        "  url = \"https://www.politifact.com/factchecks/list/?page={pgno}&category={category}\"\n",
        "\n",
        "  records = []  \n",
        "\n",
        "  for i in range(1,10):\n",
        "    for issue, issue_url in issues[0:5]:\n",
        "      fUrl = url.format(pgno=str(i), category=issue_url)\n",
        "      r = requests.get(fUrl)\n",
        "      soup = BeautifulSoup(r.text, 'html.parser')  \n",
        "      results = soup.find_all('article', attrs={'class':'m-statement'})\n",
        "      for result in results:\n",
        "        date = result.find('footer',attrs={'class':'m-statement__footer'}).text.split(\"•\")[1].rstrip(\"\\n\")\n",
        "        reporter = result.find('footer',attrs={'class':'m-statement__footer'}).text.split(\"•\")[0].replace(\"\\nBy\",\"\")   \n",
        "        author = result.find('a',attrs={'class':'m-statement__name'}).text.replace(\"\\n\",\"\")\n",
        "        statement =  result.find('div', attrs = {'class':'m-statement__quote'}).find('a').text.replace(\"\\n\",\"\")\n",
        "        statement_descr = result.find('div', {'class':'m-statement__desc'}).text.replace(\"\\n\",\"\")\n",
        "        article_url =  result.find('a')['href']\n",
        "        verdict = result.find('img', attrs = {'class':'c-image__thumb'}, alt=True).attrs['alt']\n",
        "        records.append(( date, issue, reporter, author, statement, statement_descr, verdict, article_url))\n",
        "  return records\n",
        "\n",
        "records = scrape_data_from_politifact()\n",
        "df_politifact = pd.DataFrame(records,\n",
        "                         columns=['Date', 'Issue','Reporter','Author', 'Statement', 'Description', 'Verdict', 'Url'])  \n",
        "df_politifact.head()"
      ],
      "execution_count": 3,
      "outputs": [
        {
          "output_type": "execute_result",
          "data": {
            "text/html": [
              "<div>\n",
              "<style scoped>\n",
              "    .dataframe tbody tr th:only-of-type {\n",
              "        vertical-align: middle;\n",
              "    }\n",
              "\n",
              "    .dataframe tbody tr th {\n",
              "        vertical-align: top;\n",
              "    }\n",
              "\n",
              "    .dataframe thead th {\n",
              "        text-align: right;\n",
              "    }\n",
              "</style>\n",
              "<table border=\"1\" class=\"dataframe\">\n",
              "  <thead>\n",
              "    <tr style=\"text-align: right;\">\n",
              "      <th></th>\n",
              "      <th>Date</th>\n",
              "      <th>Issue</th>\n",
              "      <th>Reporter</th>\n",
              "      <th>Author</th>\n",
              "      <th>Statement</th>\n",
              "      <th>Description</th>\n",
              "      <th>Verdict</th>\n",
              "      <th>Url</th>\n",
              "    </tr>\n",
              "  </thead>\n",
              "  <tbody>\n",
              "    <tr>\n",
              "      <th>0</th>\n",
              "      <td>May 7, 2021</td>\n",
              "      <td>Abortion</td>\n",
              "      <td>Bill McCarthy</td>\n",
              "      <td>Facebook posts</td>\n",
              "      <td>Says Chelsea Clinton tweeted, \"If Jesus were a...</td>\n",
              "      <td>stated on May 7, 2021 in a Facebook post:</td>\n",
              "      <td>pants-fire</td>\n",
              "      <td>/personalities/facebook-posts/</td>\n",
              "    </tr>\n",
              "    <tr>\n",
              "      <th>1</th>\n",
              "      <td>March 31, 2021</td>\n",
              "      <td>Abortion</td>\n",
              "      <td>Tom Kertscher</td>\n",
              "      <td>Facebook posts</td>\n",
              "      <td>“Joe Biden puts pro-life groups on domestic ex...</td>\n",
              "      <td>stated on March 29, 2021 in a Facebook post:</td>\n",
              "      <td>barely-true</td>\n",
              "      <td>/personalities/facebook-posts/</td>\n",
              "    </tr>\n",
              "    <tr>\n",
              "      <th>2</th>\n",
              "      <td>February 12, 2021</td>\n",
              "      <td>Abortion</td>\n",
              "      <td>Brandon Mulder</td>\n",
              "      <td>Greg Abbott</td>\n",
              "      <td>“Innocent lives will be saved” by ending taxpa...</td>\n",
              "      <td>stated on January 24, 2021 in a tweet:</td>\n",
              "      <td>false</td>\n",
              "      <td>/personalities/greg-abbott/</td>\n",
              "    </tr>\n",
              "    <tr>\n",
              "      <th>3</th>\n",
              "      <td>November 18, 2020</td>\n",
              "      <td>Abortion</td>\n",
              "      <td>Noah Y. Kim</td>\n",
              "      <td>Facebook posts</td>\n",
              "      <td>There is “aborted male fetus” in the Oxford-As...</td>\n",
              "      <td>stated on November 15, 2020 in a Facebook post:</td>\n",
              "      <td>false</td>\n",
              "      <td>/personalities/facebook-posts/</td>\n",
              "    </tr>\n",
              "    <tr>\n",
              "      <th>4</th>\n",
              "      <td>October 14, 2020</td>\n",
              "      <td>Abortion</td>\n",
              "      <td>Tom Kertscher</td>\n",
              "      <td>Tommy Tuberville</td>\n",
              "      <td>Says Doug Jones \"has voted to spend our tax do...</td>\n",
              "      <td>stated on October 8, 2020 in an ad:</td>\n",
              "      <td>false</td>\n",
              "      <td>/personalities/tommy-tuberville/</td>\n",
              "    </tr>\n",
              "  </tbody>\n",
              "</table>\n",
              "</div>"
            ],
            "text/plain": [
              "                 Date     Issue  ...      Verdict                               Url\n",
              "0         May 7, 2021  Abortion  ...   pants-fire    /personalities/facebook-posts/\n",
              "1      March 31, 2021  Abortion  ...  barely-true    /personalities/facebook-posts/\n",
              "2   February 12, 2021  Abortion  ...        false       /personalities/greg-abbott/\n",
              "3   November 18, 2020  Abortion  ...        false    /personalities/facebook-posts/\n",
              "4    October 14, 2020  Abortion  ...        false  /personalities/tommy-tuberville/\n",
              "\n",
              "[5 rows x 8 columns]"
            ]
          },
          "metadata": {
            "tags": []
          },
          "execution_count": 3
        }
      ]
    },
    {
      "cell_type": "markdown",
      "metadata": {
        "id": "YUH7jv5KrgG-"
      },
      "source": [
        "###1.2.Scrape data from twitter"
      ]
    },
    {
      "cell_type": "code",
      "metadata": {
        "id": "Q4IUPTjmmcy4"
      },
      "source": [
        "!pip install -q datasketch\n",
        "!pip install -q networkx "
      ],
      "execution_count": 4,
      "outputs": []
    },
    {
      "cell_type": "code",
      "metadata": {
        "id": "huNUYbGMmKHm"
      },
      "source": [
        "import tweepy\n",
        "from tweepy import OAuthHandler\n",
        "import pandas as pd\n",
        "import numpy as np\n",
        "import re\n",
        "import time\n",
        "from datasketch import MinHash, MinHashLSH"
      ],
      "execution_count": 5,
      "outputs": []
    },
    {
      "cell_type": "code",
      "metadata": {
        "colab": {
          "base_uri": "https://localhost:8080/",
          "height": 197
        },
        "id": "o53hhvmfmKmZ",
        "outputId": "fe78cad2-4553-4f31-cd0d-d3b9fd3a5460"
      },
      "source": [
        "def scrape_data_from_twitter():\n",
        "  access_token = '1311987544507084800-iYuPqERzopIZuuyxaZ8xnqARcyKrR1'\n",
        "  access_token_secret = 'DCJg5kE7srBZRToNlzF0xqT3hcxonnXMlMXKWjX91wyTe'\n",
        "  consumer_key = 'YQLJJb0ELY5pdXbx7WkQXtRXo'\n",
        "  consumer_secret = 'HCgQga7Mj33C5E19IP7Dr3qGChmc85M6IEYXSGtI6g4cdplBYw'\n",
        "\n",
        "  auth = tweepy.OAuthHandler(consumer_key, consumer_secret)\n",
        "  auth.set_access_token(access_token, access_token_secret)\n",
        "\n",
        "  api = tweepy.API(auth, wait_on_rate_limit=True, wait_on_rate_limit_notify=True)\n",
        "\n",
        "  tweets = []\n",
        "\n",
        "  count = 1\n",
        "\n",
        "  \"\"\"if you don't add since= as one of the parameters, Twitter will sample the last 7 days worth of data depending\n",
        "  on how many total tweets there are with the specific hashtag, keyword, or key phrase that you are looking for. You can\n",
        "  manually add in the number of items (or tweets) you want to get back in the items() section.\"\"\"\n",
        "\n",
        "  for tweet in tweepy.Cursor(api.search, q=\"#breaking\", count=450, since='2020-04-10', lang='en').items(5000):\n",
        "    count += 1\n",
        "    try:\n",
        "      data = [tweet.text, tweet.retweet_count, tweet.user.followers_count]\n",
        "      data = tuple(data)\n",
        "      tweets.append(data)\n",
        "    \n",
        "    except tweepy.TweepError as e:\n",
        "      print(e.reason)\n",
        "      continue\n",
        "\n",
        "    except StopIteration:\n",
        "      break\n",
        "  return tweets\n",
        "\n",
        "tweets = scrape_data_from_twitter()\n",
        "df_tweet = pd.DataFrame(tweets, columns = ['Statement', 'NumOfRetweets', 'UserNumOfFollowers'])\n",
        "df_tweet = df_tweet[:1000]\n",
        "df_tweet.head()"
      ],
      "execution_count": 6,
      "outputs": [
        {
          "output_type": "execute_result",
          "data": {
            "text/html": [
              "<div>\n",
              "<style scoped>\n",
              "    .dataframe tbody tr th:only-of-type {\n",
              "        vertical-align: middle;\n",
              "    }\n",
              "\n",
              "    .dataframe tbody tr th {\n",
              "        vertical-align: top;\n",
              "    }\n",
              "\n",
              "    .dataframe thead th {\n",
              "        text-align: right;\n",
              "    }\n",
              "</style>\n",
              "<table border=\"1\" class=\"dataframe\">\n",
              "  <thead>\n",
              "    <tr style=\"text-align: right;\">\n",
              "      <th></th>\n",
              "      <th>Statement</th>\n",
              "      <th>NumOfRetweets</th>\n",
              "      <th>UserNumOfFollowers</th>\n",
              "    </tr>\n",
              "  </thead>\n",
              "  <tbody>\n",
              "    <tr>\n",
              "      <th>0</th>\n",
              "      <td>RT @ABC7: #BREAKING California reports first y...</td>\n",
              "      <td>105</td>\n",
              "      <td>24</td>\n",
              "    </tr>\n",
              "    <tr>\n",
              "      <th>1</th>\n",
              "      <td>RT @Plchakraborty: #Breaking| West Bengal CID ...</td>\n",
              "      <td>760</td>\n",
              "      <td>2795</td>\n",
              "    </tr>\n",
              "    <tr>\n",
              "      <th>2</th>\n",
              "      <td>RT @Saudi_Gazette: #BREAKING: The Custodian of...</td>\n",
              "      <td>92</td>\n",
              "      <td>269</td>\n",
              "    </tr>\n",
              "    <tr>\n",
              "      <th>3</th>\n",
              "      <td>RT @HinduAmerican: #Breaking: @HinduAmerican f...</td>\n",
              "      <td>63</td>\n",
              "      <td>30</td>\n",
              "    </tr>\n",
              "    <tr>\n",
              "      <th>4</th>\n",
              "      <td>#BREAKING: The Custodian of the Two Holy Mosqu...</td>\n",
              "      <td>0</td>\n",
              "      <td>2523</td>\n",
              "    </tr>\n",
              "  </tbody>\n",
              "</table>\n",
              "</div>"
            ],
            "text/plain": [
              "                                           Statement  ...  UserNumOfFollowers\n",
              "0  RT @ABC7: #BREAKING California reports first y...  ...                  24\n",
              "1  RT @Plchakraborty: #Breaking| West Bengal CID ...  ...                2795\n",
              "2  RT @Saudi_Gazette: #BREAKING: The Custodian of...  ...                 269\n",
              "3  RT @HinduAmerican: #Breaking: @HinduAmerican f...  ...                  30\n",
              "4  #BREAKING: The Custodian of the Two Holy Mosqu...  ...                2523\n",
              "\n",
              "[5 rows x 3 columns]"
            ]
          },
          "metadata": {
            "tags": []
          },
          "execution_count": 6
        }
      ]
    },
    {
      "cell_type": "markdown",
      "metadata": {
        "id": "bb3Z7vsICzqB"
      },
      "source": [
        "###1.3.Scrapte data from newsapi"
      ]
    },
    {
      "cell_type": "code",
      "metadata": {
        "colab": {
          "base_uri": "https://localhost:8080/",
          "height": 197
        },
        "id": "JAhvPEQ_C44Q",
        "outputId": "78431d41-3ec7-4ec8-b98b-759447433530"
      },
      "source": [
        " def scrape_data_from_newsapi():\n",
        "   # BBC news api\n",
        "   my_url = \"https://newsapi.org/v2/top-headlines?country=us&category=general&apiKey=4aa01326eb3147a881ad8f93863c9663\"\n",
        "   my_open_bbc_page = requests.get(my_url).json()\n",
        "   my_article = my_open_bbc_page[\"articles\"]\n",
        "   my_results = []\n",
        "   for ar in my_article:\n",
        "      my_results.append(ar[\"title\"])\n",
        "\n",
        "   return my_results\n",
        "\n",
        "news = scrape_data_from_newsapi()\n",
        "df_news = pd.DataFrame(news, columns = ['Statement'])\n",
        "df_news.head()"
      ],
      "execution_count": 7,
      "outputs": [
        {
          "output_type": "execute_result",
          "data": {
            "text/html": [
              "<div>\n",
              "<style scoped>\n",
              "    .dataframe tbody tr th:only-of-type {\n",
              "        vertical-align: middle;\n",
              "    }\n",
              "\n",
              "    .dataframe tbody tr th {\n",
              "        vertical-align: top;\n",
              "    }\n",
              "\n",
              "    .dataframe thead th {\n",
              "        text-align: right;\n",
              "    }\n",
              "</style>\n",
              "<table border=\"1\" class=\"dataframe\">\n",
              "  <thead>\n",
              "    <tr style=\"text-align: right;\">\n",
              "      <th></th>\n",
              "      <th>Statement</th>\n",
              "    </tr>\n",
              "  </thead>\n",
              "  <tbody>\n",
              "    <tr>\n",
              "      <th>0</th>\n",
              "      <td>Five takeaways on a surprisingly poor jobs rep...</td>\n",
              "    </tr>\n",
              "    <tr>\n",
              "      <th>1</th>\n",
              "      <td>Zion Williamson out indefinitely with fracture...</td>\n",
              "    </tr>\n",
              "    <tr>\n",
              "      <th>2</th>\n",
              "      <td>Mike Holmgren: Packers not handling Aaron Rodg...</td>\n",
              "    </tr>\n",
              "    <tr>\n",
              "      <th>3</th>\n",
              "      <td>Resident Evil Village Sets New Series Record W...</td>\n",
              "    </tr>\n",
              "    <tr>\n",
              "      <th>4</th>\n",
              "      <td>CDC website now emphasizes coronavirus spreads...</td>\n",
              "    </tr>\n",
              "  </tbody>\n",
              "</table>\n",
              "</div>"
            ],
            "text/plain": [
              "                                           Statement\n",
              "0  Five takeaways on a surprisingly poor jobs rep...\n",
              "1  Zion Williamson out indefinitely with fracture...\n",
              "2  Mike Holmgren: Packers not handling Aaron Rodg...\n",
              "3  Resident Evil Village Sets New Series Record W...\n",
              "4  CDC website now emphasizes coronavirus spreads..."
            ]
          },
          "metadata": {
            "tags": []
          },
          "execution_count": 7
        }
      ]
    },
    {
      "cell_type": "markdown",
      "metadata": {
        "id": "B3so3XNt5PXg"
      },
      "source": [
        "**Text Preprocessing**"
      ]
    },
    {
      "cell_type": "code",
      "metadata": {
        "id": "dw71eNinwMKk"
      },
      "source": [
        "df = df_tweet.copy()"
      ],
      "execution_count": 8,
      "outputs": []
    },
    {
      "cell_type": "code",
      "metadata": {
        "id": "mvi7pt-d5R6E"
      },
      "source": [
        "stopwords = stopwords.words('english')\n",
        "stopwords.append(['breaking', 'BREAKING'])\n",
        "\n",
        "def get_text_processing(text):\n",
        "    no_punctuation = [char for char in text if char not in string.punctuation]\n",
        "    no_punctuation = ''.join(no_punctuation)\n",
        "    return ' '.join([word for word in no_punctuation.split() if word.lower() not in stopwords])"
      ],
      "execution_count": 9,
      "outputs": []
    },
    {
      "cell_type": "code",
      "metadata": {
        "id": "52_Rbc3p5953"
      },
      "source": [
        "df['Statement'] = df['Statement'].apply(get_text_processing)"
      ],
      "execution_count": 10,
      "outputs": []
    },
    {
      "cell_type": "markdown",
      "metadata": {
        "id": "55CcQYeeMt7m"
      },
      "source": [
        "##2.Individual Work"
      ]
    },
    {
      "cell_type": "markdown",
      "metadata": {
        "id": "l2ppN_Gj3MXZ"
      },
      "source": [
        "### 2.1.Microfactors generation (Yuxing)"
      ]
    },
    {
      "cell_type": "markdown",
      "metadata": {
        "id": "rkFWFspPVze9"
      },
      "source": [
        "**Generate Microfactors for Factor PsychologyUtilites**"
      ]
    },
    {
      "cell_type": "markdown",
      "metadata": {
        "id": "UxDEvJZuv7yu"
      },
      "source": [
        "**1. Group Confirmation**"
      ]
    },
    {
      "cell_type": "markdown",
      "metadata": {
        "id": "xaSuc38YFWNu"
      },
      "source": [
        "The more retweets, the more social confirmation. We split the number of retwees to 'Confirmation' as 'positive' and 'negative', 300 is the threshold we can use for a 'strong' confirmation or not."
      ]
    },
    {
      "cell_type": "code",
      "metadata": {
        "colab": {
          "base_uri": "https://localhost:8080/",
          "height": 282
        },
        "id": "QvsEfv5U8hNJ",
        "outputId": "89e4e696-c8e5-490a-b714-6c430f7850fb"
      },
      "source": [
        "pd.options.mode.chained_assignment = None\n",
        "\n",
        "ulimit = np.percentile(df.NumOfRetweets, 99)\n",
        "df['NumOfRetweets'].loc[df['NumOfRetweets']>ulimit] = ulimit\n",
        "llimit = np.percentile(df.NumOfRetweets.values, 1)\n",
        "df['NumOfRetweets'].loc[df['NumOfRetweets']<llimit] = llimit\n",
        "df['NumOfRetweets'].plot.hist(color='#86bf91')"
      ],
      "execution_count": 11,
      "outputs": [
        {
          "output_type": "execute_result",
          "data": {
            "text/plain": [
              "<matplotlib.axes._subplots.AxesSubplot at 0x7fe6776509d0>"
            ]
          },
          "metadata": {
            "tags": []
          },
          "execution_count": 11
        },
        {
          "output_type": "display_data",
          "data": {
            "image/png": "[encoded data removed]",
            "text/plain": [
              "<Figure size 432x288 with 1 Axes>"
            ]
          },
          "metadata": {
            "tags": [],
            "needs_background": "light"
          }
        }
      ]
    },
    {
      "cell_type": "code",
      "metadata": {
        "id": "3i_NvNOaxDcO"
      },
      "source": [
        "def gen_microfactor_confirmation(df):\n",
        "  df['ScaleConfirmation'] = df['NumOfRetweets']/df['NumOfRetweets'].mean()\n",
        "  df['ScaleConfirmation'] = df['ScaleConfirmation'].apply(lambda x: 1 if x > 1 else x)\n",
        "  df['Confirmation'] = df['ScaleConfirmation'].apply(lambda x: 'Positive' if x > 0.2 else 'Negative')\n",
        "\n",
        "gen_microfactor_confirmation(df)"
      ],
      "execution_count": 12,
      "outputs": []
    },
    {
      "cell_type": "code",
      "metadata": {
        "colab": {
          "base_uri": "https://localhost:8080/",
          "height": 296
        },
        "id": "BiDBQZodEhIE",
        "outputId": "9ed00793-e387-4abb-c1b2-f35df0dcdc70"
      },
      "source": [
        "sns.set_style('whitegrid')\n",
        "sns.countplot(x='Confirmation',data=df, palette='summer')"
      ],
      "execution_count": 13,
      "outputs": [
        {
          "output_type": "execute_result",
          "data": {
            "text/plain": [
              "<matplotlib.axes._subplots.AxesSubplot at 0x7fe6777386d0>"
            ]
          },
          "metadata": {
            "tags": []
          },
          "execution_count": 13
        },
        {
          "output_type": "display_data",
          "data": {
            "image/png": "[encoded data removed]",
            "text/plain": [
              "<Figure size 432x288 with 1 Axes>"
            ]
          },
          "metadata": {
            "tags": []
          }
        }
      ]
    },
    {
      "cell_type": "markdown",
      "metadata": {
        "id": "-wctT1YPwH58"
      },
      "source": [
        "**2. Author Sentiment**"
      ]
    },
    {
      "cell_type": "markdown",
      "metadata": {
        "id": "Zgl8lL-96Z74"
      },
      "source": [
        "We use SentimentIntensityAnalyzer to detect the score of sentiment."
      ]
    },
    {
      "cell_type": "code",
      "metadata": {
        "id": "RqSTN1I0gXHV"
      },
      "source": [
        "def get_text_sentiment(text):\n",
        "  analyzer = SentimentIntensityAnalyzer()\n",
        "  _sentiment = analyzer.polarity_scores(text)[\"compound\"]\n",
        "  return abs(_sentiment)"
      ],
      "execution_count": 14,
      "outputs": []
    },
    {
      "cell_type": "code",
      "metadata": {
        "id": "smSRphhgkT8T"
      },
      "source": [
        "df['ScaleSentiment'] = df['Statement'].apply(get_text_sentiment)\n",
        "df['Sentiment'] = df['ScaleSentiment'].apply(lambda x: 'Positive' if float(x) > 0.4 else 'Negative')"
      ],
      "execution_count": 15,
      "outputs": []
    },
    {
      "cell_type": "code",
      "metadata": {
        "id": "5pX12JjpVFRJ",
        "colab": {
          "base_uri": "https://localhost:8080/",
          "height": 296
        },
        "outputId": "47adff51-b1bf-4c0c-d999-b07e1814fa3f"
      },
      "source": [
        "sns.set_style('whitegrid')\n",
        "sns.countplot(x='Sentiment',data=df, palette='summer')"
      ],
      "execution_count": 16,
      "outputs": [
        {
          "output_type": "execute_result",
          "data": {
            "text/plain": [
              "<matplotlib.axes._subplots.AxesSubplot at 0x7fe677749ad0>"
            ]
          },
          "metadata": {
            "tags": []
          },
          "execution_count": 16
        },
        {
          "output_type": "display_data",
          "data": {
            "image/png": "[encoded data removed]",
            "text/plain": [
              "<Figure size 432x288 with 1 Axes>"
            ]
          },
          "metadata": {
            "tags": []
          }
        }
      ]
    },
    {
      "cell_type": "markdown",
      "metadata": {
        "id": "NS8-7duA59C7"
      },
      "source": [
        "**3. Opinion Leader**"
      ]
    },
    {
      "cell_type": "markdown",
      "metadata": {
        "id": "aqYWXmgh6Fjc"
      },
      "source": [
        "The opinion leaders are people who have many followers, we will use use number of followers of twitter user to detect the score of opinion leader."
      ]
    },
    {
      "cell_type": "code",
      "metadata": {
        "id": "431o22HP6WxD"
      },
      "source": [
        "def gen_microfactor_opinionleader(df):\n",
        "  df['ScaleOpinionLeader'] = df['UserNumOfFollowers']/df['UserNumOfFollowers'].mean()\n",
        "  df['ScaleOpinionLeader'] = df['ScaleOpinionLeader'].apply(lambda x: 1 if x > 1 else x)\n",
        "  df['OpinionLeader'] = df['ScaleOpinionLeader'].apply(lambda x: 'Positive' if x > 0.2 else 'Negative')\n",
        "\n",
        "gen_microfactor_opinionleader(df)"
      ],
      "execution_count": 17,
      "outputs": []
    },
    {
      "cell_type": "code",
      "metadata": {
        "colab": {
          "base_uri": "https://localhost:8080/",
          "height": 296
        },
        "id": "TglKEwxS2DcK",
        "outputId": "21139b41-4bdb-4ba8-e515-7bf08f9c0a02"
      },
      "source": [
        "sns.set_style('whitegrid')\n",
        "sns.countplot(x='OpinionLeader',data=df, palette='summer')"
      ],
      "execution_count": 18,
      "outputs": [
        {
          "output_type": "execute_result",
          "data": {
            "text/plain": [
              "<matplotlib.axes._subplots.AxesSubplot at 0x7fe676e37bd0>"
            ]
          },
          "metadata": {
            "tags": []
          },
          "execution_count": 18
        },
        {
          "output_type": "display_data",
          "data": {
            "image/png": "[encoded data removed]",
            "text/plain": [
              "<Figure size 432x288 with 1 Axes>"
            ]
          },
          "metadata": {
            "tags": []
          }
        }
      ]
    },
    {
      "cell_type": "markdown",
      "metadata": {
        "id": "Ik4VTN7KsDOa"
      },
      "source": [
        "###2.2.Factor generation(Yuxing)\n",
        "* Combine micro-factors to factor PsychologyUtilites using polynomial"
      ]
    },
    {
      "cell_type": "code",
      "metadata": {
        "id": "yFeqv9LG7N5N"
      },
      "source": [
        "# Get factor from micro factors by polynomial\n",
        "df['ScalePsychology'] = df['ScaleConfirmation'] * 0.34 + df['ScaleSentiment'] * 0.33 + df['ScaleOpinionLeader'] * 0.33\n",
        "df['PsychologyUtilites'] = df['ScalePsychology'].apply(lambda x: 'Positive' if x > 0.3 else 'Negative')"
      ],
      "execution_count": 19,
      "outputs": []
    },
    {
      "cell_type": "code",
      "metadata": {
        "colab": {
          "base_uri": "https://localhost:8080/",
          "height": 296
        },
        "id": "QLgllt-lnUFj",
        "outputId": "ac1f72bc-aaca-410f-c946-3dd840291abd"
      },
      "source": [
        "sns.set_style('whitegrid')\n",
        "sns.countplot(x='PsychologyUtilites',data=df, palette='summer')"
      ],
      "execution_count": 20,
      "outputs": [
        {
          "output_type": "execute_result",
          "data": {
            "text/plain": [
              "<matplotlib.axes._subplots.AxesSubplot at 0x7fe67750fcd0>"
            ]
          },
          "metadata": {
            "tags": []
          },
          "execution_count": 20
        },
        {
          "output_type": "display_data",
          "data": {
            "image/png": "[encoded data removed]",
            "text/plain": [
              "<Figure size 432x288 with 1 Axes>"
            ]
          },
          "metadata": {
            "tags": []
          }
        }
      ]
    },
    {
      "cell_type": "code",
      "metadata": {
        "colab": {
          "base_uri": "https://localhost:8080/"
        },
        "id": "aMvgffdDOIbC",
        "outputId": "1ccef7c2-3cbd-458a-ae04-7202ff2b25c9"
      },
      "source": [
        "df.shape"
      ],
      "execution_count": 21,
      "outputs": [
        {
          "output_type": "execute_result",
          "data": {
            "text/plain": [
              "(1000, 11)"
            ]
          },
          "metadata": {
            "tags": []
          },
          "execution_count": 21
        }
      ]
    },
    {
      "cell_type": "markdown",
      "metadata": {
        "id": "AuADdT8UFgOy"
      },
      "source": [
        "**Construct a pipeline model with count vector Tfidf vector inside**"
      ]
    },
    {
      "cell_type": "markdown",
      "metadata": {
        "id": "okEtMpeHk8AU"
      },
      "source": [
        "Pipeline includes vectorization tfidf transformer and SVM training"
      ]
    },
    {
      "cell_type": "code",
      "metadata": {
        "id": "PAGbzfrrol9S"
      },
      "source": [
        "from sklearn.pipeline import Pipeline\n",
        "from sklearn.model_selection import cross_val_score\n",
        "from sklearn.tree import DecisionTreeClassifier\n",
        "from sklearn.linear_model import LogisticRegression\n",
        "from sklearn.svm import SVC\n",
        "import joblib\n",
        "\n",
        "# A pipeline with data preprocessing, training and prediction\n",
        "pipeline = Pipeline([\n",
        "    ('vect', CountVectorizer()),\n",
        "    ('tfidf', TfidfTransformer()),\n",
        "    ('svm', SVC(C=1, probability=True))\n",
        "])\n",
        "\n",
        "def data_to_pipeline(df, _source=None, _target=None):\n",
        "  # Split data for training and validation\n",
        "  X, y = df[_source].values, df[_target].values\n",
        "  X_train, X_test, y_train, y_test = train_test_split(X, y, test_size=0.30, random_state=42) \n",
        "  \n",
        "  # Training and prediction\n",
        "  pipeline.fit(X_train, y_train)\n",
        "  scores = cross_val_score(pipeline, X_test, y_test, cv=3)\n",
        "  print('now using %s to predict %s' % (_source, _target))\n",
        "  print('cross validation scores:', scores)\n",
        "  print('prediction score:', pipeline.score(X_test, y_test))\n",
        "\n",
        "  # Save the pickle file\n",
        "  pickle_filepath = '/content/' + _target + '_pipeline.pkl'\n",
        "  joblib.dump(pipeline, pickle_filepath)\n",
        "  print('pickle file is created:', pickle_filepath)\n",
        "  print('\\n')"
      ],
      "execution_count": 22,
      "outputs": []
    },
    {
      "cell_type": "code",
      "metadata": {
        "colab": {
          "base_uri": "https://localhost:8080/"
        },
        "id": "2c7q_9SvBV8h",
        "outputId": "539f3c08-4ca6-4e88-f70a-8efc050363fc"
      },
      "source": [
        "def factor_1_pipeline(df):\n",
        "  data_to_pipeline(df, _source='Statement', _target='Sentiment')\n",
        "  data_to_pipeline(df, _source='Statement', _target='Confirmation')\n",
        "  data_to_pipeline(df, _source='Statement', _target='OpinionLeader')\n",
        "  data_to_pipeline(df, _source='Statement', _target='PsychologyUtilites')\n",
        "\n",
        "factor_1_pipeline(df)"
      ],
      "execution_count": 23,
      "outputs": [
        {
          "output_type": "stream",
          "text": [
            "now using Statement to predict Sentiment\n",
            "cross validation scores: [0.94 0.94 0.9 ]\n",
            "prediction score: 0.9633333333333334\n",
            "pickle file is created: /content/Sentiment_pipeline.pkl\n",
            "\n",
            "\n",
            "now using Statement to predict Confirmation\n",
            "cross validation scores: [0.93 0.99 0.93]\n",
            "prediction score: 0.9766666666666667\n",
            "pickle file is created: /content/Confirmation_pipeline.pkl\n",
            "\n",
            "\n",
            "now using Statement to predict OpinionLeader\n",
            "cross validation scores: [0.67 0.63 0.64]\n",
            "prediction score: 0.69\n",
            "pickle file is created: /content/OpinionLeader_pipeline.pkl\n",
            "\n",
            "\n",
            "now using Statement to predict PsychologyUtilites\n",
            "cross validation scores: [0.83 0.78 0.9 ]\n",
            "prediction score: 0.8566666666666667\n",
            "pickle file is created: /content/PsychologyUtilites_pipeline.pkl\n",
            "\n",
            "\n"
          ],
          "name": "stdout"
        }
      ]
    },
    {
      "cell_type": "markdown",
      "metadata": {
        "id": "bZTHmnD7GwI2"
      },
      "source": [
        "### 2.3.Microfactors generation (Mayuri)"
      ]
    },
    {
      "cell_type": "markdown",
      "metadata": {
        "id": "nIF1_EZUWA0k"
      },
      "source": [
        "**Generate Microfactors for Factor Intent**"
      ]
    },
    {
      "cell_type": "markdown",
      "metadata": {
        "id": "tzl2keUcAvDg"
      },
      "source": [
        "**1. Utterance Score**"
      ]
    },
    {
      "cell_type": "markdown",
      "metadata": {
        "id": "cBwKD2KYCWUt"
      },
      "source": [
        "Where there are more sentences, there are more utterances. We can derive utterance from numberof sentences in the text."
      ]
    },
    {
      "cell_type": "code",
      "metadata": {
        "id": "OdmKn4WCGyr-"
      },
      "source": [
        "from collections import Counter\n",
        "import spacy\n",
        "\n",
        "nlp = spacy.load('en_core_web_sm')\n",
        "\n",
        "def get_sentences_num(text):\n",
        "  _doc = nlp(text)\n",
        "  sentences = list(_doc.sents)\n",
        "  return len(sentences)\n",
        "\n",
        "df['NumOfSent'] = df['Statement'].apply(get_sentences_num)"
      ],
      "execution_count": 24,
      "outputs": []
    },
    {
      "cell_type": "code",
      "metadata": {
        "id": "fHTPCIkTVmsa"
      },
      "source": [
        "def gen_microfactor_utterance(df):\n",
        "  df['ScaleUtterance'] = df['NumOfSent']/df['NumOfSent'].mean()\n",
        "  df['ScaleUtterancen'] = df['ScaleUtterance'].apply(lambda x: 1 if x > 1 else x)\n",
        "  df['Utterance'] = df['ScaleUtterance'].apply(lambda x: 'Positive' if x > 0.9 else 'Negative')\n",
        "\n",
        "gen_microfactor_utterance(df)"
      ],
      "execution_count": 25,
      "outputs": []
    },
    {
      "cell_type": "code",
      "metadata": {
        "colab": {
          "base_uri": "https://localhost:8080/",
          "height": 296
        },
        "id": "qXShrqWSBsJf",
        "outputId": "5dc511a1-feae-41e8-9a89-5281317a948f"
      },
      "source": [
        "sns.set_style('whitegrid')\n",
        "sns.countplot(x='Utterance',data=df, palette='summer')"
      ],
      "execution_count": 26,
      "outputs": [
        {
          "output_type": "execute_result",
          "data": {
            "text/plain": [
              "<matplotlib.axes._subplots.AxesSubplot at 0x7fe67495e090>"
            ]
          },
          "metadata": {
            "tags": []
          },
          "execution_count": 26
        },
        {
          "output_type": "display_data",
          "data": {
            "image/png": "[encoded data removed]",
            "text/plain": [
              "<Figure size 432x288 with 1 Axes>"
            ]
          },
          "metadata": {
            "tags": []
          }
        }
      ]
    },
    {
      "cell_type": "markdown",
      "metadata": {
        "id": "T6ZOqGhRGRWl"
      },
      "source": [
        "**2.Speech Score**"
      ]
    },
    {
      "cell_type": "markdown",
      "metadata": {
        "id": "3mXn3pBtMno-"
      },
      "source": [
        "Where there are more verbs and nouns, there are more speech to make. We can derive speech from numberof verbs and nouns in the text."
      ]
    },
    {
      "cell_type": "code",
      "metadata": {
        "id": "gHNuLtN3GXtN"
      },
      "source": [
        "def get_verbnoun_num(text):\n",
        "  _doc = nlp(text)\n",
        "  _no_stopword_doc = [token for token in _doc if not token.is_stop]\n",
        "  return len(_no_stopword_doc)\n",
        "\n",
        "df['NumOfVerbNoun'] = df['Statement'].apply(get_verbnoun_num)"
      ],
      "execution_count": 27,
      "outputs": []
    },
    {
      "cell_type": "code",
      "metadata": {
        "id": "70Ln7p7hGi93"
      },
      "source": [
        "def gen_microfactor_speech(df):\n",
        "  df['ScaleSpeech'] = df['NumOfVerbNoun']/df['NumOfVerbNoun'].mean()\n",
        "  df['ScaleSpeech'] = df['ScaleSpeech'].apply(lambda x: 1 if x > 1 else x)\n",
        "  df['Speech'] = df['ScaleSpeech'].apply(lambda x: 'Positive' if x > 0.95 else 'Negative')\n",
        "\n",
        "gen_microfactor_speech(df)"
      ],
      "execution_count": 28,
      "outputs": []
    },
    {
      "cell_type": "code",
      "metadata": {
        "colab": {
          "base_uri": "https://localhost:8080/",
          "height": 296
        },
        "id": "HHd4Gt6sG74_",
        "outputId": "1361f4f5-f327-4bbe-c260-a48572bedafc"
      },
      "source": [
        "sns.set_style('whitegrid')\n",
        "sns.countplot(x='Speech',data=df, palette='summer')"
      ],
      "execution_count": 29,
      "outputs": [
        {
          "output_type": "execute_result",
          "data": {
            "text/plain": [
              "<matplotlib.axes._subplots.AxesSubplot at 0x7fe6746feb50>"
            ]
          },
          "metadata": {
            "tags": []
          },
          "execution_count": 29
        },
        {
          "output_type": "display_data",
          "data": {
            "image/png": "[encoded data removed]",
            "text/plain": [
              "<Figure size 432x288 with 1 Axes>"
            ]
          },
          "metadata": {
            "tags": []
          }
        }
      ]
    },
    {
      "cell_type": "markdown",
      "metadata": {
        "id": "Y4evlxrLMeJK"
      },
      "source": [
        "**3.Sentiment**"
      ]
    },
    {
      "cell_type": "markdown",
      "metadata": {
        "id": "ggeMxni_MwP7"
      },
      "source": [
        "Sentiment is a micro factor of intent, also it is micro factor of psychology utility, which has been derived earlier."
      ]
    },
    {
      "cell_type": "code",
      "metadata": {
        "colab": {
          "base_uri": "https://localhost:8080/"
        },
        "id": "Op0zkNMyMYwT",
        "outputId": "33627d71-f4fb-4593-90fc-970c9d9b8d2f"
      },
      "source": [
        "df['ScaleSentiment'].head()"
      ],
      "execution_count": 30,
      "outputs": [
        {
          "output_type": "execute_result",
          "data": {
            "text/plain": [
              "0    0.2732\n",
              "1    0.2023\n",
              "2    0.6908\n",
              "3    0.0000\n",
              "4    0.6908\n",
              "Name: ScaleSentiment, dtype: float64"
            ]
          },
          "metadata": {
            "tags": []
          },
          "execution_count": 30
        }
      ]
    },
    {
      "cell_type": "markdown",
      "metadata": {
        "id": "gsjqMF3ZLLvH"
      },
      "source": [
        "### 2.4.Factor generation(Mayuri)\n",
        "* Combine micro-factors to factor Intent using polynomial"
      ]
    },
    {
      "cell_type": "code",
      "metadata": {
        "id": "qrlwZeQELLvH"
      },
      "source": [
        "# Get factor from micro factors by polynomial\n",
        "df['ScaleIntent'] = df['ScaleUtterancen'] * 0.3 + df['ScaleSpeech'] * 0.3 + df['ScaleSentiment'] * 0.4\n",
        "df['Intent'] = df['ScaleIntent'].apply(lambda x: 'Positive' if x > 0.65 else 'Negative')"
      ],
      "execution_count": 31,
      "outputs": []
    },
    {
      "cell_type": "code",
      "metadata": {
        "colab": {
          "base_uri": "https://localhost:8080/",
          "height": 296
        },
        "id": "vBxxHDpxLpRD",
        "outputId": "52c2c139-925c-4c85-a291-d9b65cdae6b4"
      },
      "source": [
        "sns.set_style('whitegrid')\n",
        "sns.countplot(x='Intent',data=df, palette='summer')"
      ],
      "execution_count": 32,
      "outputs": [
        {
          "output_type": "execute_result",
          "data": {
            "text/plain": [
              "<matplotlib.axes._subplots.AxesSubplot at 0x7fe6741d8a10>"
            ]
          },
          "metadata": {
            "tags": []
          },
          "execution_count": 32
        },
        {
          "output_type": "display_data",
          "data": {
            "image/png": "[encoded data removed]",
            "text/plain": [
              "<Figure size 432x288 with 1 Axes>"
            ]
          },
          "metadata": {
            "tags": []
          }
        }
      ]
    },
    {
      "cell_type": "code",
      "metadata": {
        "colab": {
          "base_uri": "https://localhost:8080/"
        },
        "id": "GWeNTWxvKpgj",
        "outputId": "c97d3565-2f04-429c-db5a-d57b43ae9846"
      },
      "source": [
        "def factor_2_pipeline(df):\n",
        "  data_to_pipeline(df, _source='Statement', _target='Utterance')\n",
        "  data_to_pipeline(df, _source='Statement', _target='Speech')\n",
        "  data_to_pipeline(df, _source='Statement', _target='Intent')\n",
        "\n",
        "factor_2_pipeline(df)"
      ],
      "execution_count": 33,
      "outputs": [
        {
          "output_type": "stream",
          "text": [
            "now using Statement to predict Utterance\n",
            "cross validation scores: [0.89 0.93 0.92]\n",
            "prediction score: 0.9633333333333334\n",
            "pickle file is created: /content/Utterance_pipeline.pkl\n",
            "\n",
            "\n",
            "now using Statement to predict Speech\n",
            "cross validation scores: [0.94 0.96 0.96]\n",
            "prediction score: 0.9466666666666667\n",
            "pickle file is created: /content/Speech_pipeline.pkl\n",
            "\n",
            "\n",
            "now using Statement to predict Intent\n",
            "cross validation scores: [0.92 0.95 0.91]\n",
            "prediction score: 0.9666666666666667\n",
            "pickle file is created: /content/Intent_pipeline.pkl\n",
            "\n",
            "\n"
          ],
          "name": "stdout"
        }
      ]
    },
    {
      "cell_type": "markdown",
      "metadata": {
        "id": "Jl3I183lRr40"
      },
      "source": [
        "## 3.Team Work"
      ]
    },
    {
      "cell_type": "markdown",
      "metadata": {
        "id": "CHo7uG_B21GU"
      },
      "source": [
        "###3.1.Load the pickled models for microfactors"
      ]
    },
    {
      "cell_type": "code",
      "metadata": {
        "colab": {
          "base_uri": "https://localhost:8080/"
        },
        "id": "tpFRxQMw6YrK",
        "outputId": "9bd6754a-6601-4744-b5dd-4cc076f161e1"
      },
      "source": [
        "! ls -l /content/*.pkl"
      ],
      "execution_count": 34,
      "outputs": [
        {
          "output_type": "stream",
          "text": [
            "-rw-r--r-- 1 root root 122564 May  7 23:04 /content/Confirmation_pipeline.pkl\n",
            "-rw-r--r-- 1 root root 118784 May  7 23:08 /content/Intent_pipeline.pkl\n",
            "-rw-r--r-- 1 root root 183641 May  7 23:04 /content/OpinionLeader_pipeline.pkl\n",
            "-rw-r--r-- 1 root root 142901 May  7 23:04 /content/PsychologyUtilites_pipeline.pkl\n",
            "-rw-r--r-- 1 root root 119180 May  7 23:04 /content/Sentiment_pipeline.pkl\n",
            "-rw-r--r-- 1 root root 118592 May  7 23:08 /content/Speech_pipeline.pkl\n",
            "-rw-r--r-- 1 root root 121664 May  7 23:08 /content/Utterance_pipeline.pkl\n",
            "-rw-r--r-- 1 root root  55099 May  7 22:09 /content/Verdict_pipeline.pkl\n"
          ],
          "name": "stdout"
        }
      ]
    },
    {
      "cell_type": "code",
      "metadata": {
        "id": "8ywq-gR921WD"
      },
      "source": [
        "import joblib\n",
        "\n",
        "microfactor_list = [\n",
        "                    'Sentiment', \n",
        "                    'Confirmation', \n",
        "                    'OpinionLeader',\n",
        "                    'Utterance',\n",
        "                    'Speech',\n",
        "                    'Intent'\n",
        "                  ]\n",
        "\n",
        "def get_micrafactor_from_pickles_(df):\n",
        "  # Preprocessing\n",
        "  df['Statement'] = df['Statement'].apply(get_text_processing)\n",
        "  statement = df['Statement'].to_numpy()\n",
        "  for microfactor in microfactor_list:\n",
        "    print('generating microfactor :', microfactor)\n",
        "    # load microfactor pickle\n",
        "    pickle_filepath = '/content/{}_pipeline.pkl'.format(microfactor)\n",
        "    microfactor_model = joblib.load(open(pickle_filepath, 'rb'))\n",
        "    # create new microfact column\n",
        "    y_microfactor = microfactor_model.predict(statement)\n",
        "    df[microfactor] = y_microfactor\n",
        "    df[microfactor] = df[microfactor].apply(lambda x: 1 if x == 'Positive' else 0)\n",
        "    "
      ],
      "execution_count": 35,
      "outputs": []
    },
    {
      "cell_type": "markdown",
      "metadata": {
        "id": "R586EHFw3LSB"
      },
      "source": [
        "###3.2.Ensemble a true-o-meter classification pipeline"
      ]
    },
    {
      "cell_type": "markdown",
      "metadata": {
        "id": "aH-A65lYqycQ"
      },
      "source": [
        "**Use politicfact dataset to generate microfactors and train Verdict**"
      ]
    },
    {
      "cell_type": "code",
      "metadata": {
        "colab": {
          "base_uri": "https://localhost:8080/"
        },
        "id": "omfvnRMjGdH3",
        "outputId": "f3a85725-1c72-4878-e55a-3e5e63cc9ff4"
      },
      "source": [
        "df = df_politifact.copy()\n",
        "get_micrafactor_from_pickles_(df)"
      ],
      "execution_count": 36,
      "outputs": [
        {
          "output_type": "stream",
          "text": [
            "generating microfactor : Sentiment\n",
            "generating microfactor : Confirmation\n",
            "generating microfactor : OpinionLeader\n",
            "generating microfactor : Utterance\n",
            "generating microfactor : Speech\n",
            "generating microfactor : Intent\n"
          ],
          "name": "stdout"
        }
      ]
    },
    {
      "cell_type": "markdown",
      "metadata": {
        "id": "nIxVGNHcrtj-"
      },
      "source": [
        "**Use ensembled model and microfactors to train Verdict, model will be pickled in data_to_pipeline processing**"
      ]
    },
    {
      "cell_type": "code",
      "metadata": {
        "colab": {
          "base_uri": "https://localhost:8080/"
        },
        "id": "YyOowx3oNL_Q",
        "outputId": "6d75efc4-2bf4-4847-9162-38033f4106d2"
      },
      "source": [
        "pipeline = Pipeline([\n",
        "    ('standardscaler', StandardScaler()),\n",
        "    ('svm', SVC(C=1, probability=True))\n",
        "])\n",
        "\n",
        "data_to_pipeline(df, _source = microfactor_list, _target = 'Verdict')"
      ],
      "execution_count": 37,
      "outputs": [
        {
          "output_type": "stream",
          "text": [
            "now using ['Sentiment', 'Confirmation', 'OpinionLeader', 'Utterance', 'Speech', 'Intent'] to predict Verdict\n",
            "cross validation scores: [0.22916667 0.23404255 0.23404255]\n",
            "prediction score: 0.22535211267605634\n",
            "pickle file is created: /content/Verdict_pipeline.pkl\n",
            "\n",
            "\n"
          ],
          "name": "stdout"
        }
      ]
    },
    {
      "cell_type": "markdown",
      "metadata": {
        "id": "ttbvMNqL2_JW"
      },
      "source": [
        "###3.3.Automated Inference Pipeline\n"
      ]
    },
    {
      "cell_type": "markdown",
      "metadata": {
        "id": "UCP-VhCzReE3"
      },
      "source": [
        "**Load pickled true-o-meter pipeline**"
      ]
    },
    {
      "cell_type": "code",
      "metadata": {
        "id": "MBuqNrU6RffR"
      },
      "source": [
        "pickle_filepath = '/content/Verdict_pipeline.pkl'\n",
        "o_meter_model = joblib.load(open(pickle_filepath, 'rb'))"
      ],
      "execution_count": 38,
      "outputs": []
    },
    {
      "cell_type": "markdown",
      "metadata": {
        "id": "Q1WuitA3qCib"
      },
      "source": [
        "**Read a new piece of data from politifact**"
      ]
    },
    {
      "cell_type": "code",
      "metadata": {
        "id": "os7X1gZy3KWK"
      },
      "source": [
        "records = scrape_data_from_politifact(start=12, end=13)\n",
        "df = pd.DataFrame(records, columns=['Date', 'Issue','Reporter','Author', 'Statement', 'Description', 'Verdict', 'Url'])  "
      ],
      "execution_count": 39,
      "outputs": []
    },
    {
      "cell_type": "markdown",
      "metadata": {
        "id": "TjxtC2m5p4F0"
      },
      "source": [
        "**Predict and compare the Verdict**"
      ]
    },
    {
      "cell_type": "code",
      "metadata": {
        "colab": {
          "base_uri": "https://localhost:8080/",
          "height": 304
        },
        "id": "6C89fTR5p4SK",
        "outputId": "399111d6-98c5-41d8-f860-9890e96c383c"
      },
      "source": [
        "get_micrafactor_from_pickles_(df)\n",
        "df['pred_verdict'] = o_meter_model.predict(df[microfactor_list])\n",
        "df_intestest = df[['Statement', 'Verdict', 'pred_verdict']]\n",
        "df_intestest.head()"
      ],
      "execution_count": 40,
      "outputs": [
        {
          "output_type": "stream",
          "text": [
            "generating microfactor : Sentiment\n",
            "generating microfactor : Confirmation\n",
            "generating microfactor : OpinionLeader\n",
            "generating microfactor : Utterance\n",
            "generating microfactor : Speech\n",
            "generating microfactor : Intent\n"
          ],
          "name": "stdout"
        },
        {
          "output_type": "execute_result",
          "data": {
            "text/html": [
              "<div>\n",
              "<style scoped>\n",
              "    .dataframe tbody tr th:only-of-type {\n",
              "        vertical-align: middle;\n",
              "    }\n",
              "\n",
              "    .dataframe tbody tr th {\n",
              "        vertical-align: top;\n",
              "    }\n",
              "\n",
              "    .dataframe thead th {\n",
              "        text-align: right;\n",
              "    }\n",
              "</style>\n",
              "<table border=\"1\" class=\"dataframe\">\n",
              "  <thead>\n",
              "    <tr style=\"text-align: right;\">\n",
              "      <th></th>\n",
              "      <th>Statement</th>\n",
              "      <th>Verdict</th>\n",
              "      <th>pred_verdict</th>\n",
              "    </tr>\n",
              "  </thead>\n",
              "  <tbody>\n",
              "    <tr>\n",
              "      <th>0</th>\n",
              "      <td>Says Chelsea Clinton tweeted Jesus alive today...</td>\n",
              "      <td>pants-fire</td>\n",
              "      <td>false</td>\n",
              "    </tr>\n",
              "    <tr>\n",
              "      <th>1</th>\n",
              "      <td>“Joe Biden puts prolife groups domestic extrem...</td>\n",
              "      <td>barely-true</td>\n",
              "      <td>false</td>\n",
              "    </tr>\n",
              "    <tr>\n",
              "      <th>2</th>\n",
              "      <td>“Innocent lives saved” ending taxpayer funding...</td>\n",
              "      <td>false</td>\n",
              "      <td>false</td>\n",
              "    </tr>\n",
              "    <tr>\n",
              "      <th>3</th>\n",
              "      <td>“aborted male fetus” OxfordAstraZeneca “Covid ...</td>\n",
              "      <td>false</td>\n",
              "      <td>false</td>\n",
              "    </tr>\n",
              "    <tr>\n",
              "      <th>4</th>\n",
              "      <td>Says Doug Jones voted spend tax dollars latete...</td>\n",
              "      <td>false</td>\n",
              "      <td>false</td>\n",
              "    </tr>\n",
              "  </tbody>\n",
              "</table>\n",
              "</div>"
            ],
            "text/plain": [
              "                                           Statement      Verdict pred_verdict\n",
              "0  Says Chelsea Clinton tweeted Jesus alive today...   pants-fire        false\n",
              "1  “Joe Biden puts prolife groups domestic extrem...  barely-true        false\n",
              "2  “Innocent lives saved” ending taxpayer funding...        false        false\n",
              "3  “aborted male fetus” OxfordAstraZeneca “Covid ...        false        false\n",
              "4  Says Doug Jones voted spend tax dollars latete...        false        false"
            ]
          },
          "metadata": {
            "tags": []
          },
          "execution_count": 40
        }
      ]
    },
    {
      "cell_type": "code",
      "metadata": {
        "id": "BRk1JvIYHOTb",
        "outputId": "ce48c93f-7d7e-426c-8b5c-f50944a476e0",
        "colab": {
          "base_uri": "https://localhost:8080/"
        }
      },
      "source": [
        "! ls -l /content/*.pkl"
      ],
      "execution_count": 42,
      "outputs": [
        {
          "output_type": "stream",
          "text": [
            "-rw-r--r-- 1 root root 122564 May  7 23:04 /content/Confirmation_pipeline.pkl\n",
            "-rw-r--r-- 1 root root 118784 May  7 23:08 /content/Intent_pipeline.pkl\n",
            "-rw-r--r-- 1 root root 183641 May  7 23:04 /content/OpinionLeader_pipeline.pkl\n",
            "-rw-r--r-- 1 root root 142901 May  7 23:04 /content/PsychologyUtilites_pipeline.pkl\n",
            "-rw-r--r-- 1 root root 119180 May  7 23:04 /content/Sentiment_pipeline.pkl\n",
            "-rw-r--r-- 1 root root 118592 May  7 23:08 /content/Speech_pipeline.pkl\n",
            "-rw-r--r-- 1 root root 121664 May  7 23:08 /content/Utterance_pipeline.pkl\n",
            "-rw-r--r-- 1 root root  55099 May  7 23:08 /content/Verdict_pipeline.pkl\n"
          ],
          "name": "stdout"
        }
      ]
    }
  ]
}