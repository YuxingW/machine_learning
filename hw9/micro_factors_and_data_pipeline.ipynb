{
  "nbformat": 4,
  "nbformat_minor": 0,
  "metadata": {
    "colab": {
      "name": "Copy of Copy of sentiment_analysis_tutorial.ipynb",
      "provenance": [],
      "collapsed_sections": [],
      "toc_visible": true,
      "include_colab_link": true
    },
    "kernelspec": {
      "name": "python3",
      "display_name": "Python 3"
    }
  },
  "cells": [
    {
      "cell_type": "markdown",
      "metadata": {
        "id": "view-in-github",
        "colab_type": "text"
      },
      "source": [
        "<a href=\"https://colab.research.google.com/github/YuxingW/machine_learning/blob/main/hw9/micro_factors_and_data_pipeline.ipynb\" target=\"_parent\"><img src=\"https://colab.research.google.com/assets/colab-badge.svg\" alt=\"Open In Colab\"/></a>"
      ]
    },
    {
      "cell_type": "markdown",
      "metadata": {
        "id": "WF4Qh5xVqM4D"
      },
      "source": [
        "# HW9 Microfactors of pychology utilities\n",
        "\n",
        "Factor: Sychology Utilities\n",
        "* Sentiment\n",
        "* Group confirmation\n",
        "\n",
        "Reference: \n",
        "* https://towardsai.net/p/nlp/sentiment-analysis-opinion-mining-with-python-nlp-tutorial-d1f173ca4e3c\n",
        "* https://github.com/towardsai/tutorials/tree/master/sentiment_analysis_tutorial\n",
        "* https://machinelearningmastery.com/stacking-ensemble-machine-learning-with-python/\n"
      ]
    },
    {
      "cell_type": "markdown",
      "metadata": {
        "id": "7PnmDlwC8eFK"
      },
      "source": [
        "## Data preparation\n",
        "* Scrape data from politifact\n",
        "* Fetch twitter tweets by APIs"
      ]
    },
    {
      "cell_type": "markdown",
      "metadata": {
        "id": "cCdKoergjmDw"
      },
      "source": [
        "**Scrape data from politifact**"
      ]
    },
    {
      "cell_type": "code",
      "metadata": {
        "id": "VLl8z7VEjpMw"
      },
      "source": [
        "!pip install -q beautifulsoup4\n",
        "!pip install -q vaderSentiment"
      ],
      "execution_count": 43,
      "outputs": []
    },
    {
      "cell_type": "code",
      "metadata": {
        "id": "6Y3x_GVAEbgX"
      },
      "source": [
        "import requests \n",
        "import pandas as pd \n",
        "from bs4 import BeautifulSoup  "
      ],
      "execution_count": 2,
      "outputs": []
    },
    {
      "cell_type": "code",
      "metadata": {
        "id": "Uf4r5bOtEdUq"
      },
      "source": [
        "#Get all issues\n",
        "\n",
        "url = \"https://www.politifact.com/issues/\"\n",
        "issues = []\n",
        "r = requests.get(url)\n",
        "soup = BeautifulSoup(r.text,'html.parser')\n",
        "results = soup.find_all('div', attrs={'class':'c-chyron__value'})\n",
        "for result in results:\n",
        "  name = result.find('a').text\n",
        "  issue = result.find('a')['href'].replace(\"/\",\"\")\n",
        "  issues.append((name, issue))"
      ],
      "execution_count": 3,
      "outputs": []
    },
    {
      "cell_type": "code",
      "metadata": {
        "id": "VIodWee7Erz8",
        "colab": {
          "base_uri": "https://localhost:8080/",
          "height": 281
        },
        "outputId": "c70a9225-8c30-459d-faeb-6c3a34b784b1"
      },
      "source": [
        "url = \"https://www.politifact.com/factchecks/list/?page={pgno}&category={category}\"\n",
        "\n",
        "records = []  \n",
        "\n",
        "for i in range(1,2):\n",
        "  for issue, issue_url in issues[:5]:\n",
        "    fUrl = url.format(pgno=str(i), category=issue_url)\n",
        "    r = requests.get(fUrl)\n",
        "    soup = BeautifulSoup(r.text, 'html.parser')  \n",
        "    results = soup.find_all('article', attrs={'class':'m-statement'})\n",
        "    for result in results:\n",
        "      date = result.find('footer',attrs={'class':'m-statement__footer'}).text.split(\"•\")[1].rstrip(\"\\n\")\n",
        "      reporter = result.find('footer',attrs={'class':'m-statement__footer'}).text.split(\"•\")[0].replace(\"\\nBy\",\"\")   \n",
        "      author = result.find('a',attrs={'class':'m-statement__name'}).text.replace(\"\\n\",\"\")\n",
        "      statement =  result.find('div', attrs = {'class':'m-statement__quote'}).find('a').text.replace(\"\\n\",\"\")\n",
        "      statement_descr = result.find('div', {'class':'m-statement__desc'}).text.replace(\"\\n\",\"\")\n",
        "      article_url =  result.find('a')['href']\n",
        "      verdict = result.find('img', attrs = {'class':'c-image__thumb'}, alt=True).attrs['alt']\n",
        "      records.append(( date, issue, reporter, author, statement, statement_descr, verdict, article_url))\n",
        "  \n",
        "df_sample = pd.DataFrame(records, columns=['Date', 'Issue','Reporter','Author', 'Statement', 'Description', 'Verdict', 'Url'])  \n",
        "df_sample.head()"
      ],
      "execution_count": 4,
      "outputs": [
        {
          "output_type": "execute_result",
          "data": {
            "text/html": [
              "<div>\n",
              "<style scoped>\n",
              "    .dataframe tbody tr th:only-of-type {\n",
              "        vertical-align: middle;\n",
              "    }\n",
              "\n",
              "    .dataframe tbody tr th {\n",
              "        vertical-align: top;\n",
              "    }\n",
              "\n",
              "    .dataframe thead th {\n",
              "        text-align: right;\n",
              "    }\n",
              "</style>\n",
              "<table border=\"1\" class=\"dataframe\">\n",
              "  <thead>\n",
              "    <tr style=\"text-align: right;\">\n",
              "      <th></th>\n",
              "      <th>Date</th>\n",
              "      <th>Issue</th>\n",
              "      <th>Reporter</th>\n",
              "      <th>Author</th>\n",
              "      <th>Statement</th>\n",
              "      <th>Description</th>\n",
              "      <th>Verdict</th>\n",
              "      <th>Url</th>\n",
              "    </tr>\n",
              "  </thead>\n",
              "  <tbody>\n",
              "    <tr>\n",
              "      <th>0</th>\n",
              "      <td>March 31, 2021</td>\n",
              "      <td>Abortion</td>\n",
              "      <td>Tom Kertscher</td>\n",
              "      <td>Facebook posts</td>\n",
              "      <td>“Joe Biden puts pro-life groups on domestic ex...</td>\n",
              "      <td>stated on March 29, 2021 in a Facebook post:</td>\n",
              "      <td>barely-true</td>\n",
              "      <td>/personalities/facebook-posts/</td>\n",
              "    </tr>\n",
              "    <tr>\n",
              "      <th>1</th>\n",
              "      <td>February 12, 2021</td>\n",
              "      <td>Abortion</td>\n",
              "      <td>Brandon Mulder</td>\n",
              "      <td>Greg Abbott</td>\n",
              "      <td>“Innocent lives will be saved” by ending taxpa...</td>\n",
              "      <td>stated on January 24, 2021 in a tweet:</td>\n",
              "      <td>false</td>\n",
              "      <td>/personalities/greg-abbott/</td>\n",
              "    </tr>\n",
              "    <tr>\n",
              "      <th>2</th>\n",
              "      <td>November 18, 2020</td>\n",
              "      <td>Abortion</td>\n",
              "      <td>Noah Y. Kim</td>\n",
              "      <td>Facebook posts</td>\n",
              "      <td>There is “aborted male fetus” in the Oxford-As...</td>\n",
              "      <td>stated on November 15, 2020 in a Facebook post:</td>\n",
              "      <td>false</td>\n",
              "      <td>/personalities/facebook-posts/</td>\n",
              "    </tr>\n",
              "    <tr>\n",
              "      <th>3</th>\n",
              "      <td>October 14, 2020</td>\n",
              "      <td>Abortion</td>\n",
              "      <td>Tom Kertscher</td>\n",
              "      <td>Tommy Tuberville</td>\n",
              "      <td>Says Doug Jones \"has voted to spend our tax do...</td>\n",
              "      <td>stated on October 8, 2020 in an ad:</td>\n",
              "      <td>false</td>\n",
              "      <td>/personalities/tommy-tuberville/</td>\n",
              "    </tr>\n",
              "    <tr>\n",
              "      <th>4</th>\n",
              "      <td>October 13, 2020</td>\n",
              "      <td>Abortion</td>\n",
              "      <td>Chris Nichols</td>\n",
              "      <td>Facebook posts</td>\n",
              "      <td>“Kamala Harris Tried to Put Pro-Lifers in Jail...</td>\n",
              "      <td>stated on August 14, 2020 in a headline:</td>\n",
              "      <td>false</td>\n",
              "      <td>/personalities/facebook-posts/</td>\n",
              "    </tr>\n",
              "  </tbody>\n",
              "</table>\n",
              "</div>"
            ],
            "text/plain": [
              "                 Date     Issue  ...      Verdict                               Url\n",
              "0      March 31, 2021  Abortion  ...  barely-true    /personalities/facebook-posts/\n",
              "1   February 12, 2021  Abortion  ...        false       /personalities/greg-abbott/\n",
              "2   November 18, 2020  Abortion  ...        false    /personalities/facebook-posts/\n",
              "3    October 14, 2020  Abortion  ...        false  /personalities/tommy-tuberville/\n",
              "4    October 13, 2020  Abortion  ...        false    /personalities/facebook-posts/\n",
              "\n",
              "[5 rows x 8 columns]"
            ]
          },
          "metadata": {
            "tags": []
          },
          "execution_count": 4
        }
      ]
    },
    {
      "cell_type": "code",
      "metadata": {
        "id": "9EJZ_Q2IFY93",
        "colab": {
          "base_uri": "https://localhost:8080/"
        },
        "outputId": "7ae98b2d-bf95-431c-a1a2-d16f0c58b939"
      },
      "source": [
        "df_sample.isnull().sum()"
      ],
      "execution_count": 5,
      "outputs": [
        {
          "output_type": "execute_result",
          "data": {
            "text/plain": [
              "Date           0\n",
              "Issue          0\n",
              "Reporter       0\n",
              "Author         0\n",
              "Statement      0\n",
              "Description    0\n",
              "Verdict        0\n",
              "Url            0\n",
              "dtype: int64"
            ]
          },
          "metadata": {
            "tags": []
          },
          "execution_count": 5
        }
      ]
    },
    {
      "cell_type": "markdown",
      "metadata": {
        "id": "-hBtFjjoqV2_"
      },
      "source": [
        "**Import Required Packages**"
      ]
    },
    {
      "cell_type": "code",
      "metadata": {
        "colab": {
          "base_uri": "https://localhost:8080/"
        },
        "id": "-sSRIdY1HZCS",
        "outputId": "714744d3-37c7-4c0c-828b-bb7e01624243"
      },
      "source": [
        "import pandas as pd\n",
        "import numpy as np\n",
        "import seaborn as sns\n",
        "import re\n",
        "import requests\n",
        "import string\n",
        "from string import punctuation\n",
        "from io import BytesIO\n",
        "import nltk\n",
        "from nltk.corpus import stopwords\n",
        "nltk.download('stopwords')\n",
        "\n",
        "\n",
        "import matplotlib.pyplot as plt\n",
        "from sklearn.model_selection import train_test_split\n",
        "from sklearn.feature_extraction.text import CountVectorizer\n",
        "from sklearn.feature_extraction.text import TfidfTransformer\n",
        "\n",
        "import tensorflow as tf\n",
        "from tensorflow.keras.models import Sequential\n",
        "from tensorflow.keras.layers import Dense, Activation, Dropout\n",
        "from tensorflow.keras.callbacks import EarlyStopping\n",
        "from vaderSentiment.vaderSentiment import SentimentIntensityAnalyzer"
      ],
      "execution_count": 6,
      "outputs": [
        {
          "output_type": "stream",
          "text": [
            "[nltk_data] Downloading package stopwords to /root/nltk_data...\n",
            "[nltk_data]   Package stopwords is already up-to-date!\n"
          ],
          "name": "stdout"
        }
      ]
    },
    {
      "cell_type": "markdown",
      "metadata": {
        "id": "WXXcy_o9yVec"
      },
      "source": [
        "** Load twitter data set"
      ]
    },
    {
      "cell_type": "code",
      "metadata": {
        "id": "Gn_vu_gprlK1",
        "colab": {
          "base_uri": "https://localhost:8080/"
        },
        "outputId": "a7af82a7-d8d6-4386-a5bf-dc1042ca208f"
      },
      "source": [
        "train_url = 'https://docs.google.com/spreadsheets/d/e/2PACX-1vT-7fkaGbvXcppizTYkyM_weWptbtyab7PVUXJZdpJb7aJ-mKXtB1zTkY7DizLU7M64oYMoE8lPJQ1V/pub?output=csv'\n",
        "r = requests.get(train_url)\n",
        "data = r.content\n",
        "df_tweet = pd.read_csv(BytesIO(data))\n",
        "df_tweet.shape"
      ],
      "execution_count": 7,
      "outputs": [
        {
          "output_type": "execute_result",
          "data": {
            "text/plain": [
              "(762, 3)"
            ]
          },
          "metadata": {
            "tags": []
          },
          "execution_count": 7
        }
      ]
    },
    {
      "cell_type": "markdown",
      "metadata": {
        "id": "YUH7jv5KrgG-"
      },
      "source": [
        "**Scrape twitter data language as english**"
      ]
    },
    {
      "cell_type": "code",
      "metadata": {
        "id": "Q4IUPTjmmcy4"
      },
      "source": [
        "!pip install -q datasketch\n",
        "!pip install -q networkx "
      ],
      "execution_count": 44,
      "outputs": []
    },
    {
      "cell_type": "code",
      "metadata": {
        "id": "huNUYbGMmKHm"
      },
      "source": [
        "import tweepy\n",
        "from tweepy import OAuthHandler\n",
        "import pandas as pd\n",
        "import numpy as np\n",
        "import re\n",
        "import time\n",
        "from datasketch import MinHash, MinHashLSH"
      ],
      "execution_count": 9,
      "outputs": []
    },
    {
      "cell_type": "code",
      "metadata": {
        "colab": {
          "base_uri": "https://localhost:8080/",
          "height": 197
        },
        "id": "o53hhvmfmKmZ",
        "outputId": "5923a6bd-6a2f-4491-db87-4af11bdb4ad8"
      },
      "source": [
        "access_token = '1311987544507084800-iYuPqERzopIZuuyxaZ8xnqARcyKrR1'\n",
        "access_token_secret = 'DCJg5kE7srBZRToNlzF0xqT3hcxonnXMlMXKWjX91wyTe'\n",
        "consumer_key = 'YQLJJb0ELY5pdXbx7WkQXtRXo'\n",
        "consumer_secret = 'HCgQga7Mj33C5E19IP7Dr3qGChmc85M6IEYXSGtI6g4cdplBYw'\n",
        "\n",
        "auth = tweepy.OAuthHandler(consumer_key, consumer_secret)\n",
        "auth.set_access_token(access_token, access_token_secret)\n",
        "\n",
        "api = tweepy.API(auth, wait_on_rate_limit=True, wait_on_rate_limit_notify=True)\n",
        "\n",
        "tweets = []\n",
        "\n",
        "count = 1\n",
        "\n",
        "\"\"\"if you don't add since= as one of the parameters, Twitter will sample the last 7 days worth of data depending\n",
        "on how many total tweets there are with the specific hashtag, keyword, or key phrase that you are looking for. You can\n",
        "manually add in the number of items (or tweets) you want to get back in the items() section.\"\"\"\n",
        "\n",
        "for tweet in tweepy.Cursor(api.search, q=\"#breaking\", count=450, since='2020-04-10', lang='en').items(5000):\n",
        "  count += 1\n",
        "  try:\n",
        "    data = [tweet.text, tweet.retweet_count]\n",
        "    data = tuple(data)\n",
        "    tweets.append(data)\n",
        "  \n",
        "  except tweepy.TweepError as e:\n",
        "    print(e.reason)\n",
        "    continue\n",
        "\n",
        "  except StopIteration:\n",
        "    break\n",
        "\n",
        "df_train = pd.DataFrame(tweets, columns = ['Statement', 'NumOfRetweets'])\n",
        "df_train = df_train[:1000]\n",
        "df_train.head()"
      ],
      "execution_count": 10,
      "outputs": [
        {
          "output_type": "execute_result",
          "data": {
            "text/html": [
              "<div>\n",
              "<style scoped>\n",
              "    .dataframe tbody tr th:only-of-type {\n",
              "        vertical-align: middle;\n",
              "    }\n",
              "\n",
              "    .dataframe tbody tr th {\n",
              "        vertical-align: top;\n",
              "    }\n",
              "\n",
              "    .dataframe thead th {\n",
              "        text-align: right;\n",
              "    }\n",
              "</style>\n",
              "<table border=\"1\" class=\"dataframe\">\n",
              "  <thead>\n",
              "    <tr style=\"text-align: right;\">\n",
              "      <th></th>\n",
              "      <th>Statement</th>\n",
              "      <th>NumOfRetweets</th>\n",
              "    </tr>\n",
              "  </thead>\n",
              "  <tbody>\n",
              "    <tr>\n",
              "      <th>0</th>\n",
              "      <td>RT @Sanjay_Dixit: #Breaking\\n@NarsinghVani has...</td>\n",
              "      <td>1632</td>\n",
              "    </tr>\n",
              "    <tr>\n",
              "      <th>1</th>\n",
              "      <td>RT @XHNews: #BREAKING: India's death toll due ...</td>\n",
              "      <td>8</td>\n",
              "    </tr>\n",
              "    <tr>\n",
              "      <th>2</th>\n",
              "      <td>RT @XHNews: #BREAKING: India's death toll due ...</td>\n",
              "      <td>8</td>\n",
              "    </tr>\n",
              "    <tr>\n",
              "      <th>3</th>\n",
              "      <td>RT @XHNews: #BREAKING: India's death toll due ...</td>\n",
              "      <td>7</td>\n",
              "    </tr>\n",
              "    <tr>\n",
              "      <th>4</th>\n",
              "      <td>RT @Sanjay_Dixit: #Breaking\\n@NarsinghVani has...</td>\n",
              "      <td>1632</td>\n",
              "    </tr>\n",
              "  </tbody>\n",
              "</table>\n",
              "</div>"
            ],
            "text/plain": [
              "                                           Statement  NumOfRetweets\n",
              "0  RT @Sanjay_Dixit: #Breaking\\n@NarsinghVani has...           1632\n",
              "1  RT @XHNews: #BREAKING: India's death toll due ...              8\n",
              "2  RT @XHNews: #BREAKING: India's death toll due ...              8\n",
              "3  RT @XHNews: #BREAKING: India's death toll due ...              7\n",
              "4  RT @Sanjay_Dixit: #Breaking\\n@NarsinghVani has...           1632"
            ]
          },
          "metadata": {
            "tags": []
          },
          "execution_count": 10
        }
      ]
    },
    {
      "cell_type": "markdown",
      "metadata": {
        "id": "lMD-lue81NME"
      },
      "source": [
        "**Plot the Rating visualization graph**"
      ]
    },
    {
      "cell_type": "code",
      "metadata": {
        "colab": {
          "base_uri": "https://localhost:8080/",
          "height": 296
        },
        "id": "EwQ5_FWh1R-p",
        "outputId": "a5532030-a87c-4870-fd64-b248d1e1fa65"
      },
      "source": [
        "sns.set_style('whitegrid')\n",
        "sns.countplot(x='Verdict',data=df_sample, palette='YlGnBu_r')"
      ],
      "execution_count": 11,
      "outputs": [
        {
          "output_type": "execute_result",
          "data": {
            "text/plain": [
              "<matplotlib.axes._subplots.AxesSubplot at 0x7f456d951c10>"
            ]
          },
          "metadata": {
            "tags": []
          },
          "execution_count": 11
        },
        {
          "output_type": "display_data",
          "data": {
            "image/png": "[encoded data removed]",
            "text/plain": [
              "<Figure size 432x288 with 1 Axes>"
            ]
          },
          "metadata": {
            "tags": []
          }
        }
      ]
    },
    {
      "cell_type": "markdown",
      "metadata": {
        "id": "VqT2elfcs4tj"
      },
      "source": [
        "**Calculation of Polarity**"
      ]
    },
    {
      "cell_type": "code",
      "metadata": {
        "id": "vQSZtk8IKPxp"
      },
      "source": [
        "df_sample['VerdictRating'] = df_sample['Verdict'].apply(lambda x: 'Positive' if x in ['true', 'mostly-true', 'half-true'] else 'Negative')\n"
      ],
      "execution_count": 12,
      "outputs": []
    },
    {
      "cell_type": "markdown",
      "metadata": {
        "id": "l2ppN_Gj3MXZ"
      },
      "source": [
        "## Microfactors generation"
      ]
    },
    {
      "cell_type": "markdown",
      "metadata": {
        "id": "UxDEvJZuv7yu"
      },
      "source": [
        "**1. Confirmation generation**"
      ]
    },
    {
      "cell_type": "code",
      "metadata": {
        "colab": {
          "base_uri": "https://localhost:8080/",
          "height": 282
        },
        "id": "QvsEfv5U8hNJ",
        "outputId": "23beac27-a909-4c9c-a499-f46fc11f439e"
      },
      "source": [
        "pd.options.mode.chained_assignment = None\n",
        "\n",
        "ulimit = np.percentile(df_train.NumOfRetweets, 99)\n",
        "df_train['NumOfRetweets'].loc[df_train['NumOfRetweets']>ulimit] = ulimit\n",
        "llimit = np.percentile(df_train.NumOfRetweets.values, 1)\n",
        "df_train['NumOfRetweets'].loc[df_train['NumOfRetweets']<llimit] = llimit\n",
        "df_train['NumOfRetweets'].plot.hist(color='#86bf91')"
      ],
      "execution_count": 13,
      "outputs": [
        {
          "output_type": "execute_result",
          "data": {
            "text/plain": [
              "<matplotlib.axes._subplots.AxesSubplot at 0x7f456d920210>"
            ]
          },
          "metadata": {
            "tags": []
          },
          "execution_count": 13
        },
        {
          "output_type": "display_data",
          "data": {
            "image/png": "[encoded data removed]",
            "text/plain": [
              "<Figure size 432x288 with 1 Axes>"
            ]
          },
          "metadata": {
            "tags": []
          }
        }
      ]
    },
    {
      "cell_type": "code",
      "metadata": {
        "colab": {
          "base_uri": "https://localhost:8080/",
          "height": 197
        },
        "id": "ECDmTloWNMa9",
        "outputId": "804fa013-1cce-4833-c1d1-5ec6a17b2f06"
      },
      "source": [
        "df_train['ScaleConfirmation'] = df_train['NumOfRetweets']/df_train['NumOfRetweets'].mean()\n",
        "df_train['ScaleConfirmation'] = df_train['ScaleConfirmation'].apply(lambda x: 1 if x > 1 else x)\n",
        "df_train.head()"
      ],
      "execution_count": 14,
      "outputs": [
        {
          "output_type": "execute_result",
          "data": {
            "text/html": [
              "<div>\n",
              "<style scoped>\n",
              "    .dataframe tbody tr th:only-of-type {\n",
              "        vertical-align: middle;\n",
              "    }\n",
              "\n",
              "    .dataframe tbody tr th {\n",
              "        vertical-align: top;\n",
              "    }\n",
              "\n",
              "    .dataframe thead th {\n",
              "        text-align: right;\n",
              "    }\n",
              "</style>\n",
              "<table border=\"1\" class=\"dataframe\">\n",
              "  <thead>\n",
              "    <tr style=\"text-align: right;\">\n",
              "      <th></th>\n",
              "      <th>Statement</th>\n",
              "      <th>NumOfRetweets</th>\n",
              "      <th>ScaleConfirmation</th>\n",
              "    </tr>\n",
              "  </thead>\n",
              "  <tbody>\n",
              "    <tr>\n",
              "      <th>0</th>\n",
              "      <td>RT @Sanjay_Dixit: #Breaking\\n@NarsinghVani has...</td>\n",
              "      <td>1632.0</td>\n",
              "      <td>1.000000</td>\n",
              "    </tr>\n",
              "    <tr>\n",
              "      <th>1</th>\n",
              "      <td>RT @XHNews: #BREAKING: India's death toll due ...</td>\n",
              "      <td>8.0</td>\n",
              "      <td>0.010963</td>\n",
              "    </tr>\n",
              "    <tr>\n",
              "      <th>2</th>\n",
              "      <td>RT @XHNews: #BREAKING: India's death toll due ...</td>\n",
              "      <td>8.0</td>\n",
              "      <td>0.010963</td>\n",
              "    </tr>\n",
              "    <tr>\n",
              "      <th>3</th>\n",
              "      <td>RT @XHNews: #BREAKING: India's death toll due ...</td>\n",
              "      <td>7.0</td>\n",
              "      <td>0.009593</td>\n",
              "    </tr>\n",
              "    <tr>\n",
              "      <th>4</th>\n",
              "      <td>RT @Sanjay_Dixit: #Breaking\\n@NarsinghVani has...</td>\n",
              "      <td>1632.0</td>\n",
              "      <td>1.000000</td>\n",
              "    </tr>\n",
              "  </tbody>\n",
              "</table>\n",
              "</div>"
            ],
            "text/plain": [
              "                                           Statement  ...  ScaleConfirmation\n",
              "0  RT @Sanjay_Dixit: #Breaking\\n@NarsinghVani has...  ...           1.000000\n",
              "1  RT @XHNews: #BREAKING: India's death toll due ...  ...           0.010963\n",
              "2  RT @XHNews: #BREAKING: India's death toll due ...  ...           0.010963\n",
              "3  RT @XHNews: #BREAKING: India's death toll due ...  ...           0.009593\n",
              "4  RT @Sanjay_Dixit: #Breaking\\n@NarsinghVani has...  ...           1.000000\n",
              "\n",
              "[5 rows x 3 columns]"
            ]
          },
          "metadata": {
            "tags": []
          },
          "execution_count": 14
        }
      ]
    },
    {
      "cell_type": "markdown",
      "metadata": {
        "id": "OH_wv24QFQCF"
      },
      "source": [
        "Where we can see very few of them have over than 2000 retweets."
      ]
    },
    {
      "cell_type": "markdown",
      "metadata": {
        "id": "xaSuc38YFWNu"
      },
      "source": [
        "The more retweets, the more social confirmation. We split the number of retwees to 'Confirmation' as 'positive' and 'negative', 300 is the threshold we can use for social media."
      ]
    },
    {
      "cell_type": "code",
      "metadata": {
        "colab": {
          "base_uri": "https://localhost:8080/",
          "height": 296
        },
        "id": "BiDBQZodEhIE",
        "outputId": "40545d90-3b0e-4b68-aa22-1997e33582c1"
      },
      "source": [
        "df_train['Confirmation'] = df_train['NumOfRetweets'].apply(lambda x: 'Positive' if x > 300 else 'Negative')\n",
        "sns.set_style('whitegrid')\n",
        "sns.countplot(x='Confirmation',data=df_train, palette='summer')"
      ],
      "execution_count": 15,
      "outputs": [
        {
          "output_type": "execute_result",
          "data": {
            "text/plain": [
              "<matplotlib.axes._subplots.AxesSubplot at 0x7f456dabc050>"
            ]
          },
          "metadata": {
            "tags": []
          },
          "execution_count": 15
        },
        {
          "output_type": "display_data",
          "data": {
            "image/png": "[encoded data removed]",
            "text/plain": [
              "<Figure size 432x288 with 1 Axes>"
            ]
          },
          "metadata": {
            "tags": []
          }
        }
      ]
    },
    {
      "cell_type": "markdown",
      "metadata": {
        "id": "B3so3XNt5PXg"
      },
      "source": [
        "**Text Preprocessing**"
      ]
    },
    {
      "cell_type": "code",
      "metadata": {
        "id": "mvi7pt-d5R6E"
      },
      "source": [
        "def get_text_processing(text):\n",
        "    stpword = stopwords.words('english')\n",
        "    no_punctuation = [char for char in text if char not in string.punctuation]\n",
        "    no_punctuation = ''.join(no_punctuation)\n",
        "    return ' '.join([word for word in no_punctuation.split() if word.lower() not in stpword])"
      ],
      "execution_count": 16,
      "outputs": []
    },
    {
      "cell_type": "markdown",
      "metadata": {
        "id": "1F75BGMk5zbT"
      },
      "source": [
        "**Apply the method \"get_text_processing\" into column statement text**"
      ]
    },
    {
      "cell_type": "code",
      "metadata": {
        "id": "52_Rbc3p5953"
      },
      "source": [
        "df_train['Statement'] = df_train['Statement'].apply(get_text_processing)\n",
        "df_sample['Statement'] = df_sample['Statement'].apply(get_text_processing)\n"
      ],
      "execution_count": 17,
      "outputs": []
    },
    {
      "cell_type": "markdown",
      "metadata": {
        "id": "-wctT1YPwH58"
      },
      "source": [
        "**2. Sentiment Generation**"
      ]
    },
    {
      "cell_type": "code",
      "metadata": {
        "id": "RqSTN1I0gXHV"
      },
      "source": [
        "def get_text_sentiment(text):\n",
        "  analyzer = SentimentIntensityAnalyzer()\n",
        "  _sentiment = analyzer.polarity_scores(text)[\"compound\"]\n",
        "  return abs(_sentiment)"
      ],
      "execution_count": 18,
      "outputs": []
    },
    {
      "cell_type": "markdown",
      "metadata": {
        "id": "zuL1onGxjtIR"
      },
      "source": [
        "**Apply the method \"get_text_setiment\" into column statement text**"
      ]
    },
    {
      "cell_type": "code",
      "metadata": {
        "id": "smSRphhgkT8T"
      },
      "source": [
        "df_train['ScaleSentiment'] = df_train['Statement'].apply(get_text_sentiment)\n",
        "df_train['Sentiment'] = df_train['ScaleSentiment'].apply(lambda x: 'Positive' if float(x) > 0.5 else 'Negative')"
      ],
      "execution_count": 19,
      "outputs": []
    },
    {
      "cell_type": "markdown",
      "metadata": {
        "id": "Fhxnn-pj7R6P"
      },
      "source": [
        "**Visualize Sentiment Polarity**"
      ]
    },
    {
      "cell_type": "code",
      "metadata": {
        "colab": {
          "base_uri": "https://localhost:8080/",
          "height": 296
        },
        "id": "TglKEwxS2DcK",
        "outputId": "76f98053-9314-43ab-ebf8-5ac2c0c9a4f0"
      },
      "source": [
        "sns.set_style('whitegrid')\n",
        "sns.countplot(x='Sentiment',data=df_train, palette='summer')"
      ],
      "execution_count": 20,
      "outputs": [
        {
          "output_type": "execute_result",
          "data": {
            "text/plain": [
              "<matplotlib.axes._subplots.AxesSubplot at 0x7f4571b7a690>"
            ]
          },
          "metadata": {
            "tags": []
          },
          "execution_count": 20
        },
        {
          "output_type": "display_data",
          "data": {
            "image/png": "[encoded data removed]",
            "text/plain": [
              "<Figure size 432x288 with 1 Axes>"
            ]
          },
          "metadata": {
            "tags": []
          }
        }
      ]
    },
    {
      "cell_type": "markdown",
      "metadata": {
        "id": "Ik4VTN7KsDOa"
      },
      "source": [
        "## Factor generation\n",
        "* Combine micro-factors to factor using polynomial"
      ]
    },
    {
      "cell_type": "code",
      "metadata": {
        "colab": {
          "base_uri": "https://localhost:8080/",
          "height": 281
        },
        "id": "yFeqv9LG7N5N",
        "outputId": "1cc904cd-7767-4698-d915-f2f91578a7aa"
      },
      "source": [
        "df = df_train.copy()\n",
        "# Get factor from micro factors by polynomial\n",
        "df['ScalePsychology'] = df['ScaleConfirmation'] * 0.6 + df['ScaleSentiment'] * 0.4\n",
        "_mean = df['ScalePsychology'].mean()\n",
        "df['PsychologyUtilites'] = df['ScalePsychology'].apply(lambda x: 'Positive' if x > 0.45 else 'Negative')\n",
        "df.head()"
      ],
      "execution_count": 21,
      "outputs": [
        {
          "output_type": "execute_result",
          "data": {
            "text/html": [
              "<div>\n",
              "<style scoped>\n",
              "    .dataframe tbody tr th:only-of-type {\n",
              "        vertical-align: middle;\n",
              "    }\n",
              "\n",
              "    .dataframe tbody tr th {\n",
              "        vertical-align: top;\n",
              "    }\n",
              "\n",
              "    .dataframe thead th {\n",
              "        text-align: right;\n",
              "    }\n",
              "</style>\n",
              "<table border=\"1\" class=\"dataframe\">\n",
              "  <thead>\n",
              "    <tr style=\"text-align: right;\">\n",
              "      <th></th>\n",
              "      <th>Statement</th>\n",
              "      <th>NumOfRetweets</th>\n",
              "      <th>ScaleConfirmation</th>\n",
              "      <th>Confirmation</th>\n",
              "      <th>ScaleSentiment</th>\n",
              "      <th>Sentiment</th>\n",
              "      <th>ScalePsychology</th>\n",
              "      <th>PsychologyUtilites</th>\n",
              "    </tr>\n",
              "  </thead>\n",
              "  <tbody>\n",
              "    <tr>\n",
              "      <th>0</th>\n",
              "      <td>RT SanjayDixit Breaking NarsinghVani arrested ...</td>\n",
              "      <td>1632.0</td>\n",
              "      <td>1.000000</td>\n",
              "      <td>Positive</td>\n",
              "      <td>0.0516</td>\n",
              "      <td>Negative</td>\n",
              "      <td>0.620640</td>\n",
              "      <td>Positive</td>\n",
              "    </tr>\n",
              "    <tr>\n",
              "      <th>1</th>\n",
              "      <td>RT XHNews BREAKING Indias death toll due COVID...</td>\n",
              "      <td>8.0</td>\n",
              "      <td>0.010963</td>\n",
              "      <td>Negative</td>\n",
              "      <td>0.5994</td>\n",
              "      <td>Positive</td>\n",
              "      <td>0.246338</td>\n",
              "      <td>Negative</td>\n",
              "    </tr>\n",
              "    <tr>\n",
              "      <th>2</th>\n",
              "      <td>RT XHNews BREAKING Indias death toll due COVID...</td>\n",
              "      <td>8.0</td>\n",
              "      <td>0.010963</td>\n",
              "      <td>Negative</td>\n",
              "      <td>0.5994</td>\n",
              "      <td>Positive</td>\n",
              "      <td>0.246338</td>\n",
              "      <td>Negative</td>\n",
              "    </tr>\n",
              "    <tr>\n",
              "      <th>3</th>\n",
              "      <td>RT XHNews BREAKING Indias death toll due COVID...</td>\n",
              "      <td>7.0</td>\n",
              "      <td>0.009593</td>\n",
              "      <td>Negative</td>\n",
              "      <td>0.5994</td>\n",
              "      <td>Positive</td>\n",
              "      <td>0.245516</td>\n",
              "      <td>Negative</td>\n",
              "    </tr>\n",
              "    <tr>\n",
              "      <th>4</th>\n",
              "      <td>RT SanjayDixit Breaking NarsinghVani arrested ...</td>\n",
              "      <td>1632.0</td>\n",
              "      <td>1.000000</td>\n",
              "      <td>Positive</td>\n",
              "      <td>0.0516</td>\n",
              "      <td>Negative</td>\n",
              "      <td>0.620640</td>\n",
              "      <td>Positive</td>\n",
              "    </tr>\n",
              "  </tbody>\n",
              "</table>\n",
              "</div>"
            ],
            "text/plain": [
              "                                           Statement  ...  PsychologyUtilites\n",
              "0  RT SanjayDixit Breaking NarsinghVani arrested ...  ...            Positive\n",
              "1  RT XHNews BREAKING Indias death toll due COVID...  ...            Negative\n",
              "2  RT XHNews BREAKING Indias death toll due COVID...  ...            Negative\n",
              "3  RT XHNews BREAKING Indias death toll due COVID...  ...            Negative\n",
              "4  RT SanjayDixit Breaking NarsinghVani arrested ...  ...            Positive\n",
              "\n",
              "[5 rows x 8 columns]"
            ]
          },
          "metadata": {
            "tags": []
          },
          "execution_count": 21
        }
      ]
    },
    {
      "cell_type": "code",
      "metadata": {
        "colab": {
          "base_uri": "https://localhost:8080/",
          "height": 296
        },
        "id": "QLgllt-lnUFj",
        "outputId": "13e84630-92cd-4e0a-81b2-2a523d39f444"
      },
      "source": [
        "sns.set_style('whitegrid')\n",
        "sns.countplot(x='PsychologyUtilites',data=df, palette='summer')"
      ],
      "execution_count": 22,
      "outputs": [
        {
          "output_type": "execute_result",
          "data": {
            "text/plain": [
              "<matplotlib.axes._subplots.AxesSubplot at 0x7f456ebd7850>"
            ]
          },
          "metadata": {
            "tags": []
          },
          "execution_count": 22
        },
        {
          "output_type": "display_data",
          "data": {
            "image/png": "[encoded data removed]",
            "text/plain": [
              "<Figure size 432x288 with 1 Axes>"
            ]
          },
          "metadata": {
            "tags": []
          }
        }
      ]
    },
    {
      "cell_type": "code",
      "metadata": {
        "colab": {
          "base_uri": "https://localhost:8080/"
        },
        "id": "aMvgffdDOIbC",
        "outputId": "c813f3ed-a732-414d-c3ce-a01ff9535d53"
      },
      "source": [
        "df.shape"
      ],
      "execution_count": 23,
      "outputs": [
        {
          "output_type": "execute_result",
          "data": {
            "text/plain": [
              "(1000, 8)"
            ]
          },
          "metadata": {
            "tags": []
          },
          "execution_count": 23
        }
      ]
    },
    {
      "cell_type": "markdown",
      "metadata": {
        "id": "X-VCXwSNQvTC"
      },
      "source": [
        "## Apply muller loop classifiers on first micro-factor: Sentiment"
      ]
    },
    {
      "cell_type": "markdown",
      "metadata": {
        "id": "O63qBfKuE2nu"
      },
      "source": [
        "**Apply Train Test Split**"
      ]
    },
    {
      "cell_type": "code",
      "metadata": {
        "id": "6PNWLYhME7Pf"
      },
      "source": [
        "X, y = df['Statement'].values, df['Sentiment'].values\n",
        "X_train, X_test, y_train, y_test = train_test_split(X, y, test_size=0.30, random_state=42)"
      ],
      "execution_count": 24,
      "outputs": []
    },
    {
      "cell_type": "markdown",
      "metadata": {
        "id": "AuADdT8UFgOy"
      },
      "source": [
        "**Apply vectorization**"
      ]
    },
    {
      "cell_type": "code",
      "metadata": {
        "id": "r20vXgZ6Fvqw"
      },
      "source": [
        "def apply_count_vector(X_train, X_test):\n",
        "  vect = CountVectorizer()\n",
        "  X_train = vect.fit_transform(X_train)\n",
        "  X_test = vect.transform(X_test)\n",
        "  return X_train, X_test"
      ],
      "execution_count": 25,
      "outputs": []
    },
    {
      "cell_type": "markdown",
      "metadata": {
        "id": "akiDMHsvGNxD"
      },
      "source": [
        "**Apply frequency, inverse document frequency:**"
      ]
    },
    {
      "cell_type": "code",
      "metadata": {
        "id": "_q3-ppruGRz7"
      },
      "source": [
        "def apply_tfidf(X_train, X_test):\n",
        "  tfidf = TfidfTransformer()\n",
        "  X_train = tfidf.fit_transform(X_train)\n",
        "  X_test = tfidf.transform(X_test)\n",
        "  X_train = X_train.toarray()\n",
        "  X_test = X_test.toarray()\n",
        "  return X_train, X_test"
      ],
      "execution_count": 26,
      "outputs": []
    },
    {
      "cell_type": "code",
      "metadata": {
        "id": "7qpz7oXNNtRp"
      },
      "source": [
        "X_train, X_test = apply_count_vector(X_train, X_test)\n",
        "X_train, X_test = apply_tfidf(X_train, X_test)"
      ],
      "execution_count": 27,
      "outputs": []
    },
    {
      "cell_type": "markdown",
      "metadata": {
        "id": "0dCOAdSOQ5Tj"
      },
      "source": [
        "**Apply Muller Loop Classifiers**"
      ]
    },
    {
      "cell_type": "code",
      "metadata": {
        "id": "dcvNUX4wK3Mq"
      },
      "source": [
        "# compare standalone models for binary classification\n",
        "from numpy import mean\n",
        "from numpy import std\n",
        "from sklearn.model_selection import cross_val_score\n",
        "from sklearn.model_selection import RepeatedStratifiedKFold\n",
        "from sklearn.linear_model import LogisticRegression\n",
        "from sklearn.neighbors import KNeighborsClassifier\n",
        "from sklearn.tree import DecisionTreeClassifier\n",
        "from sklearn.svm import SVC\n",
        "from sklearn.naive_bayes import GaussianNB\n",
        "from sklearn.ensemble import StackingClassifier\n",
        "from matplotlib import pyplot\n",
        "\n",
        "# get a stacking ensemble of models\n",
        "def get_stacking():\n",
        "\t# define the base models\n",
        "\tlevel0 = list()\n",
        "\tlevel0.append(('lr', LogisticRegression()))\n",
        "\tlevel0.append(('cart', DecisionTreeClassifier()))\n",
        "\tlevel0.append(('svm', SVC()))\n",
        "\t# define meta learner model\n",
        "\tlevel1 = LogisticRegression()\n",
        "\t# define the stacking ensemble\n",
        "\tmodel = StackingClassifier(estimators=level0, final_estimator=level1, cv=5)\n",
        "\treturn model\n",
        "\n",
        "# get a list of models to evaluate\n",
        "def get_models():\n",
        "\tmodels = dict()\n",
        "\tmodels['LogisticRegression'] = LogisticRegression()\n",
        "\tmodels['KNeighbors'] = KNeighborsClassifier()\n",
        "\tmodels['DecisionTree'] = DecisionTreeClassifier()\n",
        "\tmodels['SVM'] = SVC()\n",
        "\tmodels['Bayes'] = GaussianNB()\n",
        "\tmodels['Stacking'] = get_stacking()\n",
        "\treturn models\n",
        "\n",
        "# evaluate a given model using cross-validation\n",
        "def evaluate_model(model, X, y):\n",
        "\tcv = RepeatedStratifiedKFold(n_splits=10, n_repeats=3, random_state=1)\n",
        "\tscores = cross_val_score(model, X, y, scoring='accuracy', cv=cv, n_jobs=-1, error_score='raise')\n",
        "\treturn scores\n",
        "\n",
        "# train and evaluate classifier models\n",
        "def train_evaluate_models(X_train, y_train):\n",
        "  # get the models to evaluate\n",
        "  models = get_models()\n",
        "  # evaluate the models and store results\n",
        "  results, names = list(), list()\n",
        "  for name, model in models.items():\n",
        "    scores = evaluate_model(model, X_train, y_train)\n",
        "    results.append(scores)\n",
        "    names.append(name)\n",
        "    print('>%s accuracy:%.3f (std: %.3f)' % (name, mean(scores), std(scores)))\n",
        "  # plot model performance for comparison\n",
        "  pyplot.boxplot(results, labels=names, showmeans=True)\n",
        "  pyplot.show()"
      ],
      "execution_count": 28,
      "outputs": []
    },
    {
      "cell_type": "code",
      "metadata": {
        "colab": {
          "base_uri": "https://localhost:8080/",
          "height": 371
        },
        "id": "GIVNj2CxzXxI",
        "outputId": "f873f8b8-4679-4158-f650-a3f40c1fd1cb"
      },
      "source": [
        "train_evaluate_models(X_train, y_train)"
      ],
      "execution_count": 29,
      "outputs": [
        {
          "output_type": "stream",
          "text": [
            ">LogisticRegression accuracy:0.915 (std: 0.022)\n",
            ">KNeighbors accuracy:0.930 (std: 0.027)\n",
            ">DecisionTree accuracy:0.950 (std: 0.031)\n",
            ">SVM accuracy:0.954 (std: 0.020)\n",
            ">Bayes accuracy:0.962 (std: 0.023)\n",
            ">Stacking accuracy:0.954 (std: 0.020)\n"
          ],
          "name": "stdout"
        },
        {
          "output_type": "display_data",
          "data": {
            "image/png": "[encoded data removed]",
            "text/plain": [
              "<Figure size 432x288 with 1 Axes>"
            ]
          },
          "metadata": {
            "tags": []
          }
        }
      ]
    },
    {
      "cell_type": "markdown",
      "metadata": {
        "id": "Jl3I183lRr40"
      },
      "source": [
        "## Apply muller loop classifiers on second micro-factor: Confirmation"
      ]
    },
    {
      "cell_type": "markdown",
      "metadata": {
        "id": "t0b_GkTpRr4-"
      },
      "source": [
        "**Apply Train Test Split**"
      ]
    },
    {
      "cell_type": "code",
      "metadata": {
        "id": "w28L7bryRr4_"
      },
      "source": [
        "X, y = df['Statement'].values, df['Confirmation'].values\n",
        "X_train, X_test, y_train, y_test = train_test_split(X, y, test_size=0.30, random_state=42)"
      ],
      "execution_count": 30,
      "outputs": []
    },
    {
      "cell_type": "markdown",
      "metadata": {
        "id": "w_GxEQOSUanw"
      },
      "source": [
        "**Apply frequency, inverse document frequency:**"
      ]
    },
    {
      "cell_type": "code",
      "metadata": {
        "id": "dcdpiTDtR8Np"
      },
      "source": [
        "X_train, X_test = apply_count_vector(X_train, X_test)\n",
        "X_train, X_test = apply_tfidf(X_train, X_test)"
      ],
      "execution_count": 31,
      "outputs": []
    },
    {
      "cell_type": "code",
      "metadata": {
        "colab": {
          "base_uri": "https://localhost:8080/",
          "height": 371
        },
        "id": "-WHxT9WPR98-",
        "outputId": "e7bbe194-1151-42b4-ed8f-12ca3b650a2b"
      },
      "source": [
        "train_evaluate_models(X_train, y_train)"
      ],
      "execution_count": 32,
      "outputs": [
        {
          "output_type": "stream",
          "text": [
            ">LogisticRegression accuracy:0.954 (std: 0.029)\n",
            ">KNeighbors accuracy:0.939 (std: 0.032)\n",
            ">DecisionTree accuracy:0.982 (std: 0.016)\n",
            ">SVM accuracy:0.988 (std: 0.012)\n",
            ">Bayes accuracy:0.982 (std: 0.014)\n",
            ">Stacking accuracy:0.988 (std: 0.012)\n"
          ],
          "name": "stdout"
        },
        {
          "output_type": "display_data",
          "data": {
            "image/png": "[encoded data removed]",
            "text/plain": [
              "<Figure size 432x288 with 1 Axes>"
            ]
          },
          "metadata": {
            "tags": []
          }
        }
      ]
    },
    {
      "cell_type": "markdown",
      "metadata": {
        "id": "x86NeYa-5yt-"
      },
      "source": [
        "##Apply Muller loop on factor: Psychology Utilities"
      ]
    },
    {
      "cell_type": "code",
      "metadata": {
        "id": "Q-3Q65tl3ndI"
      },
      "source": [
        "X, y = df['Statement'].values, df['PsychologyUtilites'].values\n",
        "X_train, X_test, y_train, y_test = train_test_split(X, y, test_size=0.30, random_state=42)"
      ],
      "execution_count": 33,
      "outputs": []
    },
    {
      "cell_type": "markdown",
      "metadata": {
        "id": "ZK8RYNFM4uiO"
      },
      "source": [
        "**Apply frequency, inverse document frequency:**"
      ]
    },
    {
      "cell_type": "code",
      "metadata": {
        "id": "rjmzinKo4uiP"
      },
      "source": [
        "X_train, X_test = apply_count_vector(X_train, X_test)\n",
        "X_train, X_test = apply_tfidf(X_train, X_test)"
      ],
      "execution_count": 34,
      "outputs": []
    },
    {
      "cell_type": "code",
      "metadata": {
        "colab": {
          "base_uri": "https://localhost:8080/",
          "height": 371
        },
        "id": "i6weYZFH5w5z",
        "outputId": "aeb7be69-72db-43cc-99ec-aed1ab3bfa64"
      },
      "source": [
        "train_evaluate_models(X_train, y_train)"
      ],
      "execution_count": 35,
      "outputs": [
        {
          "output_type": "stream",
          "text": [
            ">LogisticRegression accuracy:0.974 (std: 0.019)\n",
            ">KNeighbors accuracy:0.948 (std: 0.024)\n",
            ">DecisionTree accuracy:0.985 (std: 0.014)\n",
            ">SVM accuracy:0.990 (std: 0.010)\n",
            ">Bayes accuracy:0.983 (std: 0.014)\n",
            ">Stacking accuracy:0.990 (std: 0.010)\n"
          ],
          "name": "stdout"
        },
        {
          "output_type": "display_data",
          "data": {
            "image/png": "[encoded data removed]",
            "text/plain": [
              "<Figure size 432x288 with 1 Axes>"
            ]
          },
          "metadata": {
            "tags": []
          }
        }
      ]
    },
    {
      "cell_type": "markdown",
      "metadata": {
        "id": "mZMp-rdMxeNz"
      },
      "source": [
        "**Check score on test data**"
      ]
    },
    {
      "cell_type": "code",
      "metadata": {
        "colab": {
          "base_uri": "https://localhost:8080/"
        },
        "id": "Hfse-CY7QHSC",
        "outputId": "ff06ed62-2d3f-4882-f35e-c217f126a75a"
      },
      "source": [
        "stacking_model = get_stacking()\n",
        "stacking_model.fit(X_train, y_train)"
      ],
      "execution_count": 36,
      "outputs": [
        {
          "output_type": "execute_result",
          "data": {
            "text/plain": [
              "StackingClassifier(cv=5,\n",
              "                   estimators=[('lr',\n",
              "                                LogisticRegression(C=1.0, class_weight=None,\n",
              "                                                   dual=False,\n",
              "                                                   fit_intercept=True,\n",
              "                                                   intercept_scaling=1,\n",
              "                                                   l1_ratio=None, max_iter=100,\n",
              "                                                   multi_class='auto',\n",
              "                                                   n_jobs=None, penalty='l2',\n",
              "                                                   random_state=None,\n",
              "                                                   solver='lbfgs', tol=0.0001,\n",
              "                                                   verbose=0,\n",
              "                                                   warm_start=False)),\n",
              "                               ('cart',\n",
              "                                DecisionTreeClassifier(ccp_alpha=0.0,\n",
              "                                                       class_weight=None,\n",
              "                                                       criterio...\n",
              "                                    shrinking=True, tol=0.001,\n",
              "                                    verbose=False))],\n",
              "                   final_estimator=LogisticRegression(C=1.0, class_weight=None,\n",
              "                                                      dual=False,\n",
              "                                                      fit_intercept=True,\n",
              "                                                      intercept_scaling=1,\n",
              "                                                      l1_ratio=None,\n",
              "                                                      max_iter=100,\n",
              "                                                      multi_class='auto',\n",
              "                                                      n_jobs=None, penalty='l2',\n",
              "                                                      random_state=None,\n",
              "                                                      solver='lbfgs',\n",
              "                                                      tol=0.0001, verbose=0,\n",
              "                                                      warm_start=False),\n",
              "                   n_jobs=None, passthrough=False, stack_method='auto',\n",
              "                   verbose=0)"
            ]
          },
          "metadata": {
            "tags": []
          },
          "execution_count": 36
        }
      ]
    },
    {
      "cell_type": "code",
      "metadata": {
        "id": "4SBeHfEYuuKH",
        "colab": {
          "base_uri": "https://localhost:8080/"
        },
        "outputId": "e7ddf4f0-c187-4ab1-fd10-314989ed1686"
      },
      "source": [
        "score = stacking_model.score(X_test, y_test)\n",
        "print(score)"
      ],
      "execution_count": 37,
      "outputs": [
        {
          "output_type": "stream",
          "text": [
            "0.9766666666666667\n"
          ],
          "name": "stdout"
        }
      ]
    },
    {
      "cell_type": "markdown",
      "metadata": {
        "id": "cYTATWiqRXTa"
      },
      "source": [
        "##Apply Neural Network on Sentiment"
      ]
    },
    {
      "cell_type": "markdown",
      "metadata": {
        "id": "uffntU4UNdbG"
      },
      "source": [
        "**Apply Count Vector and TFIDF on Text**"
      ]
    },
    {
      "cell_type": "code",
      "metadata": {
        "id": "CzzskBauNSJi"
      },
      "source": [
        "def process_data(df, micro_factor='Confirmation'):\n",
        "  # Apply One hot encoding on negative and positive\n",
        "  one_hot = pd.get_dummies(df[micro_factor])\n",
        "  df = pd.concat([df,one_hot],axis=1)\n",
        "  \n",
        "  # Apply Train Test Split\n",
        "  X, y = df['Statement'].values, df[['Positive', 'Negative']].values\n",
        "  X_train, X_test, y_train, y_test = train_test_split(X, y, test_size=0.30, random_state=42)\n",
        "  \n",
        "  # Apply Count Vector and TFIDF on Text\n",
        "  X_train, X_test = apply_count_vector(X_train, X_test)\n",
        "  X_train, X_test = apply_tfidf(X_train, X_test)\n",
        "  return X_train, X_test, y_train, y_test"
      ],
      "execution_count": 38,
      "outputs": []
    },
    {
      "cell_type": "markdown",
      "metadata": {
        "id": "rXV_Xf5kHB73"
      },
      "source": [
        "**Add different layers in CNN model**"
      ]
    },
    {
      "cell_type": "code",
      "metadata": {
        "id": "-Su4eu41HAUT"
      },
      "source": [
        "def construct_model(X_train, X_test, y_train, y_test):\n",
        "  model = Sequential()\n",
        "\n",
        "  model.add(Dense(units=12673,activation='relu'))\n",
        "  model.add(Dropout(0.5))\n",
        "\n",
        "  model.add(Dense(units=4000,activation='relu'))\n",
        "  model.add(Dropout(0.5))\n",
        "\n",
        "  model.add(Dense(units=500,activation='relu'))\n",
        "  model.add(Dropout(0.5))\n",
        "\n",
        "  model.add(Dense(units=2, activation='softmax'))\n",
        "\n",
        "  opt=tf.keras.optimizers.Adam(learning_rate=0.001)\n",
        "  model.compile(loss='categorical_crossentropy', optimizer=opt, metrics=['accuracy'])\n",
        "\n",
        "  early_stop = EarlyStopping(monitor='val_loss', mode='min', verbose=1, patience=2)\n",
        "\n",
        "  model.fit(x=X_train, y=y_train, batch_size=20, epochs=50, validation_data=(X_test, y_test), verbose=1, callbacks=early_stop)"
      ],
      "execution_count": 39,
      "outputs": []
    },
    {
      "cell_type": "markdown",
      "metadata": {
        "id": "NYGn2m1lIFvo"
      },
      "source": [
        "**Apply the Model**"
      ]
    },
    {
      "cell_type": "code",
      "metadata": {
        "colab": {
          "base_uri": "https://localhost:8080/"
        },
        "id": "NtKRqIcYIEev",
        "outputId": "d35795cb-6925-4cf9-83bf-1fc872eabdfc"
      },
      "source": [
        "X_train, X_test, y_train, y_test = process_data(df, micro_factor='Sentiment')\n",
        "construct_model(X_train, X_test, y_train, y_test)"
      ],
      "execution_count": 40,
      "outputs": [
        {
          "output_type": "stream",
          "text": [
            "Epoch 1/50\n",
            "35/35 [==============================] - 25s 679ms/step - loss: 0.3917 - accuracy: 0.8490 - val_loss: 0.2082 - val_accuracy: 0.9433\n",
            "Epoch 2/50\n",
            "35/35 [==============================] - 21s 609ms/step - loss: 0.0160 - accuracy: 0.9983 - val_loss: 0.3763 - val_accuracy: 0.9233\n",
            "Epoch 3/50\n",
            "35/35 [==============================] - 23s 667ms/step - loss: 0.0051 - accuracy: 0.9974 - val_loss: 0.5180 - val_accuracy: 0.9400\n",
            "Epoch 00003: early stopping\n"
          ],
          "name": "stdout"
        }
      ]
    },
    {
      "cell_type": "markdown",
      "metadata": {
        "id": "H6i6OnCmiTU0"
      },
      "source": [
        "## Apply Neural Network on Confirmation"
      ]
    },
    {
      "cell_type": "code",
      "metadata": {
        "colab": {
          "base_uri": "https://localhost:8080/"
        },
        "id": "jaDLInHfiTd0",
        "outputId": "c30a805a-7adf-4090-b150-55629c45fb37"
      },
      "source": [
        "X_train, X_test, y_train, y_test = process_data(df, micro_factor='Confirmation')\n",
        "construct_model(X_train, X_test, y_train, y_test)"
      ],
      "execution_count": 41,
      "outputs": [
        {
          "output_type": "stream",
          "text": [
            "Epoch 1/50\n",
            "35/35 [==============================] - 24s 626ms/step - loss: 0.3034 - accuracy: 0.8215 - val_loss: 0.3654 - val_accuracy: 0.9667\n",
            "Epoch 2/50\n",
            "35/35 [==============================] - 22s 645ms/step - loss: 0.0592 - accuracy: 0.9930 - val_loss: 0.2729 - val_accuracy: 0.9700\n",
            "Epoch 3/50\n",
            "35/35 [==============================] - 21s 609ms/step - loss: 0.0117 - accuracy: 0.9956 - val_loss: 0.3322 - val_accuracy: 0.9700\n",
            "Epoch 4/50\n",
            "35/35 [==============================] - 22s 622ms/step - loss: 0.0110 - accuracy: 0.9994 - val_loss: 0.2917 - val_accuracy: 0.9700\n",
            "Epoch 00004: early stopping\n"
          ],
          "name": "stdout"
        }
      ]
    },
    {
      "cell_type": "markdown",
      "metadata": {
        "id": "vDcWXII6o5Vq"
      },
      "source": [
        "## Apply Neural Network on Psychology Utilies"
      ]
    },
    {
      "cell_type": "code",
      "metadata": {
        "colab": {
          "base_uri": "https://localhost:8080/"
        },
        "id": "Rlxis2Jfo5Vs",
        "outputId": "a8495851-0bac-4da4-e892-5460f71ca5a0"
      },
      "source": [
        "X_train, X_test, y_train, y_test = process_data(df, micro_factor='PsychologyUtilites')\n",
        "construct_model(X_train, X_test, y_train, y_test)"
      ],
      "execution_count": 42,
      "outputs": [
        {
          "output_type": "stream",
          "text": [
            "Epoch 1/50\n",
            "35/35 [==============================] - 23s 607ms/step - loss: 0.2978 - accuracy: 0.8382 - val_loss: 0.2601 - val_accuracy: 0.9733\n",
            "Epoch 2/50\n",
            "35/35 [==============================] - 21s 589ms/step - loss: 0.0034 - accuracy: 1.0000 - val_loss: 0.3357 - val_accuracy: 0.9767\n",
            "Epoch 3/50\n",
            "35/35 [==============================] - 21s 616ms/step - loss: 9.0622e-06 - accuracy: 1.0000 - val_loss: 0.3436 - val_accuracy: 0.9767\n",
            "Epoch 00003: early stopping\n"
          ],
          "name": "stdout"
        }
      ]
    },
    {
      "cell_type": "markdown",
      "metadata": {
        "id": "mOSbaNrqJBeP"
      },
      "source": [
        "**Conclusion**"
      ]
    },
    {
      "cell_type": "markdown",
      "metadata": {
        "id": "s6c7yRFKJUK4"
      },
      "source": [
        "1. Both sentiment and confirmation are predictable by the article content.\n",
        "2. Stacking ensembling model performs better than single model.\n",
        "3. CNN performs better than other models.\n",
        "4. The factor PsychologyUtilites prediction is better using new twitter dataset 90% than previous dataset 70%."
      ]
    }
  ]
}