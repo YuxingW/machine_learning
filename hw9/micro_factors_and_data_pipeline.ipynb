{
  "nbformat": 4,
  "nbformat_minor": 0,
  "metadata": {
    "colab": {
      "name": "Copy of Copy of sentiment_analysis_tutorial.ipynb",
      "provenance": [],
      "collapsed_sections": [],
      "toc_visible": true,
      "include_colab_link": true
    },
    "kernelspec": {
      "name": "python3",
      "display_name": "Python 3"
    }
  },
  "cells": [
    {
      "cell_type": "markdown",
      "metadata": {
        "id": "view-in-github",
        "colab_type": "text"
      },
      "source": [
        "<a href=\"https://colab.research.google.com/github/YuxingW/machine_learning/blob/main/hw9/micro_factors_and_data_pipeline.ipynb\" target=\"_parent\"><img src=\"https://colab.research.google.com/assets/colab-badge.svg\" alt=\"Open In Colab\"/></a>"
      ]
    },
    {
      "cell_type": "markdown",
      "metadata": {
        "id": "WF4Qh5xVqM4D"
      },
      "source": [
        "# HW09 Pipeline\n",
        "\n",
        "Factor: Sychology Utilities\n",
        "* Sentiment\n",
        "* Group confirmation\n",
        "\n",
        "Reference: \n",
        "* https://towardsai.net/p/nlp/sentiment-analysis-opinion-mining-with-python-nlp-tutorial-d1f173ca4e3c\n",
        "* https://github.com/towardsai/tutorials/tree/master/sentiment_analysis_tutorial\n",
        "* https://machinelearningmastery.com/stacking-ensemble-machine-learning-with-python/\n"
      ]
    },
    {
      "cell_type": "markdown",
      "metadata": {
        "id": "7PnmDlwC8eFK"
      },
      "source": [
        "## Data preparation\n",
        "* Scrape data from politifact\n",
        "* Fetch twitter tweets by APIs"
      ]
    },
    {
      "cell_type": "markdown",
      "metadata": {
        "id": "cCdKoergjmDw"
      },
      "source": [
        "**Scrape data from politifact**"
      ]
    },
    {
      "cell_type": "code",
      "metadata": {
        "id": "VLl8z7VEjpMw",
        "colab": {
          "base_uri": "https://localhost:8080/"
        },
        "outputId": "16bf9d93-63b9-4a2f-a682-76c2960f961c"
      },
      "source": [
        "!pip install -q beautifulsoup4\n",
        "!pip install -q vaderSentiment"
      ],
      "execution_count": 1,
      "outputs": [
        {
          "output_type": "stream",
          "text": [
            "\u001b[?25l\r\u001b[K     |██▋                             | 10kB 16.5MB/s eta 0:00:01\r\u001b[K     |█████▏                          | 20kB 19.9MB/s eta 0:00:01\r\u001b[K     |███████▉                        | 30kB 15.8MB/s eta 0:00:01\r\u001b[K     |██████████▍                     | 40kB 11.2MB/s eta 0:00:01\r\u001b[K     |█████████████                   | 51kB 8.3MB/s eta 0:00:01\r\u001b[K     |███████████████▋                | 61kB 8.8MB/s eta 0:00:01\r\u001b[K     |██████████████████▏             | 71kB 7.8MB/s eta 0:00:01\r\u001b[K     |████████████████████▉           | 81kB 8.6MB/s eta 0:00:01\r\u001b[K     |███████████████████████▍        | 92kB 9.0MB/s eta 0:00:01\r\u001b[K     |██████████████████████████      | 102kB 9.2MB/s eta 0:00:01\r\u001b[K     |████████████████████████████▋   | 112kB 9.2MB/s eta 0:00:01\r\u001b[K     |███████████████████████████████▏| 122kB 9.2MB/s eta 0:00:01\r\u001b[K     |████████████████████████████████| 133kB 9.2MB/s \n",
            "\u001b[?25h"
          ],
          "name": "stdout"
        }
      ]
    },
    {
      "cell_type": "code",
      "metadata": {
        "id": "6Y3x_GVAEbgX"
      },
      "source": [
        "import requests \n",
        "import pandas as pd \n",
        "from bs4 import BeautifulSoup  "
      ],
      "execution_count": 2,
      "outputs": []
    },
    {
      "cell_type": "code",
      "metadata": {
        "id": "Uf4r5bOtEdUq"
      },
      "source": [
        "#Get all issues\n",
        "\n",
        "url = \"https://www.politifact.com/issues/\"\n",
        "issues = []\n",
        "r = requests.get(url)\n",
        "soup = BeautifulSoup(r.text,'html.parser')\n",
        "results = soup.find_all('div', attrs={'class':'c-chyron__value'})\n",
        "for result in results:\n",
        "  name = result.find('a').text\n",
        "  issue = result.find('a')['href'].replace(\"/\",\"\")\n",
        "  issues.append((name, issue))"
      ],
      "execution_count": 3,
      "outputs": []
    },
    {
      "cell_type": "code",
      "metadata": {
        "id": "VIodWee7Erz8",
        "colab": {
          "base_uri": "https://localhost:8080/",
          "height": 293
        },
        "outputId": "54528678-e0e6-4c3c-95e6-5a992b3feb57"
      },
      "source": [
        "url = \"https://www.politifact.com/factchecks/list/?page={pgno}&category={category}\"\n",
        "\n",
        "records = []  \n",
        "\n",
        "for i in range(1,2):\n",
        "  for issue, issue_url in issues[:5]:\n",
        "    fUrl = url.format(pgno=str(i), category=issue_url)\n",
        "    r = requests.get(fUrl)\n",
        "    soup = BeautifulSoup(r.text, 'html.parser')  \n",
        "    results = soup.find_all('article', attrs={'class':'m-statement'})\n",
        "    for result in results:\n",
        "      date = result.find('footer',attrs={'class':'m-statement__footer'}).text.split(\"•\")[1].rstrip(\"\\n\")\n",
        "      reporter = result.find('footer',attrs={'class':'m-statement__footer'}).text.split(\"•\")[0].replace(\"\\nBy\",\"\")   \n",
        "      author = result.find('a',attrs={'class':'m-statement__name'}).text.replace(\"\\n\",\"\")\n",
        "      statement =  result.find('div', attrs = {'class':'m-statement__quote'}).find('a').text.replace(\"\\n\",\"\")\n",
        "      statement_descr = result.find('div', {'class':'m-statement__desc'}).text.replace(\"\\n\",\"\")\n",
        "      article_url =  result.find('a')['href']\n",
        "      verdict = result.find('img', attrs = {'class':'c-image__thumb'}, alt=True).attrs['alt']\n",
        "      records.append(( date, issue, reporter, author, statement, statement_descr, verdict, article_url))\n",
        "  \n",
        "df_sample = pd.DataFrame(records, columns=['Date', 'Issue','Reporter','Author', 'Statement', 'Description', 'Verdict', 'Url'])  \n",
        "df_sample.head()"
      ],
      "execution_count": 4,
      "outputs": [
        {
          "output_type": "execute_result",
          "data": {
            "text/html": [
              "<div>\n",
              "<style scoped>\n",
              "    .dataframe tbody tr th:only-of-type {\n",
              "        vertical-align: middle;\n",
              "    }\n",
              "\n",
              "    .dataframe tbody tr th {\n",
              "        vertical-align: top;\n",
              "    }\n",
              "\n",
              "    .dataframe thead th {\n",
              "        text-align: right;\n",
              "    }\n",
              "</style>\n",
              "<table border=\"1\" class=\"dataframe\">\n",
              "  <thead>\n",
              "    <tr style=\"text-align: right;\">\n",
              "      <th></th>\n",
              "      <th>Date</th>\n",
              "      <th>Issue</th>\n",
              "      <th>Reporter</th>\n",
              "      <th>Author</th>\n",
              "      <th>Statement</th>\n",
              "      <th>Description</th>\n",
              "      <th>Verdict</th>\n",
              "      <th>Url</th>\n",
              "    </tr>\n",
              "  </thead>\n",
              "  <tbody>\n",
              "    <tr>\n",
              "      <th>0</th>\n",
              "      <td>March 31, 2021</td>\n",
              "      <td>Abortion</td>\n",
              "      <td>Tom Kertscher</td>\n",
              "      <td>Facebook posts</td>\n",
              "      <td>“Joe Biden puts pro-life groups on domestic ex...</td>\n",
              "      <td>stated on March 29, 2021 in a Facebook post:</td>\n",
              "      <td>barely-true</td>\n",
              "      <td>/personalities/facebook-posts/</td>\n",
              "    </tr>\n",
              "    <tr>\n",
              "      <th>1</th>\n",
              "      <td>February 12, 2021</td>\n",
              "      <td>Abortion</td>\n",
              "      <td>Brandon Mulder</td>\n",
              "      <td>Greg Abbott</td>\n",
              "      <td>“Innocent lives will be saved” by ending taxpa...</td>\n",
              "      <td>stated on January 24, 2021 in a tweet:</td>\n",
              "      <td>false</td>\n",
              "      <td>/personalities/greg-abbott/</td>\n",
              "    </tr>\n",
              "    <tr>\n",
              "      <th>2</th>\n",
              "      <td>November 18, 2020</td>\n",
              "      <td>Abortion</td>\n",
              "      <td>Noah Y. Kim</td>\n",
              "      <td>Facebook posts</td>\n",
              "      <td>There is “aborted male fetus” in the Oxford-As...</td>\n",
              "      <td>stated on November 15, 2020 in a Facebook post:</td>\n",
              "      <td>false</td>\n",
              "      <td>/personalities/facebook-posts/</td>\n",
              "    </tr>\n",
              "    <tr>\n",
              "      <th>3</th>\n",
              "      <td>October 14, 2020</td>\n",
              "      <td>Abortion</td>\n",
              "      <td>Tom Kertscher</td>\n",
              "      <td>Tommy Tuberville</td>\n",
              "      <td>Says Doug Jones \"has voted to spend our tax do...</td>\n",
              "      <td>stated on October 8, 2020 in an ad:</td>\n",
              "      <td>false</td>\n",
              "      <td>/personalities/tommy-tuberville/</td>\n",
              "    </tr>\n",
              "    <tr>\n",
              "      <th>4</th>\n",
              "      <td>October 13, 2020</td>\n",
              "      <td>Abortion</td>\n",
              "      <td>Chris Nichols</td>\n",
              "      <td>Facebook posts</td>\n",
              "      <td>“Kamala Harris Tried to Put Pro-Lifers in Jail...</td>\n",
              "      <td>stated on August 14, 2020 in a headline:</td>\n",
              "      <td>false</td>\n",
              "      <td>/personalities/facebook-posts/</td>\n",
              "    </tr>\n",
              "  </tbody>\n",
              "</table>\n",
              "</div>"
            ],
            "text/plain": [
              "                 Date     Issue  ...      Verdict                               Url\n",
              "0      March 31, 2021  Abortion  ...  barely-true    /personalities/facebook-posts/\n",
              "1   February 12, 2021  Abortion  ...        false       /personalities/greg-abbott/\n",
              "2   November 18, 2020  Abortion  ...        false    /personalities/facebook-posts/\n",
              "3    October 14, 2020  Abortion  ...        false  /personalities/tommy-tuberville/\n",
              "4    October 13, 2020  Abortion  ...        false    /personalities/facebook-posts/\n",
              "\n",
              "[5 rows x 8 columns]"
            ]
          },
          "metadata": {
            "tags": []
          },
          "execution_count": 4
        }
      ]
    },
    {
      "cell_type": "code",
      "metadata": {
        "id": "9EJZ_Q2IFY93",
        "colab": {
          "base_uri": "https://localhost:8080/"
        },
        "outputId": "1e4c0ba4-e9fe-4b77-d828-9f930af6af80"
      },
      "source": [
        "df_sample.isnull().sum()"
      ],
      "execution_count": 5,
      "outputs": [
        {
          "output_type": "execute_result",
          "data": {
            "text/plain": [
              "Date           0\n",
              "Issue          0\n",
              "Reporter       0\n",
              "Author         0\n",
              "Statement      0\n",
              "Description    0\n",
              "Verdict        0\n",
              "Url            0\n",
              "dtype: int64"
            ]
          },
          "metadata": {
            "tags": []
          },
          "execution_count": 5
        }
      ]
    },
    {
      "cell_type": "markdown",
      "metadata": {
        "id": "-hBtFjjoqV2_"
      },
      "source": [
        "**Import Required Packages**"
      ]
    },
    {
      "cell_type": "code",
      "metadata": {
        "colab": {
          "base_uri": "https://localhost:8080/"
        },
        "id": "-sSRIdY1HZCS",
        "outputId": "ad7385c1-a78b-4705-8274-cb9e3667cf17"
      },
      "source": [
        "import pandas as pd\n",
        "import numpy as np\n",
        "import seaborn as sns\n",
        "import re\n",
        "import requests\n",
        "import string\n",
        "from string import punctuation\n",
        "from io import BytesIO\n",
        "import nltk\n",
        "from nltk.corpus import stopwords\n",
        "nltk.download('stopwords')\n",
        "\n",
        "\n",
        "import matplotlib.pyplot as plt\n",
        "from sklearn.model_selection import train_test_split\n",
        "from sklearn.feature_extraction.text import CountVectorizer\n",
        "from sklearn.feature_extraction.text import TfidfTransformer\n",
        "\n",
        "import tensorflow as tf\n",
        "from tensorflow.keras.models import Sequential\n",
        "from tensorflow.keras.layers import Dense, Activation, Dropout\n",
        "from tensorflow.keras.callbacks import EarlyStopping\n",
        "from vaderSentiment.vaderSentiment import SentimentIntensityAnalyzer"
      ],
      "execution_count": 6,
      "outputs": [
        {
          "output_type": "stream",
          "text": [
            "[nltk_data] Downloading package stopwords to /root/nltk_data...\n",
            "[nltk_data]   Unzipping corpora/stopwords.zip.\n"
          ],
          "name": "stdout"
        }
      ]
    },
    {
      "cell_type": "markdown",
      "metadata": {
        "id": "WXXcy_o9yVec"
      },
      "source": [
        "** Load twitter data set"
      ]
    },
    {
      "cell_type": "code",
      "metadata": {
        "id": "Gn_vu_gprlK1",
        "colab": {
          "base_uri": "https://localhost:8080/"
        },
        "outputId": "52f0c003-5dce-4ea5-ad63-23b2cc181e7c"
      },
      "source": [
        "train_url = 'https://docs.google.com/spreadsheets/d/e/2PACX-1vT-7fkaGbvXcppizTYkyM_weWptbtyab7PVUXJZdpJb7aJ-mKXtB1zTkY7DizLU7M64oYMoE8lPJQ1V/pub?output=csv'\n",
        "r = requests.get(train_url)\n",
        "data = r.content\n",
        "df_tweet = pd.read_csv(BytesIO(data))\n",
        "df_tweet.shape"
      ],
      "execution_count": 7,
      "outputs": [
        {
          "output_type": "execute_result",
          "data": {
            "text/plain": [
              "(762, 3)"
            ]
          },
          "metadata": {
            "tags": []
          },
          "execution_count": 7
        }
      ]
    },
    {
      "cell_type": "markdown",
      "metadata": {
        "id": "YUH7jv5KrgG-"
      },
      "source": [
        "**Scrape twitter data language as english**"
      ]
    },
    {
      "cell_type": "code",
      "metadata": {
        "id": "Q4IUPTjmmcy4",
        "colab": {
          "base_uri": "https://localhost:8080/"
        },
        "outputId": "6d315e1b-1ee3-48f2-c3f5-71456638c4f8"
      },
      "source": [
        "!pip install -q datasketch\n",
        "!pip install -q networkx "
      ],
      "execution_count": 8,
      "outputs": [
        {
          "output_type": "stream",
          "text": [
            "\u001b[?25l\r\u001b[K     |████▉                           | 10kB 20.3MB/s eta 0:00:01\r\u001b[K     |█████████▊                      | 20kB 13.6MB/s eta 0:00:01\r\u001b[K     |██████████████▋                 | 30kB 11.7MB/s eta 0:00:01\r\u001b[K     |███████████████████▌            | 40kB 8.9MB/s eta 0:00:01\r\u001b[K     |████████████████████████▎       | 51kB 10.3MB/s eta 0:00:01\r\u001b[K     |█████████████████████████████▏  | 61kB 10.9MB/s eta 0:00:01\r\u001b[K     |████████████████████████████████| 71kB 3.9MB/s \n",
            "\u001b[?25h"
          ],
          "name": "stdout"
        }
      ]
    },
    {
      "cell_type": "code",
      "metadata": {
        "id": "huNUYbGMmKHm"
      },
      "source": [
        "import tweepy\n",
        "from tweepy import OAuthHandler\n",
        "import pandas as pd\n",
        "import numpy as np\n",
        "import re\n",
        "import time\n",
        "from datasketch import MinHash, MinHashLSH"
      ],
      "execution_count": 9,
      "outputs": []
    },
    {
      "cell_type": "code",
      "metadata": {
        "colab": {
          "base_uri": "https://localhost:8080/",
          "height": 206
        },
        "id": "o53hhvmfmKmZ",
        "outputId": "04d24527-b77f-4f22-e55b-513fe27e0237"
      },
      "source": [
        "access_token = '1311987544507084800-iYuPqERzopIZuuyxaZ8xnqARcyKrR1'\n",
        "access_token_secret = 'DCJg5kE7srBZRToNlzF0xqT3hcxonnXMlMXKWjX91wyTe'\n",
        "consumer_key = 'YQLJJb0ELY5pdXbx7WkQXtRXo'\n",
        "consumer_secret = 'HCgQga7Mj33C5E19IP7Dr3qGChmc85M6IEYXSGtI6g4cdplBYw'\n",
        "\n",
        "auth = tweepy.OAuthHandler(consumer_key, consumer_secret)\n",
        "auth.set_access_token(access_token, access_token_secret)\n",
        "\n",
        "api = tweepy.API(auth, wait_on_rate_limit=True, wait_on_rate_limit_notify=True)\n",
        "\n",
        "tweets = []\n",
        "\n",
        "count = 1\n",
        "\n",
        "\"\"\"if you don't add since= as one of the parameters, Twitter will sample the last 7 days worth of data depending\n",
        "on how many total tweets there are with the specific hashtag, keyword, or key phrase that you are looking for. You can\n",
        "manually add in the number of items (or tweets) you want to get back in the items() section.\"\"\"\n",
        "\n",
        "for tweet in tweepy.Cursor(api.search, q=\"#breaking\", count=450, since='2020-04-10', lang='en').items(5000):\n",
        "  count += 1\n",
        "  try:\n",
        "    data = [tweet.text, tweet.retweet_count]\n",
        "    data = tuple(data)\n",
        "    tweets.append(data)\n",
        "  \n",
        "  except tweepy.TweepError as e:\n",
        "    print(e.reason)\n",
        "    continue\n",
        "\n",
        "  except StopIteration:\n",
        "    break\n",
        "\n",
        "df_train = pd.DataFrame(tweets, columns = ['Statement', 'NumOfRetweets'])\n",
        "df_train = df_train[:1000]\n",
        "df_train.head()"
      ],
      "execution_count": 10,
      "outputs": [
        {
          "output_type": "execute_result",
          "data": {
            "text/html": [
              "<div>\n",
              "<style scoped>\n",
              "    .dataframe tbody tr th:only-of-type {\n",
              "        vertical-align: middle;\n",
              "    }\n",
              "\n",
              "    .dataframe tbody tr th {\n",
              "        vertical-align: top;\n",
              "    }\n",
              "\n",
              "    .dataframe thead th {\n",
              "        text-align: right;\n",
              "    }\n",
              "</style>\n",
              "<table border=\"1\" class=\"dataframe\">\n",
              "  <thead>\n",
              "    <tr style=\"text-align: right;\">\n",
              "      <th></th>\n",
              "      <th>Statement</th>\n",
              "      <th>NumOfRetweets</th>\n",
              "    </tr>\n",
              "  </thead>\n",
              "  <tbody>\n",
              "    <tr>\n",
              "      <th>0</th>\n",
              "      <td>RT @TimesNow: #Breaking | West Bengal: Mamata ...</td>\n",
              "      <td>72</td>\n",
              "    </tr>\n",
              "    <tr>\n",
              "      <th>1</th>\n",
              "      <td>RT @rameshlaus: #BREAKING : #BCCI confirms all...</td>\n",
              "      <td>992</td>\n",
              "    </tr>\n",
              "    <tr>\n",
              "      <th>2</th>\n",
              "      <td>RT @BettyKPIX: #breaking shooting investigatio...</td>\n",
              "      <td>15</td>\n",
              "    </tr>\n",
              "    <tr>\n",
              "      <th>3</th>\n",
              "      <td>#BREAKING: One in hospital after report of peo...</td>\n",
              "      <td>0</td>\n",
              "    </tr>\n",
              "    <tr>\n",
              "      <th>4</th>\n",
              "      <td>#China builds base in #Djibouti to deploy airc...</td>\n",
              "      <td>0</td>\n",
              "    </tr>\n",
              "  </tbody>\n",
              "</table>\n",
              "</div>"
            ],
            "text/plain": [
              "                                           Statement  NumOfRetweets\n",
              "0  RT @TimesNow: #Breaking | West Bengal: Mamata ...             72\n",
              "1  RT @rameshlaus: #BREAKING : #BCCI confirms all...            992\n",
              "2  RT @BettyKPIX: #breaking shooting investigatio...             15\n",
              "3  #BREAKING: One in hospital after report of peo...              0\n",
              "4  #China builds base in #Djibouti to deploy airc...              0"
            ]
          },
          "metadata": {
            "tags": []
          },
          "execution_count": 10
        }
      ]
    },
    {
      "cell_type": "markdown",
      "metadata": {
        "id": "lMD-lue81NME"
      },
      "source": [
        "**Plot the Rating visualization graph**"
      ]
    },
    {
      "cell_type": "code",
      "metadata": {
        "colab": {
          "base_uri": "https://localhost:8080/",
          "height": 297
        },
        "id": "EwQ5_FWh1R-p",
        "outputId": "c00ce4d7-fc01-4f7e-e263-9eb569542b06"
      },
      "source": [
        "sns.set_style('whitegrid')\n",
        "sns.countplot(x='Verdict',data=df_sample, palette='YlGnBu_r')"
      ],
      "execution_count": 11,
      "outputs": [
        {
          "output_type": "execute_result",
          "data": {
            "text/plain": [
              "<matplotlib.axes._subplots.AxesSubplot at 0x7fdb858aaad0>"
            ]
          },
          "metadata": {
            "tags": []
          },
          "execution_count": 11
        },
        {
          "output_type": "display_data",
          "data": {
            "image/png": "[encoded data removed]",
            "text/plain": [
              "<Figure size 432x288 with 1 Axes>"
            ]
          },
          "metadata": {
            "tags": []
          }
        }
      ]
    },
    {
      "cell_type": "markdown",
      "metadata": {
        "id": "VqT2elfcs4tj"
      },
      "source": [
        "**Calculation of Polarity**"
      ]
    },
    {
      "cell_type": "code",
      "metadata": {
        "id": "vQSZtk8IKPxp"
      },
      "source": [
        "df_sample['VerdictRating'] = df_sample['Verdict'].apply(lambda x: 'Positive' if x in ['true', 'mostly-true', 'half-true'] else 'Negative')\n"
      ],
      "execution_count": 12,
      "outputs": []
    },
    {
      "cell_type": "markdown",
      "metadata": {
        "id": "l2ppN_Gj3MXZ"
      },
      "source": [
        "## Microfactors generation"
      ]
    },
    {
      "cell_type": "markdown",
      "metadata": {
        "id": "UxDEvJZuv7yu"
      },
      "source": [
        "**1. Confirmation generation**"
      ]
    },
    {
      "cell_type": "code",
      "metadata": {
        "colab": {
          "base_uri": "https://localhost:8080/",
          "height": 283
        },
        "id": "QvsEfv5U8hNJ",
        "outputId": "46cfea6d-0175-4f91-957f-ff2e8aa4012f"
      },
      "source": [
        "pd.options.mode.chained_assignment = None\n",
        "\n",
        "ulimit = np.percentile(df_train.NumOfRetweets, 99)\n",
        "df_train['NumOfRetweets'].loc[df_train['NumOfRetweets']>ulimit] = ulimit\n",
        "llimit = np.percentile(df_train.NumOfRetweets.values, 1)\n",
        "df_train['NumOfRetweets'].loc[df_train['NumOfRetweets']<llimit] = llimit\n",
        "df_train['NumOfRetweets'].plot.hist(color='#86bf91')"
      ],
      "execution_count": 13,
      "outputs": [
        {
          "output_type": "execute_result",
          "data": {
            "text/plain": [
              "<matplotlib.axes._subplots.AxesSubplot at 0x7fdb86867b50>"
            ]
          },
          "metadata": {
            "tags": []
          },
          "execution_count": 13
        },
        {
          "output_type": "display_data",
          "data": {
            "image/png": "[encoded data removed]",
            "text/plain": [
              "<Figure size 432x288 with 1 Axes>"
            ]
          },
          "metadata": {
            "tags": []
          }
        }
      ]
    },
    {
      "cell_type": "code",
      "metadata": {
        "colab": {
          "base_uri": "https://localhost:8080/",
          "height": 206
        },
        "id": "ECDmTloWNMa9",
        "outputId": "4d869fc9-edf4-4ce2-b9df-b855404c66ee"
      },
      "source": [
        "df_train['ScaleConfirmation'] = df_train['NumOfRetweets']/df_train['NumOfRetweets'].mean()\n",
        "df_train['ScaleConfirmation'] = df_train['ScaleConfirmation'].apply(lambda x: 1 if x > 1 else x)\n",
        "df_train.head()"
      ],
      "execution_count": 14,
      "outputs": [
        {
          "output_type": "execute_result",
          "data": {
            "text/html": [
              "<div>\n",
              "<style scoped>\n",
              "    .dataframe tbody tr th:only-of-type {\n",
              "        vertical-align: middle;\n",
              "    }\n",
              "\n",
              "    .dataframe tbody tr th {\n",
              "        vertical-align: top;\n",
              "    }\n",
              "\n",
              "    .dataframe thead th {\n",
              "        text-align: right;\n",
              "    }\n",
              "</style>\n",
              "<table border=\"1\" class=\"dataframe\">\n",
              "  <thead>\n",
              "    <tr style=\"text-align: right;\">\n",
              "      <th></th>\n",
              "      <th>Statement</th>\n",
              "      <th>NumOfRetweets</th>\n",
              "      <th>ScaleConfirmation</th>\n",
              "    </tr>\n",
              "  </thead>\n",
              "  <tbody>\n",
              "    <tr>\n",
              "      <th>0</th>\n",
              "      <td>RT @TimesNow: #Breaking | West Bengal: Mamata ...</td>\n",
              "      <td>72.0</td>\n",
              "      <td>0.060143</td>\n",
              "    </tr>\n",
              "    <tr>\n",
              "      <th>1</th>\n",
              "      <td>RT @rameshlaus: #BREAKING : #BCCI confirms all...</td>\n",
              "      <td>992.0</td>\n",
              "      <td>0.828638</td>\n",
              "    </tr>\n",
              "    <tr>\n",
              "      <th>2</th>\n",
              "      <td>RT @BettyKPIX: #breaking shooting investigatio...</td>\n",
              "      <td>15.0</td>\n",
              "      <td>0.012530</td>\n",
              "    </tr>\n",
              "    <tr>\n",
              "      <th>3</th>\n",
              "      <td>#BREAKING: One in hospital after report of peo...</td>\n",
              "      <td>0.0</td>\n",
              "      <td>0.000000</td>\n",
              "    </tr>\n",
              "    <tr>\n",
              "      <th>4</th>\n",
              "      <td>#China builds base in #Djibouti to deploy airc...</td>\n",
              "      <td>0.0</td>\n",
              "      <td>0.000000</td>\n",
              "    </tr>\n",
              "  </tbody>\n",
              "</table>\n",
              "</div>"
            ],
            "text/plain": [
              "                                           Statement  ...  ScaleConfirmation\n",
              "0  RT @TimesNow: #Breaking | West Bengal: Mamata ...  ...           0.060143\n",
              "1  RT @rameshlaus: #BREAKING : #BCCI confirms all...  ...           0.828638\n",
              "2  RT @BettyKPIX: #breaking shooting investigatio...  ...           0.012530\n",
              "3  #BREAKING: One in hospital after report of peo...  ...           0.000000\n",
              "4  #China builds base in #Djibouti to deploy airc...  ...           0.000000\n",
              "\n",
              "[5 rows x 3 columns]"
            ]
          },
          "metadata": {
            "tags": []
          },
          "execution_count": 14
        }
      ]
    },
    {
      "cell_type": "markdown",
      "metadata": {
        "id": "OH_wv24QFQCF"
      },
      "source": [
        "Where we can see very few of them have over than 2000 retweets."
      ]
    },
    {
      "cell_type": "markdown",
      "metadata": {
        "id": "xaSuc38YFWNu"
      },
      "source": [
        "The more retweets, the more social confirmation. We split the number of retwees to 'Confirmation' as 'positive' and 'negative', 300 is the threshold we can use for social media."
      ]
    },
    {
      "cell_type": "code",
      "metadata": {
        "colab": {
          "base_uri": "https://localhost:8080/",
          "height": 297
        },
        "id": "BiDBQZodEhIE",
        "outputId": "b2c4f26e-7485-419d-dd97-dc7699d50288"
      },
      "source": [
        "df_train['Confirmation'] = df_train['NumOfRetweets'].apply(lambda x: 'Positive' if x > 300 else 'Negative')\n",
        "sns.set_style('whitegrid')\n",
        "sns.countplot(x='Confirmation',data=df_train, palette='summer')"
      ],
      "execution_count": 15,
      "outputs": [
        {
          "output_type": "execute_result",
          "data": {
            "text/plain": [
              "<matplotlib.axes._subplots.AxesSubplot at 0x7fdb85b71150>"
            ]
          },
          "metadata": {
            "tags": []
          },
          "execution_count": 15
        },
        {
          "output_type": "display_data",
          "data": {
            "image/png": "[encoded data removed]",
            "text/plain": [
              "<Figure size 432x288 with 1 Axes>"
            ]
          },
          "metadata": {
            "tags": []
          }
        }
      ]
    },
    {
      "cell_type": "markdown",
      "metadata": {
        "id": "B3so3XNt5PXg"
      },
      "source": [
        "**Text Preprocessing**"
      ]
    },
    {
      "cell_type": "code",
      "metadata": {
        "id": "mvi7pt-d5R6E"
      },
      "source": [
        "def get_text_processing(text):\n",
        "    stpword = stopwords.words('english')\n",
        "    no_punctuation = [char for char in text if char not in string.punctuation]\n",
        "    no_punctuation = ''.join(no_punctuation)\n",
        "    return ' '.join([word for word in no_punctuation.split() if word.lower() not in stpword])"
      ],
      "execution_count": 16,
      "outputs": []
    },
    {
      "cell_type": "markdown",
      "metadata": {
        "id": "1F75BGMk5zbT"
      },
      "source": [
        "**Apply the method \"get_text_processing\" into column statement text**"
      ]
    },
    {
      "cell_type": "code",
      "metadata": {
        "id": "52_Rbc3p5953"
      },
      "source": [
        "df_train['Statement'] = df_train['Statement'].apply(get_text_processing)\n",
        "df_sample['Statement'] = df_sample['Statement'].apply(get_text_processing)\n"
      ],
      "execution_count": 17,
      "outputs": []
    },
    {
      "cell_type": "markdown",
      "metadata": {
        "id": "-wctT1YPwH58"
      },
      "source": [
        "**2. Sentiment Generation**"
      ]
    },
    {
      "cell_type": "code",
      "metadata": {
        "id": "RqSTN1I0gXHV"
      },
      "source": [
        "def get_text_sentiment(text):\n",
        "  analyzer = SentimentIntensityAnalyzer()\n",
        "  _sentiment = analyzer.polarity_scores(text)[\"compound\"]\n",
        "  return abs(_sentiment)"
      ],
      "execution_count": 18,
      "outputs": []
    },
    {
      "cell_type": "markdown",
      "metadata": {
        "id": "zuL1onGxjtIR"
      },
      "source": [
        "**Apply the method \"get_text_setiment\" into column statement text**"
      ]
    },
    {
      "cell_type": "code",
      "metadata": {
        "id": "smSRphhgkT8T"
      },
      "source": [
        "df_train['ScaleSentiment'] = df_train['Statement'].apply(get_text_sentiment)\n",
        "df_train['Sentiment'] = df_train['ScaleSentiment'].apply(lambda x: 'Positive' if float(x) > 0.5 else 'Negative')"
      ],
      "execution_count": 19,
      "outputs": []
    },
    {
      "cell_type": "markdown",
      "metadata": {
        "id": "Fhxnn-pj7R6P"
      },
      "source": [
        "**Visualize Sentiment Polarity**"
      ]
    },
    {
      "cell_type": "code",
      "metadata": {
        "colab": {
          "base_uri": "https://localhost:8080/",
          "height": 297
        },
        "id": "TglKEwxS2DcK",
        "outputId": "766f45f9-787b-4398-f661-1f1b4bf61e2b"
      },
      "source": [
        "sns.set_style('whitegrid')\n",
        "sns.countplot(x='Sentiment',data=df_train, palette='summer')"
      ],
      "execution_count": 20,
      "outputs": [
        {
          "output_type": "execute_result",
          "data": {
            "text/plain": [
              "<matplotlib.axes._subplots.AxesSubplot at 0x7fdb86114050>"
            ]
          },
          "metadata": {
            "tags": []
          },
          "execution_count": 20
        },
        {
          "output_type": "display_data",
          "data": {
            "image/png": "[encoded data removed]",
            "text/plain": [
              "<Figure size 432x288 with 1 Axes>"
            ]
          },
          "metadata": {
            "tags": []
          }
        }
      ]
    },
    {
      "cell_type": "markdown",
      "metadata": {
        "id": "Ik4VTN7KsDOa"
      },
      "source": [
        "## Factor generation\n",
        "* Combine micro-factors to factor using polynomial"
      ]
    },
    {
      "cell_type": "code",
      "metadata": {
        "colab": {
          "base_uri": "https://localhost:8080/",
          "height": 293
        },
        "id": "yFeqv9LG7N5N",
        "outputId": "b089913b-015a-4f7b-bf91-1e0aa9fe6a9f"
      },
      "source": [
        "df = df_train.copy()\n",
        "# Get factor from micro factors by polynomial\n",
        "df['ScalePsychology'] = df['ScaleConfirmation'] * 0.6 + df['ScaleSentiment'] * 0.4\n",
        "_mean = df['ScalePsychology'].mean()\n",
        "df['PsychologyUtilites'] = df['ScalePsychology'].apply(lambda x: 'Positive' if x > 0.45 else 'Negative')\n",
        "df.head()"
      ],
      "execution_count": 21,
      "outputs": [
        {
          "output_type": "execute_result",
          "data": {
            "text/html": [
              "<div>\n",
              "<style scoped>\n",
              "    .dataframe tbody tr th:only-of-type {\n",
              "        vertical-align: middle;\n",
              "    }\n",
              "\n",
              "    .dataframe tbody tr th {\n",
              "        vertical-align: top;\n",
              "    }\n",
              "\n",
              "    .dataframe thead th {\n",
              "        text-align: right;\n",
              "    }\n",
              "</style>\n",
              "<table border=\"1\" class=\"dataframe\">\n",
              "  <thead>\n",
              "    <tr style=\"text-align: right;\">\n",
              "      <th></th>\n",
              "      <th>Statement</th>\n",
              "      <th>NumOfRetweets</th>\n",
              "      <th>ScaleConfirmation</th>\n",
              "      <th>Confirmation</th>\n",
              "      <th>ScaleSentiment</th>\n",
              "      <th>Sentiment</th>\n",
              "      <th>ScalePsychology</th>\n",
              "      <th>PsychologyUtilites</th>\n",
              "    </tr>\n",
              "  </thead>\n",
              "  <tbody>\n",
              "    <tr>\n",
              "      <th>0</th>\n",
              "      <td>RT TimesNow Breaking West Bengal Mamata Banerj...</td>\n",
              "      <td>72.0</td>\n",
              "      <td>0.060143</td>\n",
              "      <td>Negative</td>\n",
              "      <td>0.6249</td>\n",
              "      <td>Positive</td>\n",
              "      <td>0.286046</td>\n",
              "      <td>Negative</td>\n",
              "    </tr>\n",
              "    <tr>\n",
              "      <th>1</th>\n",
              "      <td>RT rameshlaus BREAKING BCCI confirms IPL2021 p...</td>\n",
              "      <td>992.0</td>\n",
              "      <td>0.828638</td>\n",
              "      <td>Positive</td>\n",
              "      <td>0.5994</td>\n",
              "      <td>Positive</td>\n",
              "      <td>0.736943</td>\n",
              "      <td>Positive</td>\n",
              "    </tr>\n",
              "    <tr>\n",
              "      <th>2</th>\n",
              "      <td>RT BettyKPIX breaking shooting investigation G...</td>\n",
              "      <td>15.0</td>\n",
              "      <td>0.012530</td>\n",
              "      <td>Negative</td>\n",
              "      <td>0.2023</td>\n",
              "      <td>Negative</td>\n",
              "      <td>0.088438</td>\n",
              "      <td>Negative</td>\n",
              "    </tr>\n",
              "    <tr>\n",
              "      <th>3</th>\n",
              "      <td>BREAKING One hospital report people shooting a...</td>\n",
              "      <td>0.0</td>\n",
              "      <td>0.000000</td>\n",
              "      <td>Negative</td>\n",
              "      <td>0.0000</td>\n",
              "      <td>Negative</td>\n",
              "      <td>0.000000</td>\n",
              "      <td>Negative</td>\n",
              "    </tr>\n",
              "    <tr>\n",
              "      <th>4</th>\n",
              "      <td>China builds base Djibouti deploy aircraft car...</td>\n",
              "      <td>0.0</td>\n",
              "      <td>0.000000</td>\n",
              "      <td>Negative</td>\n",
              "      <td>0.0000</td>\n",
              "      <td>Negative</td>\n",
              "      <td>0.000000</td>\n",
              "      <td>Negative</td>\n",
              "    </tr>\n",
              "  </tbody>\n",
              "</table>\n",
              "</div>"
            ],
            "text/plain": [
              "                                           Statement  ...  PsychologyUtilites\n",
              "0  RT TimesNow Breaking West Bengal Mamata Banerj...  ...            Negative\n",
              "1  RT rameshlaus BREAKING BCCI confirms IPL2021 p...  ...            Positive\n",
              "2  RT BettyKPIX breaking shooting investigation G...  ...            Negative\n",
              "3  BREAKING One hospital report people shooting a...  ...            Negative\n",
              "4  China builds base Djibouti deploy aircraft car...  ...            Negative\n",
              "\n",
              "[5 rows x 8 columns]"
            ]
          },
          "metadata": {
            "tags": []
          },
          "execution_count": 21
        }
      ]
    },
    {
      "cell_type": "code",
      "metadata": {
        "colab": {
          "base_uri": "https://localhost:8080/",
          "height": 297
        },
        "id": "QLgllt-lnUFj",
        "outputId": "8cf6634f-47d0-44aa-aa1f-adc8eddece3a"
      },
      "source": [
        "sns.set_style('whitegrid')\n",
        "sns.countplot(x='PsychologyUtilites',data=df, palette='summer')"
      ],
      "execution_count": 22,
      "outputs": [
        {
          "output_type": "execute_result",
          "data": {
            "text/plain": [
              "<matplotlib.axes._subplots.AxesSubplot at 0x7fdb862a3890>"
            ]
          },
          "metadata": {
            "tags": []
          },
          "execution_count": 22
        },
        {
          "output_type": "display_data",
          "data": {
            "image/png": "[encoded data removed]",
            "text/plain": [
              "<Figure size 432x288 with 1 Axes>"
            ]
          },
          "metadata": {
            "tags": []
          }
        }
      ]
    },
    {
      "cell_type": "code",
      "metadata": {
        "colab": {
          "base_uri": "https://localhost:8080/"
        },
        "id": "aMvgffdDOIbC",
        "outputId": "7dd34611-4fa3-44fd-e2b8-d40b005736e6"
      },
      "source": [
        "df.shape"
      ],
      "execution_count": 23,
      "outputs": [
        {
          "output_type": "execute_result",
          "data": {
            "text/plain": [
              "(1000, 8)"
            ]
          },
          "metadata": {
            "tags": []
          },
          "execution_count": 23
        }
      ]
    },
    {
      "cell_type": "markdown",
      "metadata": {
        "id": "AuADdT8UFgOy"
      },
      "source": [
        "##Define pipeline"
      ]
    },
    {
      "cell_type": "markdown",
      "metadata": {
        "id": "okEtMpeHk8AU"
      },
      "source": [
        "Pipeline includes vectorization tfidf transformer and SVM training"
      ]
    },
    {
      "cell_type": "code",
      "metadata": {
        "id": "PAGbzfrrol9S"
      },
      "source": [
        "from sklearn.pipeline import Pipeline\n",
        "from sklearn.model_selection import cross_val_score\n",
        "from sklearn.svm import SVC\n",
        "\n",
        "# A pipeline with data preprocessing, training and prediction\n",
        "pipeline = Pipeline([\n",
        "    ('vect', CountVectorizer()),\n",
        "    ('tfidf', TfidfTransformer()),\n",
        "    ('svm', SVC(C=1)),\n",
        "])\n",
        "\n",
        "def data_to_pipeline(df, _source=None, _target=None):\n",
        "  # Split data for training and validation\n",
        "  X, y = df[_source].values, df[_target].values\n",
        "  X_train, X_test, y_train, y_test = train_test_split(X, y, test_size=0.30, random_state=42) \n",
        "  # Training and prediction\n",
        "  pipeline.fit(X_train, y_train)\n",
        "  scores = cross_val_score(pipeline, X_test, y_test, cv=3)\n",
        "  print('using %s to predict %s' % (_source, _target))\n",
        "  print('cross validation scores:', scores)\n",
        "  print('prediction score:', pipeline.score(X_test, y_test))\n",
        "\n",
        "def factors_pipeline(df):\n",
        "  data_to_pipeline(df, _source='Statement', _target='Sentiment')\n",
        "  data_to_pipeline(df, _source='Statement', _target='Confirmation')\n",
        "  data_to_pipeline(df, _source='Statement', _target='PsychologyUtilites')"
      ],
      "execution_count": 46,
      "outputs": []
    },
    {
      "cell_type": "markdown",
      "metadata": {
        "id": "Jl3I183lRr40"
      },
      "source": [
        "## Apply pipeline on microfactors and factor"
      ]
    },
    {
      "cell_type": "code",
      "metadata": {
        "colab": {
          "base_uri": "https://localhost:8080/"
        },
        "id": "2c7q_9SvBV8h",
        "outputId": "3c87bb91-17ac-4e09-9ecc-63979eb5d0e5"
      },
      "source": [
        "factors_pipeline(df)"
      ],
      "execution_count": 47,
      "outputs": [
        {
          "output_type": "stream",
          "text": [
            "using Statement to predict Sentiment\n",
            "cross validation scores: [0.87 0.89 0.96]\n",
            "prediction score: 0.9533333333333334\n",
            "using Statement to predict Confirmation\n",
            "cross validation scores: [0.99 0.97 0.94]\n",
            "prediction score: 0.9966666666666667\n",
            "using Statement to predict PsychologyUtilites\n",
            "cross validation scores: [1.   0.97 0.99]\n",
            "prediction score: 1.0\n"
          ],
          "name": "stdout"
        }
      ]
    },
    {
      "cell_type": "markdown",
      "metadata": {
        "id": "x86NeYa-5yt-"
      },
      "source": [
        "##Conclusion"
      ]
    },
    {
      "cell_type": "markdown",
      "metadata": {
        "id": "s6c7yRFKJUK4"
      },
      "source": [
        "1. Both sentiment and confirmation are predictable by the article content.\n",
        "2. Stacking ensembling model performs better than single model.\n",
        "3. CNN performs better than other models.\n",
        "4. The factor PsychologyUtilites prediction is better using new twitter dataset 90% than previous dataset 70%."
      ]
    }
  ]
}