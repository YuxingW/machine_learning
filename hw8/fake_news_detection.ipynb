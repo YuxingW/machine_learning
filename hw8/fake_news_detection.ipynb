{
  "nbformat": 4,
  "nbformat_minor": 0,
  "metadata": {
    "colab": {
      "name": "Copy of sentiment_analysis_tutorial.ipynb",
      "provenance": [],
      "include_colab_link": true
    },
    "kernelspec": {
      "name": "python3",
      "display_name": "Python 3"
    }
  },
  "cells": [
    {
      "cell_type": "markdown",
      "metadata": {
        "id": "view-in-github",
        "colab_type": "text"
      },
      "source": [
        "<a href=\"https://colab.research.google.com/github/YuxingW/machine_learning/blob/main/hw8/fake_news_detection.ipynb\" target=\"_parent\"><img src=\"https://colab.research.google.com/assets/colab-badge.svg\" alt=\"Open In Colab\"/></a>"
      ]
    },
    {
      "cell_type": "markdown",
      "metadata": {
        "id": "WF4Qh5xVqM4D"
      },
      "source": [
        "# Sentiment Analysis on Women's Dress Review\n",
        "\n",
        "* Tutorial: https://towardsai.net/p/nlp/sentiment-analysis-opinion-mining-with-python-nlp-tutorial-d1f173ca4e3c\n",
        "\n",
        "* Github: https://github.com/towardsai/tutorials/tree/master/sentiment_analysis_tutorial"
      ]
    },
    {
      "cell_type": "markdown",
      "metadata": {
        "id": "7PnmDlwC8eFK"
      },
      "source": [
        "# New Section"
      ]
    },
    {
      "cell_type": "markdown",
      "metadata": {
        "id": "cCdKoergjmDw"
      },
      "source": [
        "**Download Dataset**"
      ]
    },
    {
      "cell_type": "code",
      "metadata": {
        "colab": {
          "base_uri": "https://localhost:8080/"
        },
        "id": "VLl8z7VEjpMw",
        "outputId": "e54d9223-64e8-45f1-a4ee-3a290c3e35d0"
      },
      "source": [
        "!pip install beautifulsoup4\n",
        "!pip install vaderSentiment"
      ],
      "execution_count": 50,
      "outputs": [
        {
          "output_type": "stream",
          "text": [
            "Requirement already satisfied: beautifulsoup4 in /usr/local/lib/python3.7/dist-packages (4.6.3)\n",
            "Collecting vaderSentiment\n",
            "\u001b[?25l  Downloading https://files.pythonhosted.org/packages/76/fc/310e16254683c1ed35eeb97386986d6c00bc29df17ce280aed64d55537e9/vaderSentiment-3.3.2-py2.py3-none-any.whl (125kB)\n",
            "\u001b[K     |████████████████████████████████| 133kB 4.5MB/s \n",
            "\u001b[?25hRequirement already satisfied: requests in /usr/local/lib/python3.7/dist-packages (from vaderSentiment) (2.23.0)\n",
            "Requirement already satisfied: urllib3!=1.25.0,!=1.25.1,<1.26,>=1.21.1 in /usr/local/lib/python3.7/dist-packages (from requests->vaderSentiment) (1.24.3)\n",
            "Requirement already satisfied: idna<3,>=2.5 in /usr/local/lib/python3.7/dist-packages (from requests->vaderSentiment) (2.10)\n",
            "Requirement already satisfied: chardet<4,>=3.0.2 in /usr/local/lib/python3.7/dist-packages (from requests->vaderSentiment) (3.0.4)\n",
            "Requirement already satisfied: certifi>=2017.4.17 in /usr/local/lib/python3.7/dist-packages (from requests->vaderSentiment) (2020.12.5)\n",
            "Installing collected packages: vaderSentiment\n",
            "Successfully installed vaderSentiment-3.3.2\n"
          ],
          "name": "stdout"
        }
      ]
    },
    {
      "cell_type": "code",
      "metadata": {
        "id": "6Y3x_GVAEbgX",
        "outputId": "684d70f5-fdb8-4cf3-a792-973785de3154",
        "colab": {
          "base_uri": "https://localhost:8080/",
          "height": 206
        }
      },
      "source": [
        "import requests \n",
        "import pandas as pd \n",
        "from bs4 import BeautifulSoup  \n",
        "\n",
        "url = \"https://www.politifact.com/factchecks/list/?page={pgno}&speaker={speaker}\"\n",
        "\n",
        "records = []  \n",
        "\n",
        "for i in range(1,5):\n",
        "  fUrl = url.format(pgno=str(i), speaker=\"donald-trump\")\n",
        "  r = requests.get(fUrl)\n",
        "  soup = BeautifulSoup(r.text, 'html.parser')  \n",
        "  results = soup.find_all('div', attrs={'class':'m-statement__body'})\n",
        "  for result in results:\n",
        "    date = result.find('footer',attrs={'class':'m-statement__footer'}).text.split(\"•\")[1].rstrip(\"\\n\")  \n",
        "    reporter = result.find('footer',attrs={'class':'m-statement__footer'}).text.split(\"•\")[0].replace(\"\\nBy \",\"\")\n",
        "    statement =  result.find('div', attrs = {'class':'m-statement__quote'}).find('a').text.replace(\"\\n\",\"\")\n",
        "    article_url =  result.find('a')['href']\n",
        "    verdict = result.find('img', attrs = {'class':'c-image__thumb'}, alt=True).attrs['alt']\n",
        "    records.append(( date,reporter, statement, verdict, article_url))\n",
        "  \n",
        "df = pd.DataFrame(records, columns=['Date','Reporter', 'Statement', 'Verdict', 'Url'])  \n",
        "df.head()"
      ],
      "execution_count": 2,
      "outputs": [
        {
          "output_type": "execute_result",
          "data": {
            "text/html": [
              "<div>\n",
              "<style scoped>\n",
              "    .dataframe tbody tr th:only-of-type {\n",
              "        vertical-align: middle;\n",
              "    }\n",
              "\n",
              "    .dataframe tbody tr th {\n",
              "        vertical-align: top;\n",
              "    }\n",
              "\n",
              "    .dataframe thead th {\n",
              "        text-align: right;\n",
              "    }\n",
              "</style>\n",
              "<table border=\"1\" class=\"dataframe\">\n",
              "  <thead>\n",
              "    <tr style=\"text-align: right;\">\n",
              "      <th></th>\n",
              "      <th>Date</th>\n",
              "      <th>Reporter</th>\n",
              "      <th>Statement</th>\n",
              "      <th>Verdict</th>\n",
              "      <th>Url</th>\n",
              "    </tr>\n",
              "  </thead>\n",
              "  <tbody>\n",
              "    <tr>\n",
              "      <th>0</th>\n",
              "      <td>March 30, 2021</td>\n",
              "      <td>Jon Greenberg</td>\n",
              "      <td>Says Deborah Birx “traveled a great distance t...</td>\n",
              "      <td>half-true</td>\n",
              "      <td>/factchecks/2021/mar/30/donald-trump/donald-tr...</td>\n",
              "    </tr>\n",
              "    <tr>\n",
              "      <th>1</th>\n",
              "      <td>March 24, 2021</td>\n",
              "      <td>Amy Sherman</td>\n",
              "      <td>\"We proudly handed the Biden administration th...</td>\n",
              "      <td>barely-true</td>\n",
              "      <td>/factchecks/2021/mar/24/donald-trump/what-trum...</td>\n",
              "    </tr>\n",
              "    <tr>\n",
              "      <th>2</th>\n",
              "      <td>March 2, 2021</td>\n",
              "      <td>Tom Kertscher</td>\n",
              "      <td>Says he requested “10,000 National Guardsmen” ...</td>\n",
              "      <td>false</td>\n",
              "      <td>/factchecks/2021/mar/02/donald-trump/no-proof-...</td>\n",
              "    </tr>\n",
              "    <tr>\n",
              "      <th>3</th>\n",
              "      <td>March 2, 2021</td>\n",
              "      <td>Amy Sherman</td>\n",
              "      <td>HR 1 “automatically registers every welfare re...</td>\n",
              "      <td>barely-true</td>\n",
              "      <td>/factchecks/2021/mar/02/donald-trump/trump-mis...</td>\n",
              "    </tr>\n",
              "    <tr>\n",
              "      <th>4</th>\n",
              "      <td>March 1, 2021</td>\n",
              "      <td>Miriam Valverde</td>\n",
              "      <td>Says Joe Biden “has effectively ordered a shut...</td>\n",
              "      <td>false</td>\n",
              "      <td>/factchecks/2021/mar/01/donald-trump/cpac-retu...</td>\n",
              "    </tr>\n",
              "  </tbody>\n",
              "</table>\n",
              "</div>"
            ],
            "text/plain": [
              "              Date  ...                                                Url\n",
              "0   March 30, 2021  ...  /factchecks/2021/mar/30/donald-trump/donald-tr...\n",
              "1   March 24, 2021  ...  /factchecks/2021/mar/24/donald-trump/what-trum...\n",
              "2    March 2, 2021  ...  /factchecks/2021/mar/02/donald-trump/no-proof-...\n",
              "3    March 2, 2021  ...  /factchecks/2021/mar/02/donald-trump/trump-mis...\n",
              "4    March 1, 2021  ...  /factchecks/2021/mar/01/donald-trump/cpac-retu...\n",
              "\n",
              "[5 rows x 5 columns]"
            ]
          },
          "metadata": {
            "tags": []
          },
          "execution_count": 2
        }
      ]
    },
    {
      "cell_type": "code",
      "metadata": {
        "id": "Uf4r5bOtEdUq"
      },
      "source": [
        "#Get all issues\n",
        "\n",
        "url = \"https://www.politifact.com/issues/\"\n",
        "issues = []\n",
        "r = requests.get(url)\n",
        "soup = BeautifulSoup(r.text,'html.parser')\n",
        "results = soup.find_all('div', attrs={'class':'c-chyron__value'})\n",
        "for result in results:\n",
        "  name = result.find('a').text\n",
        "  issue = result.find('a')['href'].replace(\"/\",\"\")\n",
        "  issues.append((name, issue))"
      ],
      "execution_count": 3,
      "outputs": []
    },
    {
      "cell_type": "code",
      "metadata": {
        "id": "VIodWee7Erz8",
        "outputId": "1be0d494-334b-4033-f76e-f0b41c34a6ba",
        "colab": {
          "base_uri": "https://localhost:8080/",
          "height": 293
        }
      },
      "source": [
        "url = \"https://www.politifact.com/factchecks/list/?page={pgno}&category={category}\"\n",
        "\n",
        "records = []  \n",
        "\n",
        "for i in range(1,2):\n",
        "  for issue, issue_url in issues[:5]:\n",
        "    fUrl = url.format(pgno=str(i), category=issue_url)\n",
        "    r = requests.get(fUrl)\n",
        "    soup = BeautifulSoup(r.text, 'html.parser')  \n",
        "    results = soup.find_all('article', attrs={'class':'m-statement'})\n",
        "    for result in results:\n",
        "      date = result.find('footer',attrs={'class':'m-statement__footer'}).text.split(\"•\")[1].rstrip(\"\\n\")\n",
        "      reporter = result.find('footer',attrs={'class':'m-statement__footer'}).text.split(\"•\")[0].replace(\"\\nBy\",\"\")   \n",
        "      author = result.find('a',attrs={'class':'m-statement__name'}).text.replace(\"\\n\",\"\")\n",
        "      statement =  result.find('div', attrs = {'class':'m-statement__quote'}).find('a').text.replace(\"\\n\",\"\")\n",
        "      statement_descr = result.find('div', {'class':'m-statement__desc'}).text.replace(\"\\n\",\"\")\n",
        "      article_url =  result.find('a')['href']\n",
        "      verdict = result.find('img', attrs = {'class':'c-image__thumb'}, alt=True).attrs['alt']\n",
        "      records.append(( date, issue, reporter, author, statement, statement_descr, verdict, article_url))\n",
        "  \n",
        "df_sample = pd.DataFrame(records, columns=['Date', 'Issue','Reporter','Author', 'Statement', 'Description', 'Verdict', 'Url'])  \n",
        "df_sample.head()"
      ],
      "execution_count": 4,
      "outputs": [
        {
          "output_type": "execute_result",
          "data": {
            "text/html": [
              "<div>\n",
              "<style scoped>\n",
              "    .dataframe tbody tr th:only-of-type {\n",
              "        vertical-align: middle;\n",
              "    }\n",
              "\n",
              "    .dataframe tbody tr th {\n",
              "        vertical-align: top;\n",
              "    }\n",
              "\n",
              "    .dataframe thead th {\n",
              "        text-align: right;\n",
              "    }\n",
              "</style>\n",
              "<table border=\"1\" class=\"dataframe\">\n",
              "  <thead>\n",
              "    <tr style=\"text-align: right;\">\n",
              "      <th></th>\n",
              "      <th>Date</th>\n",
              "      <th>Issue</th>\n",
              "      <th>Reporter</th>\n",
              "      <th>Author</th>\n",
              "      <th>Statement</th>\n",
              "      <th>Description</th>\n",
              "      <th>Verdict</th>\n",
              "      <th>Url</th>\n",
              "    </tr>\n",
              "  </thead>\n",
              "  <tbody>\n",
              "    <tr>\n",
              "      <th>0</th>\n",
              "      <td>March 31, 2021</td>\n",
              "      <td>Abortion</td>\n",
              "      <td>Tom Kertscher</td>\n",
              "      <td>Facebook posts</td>\n",
              "      <td>“Joe Biden puts pro-life groups on domestic ex...</td>\n",
              "      <td>stated on March 29, 2021 in a Facebook post:</td>\n",
              "      <td>barely-true</td>\n",
              "      <td>/personalities/facebook-posts/</td>\n",
              "    </tr>\n",
              "    <tr>\n",
              "      <th>1</th>\n",
              "      <td>February 12, 2021</td>\n",
              "      <td>Abortion</td>\n",
              "      <td>Brandon Mulder</td>\n",
              "      <td>Greg Abbott</td>\n",
              "      <td>“Innocent lives will be saved” by ending taxpa...</td>\n",
              "      <td>stated on January 24, 2021 in a tweet:</td>\n",
              "      <td>false</td>\n",
              "      <td>/personalities/greg-abbott/</td>\n",
              "    </tr>\n",
              "    <tr>\n",
              "      <th>2</th>\n",
              "      <td>November 18, 2020</td>\n",
              "      <td>Abortion</td>\n",
              "      <td>Noah Y. Kim</td>\n",
              "      <td>Facebook posts</td>\n",
              "      <td>There is “aborted male fetus” in the Oxford-As...</td>\n",
              "      <td>stated on November 15, 2020 in a Facebook post:</td>\n",
              "      <td>false</td>\n",
              "      <td>/personalities/facebook-posts/</td>\n",
              "    </tr>\n",
              "    <tr>\n",
              "      <th>3</th>\n",
              "      <td>October 14, 2020</td>\n",
              "      <td>Abortion</td>\n",
              "      <td>Tom Kertscher</td>\n",
              "      <td>Tommy Tuberville</td>\n",
              "      <td>Says Doug Jones \"has voted to spend our tax do...</td>\n",
              "      <td>stated on October 8, 2020 in an ad:</td>\n",
              "      <td>false</td>\n",
              "      <td>/personalities/tommy-tuberville/</td>\n",
              "    </tr>\n",
              "    <tr>\n",
              "      <th>4</th>\n",
              "      <td>October 13, 2020</td>\n",
              "      <td>Abortion</td>\n",
              "      <td>Chris Nichols</td>\n",
              "      <td>Facebook posts</td>\n",
              "      <td>“Kamala Harris Tried to Put Pro-Lifers in Jail...</td>\n",
              "      <td>stated on August 14, 2020 in a headline:</td>\n",
              "      <td>false</td>\n",
              "      <td>/personalities/facebook-posts/</td>\n",
              "    </tr>\n",
              "  </tbody>\n",
              "</table>\n",
              "</div>"
            ],
            "text/plain": [
              "                 Date     Issue  ...      Verdict                               Url\n",
              "0      March 31, 2021  Abortion  ...  barely-true    /personalities/facebook-posts/\n",
              "1   February 12, 2021  Abortion  ...        false       /personalities/greg-abbott/\n",
              "2   November 18, 2020  Abortion  ...        false    /personalities/facebook-posts/\n",
              "3    October 14, 2020  Abortion  ...        false  /personalities/tommy-tuberville/\n",
              "4    October 13, 2020  Abortion  ...        false    /personalities/facebook-posts/\n",
              "\n",
              "[5 rows x 8 columns]"
            ]
          },
          "metadata": {
            "tags": []
          },
          "execution_count": 4
        }
      ]
    },
    {
      "cell_type": "code",
      "metadata": {
        "id": "9EJZ_Q2IFY93",
        "outputId": "41a73b9c-6382-4991-b2fa-841145dd0be3",
        "colab": {
          "base_uri": "https://localhost:8080/"
        }
      },
      "source": [
        "df_sample.isnull().sum()"
      ],
      "execution_count": 7,
      "outputs": [
        {
          "output_type": "execute_result",
          "data": {
            "text/plain": [
              "Date           0\n",
              "Issue          0\n",
              "Reporter       0\n",
              "Author         0\n",
              "Statement      0\n",
              "Description    0\n",
              "Verdict        0\n",
              "Url            0\n",
              "dtype: int64"
            ]
          },
          "metadata": {
            "tags": []
          },
          "execution_count": 7
        }
      ]
    },
    {
      "cell_type": "markdown",
      "metadata": {
        "id": "-hBtFjjoqV2_"
      },
      "source": [
        "**Import All Required Packages**"
      ]
    },
    {
      "cell_type": "code",
      "metadata": {
        "colab": {
          "base_uri": "https://localhost:8080/"
        },
        "id": "-sSRIdY1HZCS",
        "outputId": "4a3d2b32-0ca5-470c-fa62-91bb08990f00"
      },
      "source": [
        "import pandas as pd\n",
        "import numpy as np\n",
        "import seaborn as sns\n",
        "import re\n",
        "import string\n",
        "from string import punctuation\n",
        "import nltk\n",
        "from nltk.corpus import stopwords\n",
        "nltk.download('stopwords')\n",
        "\n",
        "\n",
        "import matplotlib.pyplot as plt\n",
        "from sklearn.model_selection import train_test_split\n",
        "from sklearn.feature_extraction.text import CountVectorizer\n",
        "from sklearn.feature_extraction.text import TfidfTransformer\n",
        "\n",
        "import tensorflow as tf\n",
        "from tensorflow.keras.models import Sequential\n",
        "from tensorflow.keras.layers import Dense, Activation, Dropout\n",
        "from tensorflow.keras.callbacks import EarlyStopping\n",
        "from vaderSentiment.vaderSentiment import SentimentIntensityAnalyzer"
      ],
      "execution_count": 53,
      "outputs": [
        {
          "output_type": "stream",
          "text": [
            "[nltk_data] Downloading package stopwords to /root/nltk_data...\n",
            "[nltk_data]   Package stopwords is already up-to-date!\n"
          ],
          "name": "stdout"
        }
      ]
    },
    {
      "cell_type": "markdown",
      "metadata": {
        "id": "YUH7jv5KrgG-"
      },
      "source": [
        "**Read data from csv**"
      ]
    },
    {
      "cell_type": "markdown",
      "metadata": {
        "id": "N1DXfvBurnSO"
      },
      "source": [
        "**Drop unnecessary columns**"
      ]
    },
    {
      "cell_type": "code",
      "metadata": {
        "id": "Gn_vu_gprlK1"
      },
      "source": [
        "df = df_sample.drop(['Date', 'Issue', 'Reporter', 'Author', 'Url'], axis=1)\n",
        "#df.dropna(inplace=True)"
      ],
      "execution_count": 51,
      "outputs": []
    },
    {
      "cell_type": "code",
      "metadata": {
        "colab": {
          "base_uri": "https://localhost:8080/",
          "height": 206
        },
        "id": "6b0k-DA-0IYJ",
        "outputId": "0175c759-f8d5-4649-9ba5-0653514fb90f"
      },
      "source": [
        "df.head()"
      ],
      "execution_count": 52,
      "outputs": [
        {
          "output_type": "execute_result",
          "data": {
            "text/html": [
              "<div>\n",
              "<style scoped>\n",
              "    .dataframe tbody tr th:only-of-type {\n",
              "        vertical-align: middle;\n",
              "    }\n",
              "\n",
              "    .dataframe tbody tr th {\n",
              "        vertical-align: top;\n",
              "    }\n",
              "\n",
              "    .dataframe thead th {\n",
              "        text-align: right;\n",
              "    }\n",
              "</style>\n",
              "<table border=\"1\" class=\"dataframe\">\n",
              "  <thead>\n",
              "    <tr style=\"text-align: right;\">\n",
              "      <th></th>\n",
              "      <th>Statement</th>\n",
              "      <th>Description</th>\n",
              "      <th>Verdict</th>\n",
              "    </tr>\n",
              "  </thead>\n",
              "  <tbody>\n",
              "    <tr>\n",
              "      <th>0</th>\n",
              "      <td>“Joe Biden puts pro-life groups on domestic ex...</td>\n",
              "      <td>stated on March 29, 2021 in a Facebook post:</td>\n",
              "      <td>barely-true</td>\n",
              "    </tr>\n",
              "    <tr>\n",
              "      <th>1</th>\n",
              "      <td>“Innocent lives will be saved” by ending taxpa...</td>\n",
              "      <td>stated on January 24, 2021 in a tweet:</td>\n",
              "      <td>false</td>\n",
              "    </tr>\n",
              "    <tr>\n",
              "      <th>2</th>\n",
              "      <td>There is “aborted male fetus” in the Oxford-As...</td>\n",
              "      <td>stated on November 15, 2020 in a Facebook post:</td>\n",
              "      <td>false</td>\n",
              "    </tr>\n",
              "    <tr>\n",
              "      <th>3</th>\n",
              "      <td>Says Doug Jones \"has voted to spend our tax do...</td>\n",
              "      <td>stated on October 8, 2020 in an ad:</td>\n",
              "      <td>false</td>\n",
              "    </tr>\n",
              "    <tr>\n",
              "      <th>4</th>\n",
              "      <td>“Kamala Harris Tried to Put Pro-Lifers in Jail...</td>\n",
              "      <td>stated on August 14, 2020 in a headline:</td>\n",
              "      <td>false</td>\n",
              "    </tr>\n",
              "  </tbody>\n",
              "</table>\n",
              "</div>"
            ],
            "text/plain": [
              "                                           Statement  ...      Verdict\n",
              "0  “Joe Biden puts pro-life groups on domestic ex...  ...  barely-true\n",
              "1  “Innocent lives will be saved” by ending taxpa...  ...        false\n",
              "2  There is “aborted male fetus” in the Oxford-As...  ...        false\n",
              "3  Says Doug Jones \"has voted to spend our tax do...  ...        false\n",
              "4  “Kamala Harris Tried to Put Pro-Lifers in Jail...  ...        false\n",
              "\n",
              "[5 rows x 3 columns]"
            ]
          },
          "metadata": {
            "tags": []
          },
          "execution_count": 52
        }
      ]
    },
    {
      "cell_type": "markdown",
      "metadata": {
        "id": "lMD-lue81NME"
      },
      "source": [
        "**Plot the Rating visualization graph**"
      ]
    },
    {
      "cell_type": "code",
      "metadata": {
        "colab": {
          "base_uri": "https://localhost:8080/",
          "height": 296
        },
        "id": "EwQ5_FWh1R-p",
        "outputId": "c97ea0ef-4ace-4f8d-d3e8-9d50cb0f67cb"
      },
      "source": [
        "sns.set_style('whitegrid')\n",
        "sns.countplot(x='Verdict',data=df, palette='YlGnBu_r')"
      ],
      "execution_count": 25,
      "outputs": [
        {
          "output_type": "execute_result",
          "data": {
            "text/plain": [
              "<matplotlib.axes._subplots.AxesSubplot at 0x7fb0d040c990>"
            ]
          },
          "metadata": {
            "tags": []
          },
          "execution_count": 25
        },
        {
          "output_type": "display_data",
          "data": {
            "image/png": "[encoded data removed]",
            "text/plain": [
              "<Figure size 432x288 with 1 Axes>"
            ]
          },
          "metadata": {
            "tags": []
          }
        }
      ]
    },
    {
      "cell_type": "markdown",
      "metadata": {
        "id": "VqT2elfcs4tj"
      },
      "source": [
        "**Calculation of Polarity**"
      ]
    },
    {
      "cell_type": "code",
      "metadata": {
        "id": "vQSZtk8IKPxp"
      },
      "source": [
        "df['Polarity_Rating'] = df['Verdict'].apply(lambda x: 'Positive' if x in ['true', 'mostly-true'] else('Neutral' if x in ['half-true']  else 'Negative'))\n"
      ],
      "execution_count": 56,
      "outputs": []
    },
    {
      "cell_type": "markdown",
      "metadata": {
        "id": "cObGcj-R1_Uf"
      },
      "source": [
        "**Plot the Polarity Rating count**"
      ]
    },
    {
      "cell_type": "code",
      "metadata": {
        "colab": {
          "base_uri": "https://localhost:8080/",
          "height": 298
        },
        "id": "TglKEwxS2DcK",
        "outputId": "53f5664c-83b4-4bb8-a8c4-6580818e168c"
      },
      "source": [
        "sns.set_style('whitegrid')\n",
        "sns.countplot(x='Polarity_Rating',data=df, palette='summer')"
      ],
      "execution_count": 27,
      "outputs": [
        {
          "output_type": "execute_result",
          "data": {
            "text/plain": [
              "<matplotlib.axes._subplots.AxesSubplot at 0x7fb0d0375950>"
            ]
          },
          "metadata": {
            "tags": []
          },
          "execution_count": 27
        },
        {
          "output_type": "display_data",
          "data": {
            "image/png": "[encoded data removed]",
            "text/plain": [
              "<Figure size 432x288 with 1 Axes>"
            ]
          },
          "metadata": {
            "tags": []
          }
        }
      ]
    },
    {
      "cell_type": "markdown",
      "metadata": {
        "id": "l2ppN_Gj3MXZ"
      },
      "source": [
        "**Data Preprocessing**"
      ]
    },
    {
      "cell_type": "code",
      "metadata": {
        "id": "KMryD2Ok3PbF"
      },
      "source": [
        "df_Positive = df[df['Polarity_Rating'] == 'Positive']\n",
        "df_Neutral = df[df['Polarity_Rating'] == 'Neutral']\n",
        "df_Negative = df[df['Polarity_Rating'] == 'Negative']"
      ],
      "execution_count": 36,
      "outputs": []
    },
    {
      "cell_type": "markdown",
      "metadata": {
        "id": "mUZim1eA3qDF"
      },
      "source": [
        "**Sample negative and neutral polarity dataset and create final dataframe**"
      ]
    },
    {
      "cell_type": "code",
      "metadata": {
        "id": "9PqqFadV4Qaf"
      },
      "source": [
        "#df = pd.concat([df_Positive, df_Neutral, df_Negative], axis=0)"
      ],
      "execution_count": null,
      "outputs": []
    },
    {
      "cell_type": "markdown",
      "metadata": {
        "id": "B3so3XNt5PXg"
      },
      "source": [
        "**Text Preprocessing**"
      ]
    },
    {
      "cell_type": "code",
      "metadata": {
        "id": "mvi7pt-d5R6E"
      },
      "source": [
        "def get_text_processing(text):\n",
        "    stpword = stopwords.words('english')\n",
        "    no_punctuation = [char for char in text if char not in string.punctuation]\n",
        "    no_punctuation = ''.join(no_punctuation)\n",
        "    return ' '.join([word for word in no_punctuation.split() if word.lower() not in stpword])"
      ],
      "execution_count": 37,
      "outputs": []
    },
    {
      "cell_type": "markdown",
      "metadata": {
        "id": "1F75BGMk5zbT"
      },
      "source": [
        "**Apply the method \"get_text_processing\" into column review text**"
      ]
    },
    {
      "cell_type": "code",
      "metadata": {
        "colab": {
          "base_uri": "https://localhost:8080/",
          "height": 258
        },
        "id": "52_Rbc3p5953",
        "outputId": "27e4f3d1-4d73-4200-8135-2870e7e76862"
      },
      "source": [
        "df['NewsDesciption'] = df['Description'].apply(get_text_processing)\n",
        "df['NewsStatement'] = df['Statement'].apply(get_text_processing)\n",
        "df.head()"
      ],
      "execution_count": 54,
      "outputs": [
        {
          "output_type": "execute_result",
          "data": {
            "text/html": [
              "<div>\n",
              "<style scoped>\n",
              "    .dataframe tbody tr th:only-of-type {\n",
              "        vertical-align: middle;\n",
              "    }\n",
              "\n",
              "    .dataframe tbody tr th {\n",
              "        vertical-align: top;\n",
              "    }\n",
              "\n",
              "    .dataframe thead th {\n",
              "        text-align: right;\n",
              "    }\n",
              "</style>\n",
              "<table border=\"1\" class=\"dataframe\">\n",
              "  <thead>\n",
              "    <tr style=\"text-align: right;\">\n",
              "      <th></th>\n",
              "      <th>Statement</th>\n",
              "      <th>Description</th>\n",
              "      <th>Verdict</th>\n",
              "      <th>NewsDesciption</th>\n",
              "      <th>NewsStatement</th>\n",
              "    </tr>\n",
              "  </thead>\n",
              "  <tbody>\n",
              "    <tr>\n",
              "      <th>0</th>\n",
              "      <td>“Joe Biden puts pro-life groups on domestic ex...</td>\n",
              "      <td>stated on March 29, 2021 in a Facebook post:</td>\n",
              "      <td>barely-true</td>\n",
              "      <td>stated March 29 2021 Facebook post</td>\n",
              "      <td>“Joe Biden puts prolife groups domestic extrem...</td>\n",
              "    </tr>\n",
              "    <tr>\n",
              "      <th>1</th>\n",
              "      <td>“Innocent lives will be saved” by ending taxpa...</td>\n",
              "      <td>stated on January 24, 2021 in a tweet:</td>\n",
              "      <td>false</td>\n",
              "      <td>stated January 24 2021 tweet</td>\n",
              "      <td>“Innocent lives saved” ending taxpayer funding...</td>\n",
              "    </tr>\n",
              "    <tr>\n",
              "      <th>2</th>\n",
              "      <td>There is “aborted male fetus” in the Oxford-As...</td>\n",
              "      <td>stated on November 15, 2020 in a Facebook post:</td>\n",
              "      <td>false</td>\n",
              "      <td>stated November 15 2020 Facebook post</td>\n",
              "      <td>“aborted male fetus” OxfordAstraZeneca “Covid ...</td>\n",
              "    </tr>\n",
              "    <tr>\n",
              "      <th>3</th>\n",
              "      <td>Says Doug Jones \"has voted to spend our tax do...</td>\n",
              "      <td>stated on October 8, 2020 in an ad:</td>\n",
              "      <td>false</td>\n",
              "      <td>stated October 8 2020 ad</td>\n",
              "      <td>Says Doug Jones voted spend tax dollars latete...</td>\n",
              "    </tr>\n",
              "    <tr>\n",
              "      <th>4</th>\n",
              "      <td>“Kamala Harris Tried to Put Pro-Lifers in Jail...</td>\n",
              "      <td>stated on August 14, 2020 in a headline:</td>\n",
              "      <td>false</td>\n",
              "      <td>stated August 14 2020 headline</td>\n",
              "      <td>“Kamala Harris Tried Put ProLifers Jail Expose...</td>\n",
              "    </tr>\n",
              "  </tbody>\n",
              "</table>\n",
              "</div>"
            ],
            "text/plain": [
              "                                           Statement  ...                                      NewsStatement\n",
              "0  “Joe Biden puts pro-life groups on domestic ex...  ...  “Joe Biden puts prolife groups domestic extrem...\n",
              "1  “Innocent lives will be saved” by ending taxpa...  ...  “Innocent lives saved” ending taxpayer funding...\n",
              "2  There is “aborted male fetus” in the Oxford-As...  ...  “aborted male fetus” OxfordAstraZeneca “Covid ...\n",
              "3  Says Doug Jones \"has voted to spend our tax do...  ...  Says Doug Jones voted spend tax dollars latete...\n",
              "4  “Kamala Harris Tried to Put Pro-Lifers in Jail...  ...  “Kamala Harris Tried Put ProLifers Jail Expose...\n",
              "\n",
              "[5 rows x 5 columns]"
            ]
          },
          "metadata": {
            "tags": []
          },
          "execution_count": 54
        }
      ]
    },
    {
      "cell_type": "code",
      "metadata": {
        "id": "RqSTN1I0gXHV"
      },
      "source": [
        "def get_text_sentiment(text):\n",
        "  analyzer = SentimentIntensityAnalyzer()\n",
        "  _sentiment = analyzer.polarity_scores(text)[\"compound\"]\n",
        "  return _sentiment"
      ],
      "execution_count": 58,
      "outputs": []
    },
    {
      "cell_type": "markdown",
      "metadata": {
        "id": "Fhxnn-pj7R6P"
      },
      "source": [
        "**Visualize Text Review with Polarity Rating**"
      ]
    },
    {
      "cell_type": "code",
      "metadata": {
        "colab": {
          "base_uri": "https://localhost:8080/",
          "height": 206
        },
        "id": "yFeqv9LG7N5N",
        "outputId": "f20a7647-1783-40e0-fd72-e966ad61e3c0"
      },
      "source": [
        "df = df[['NewsStatement', 'Polarity_Rating']]\n",
        "df.head()"
      ],
      "execution_count": 57,
      "outputs": [
        {
          "output_type": "execute_result",
          "data": {
            "text/html": [
              "<div>\n",
              "<style scoped>\n",
              "    .dataframe tbody tr th:only-of-type {\n",
              "        vertical-align: middle;\n",
              "    }\n",
              "\n",
              "    .dataframe tbody tr th {\n",
              "        vertical-align: top;\n",
              "    }\n",
              "\n",
              "    .dataframe thead th {\n",
              "        text-align: right;\n",
              "    }\n",
              "</style>\n",
              "<table border=\"1\" class=\"dataframe\">\n",
              "  <thead>\n",
              "    <tr style=\"text-align: right;\">\n",
              "      <th></th>\n",
              "      <th>NewsStatement</th>\n",
              "      <th>Polarity_Rating</th>\n",
              "    </tr>\n",
              "  </thead>\n",
              "  <tbody>\n",
              "    <tr>\n",
              "      <th>0</th>\n",
              "      <td>“Joe Biden puts prolife groups domestic extrem...</td>\n",
              "      <td>Negative</td>\n",
              "    </tr>\n",
              "    <tr>\n",
              "      <th>1</th>\n",
              "      <td>“Innocent lives saved” ending taxpayer funding...</td>\n",
              "      <td>Negative</td>\n",
              "    </tr>\n",
              "    <tr>\n",
              "      <th>2</th>\n",
              "      <td>“aborted male fetus” OxfordAstraZeneca “Covid ...</td>\n",
              "      <td>Negative</td>\n",
              "    </tr>\n",
              "    <tr>\n",
              "      <th>3</th>\n",
              "      <td>Says Doug Jones voted spend tax dollars latete...</td>\n",
              "      <td>Negative</td>\n",
              "    </tr>\n",
              "    <tr>\n",
              "      <th>4</th>\n",
              "      <td>“Kamala Harris Tried Put ProLifers Jail Expose...</td>\n",
              "      <td>Negative</td>\n",
              "    </tr>\n",
              "  </tbody>\n",
              "</table>\n",
              "</div>"
            ],
            "text/plain": [
              "                                       NewsStatement Polarity_Rating\n",
              "0  “Joe Biden puts prolife groups domestic extrem...        Negative\n",
              "1  “Innocent lives saved” ending taxpayer funding...        Negative\n",
              "2  “aborted male fetus” OxfordAstraZeneca “Covid ...        Negative\n",
              "3  Says Doug Jones voted spend tax dollars latete...        Negative\n",
              "4  “Kamala Harris Tried Put ProLifers Jail Expose...        Negative"
            ]
          },
          "metadata": {
            "tags": []
          },
          "execution_count": 57
        }
      ]
    },
    {
      "cell_type": "markdown",
      "metadata": {
        "id": "rwpsuZPk8HCS"
      },
      "source": [
        "**Apply One hot encoding on negative, neutral, and positive**"
      ]
    },
    {
      "cell_type": "code",
      "metadata": {
        "colab": {
          "base_uri": "https://localhost:8080/",
          "height": 206
        },
        "id": "lHrXiYDQ8Pj6",
        "outputId": "70a71cfa-d19a-435a-c577-1eaf076b161f"
      },
      "source": [
        "one_hot = pd.get_dummies(df[\"Polarity_Rating\"])\n",
        "df.drop(['Polarity_Rating'],axis=1,inplace=True)\n",
        "df = pd.concat([df,one_hot],axis=1)\n",
        "df.head()"
      ],
      "execution_count": 40,
      "outputs": [
        {
          "output_type": "execute_result",
          "data": {
            "text/html": [
              "<div>\n",
              "<style scoped>\n",
              "    .dataframe tbody tr th:only-of-type {\n",
              "        vertical-align: middle;\n",
              "    }\n",
              "\n",
              "    .dataframe tbody tr th {\n",
              "        vertical-align: top;\n",
              "    }\n",
              "\n",
              "    .dataframe thead th {\n",
              "        text-align: right;\n",
              "    }\n",
              "</style>\n",
              "<table border=\"1\" class=\"dataframe\">\n",
              "  <thead>\n",
              "    <tr style=\"text-align: right;\">\n",
              "      <th></th>\n",
              "      <th>NewsStatement</th>\n",
              "      <th>Negative</th>\n",
              "      <th>Neutral</th>\n",
              "      <th>Positive</th>\n",
              "    </tr>\n",
              "  </thead>\n",
              "  <tbody>\n",
              "    <tr>\n",
              "      <th>0</th>\n",
              "      <td>“Joe Biden puts prolife groups domestic extrem...</td>\n",
              "      <td>1</td>\n",
              "      <td>0</td>\n",
              "      <td>0</td>\n",
              "    </tr>\n",
              "    <tr>\n",
              "      <th>1</th>\n",
              "      <td>“Innocent lives saved” ending taxpayer funding...</td>\n",
              "      <td>1</td>\n",
              "      <td>0</td>\n",
              "      <td>0</td>\n",
              "    </tr>\n",
              "    <tr>\n",
              "      <th>2</th>\n",
              "      <td>“aborted male fetus” OxfordAstraZeneca “Covid ...</td>\n",
              "      <td>1</td>\n",
              "      <td>0</td>\n",
              "      <td>0</td>\n",
              "    </tr>\n",
              "    <tr>\n",
              "      <th>3</th>\n",
              "      <td>Says Doug Jones voted spend tax dollars latete...</td>\n",
              "      <td>1</td>\n",
              "      <td>0</td>\n",
              "      <td>0</td>\n",
              "    </tr>\n",
              "    <tr>\n",
              "      <th>4</th>\n",
              "      <td>“Kamala Harris Tried Put ProLifers Jail Expose...</td>\n",
              "      <td>1</td>\n",
              "      <td>0</td>\n",
              "      <td>0</td>\n",
              "    </tr>\n",
              "  </tbody>\n",
              "</table>\n",
              "</div>"
            ],
            "text/plain": [
              "                                       NewsStatement  ...  Positive\n",
              "0  “Joe Biden puts prolife groups domestic extrem...  ...         0\n",
              "1  “Innocent lives saved” ending taxpayer funding...  ...         0\n",
              "2  “aborted male fetus” OxfordAstraZeneca “Covid ...  ...         0\n",
              "3  Says Doug Jones voted spend tax dollars latete...  ...         0\n",
              "4  “Kamala Harris Tried Put ProLifers Jail Expose...  ...         0\n",
              "\n",
              "[5 rows x 4 columns]"
            ]
          },
          "metadata": {
            "tags": []
          },
          "execution_count": 40
        }
      ]
    },
    {
      "cell_type": "markdown",
      "metadata": {
        "id": "O63qBfKuE2nu"
      },
      "source": [
        "**Apply Train Test Split**"
      ]
    },
    {
      "cell_type": "code",
      "metadata": {
        "id": "6PNWLYhME7Pf"
      },
      "source": [
        "X = df['NewsStatement'].values\n",
        "y = df.drop('NewsStatement', axis=1).values\n",
        "X_train, X_test, y_train, y_test = train_test_split(X, y, test_size=0.30, random_state=42)"
      ],
      "execution_count": 42,
      "outputs": []
    },
    {
      "cell_type": "markdown",
      "metadata": {
        "id": "AuADdT8UFgOy"
      },
      "source": [
        "**Apply vectorization**"
      ]
    },
    {
      "cell_type": "code",
      "metadata": {
        "id": "r20vXgZ6Fvqw"
      },
      "source": [
        "vect = CountVectorizer()\n",
        "X_train = vect.fit_transform(X_train)\n",
        "X_test = vect.transform(X_test)"
      ],
      "execution_count": 43,
      "outputs": []
    },
    {
      "cell_type": "markdown",
      "metadata": {
        "id": "akiDMHsvGNxD"
      },
      "source": [
        "**Apply frequency, inverse document frequency:**"
      ]
    },
    {
      "cell_type": "code",
      "metadata": {
        "id": "_q3-ppruGRz7"
      },
      "source": [
        "tfidf = TfidfTransformer()\n",
        "X_train = tfidf.fit_transform(X_train)\n",
        "X_test = tfidf.transform(X_test)\n",
        "X_train = X_train.toarray()\n",
        "X_test = X_test.toarray()"
      ],
      "execution_count": 44,
      "outputs": []
    },
    {
      "cell_type": "markdown",
      "metadata": {
        "id": "rXV_Xf5kHB73"
      },
      "source": [
        "**Add different layers**"
      ]
    },
    {
      "cell_type": "code",
      "metadata": {
        "id": "-Su4eu41HAUT"
      },
      "source": [
        "model = Sequential()\n",
        "\n",
        "model.add(Dense(units=12673,activation='relu'))\n",
        "model.add(Dropout(0.5))\n",
        "\n",
        "model.add(Dense(units=4000,activation='relu'))\n",
        "model.add(Dropout(0.5))\n",
        "\n",
        "model.add(Dense(units=500,activation='relu'))\n",
        "model.add(Dropout(0.5))\n",
        "\n",
        "model.add(Dense(units=3, activation='softmax'))\n",
        "\n",
        "opt=tf.keras.optimizers.Adam(learning_rate=0.001)\n",
        "model.compile(loss='categorical_crossentropy', optimizer=opt, metrics=['accuracy'])\n",
        "\n",
        "early_stop = EarlyStopping(monitor='val_loss', mode='min', verbose=1, patience=2)"
      ],
      "execution_count": 45,
      "outputs": []
    },
    {
      "cell_type": "markdown",
      "metadata": {
        "id": "NYGn2m1lIFvo"
      },
      "source": [
        "**Fit the Model**"
      ]
    },
    {
      "cell_type": "code",
      "metadata": {
        "colab": {
          "base_uri": "https://localhost:8080/"
        },
        "id": "NtKRqIcYIEev",
        "outputId": "82f3f462-167d-4a57-db1f-2323a957b11f"
      },
      "source": [
        "model.fit(x=X_train, y=y_train, batch_size=5, epochs=50, validation_data=(X_test, y_test), verbose=1, callbacks=early_stop)"
      ],
      "execution_count": 46,
      "outputs": [
        {
          "output_type": "stream",
          "text": [
            "Epoch 1/100\n",
            "15/15 [==============================] - 16s 887ms/step - loss: 1.1109 - accuracy: 0.3956 - val_loss: 0.8932 - val_accuracy: 0.6452\n",
            "Epoch 2/100\n",
            "15/15 [==============================] - 12s 831ms/step - loss: 0.8278 - accuracy: 0.5741 - val_loss: 0.6877 - val_accuracy: 0.7419\n",
            "Epoch 3/100\n",
            "15/15 [==============================] - 13s 846ms/step - loss: 0.3613 - accuracy: 0.7643 - val_loss: 0.6685 - val_accuracy: 0.7419\n",
            "Epoch 4/100\n",
            "15/15 [==============================] - 13s 842ms/step - loss: 0.0719 - accuracy: 0.9973 - val_loss: 0.7484 - val_accuracy: 0.7097\n",
            "Epoch 5/100\n",
            "15/15 [==============================] - 13s 834ms/step - loss: 0.0023 - accuracy: 1.0000 - val_loss: 0.8350 - val_accuracy: 0.7419\n",
            "Epoch 00005: early stopping\n"
          ],
          "name": "stdout"
        },
        {
          "output_type": "execute_result",
          "data": {
            "text/plain": [
              "<tensorflow.python.keras.callbacks.History at 0x7fb0cc1f2590>"
            ]
          },
          "metadata": {
            "tags": []
          },
          "execution_count": 46
        }
      ]
    },
    {
      "cell_type": "markdown",
      "metadata": {
        "id": "mOSbaNrqJBeP"
      },
      "source": [
        "**Evaluation of Model**"
      ]
    },
    {
      "cell_type": "code",
      "metadata": {
        "id": "ZTsIgolQJD2M",
        "colab": {
          "base_uri": "https://localhost:8080/"
        },
        "outputId": "16c52e97-c4b6-4c7a-dc57-9f2256a6b7ee"
      },
      "source": [
        "model_score = model.evaluate(X_test, y_test, batch_size=64, verbose=1)\n",
        "print('Test accuracy:', model_score[1])"
      ],
      "execution_count": 47,
      "outputs": [
        {
          "output_type": "stream",
          "text": [
            "1/1 [==============================] - 0s 137ms/step - loss: 0.8350 - accuracy: 0.7419\n",
            "Test accuracy: 0.7419354915618896\n"
          ],
          "name": "stdout"
        }
      ]
    },
    {
      "cell_type": "markdown",
      "metadata": {
        "id": "s6c7yRFKJUK4"
      },
      "source": [
        "**Prediction**"
      ]
    },
    {
      "cell_type": "code",
      "metadata": {
        "id": "Q34Yb_0pJW3r",
        "colab": {
          "base_uri": "https://localhost:8080/"
        },
        "outputId": "8c072fdf-475b-407a-f861-16e599f9f0da"
      },
      "source": [
        "preds = model.predict(X_test)\n",
        "preds"
      ],
      "execution_count": 48,
      "outputs": [
        {
          "output_type": "execute_result",
          "data": {
            "text/plain": [
              "array([[4.51125950e-01, 6.67261854e-02, 4.82147843e-01],\n",
              "       [9.77670550e-01, 1.95897035e-02, 2.73965765e-03],\n",
              "       [9.99850750e-01, 1.47714736e-05, 1.34484304e-04],\n",
              "       [1.18683400e-02, 8.83494616e-01, 1.04637071e-01],\n",
              "       [1.11042827e-01, 1.31438049e-02, 8.75813365e-01],\n",
              "       [9.99854565e-01, 1.15094284e-04, 3.02258177e-05],\n",
              "       [7.61677563e-01, 6.63400814e-02, 1.71982363e-01],\n",
              "       [2.00719401e-01, 4.34463620e-01, 3.64816993e-01],\n",
              "       [3.23543139e-02, 4.17656116e-02, 9.25880134e-01],\n",
              "       [9.85436261e-01, 5.93213364e-03, 8.63161590e-03],\n",
              "       [9.99717295e-01, 5.24659008e-05, 2.30263118e-04],\n",
              "       [9.99253213e-01, 9.41578764e-05, 6.52625400e-04],\n",
              "       [9.98602688e-01, 8.07996141e-04, 5.89341624e-04],\n",
              "       [9.71215308e-01, 1.46457576e-03, 2.73200758e-02],\n",
              "       [1.75258026e-01, 6.14383698e-01, 2.10358322e-01],\n",
              "       [9.99951005e-01, 1.35098589e-05, 3.55196462e-05],\n",
              "       [9.56220210e-01, 4.25877087e-02, 1.19209290e-03],\n",
              "       [7.11848334e-05, 8.98990489e-04, 9.99029875e-01],\n",
              "       [9.98352051e-01, 1.44260470e-03, 2.05453849e-04],\n",
              "       [9.99924183e-01, 2.84254165e-05, 4.73864711e-05],\n",
              "       [7.61178434e-01, 4.17620316e-03, 2.34645322e-01],\n",
              "       [3.48503282e-03, 9.97990719e-04, 9.95516956e-01],\n",
              "       [9.99790967e-01, 1.15772775e-04, 9.32960393e-05],\n",
              "       [1.03646964e-01, 1.91870425e-02, 8.77166033e-01],\n",
              "       [9.04128049e-03, 2.26496253e-03, 9.88693774e-01],\n",
              "       [6.71805918e-01, 1.90035343e-01, 1.38158664e-01],\n",
              "       [9.98352051e-01, 1.44260470e-03, 2.05453849e-04],\n",
              "       [9.95005906e-01, 4.76890057e-03, 2.25280659e-04],\n",
              "       [9.99109089e-01, 3.03528417e-04, 5.87454299e-04],\n",
              "       [9.99947548e-01, 2.22748495e-05, 3.02127191e-05],\n",
              "       [4.64864045e-01, 4.69344258e-01, 6.57916367e-02]], dtype=float32)"
            ]
          },
          "metadata": {
            "tags": []
          },
          "execution_count": 48
        }
      ]
    }
  ]
}