{
  "nbformat": 4,
  "nbformat_minor": 0,
  "metadata": {
    "colab": {
      "name": "Copy of Copy of sentiment_analysis_tutorial.ipynb",
      "provenance": [],
      "collapsed_sections": [],
      "toc_visible": true,
      "include_colab_link": true
    },
    "kernelspec": {
      "name": "python3",
      "display_name": "Python 3"
    }
  },
  "cells": [
    {
      "cell_type": "markdown",
      "metadata": {
        "id": "view-in-github",
        "colab_type": "text"
      },
      "source": [
        "<a href=\"https://colab.research.google.com/github/YuxingW/machine_learning/blob/main/hw8/micro_factors_sentiment_confirmation.ipynb\" target=\"_parent\"><img src=\"https://colab.research.google.com/assets/colab-badge.svg\" alt=\"Open In Colab\"/></a>"
      ]
    },
    {
      "cell_type": "markdown",
      "metadata": {
        "id": "WF4Qh5xVqM4D"
      },
      "source": [
        "# HW8 Microfactors of pychology utilities\n",
        "\n",
        "* Reference: \n",
        "* https://towardsai.net/p/nlp/sentiment-analysis-opinion-mining-with-python-nlp-tutorial-d1f173ca4e3c\n",
        "\n",
        "* https://github.com/towardsai/tutorials/tree/master/sentiment_analysis_tutorial"
      ]
    },
    {
      "cell_type": "markdown",
      "metadata": {
        "id": "7PnmDlwC8eFK"
      },
      "source": [
        "## Data preparation"
      ]
    },
    {
      "cell_type": "markdown",
      "metadata": {
        "id": "cCdKoergjmDw"
      },
      "source": [
        "**Scrape data from politifact**"
      ]
    },
    {
      "cell_type": "code",
      "metadata": {
        "colab": {
          "base_uri": "https://localhost:8080/"
        },
        "id": "VLl8z7VEjpMw",
        "outputId": "59f765ce-4644-4bd5-ad2a-5bedfb407dae"
      },
      "source": [
        "!pip install beautifulsoup4\n",
        "!pip install vaderSentiment"
      ],
      "execution_count": 1,
      "outputs": [
        {
          "output_type": "stream",
          "text": [
            "Requirement already satisfied: beautifulsoup4 in /usr/local/lib/python3.7/dist-packages (4.6.3)\n",
            "Requirement already satisfied: vaderSentiment in /usr/local/lib/python3.7/dist-packages (3.3.2)\n",
            "Requirement already satisfied: requests in /usr/local/lib/python3.7/dist-packages (from vaderSentiment) (2.23.0)\n",
            "Requirement already satisfied: chardet<4,>=3.0.2 in /usr/local/lib/python3.7/dist-packages (from requests->vaderSentiment) (3.0.4)\n",
            "Requirement already satisfied: idna<3,>=2.5 in /usr/local/lib/python3.7/dist-packages (from requests->vaderSentiment) (2.10)\n",
            "Requirement already satisfied: certifi>=2017.4.17 in /usr/local/lib/python3.7/dist-packages (from requests->vaderSentiment) (2020.12.5)\n",
            "Requirement already satisfied: urllib3!=1.25.0,!=1.25.1,<1.26,>=1.21.1 in /usr/local/lib/python3.7/dist-packages (from requests->vaderSentiment) (1.24.3)\n"
          ],
          "name": "stdout"
        }
      ]
    },
    {
      "cell_type": "code",
      "metadata": {
        "id": "6Y3x_GVAEbgX"
      },
      "source": [
        "import requests \n",
        "import pandas as pd \n",
        "from bs4 import BeautifulSoup  "
      ],
      "execution_count": 2,
      "outputs": []
    },
    {
      "cell_type": "code",
      "metadata": {
        "id": "Uf4r5bOtEdUq"
      },
      "source": [
        "#Get all issues\n",
        "\n",
        "url = \"https://www.politifact.com/issues/\"\n",
        "issues = []\n",
        "r = requests.get(url)\n",
        "soup = BeautifulSoup(r.text,'html.parser')\n",
        "results = soup.find_all('div', attrs={'class':'c-chyron__value'})\n",
        "for result in results:\n",
        "  name = result.find('a').text\n",
        "  issue = result.find('a')['href'].replace(\"/\",\"\")\n",
        "  issues.append((name, issue))"
      ],
      "execution_count": 3,
      "outputs": []
    },
    {
      "cell_type": "code",
      "metadata": {
        "id": "VIodWee7Erz8",
        "colab": {
          "base_uri": "https://localhost:8080/",
          "height": 281
        },
        "outputId": "ee071ad6-0589-41b2-fe95-9a4ea1ee8a3b"
      },
      "source": [
        "url = \"https://www.politifact.com/factchecks/list/?page={pgno}&category={category}\"\n",
        "\n",
        "records = []  \n",
        "\n",
        "for i in range(1,2):\n",
        "  for issue, issue_url in issues[:5]:\n",
        "    fUrl = url.format(pgno=str(i), category=issue_url)\n",
        "    r = requests.get(fUrl)\n",
        "    soup = BeautifulSoup(r.text, 'html.parser')  \n",
        "    results = soup.find_all('article', attrs={'class':'m-statement'})\n",
        "    for result in results:\n",
        "      date = result.find('footer',attrs={'class':'m-statement__footer'}).text.split(\"•\")[1].rstrip(\"\\n\")\n",
        "      reporter = result.find('footer',attrs={'class':'m-statement__footer'}).text.split(\"•\")[0].replace(\"\\nBy\",\"\")   \n",
        "      author = result.find('a',attrs={'class':'m-statement__name'}).text.replace(\"\\n\",\"\")\n",
        "      statement =  result.find('div', attrs = {'class':'m-statement__quote'}).find('a').text.replace(\"\\n\",\"\")\n",
        "      statement_descr = result.find('div', {'class':'m-statement__desc'}).text.replace(\"\\n\",\"\")\n",
        "      article_url =  result.find('a')['href']\n",
        "      verdict = result.find('img', attrs = {'class':'c-image__thumb'}, alt=True).attrs['alt']\n",
        "      records.append(( date, issue, reporter, author, statement, statement_descr, verdict, article_url))\n",
        "  \n",
        "df_sample = pd.DataFrame(records, columns=['Date', 'Issue','Reporter','Author', 'Statement', 'Description', 'Verdict', 'Url'])  \n",
        "df_sample.head()"
      ],
      "execution_count": 4,
      "outputs": [
        {
          "output_type": "execute_result",
          "data": {
            "text/html": [
              "<div>\n",
              "<style scoped>\n",
              "    .dataframe tbody tr th:only-of-type {\n",
              "        vertical-align: middle;\n",
              "    }\n",
              "\n",
              "    .dataframe tbody tr th {\n",
              "        vertical-align: top;\n",
              "    }\n",
              "\n",
              "    .dataframe thead th {\n",
              "        text-align: right;\n",
              "    }\n",
              "</style>\n",
              "<table border=\"1\" class=\"dataframe\">\n",
              "  <thead>\n",
              "    <tr style=\"text-align: right;\">\n",
              "      <th></th>\n",
              "      <th>Date</th>\n",
              "      <th>Issue</th>\n",
              "      <th>Reporter</th>\n",
              "      <th>Author</th>\n",
              "      <th>Statement</th>\n",
              "      <th>Description</th>\n",
              "      <th>Verdict</th>\n",
              "      <th>Url</th>\n",
              "    </tr>\n",
              "  </thead>\n",
              "  <tbody>\n",
              "    <tr>\n",
              "      <th>0</th>\n",
              "      <td>March 31, 2021</td>\n",
              "      <td>Abortion</td>\n",
              "      <td>Tom Kertscher</td>\n",
              "      <td>Facebook posts</td>\n",
              "      <td>“Joe Biden puts pro-life groups on domestic ex...</td>\n",
              "      <td>stated on March 29, 2021 in a Facebook post:</td>\n",
              "      <td>barely-true</td>\n",
              "      <td>/personalities/facebook-posts/</td>\n",
              "    </tr>\n",
              "    <tr>\n",
              "      <th>1</th>\n",
              "      <td>February 12, 2021</td>\n",
              "      <td>Abortion</td>\n",
              "      <td>Brandon Mulder</td>\n",
              "      <td>Greg Abbott</td>\n",
              "      <td>“Innocent lives will be saved” by ending taxpa...</td>\n",
              "      <td>stated on January 24, 2021 in a tweet:</td>\n",
              "      <td>false</td>\n",
              "      <td>/personalities/greg-abbott/</td>\n",
              "    </tr>\n",
              "    <tr>\n",
              "      <th>2</th>\n",
              "      <td>November 18, 2020</td>\n",
              "      <td>Abortion</td>\n",
              "      <td>Noah Y. Kim</td>\n",
              "      <td>Facebook posts</td>\n",
              "      <td>There is “aborted male fetus” in the Oxford-As...</td>\n",
              "      <td>stated on November 15, 2020 in a Facebook post:</td>\n",
              "      <td>false</td>\n",
              "      <td>/personalities/facebook-posts/</td>\n",
              "    </tr>\n",
              "    <tr>\n",
              "      <th>3</th>\n",
              "      <td>October 14, 2020</td>\n",
              "      <td>Abortion</td>\n",
              "      <td>Tom Kertscher</td>\n",
              "      <td>Tommy Tuberville</td>\n",
              "      <td>Says Doug Jones \"has voted to spend our tax do...</td>\n",
              "      <td>stated on October 8, 2020 in an ad:</td>\n",
              "      <td>false</td>\n",
              "      <td>/personalities/tommy-tuberville/</td>\n",
              "    </tr>\n",
              "    <tr>\n",
              "      <th>4</th>\n",
              "      <td>October 13, 2020</td>\n",
              "      <td>Abortion</td>\n",
              "      <td>Chris Nichols</td>\n",
              "      <td>Facebook posts</td>\n",
              "      <td>“Kamala Harris Tried to Put Pro-Lifers in Jail...</td>\n",
              "      <td>stated on August 14, 2020 in a headline:</td>\n",
              "      <td>false</td>\n",
              "      <td>/personalities/facebook-posts/</td>\n",
              "    </tr>\n",
              "  </tbody>\n",
              "</table>\n",
              "</div>"
            ],
            "text/plain": [
              "                 Date     Issue  ...      Verdict                               Url\n",
              "0      March 31, 2021  Abortion  ...  barely-true    /personalities/facebook-posts/\n",
              "1   February 12, 2021  Abortion  ...        false       /personalities/greg-abbott/\n",
              "2   November 18, 2020  Abortion  ...        false    /personalities/facebook-posts/\n",
              "3    October 14, 2020  Abortion  ...        false  /personalities/tommy-tuberville/\n",
              "4    October 13, 2020  Abortion  ...        false    /personalities/facebook-posts/\n",
              "\n",
              "[5 rows x 8 columns]"
            ]
          },
          "metadata": {
            "tags": []
          },
          "execution_count": 4
        }
      ]
    },
    {
      "cell_type": "code",
      "metadata": {
        "id": "9EJZ_Q2IFY93",
        "colab": {
          "base_uri": "https://localhost:8080/"
        },
        "outputId": "c6a98a2f-f2a6-4ee3-c059-c4ea5e8c5937"
      },
      "source": [
        "df_sample.isnull().sum()"
      ],
      "execution_count": 5,
      "outputs": [
        {
          "output_type": "execute_result",
          "data": {
            "text/plain": [
              "Date           0\n",
              "Issue          0\n",
              "Reporter       0\n",
              "Author         0\n",
              "Statement      0\n",
              "Description    0\n",
              "Verdict        0\n",
              "Url            0\n",
              "dtype: int64"
            ]
          },
          "metadata": {
            "tags": []
          },
          "execution_count": 5
        }
      ]
    },
    {
      "cell_type": "markdown",
      "metadata": {
        "id": "-hBtFjjoqV2_"
      },
      "source": [
        "**Import Required Packages**"
      ]
    },
    {
      "cell_type": "code",
      "metadata": {
        "colab": {
          "base_uri": "https://localhost:8080/"
        },
        "id": "-sSRIdY1HZCS",
        "outputId": "59e15dd3-b05c-4652-9181-00f0ec25e13d"
      },
      "source": [
        "import pandas as pd\n",
        "import numpy as np\n",
        "import seaborn as sns\n",
        "import re\n",
        "import requests\n",
        "import string\n",
        "from string import punctuation\n",
        "from io import BytesIO\n",
        "import nltk\n",
        "from nltk.corpus import stopwords\n",
        "nltk.download('stopwords')\n",
        "\n",
        "\n",
        "import matplotlib.pyplot as plt\n",
        "from sklearn.model_selection import train_test_split\n",
        "from sklearn.feature_extraction.text import CountVectorizer\n",
        "from sklearn.feature_extraction.text import TfidfTransformer\n",
        "\n",
        "import tensorflow as tf\n",
        "from tensorflow.keras.models import Sequential\n",
        "from tensorflow.keras.layers import Dense, Activation, Dropout\n",
        "from tensorflow.keras.callbacks import EarlyStopping\n",
        "from vaderSentiment.vaderSentiment import SentimentIntensityAnalyzer"
      ],
      "execution_count": 6,
      "outputs": [
        {
          "output_type": "stream",
          "text": [
            "[nltk_data] Downloading package stopwords to /root/nltk_data...\n",
            "[nltk_data]   Package stopwords is already up-to-date!\n"
          ],
          "name": "stdout"
        }
      ]
    },
    {
      "cell_type": "markdown",
      "metadata": {
        "id": "YUH7jv5KrgG-"
      },
      "source": [
        "**Get twitter dataset**"
      ]
    },
    {
      "cell_type": "code",
      "metadata": {
        "id": "Gn_vu_gprlK1",
        "colab": {
          "base_uri": "https://localhost:8080/",
          "height": 197
        },
        "outputId": "0df2f34e-4e5b-4ec4-cfd7-b02b26f635d6"
      },
      "source": [
        "train_url = 'https://docs.google.com/spreadsheets/d/e/2PACX-1vT-7fkaGbvXcppizTYkyM_weWptbtyab7PVUXJZdpJb7aJ-mKXtB1zTkY7DizLU7M64oYMoE8lPJQ1V/pub?output=csv'\n",
        "r = requests.get(train_url)\n",
        "data = r.content\n",
        "df_train = pd.read_csv(BytesIO(data))\n",
        "df_train.head()"
      ],
      "execution_count": 7,
      "outputs": [
        {
          "output_type": "execute_result",
          "data": {
            "text/html": [
              "<div>\n",
              "<style scoped>\n",
              "    .dataframe tbody tr th:only-of-type {\n",
              "        vertical-align: middle;\n",
              "    }\n",
              "\n",
              "    .dataframe tbody tr th {\n",
              "        vertical-align: top;\n",
              "    }\n",
              "\n",
              "    .dataframe thead th {\n",
              "        text-align: right;\n",
              "    }\n",
              "</style>\n",
              "<table border=\"1\" class=\"dataframe\">\n",
              "  <thead>\n",
              "    <tr style=\"text-align: right;\">\n",
              "      <th></th>\n",
              "      <th>Statement</th>\n",
              "      <th>VerdictRating</th>\n",
              "      <th>NumOfRetweets</th>\n",
              "    </tr>\n",
              "  </thead>\n",
              "  <tbody>\n",
              "    <tr>\n",
              "      <th>0</th>\n",
              "      <td>BREAKING: Nancy Pelosi Was Just Taken From Her...</td>\n",
              "      <td>Negative</td>\n",
              "      <td>378</td>\n",
              "    </tr>\n",
              "    <tr>\n",
              "      <th>1</th>\n",
              "      <td>Student Hasn't Stopped Filming Since Florida S...</td>\n",
              "      <td>Negative</td>\n",
              "      <td>43</td>\n",
              "    </tr>\n",
              "    <tr>\n",
              "      <th>2</th>\n",
              "      <td>Court Orders Obama To Pay $400 Million In Rest...</td>\n",
              "      <td>Negative</td>\n",
              "      <td>102</td>\n",
              "    </tr>\n",
              "    <tr>\n",
              "      <th>3</th>\n",
              "      <td>Florida Democrats Ask HHS to Protect Floridian...</td>\n",
              "      <td>Positive</td>\n",
              "      <td>216</td>\n",
              "    </tr>\n",
              "    <tr>\n",
              "      <th>4</th>\n",
              "      <td>the Border Security Economic Opportunity and I...</td>\n",
              "      <td>Positive</td>\n",
              "      <td>66</td>\n",
              "    </tr>\n",
              "  </tbody>\n",
              "</table>\n",
              "</div>"
            ],
            "text/plain": [
              "                                           Statement  ... NumOfRetweets\n",
              "0  BREAKING: Nancy Pelosi Was Just Taken From Her...  ...           378\n",
              "1  Student Hasn't Stopped Filming Since Florida S...  ...            43\n",
              "2  Court Orders Obama To Pay $400 Million In Rest...  ...           102\n",
              "3  Florida Democrats Ask HHS to Protect Floridian...  ...           216\n",
              "4  the Border Security Economic Opportunity and I...  ...            66\n",
              "\n",
              "[5 rows x 3 columns]"
            ]
          },
          "metadata": {
            "tags": []
          },
          "execution_count": 7
        }
      ]
    },
    {
      "cell_type": "markdown",
      "metadata": {
        "id": "lMD-lue81NME"
      },
      "source": [
        "**Plot the Rating visualization graph**"
      ]
    },
    {
      "cell_type": "code",
      "metadata": {
        "colab": {
          "base_uri": "https://localhost:8080/",
          "height": 296
        },
        "id": "EwQ5_FWh1R-p",
        "outputId": "b67601ee-f868-4a06-b619-61f8a5651868"
      },
      "source": [
        "sns.set_style('whitegrid')\n",
        "sns.countplot(x='Verdict',data=df_sample, palette='YlGnBu_r')"
      ],
      "execution_count": 8,
      "outputs": [
        {
          "output_type": "execute_result",
          "data": {
            "text/plain": [
              "<matplotlib.axes._subplots.AxesSubplot at 0x7f1309ae1e90>"
            ]
          },
          "metadata": {
            "tags": []
          },
          "execution_count": 8
        },
        {
          "output_type": "display_data",
          "data": {
            "image/png": "[encoded data removed]",
            "text/plain": [
              "<Figure size 432x288 with 1 Axes>"
            ]
          },
          "metadata": {
            "tags": []
          }
        }
      ]
    },
    {
      "cell_type": "markdown",
      "metadata": {
        "id": "VqT2elfcs4tj"
      },
      "source": [
        "**Calculation of Polarity**"
      ]
    },
    {
      "cell_type": "code",
      "metadata": {
        "id": "vQSZtk8IKPxp"
      },
      "source": [
        "df_sample['VerdictRating'] = df_sample['Verdict'].apply(lambda x: 'Positive' if x in ['true', 'mostly-true', 'half-true'] else 'Negative')\n"
      ],
      "execution_count": 9,
      "outputs": []
    },
    {
      "cell_type": "markdown",
      "metadata": {
        "id": "l2ppN_Gj3MXZ"
      },
      "source": [
        "## Microfactors generation"
      ]
    },
    {
      "cell_type": "markdown",
      "metadata": {
        "id": "UxDEvJZuv7yu"
      },
      "source": [
        "**1. Confirmation generation**"
      ]
    },
    {
      "cell_type": "code",
      "metadata": {
        "colab": {
          "base_uri": "https://localhost:8080/",
          "height": 282
        },
        "id": "QvsEfv5U8hNJ",
        "outputId": "4d9419df-4c5a-4fac-e720-d0fffc8e6c93"
      },
      "source": [
        "pd.options.mode.chained_assignment = None\n",
        "\n",
        "ulimit = np.percentile(df_train.NumOfRetweets, 99)\n",
        "df_train['NumOfRetweets'].loc[df_train['NumOfRetweets']>ulimit] = ulimit\n",
        "llimit = np.percentile(df_train.NumOfRetweets.values, 1)\n",
        "df_train['NumOfRetweets'].loc[df_train['NumOfRetweets']<llimit] = llimit\n",
        "df_train['NumOfRetweets'].plot.hist(color='#86bf91')"
      ],
      "execution_count": 10,
      "outputs": [
        {
          "output_type": "execute_result",
          "data": {
            "text/plain": [
              "<matplotlib.axes._subplots.AxesSubplot at 0x7f1308355bd0>"
            ]
          },
          "metadata": {
            "tags": []
          },
          "execution_count": 10
        },
        {
          "output_type": "display_data",
          "data": {
            "image/png": "[encoded data removed]",
            "text/plain": [
              "<Figure size 432x288 with 1 Axes>"
            ]
          },
          "metadata": {
            "tags": []
          }
        }
      ]
    },
    {
      "cell_type": "markdown",
      "metadata": {
        "id": "OH_wv24QFQCF"
      },
      "source": [
        "Where we can see very few of them have over than 2000 retweets."
      ]
    },
    {
      "cell_type": "markdown",
      "metadata": {
        "id": "xaSuc38YFWNu"
      },
      "source": [
        "The more retweets, the more social confirmation. We split the number of retwees to 'Confirmation' as 'positive' and 'negative', 300 is the threshold we can use for social media."
      ]
    },
    {
      "cell_type": "code",
      "metadata": {
        "colab": {
          "base_uri": "https://localhost:8080/",
          "height": 296
        },
        "id": "BiDBQZodEhIE",
        "outputId": "6b6a714e-0771-459e-f570-656a42b9f90b"
      },
      "source": [
        "df_train['Confirmation'] = df_train['NumOfRetweets'].apply(lambda x: 'Positive' if x > 300 else 'Negative')\n",
        "sns.set_style('whitegrid')\n",
        "sns.countplot(x='Confirmation',data=df_train, palette='summer')"
      ],
      "execution_count": 11,
      "outputs": [
        {
          "output_type": "execute_result",
          "data": {
            "text/plain": [
              "<matplotlib.axes._subplots.AxesSubplot at 0x7f130829dad0>"
            ]
          },
          "metadata": {
            "tags": []
          },
          "execution_count": 11
        },
        {
          "output_type": "display_data",
          "data": {
            "image/png": "[encoded data removed]",
            "text/plain": [
              "<Figure size 432x288 with 1 Axes>"
            ]
          },
          "metadata": {
            "tags": []
          }
        }
      ]
    },
    {
      "cell_type": "markdown",
      "metadata": {
        "id": "B3so3XNt5PXg"
      },
      "source": [
        "**Text Preprocessing**"
      ]
    },
    {
      "cell_type": "code",
      "metadata": {
        "id": "mvi7pt-d5R6E"
      },
      "source": [
        "def get_text_processing(text):\n",
        "    stpword = stopwords.words('english')\n",
        "    no_punctuation = [char for char in text if char not in string.punctuation]\n",
        "    no_punctuation = ''.join(no_punctuation)\n",
        "    return ' '.join([word for word in no_punctuation.split() if word.lower() not in stpword])"
      ],
      "execution_count": 12,
      "outputs": []
    },
    {
      "cell_type": "markdown",
      "metadata": {
        "id": "1F75BGMk5zbT"
      },
      "source": [
        "**Apply the method \"get_text_processing\" into column statement text**"
      ]
    },
    {
      "cell_type": "code",
      "metadata": {
        "id": "52_Rbc3p5953"
      },
      "source": [
        "df_train['Statement'] = df_train['Statement'].apply(get_text_processing)\n",
        "df_sample['Statement'] = df_sample['Statement'].apply(get_text_processing)\n"
      ],
      "execution_count": 13,
      "outputs": []
    },
    {
      "cell_type": "markdown",
      "metadata": {
        "id": "-wctT1YPwH58"
      },
      "source": [
        "**2. Sentiment Generation**"
      ]
    },
    {
      "cell_type": "code",
      "metadata": {
        "id": "RqSTN1I0gXHV"
      },
      "source": [
        "def get_text_sentiment(text):\n",
        "  analyzer = SentimentIntensityAnalyzer()\n",
        "  _sentiment = analyzer.polarity_scores(text)[\"compound\"]\n",
        "  return 'Positive' if abs(_sentiment) > 0.5 else 'Negative'"
      ],
      "execution_count": 14,
      "outputs": []
    },
    {
      "cell_type": "markdown",
      "metadata": {
        "id": "zuL1onGxjtIR"
      },
      "source": [
        "**Apply the method \"get_text_setiment\" into column statement text**"
      ]
    },
    {
      "cell_type": "code",
      "metadata": {
        "id": "smSRphhgkT8T"
      },
      "source": [
        "df_train['Sentiment'] = df_train['Statement'].apply(get_text_sentiment)\n",
        "df_sample['Sentiment'] = df_sample['Statement'].apply(get_text_sentiment)"
      ],
      "execution_count": 15,
      "outputs": []
    },
    {
      "cell_type": "markdown",
      "metadata": {
        "id": "Fhxnn-pj7R6P"
      },
      "source": [
        "**Visualize Sentiment Polarity**"
      ]
    },
    {
      "cell_type": "code",
      "metadata": {
        "colab": {
          "base_uri": "https://localhost:8080/",
          "height": 296
        },
        "id": "TglKEwxS2DcK",
        "outputId": "be0eb4c6-7131-4a87-837c-9387ae66de2e"
      },
      "source": [
        "sns.set_style('whitegrid')\n",
        "sns.countplot(x='Sentiment',data=df_sample, palette='summer')"
      ],
      "execution_count": 16,
      "outputs": [
        {
          "output_type": "execute_result",
          "data": {
            "text/plain": [
              "<matplotlib.axes._subplots.AxesSubplot at 0x7f1307f972d0>"
            ]
          },
          "metadata": {
            "tags": []
          },
          "execution_count": 16
        },
        {
          "output_type": "display_data",
          "data": {
            "image/png": "[encoded data removed]",
            "text/plain": [
              "<Figure size 432x288 with 1 Axes>"
            ]
          },
          "metadata": {
            "tags": []
          }
        }
      ]
    },
    {
      "cell_type": "code",
      "metadata": {
        "colab": {
          "base_uri": "https://localhost:8080/",
          "height": 197
        },
        "id": "yFeqv9LG7N5N",
        "outputId": "9dd45f57-9e5f-4ebc-bc4f-da07fad73798"
      },
      "source": [
        "df = pd.concat([df_train,df_sample[['Statement', 'Sentiment', 'VerdictRating']]],axis=0)\n",
        "df = df.sample(frac=1).reset_index(drop=True)\n",
        "df = df.fillna(df.mean())\n",
        "df['Confirmation'] = df['NumOfRetweets'].apply(lambda x: 'Positive' if x > 300 else 'Negative')\n",
        "df.head()"
      ],
      "execution_count": 17,
      "outputs": [
        {
          "output_type": "execute_result",
          "data": {
            "text/html": [
              "<div>\n",
              "<style scoped>\n",
              "    .dataframe tbody tr th:only-of-type {\n",
              "        vertical-align: middle;\n",
              "    }\n",
              "\n",
              "    .dataframe tbody tr th {\n",
              "        vertical-align: top;\n",
              "    }\n",
              "\n",
              "    .dataframe thead th {\n",
              "        text-align: right;\n",
              "    }\n",
              "</style>\n",
              "<table border=\"1\" class=\"dataframe\">\n",
              "  <thead>\n",
              "    <tr style=\"text-align: right;\">\n",
              "      <th></th>\n",
              "      <th>Statement</th>\n",
              "      <th>VerdictRating</th>\n",
              "      <th>NumOfRetweets</th>\n",
              "      <th>Confirmation</th>\n",
              "      <th>Sentiment</th>\n",
              "    </tr>\n",
              "  </thead>\n",
              "  <tbody>\n",
              "    <tr>\n",
              "      <th>0</th>\n",
              "      <td>Starbucks Placed Trump’s Photo Floor Every Cus...</td>\n",
              "      <td>Negative</td>\n",
              "      <td>106.000000</td>\n",
              "      <td>Negative</td>\n",
              "      <td>Negative</td>\n",
              "    </tr>\n",
              "    <tr>\n",
              "      <th>1</th>\n",
              "      <td>Justices 1789 Present</td>\n",
              "      <td>Positive</td>\n",
              "      <td>244.000000</td>\n",
              "      <td>Negative</td>\n",
              "      <td>Negative</td>\n",
              "    </tr>\n",
              "    <tr>\n",
              "      <th>2</th>\n",
              "      <td>Leonard Lance claims federal tax code contains...</td>\n",
              "      <td>Positive</td>\n",
              "      <td>4.000000</td>\n",
              "      <td>Negative</td>\n",
              "      <td>Negative</td>\n",
              "    </tr>\n",
              "    <tr>\n",
              "      <th>3</th>\n",
              "      <td>AARP backed federal funding Planned Parenthood</td>\n",
              "      <td>Negative</td>\n",
              "      <td>665.357375</td>\n",
              "      <td>Positive</td>\n",
              "      <td>Negative</td>\n",
              "    </tr>\n",
              "    <tr>\n",
              "      <th>4</th>\n",
              "      <td>Obama’s PrimeTime Press Briefing</td>\n",
              "      <td>Positive</td>\n",
              "      <td>3.000000</td>\n",
              "      <td>Negative</td>\n",
              "      <td>Negative</td>\n",
              "    </tr>\n",
              "  </tbody>\n",
              "</table>\n",
              "</div>"
            ],
            "text/plain": [
              "                                           Statement  ... Sentiment\n",
              "0  Starbucks Placed Trump’s Photo Floor Every Cus...  ...  Negative\n",
              "1                              Justices 1789 Present  ...  Negative\n",
              "2  Leonard Lance claims federal tax code contains...  ...  Negative\n",
              "3     AARP backed federal funding Planned Parenthood  ...  Negative\n",
              "4                   Obama’s PrimeTime Press Briefing  ...  Negative\n",
              "\n",
              "[5 rows x 5 columns]"
            ]
          },
          "metadata": {
            "tags": []
          },
          "execution_count": 17
        }
      ]
    },
    {
      "cell_type": "code",
      "metadata": {
        "colab": {
          "base_uri": "https://localhost:8080/"
        },
        "id": "aMvgffdDOIbC",
        "outputId": "f118acef-f4ed-45b8-f6ec-613a3633487d"
      },
      "source": [
        "df.isnull().sum()"
      ],
      "execution_count": 18,
      "outputs": [
        {
          "output_type": "execute_result",
          "data": {
            "text/plain": [
              "Statement        0\n",
              "VerdictRating    0\n",
              "NumOfRetweets    0\n",
              "Confirmation     0\n",
              "Sentiment        0\n",
              "dtype: int64"
            ]
          },
          "metadata": {
            "tags": []
          },
          "execution_count": 18
        }
      ]
    },
    {
      "cell_type": "markdown",
      "metadata": {
        "id": "X-VCXwSNQvTC"
      },
      "source": [
        "## Apply muller loop classifiers on first micro-factor: Sentiment"
      ]
    },
    {
      "cell_type": "markdown",
      "metadata": {
        "id": "O63qBfKuE2nu"
      },
      "source": [
        "**Apply Train Test Split**"
      ]
    },
    {
      "cell_type": "code",
      "metadata": {
        "id": "6PNWLYhME7Pf"
      },
      "source": [
        "X, y = df['Statement'].values, df['Sentiment'].values\n",
        "X_train, X_test, y_train, y_test = train_test_split(X, y, test_size=0.30, random_state=42)"
      ],
      "execution_count": 19,
      "outputs": []
    },
    {
      "cell_type": "markdown",
      "metadata": {
        "id": "AuADdT8UFgOy"
      },
      "source": [
        "**Apply vectorization**"
      ]
    },
    {
      "cell_type": "code",
      "metadata": {
        "id": "r20vXgZ6Fvqw"
      },
      "source": [
        "def apply_count_vector(X_train, X_test):\n",
        "  vect = CountVectorizer()\n",
        "  X_train = vect.fit_transform(X_train)\n",
        "  X_test = vect.transform(X_test)\n",
        "  return X_train, X_test"
      ],
      "execution_count": 20,
      "outputs": []
    },
    {
      "cell_type": "markdown",
      "metadata": {
        "id": "akiDMHsvGNxD"
      },
      "source": [
        "**Apply frequency, inverse document frequency:**"
      ]
    },
    {
      "cell_type": "code",
      "metadata": {
        "id": "_q3-ppruGRz7"
      },
      "source": [
        "def apply_tfidf(X_train, X_test):\n",
        "  tfidf = TfidfTransformer()\n",
        "  X_train = tfidf.fit_transform(X_train)\n",
        "  X_test = tfidf.transform(X_test)\n",
        "  X_train = X_train.toarray()\n",
        "  X_test = X_test.toarray()\n",
        "  return X_train, X_test"
      ],
      "execution_count": 21,
      "outputs": []
    },
    {
      "cell_type": "code",
      "metadata": {
        "id": "7qpz7oXNNtRp"
      },
      "source": [
        "X_train, X_test = apply_count_vector(X_train, X_test)\n",
        "X_train, X_test = apply_tfidf(X_train, X_test)"
      ],
      "execution_count": 22,
      "outputs": []
    },
    {
      "cell_type": "markdown",
      "metadata": {
        "id": "0dCOAdSOQ5Tj"
      },
      "source": [
        "**Apply Muller Loop Classifiers**"
      ]
    },
    {
      "cell_type": "code",
      "metadata": {
        "id": "dcvNUX4wK3Mq"
      },
      "source": [
        "# compare standalone models for binary classification\n",
        "from numpy import mean\n",
        "from numpy import std\n",
        "from sklearn.model_selection import cross_val_score\n",
        "from sklearn.model_selection import RepeatedStratifiedKFold\n",
        "from sklearn.linear_model import LogisticRegression\n",
        "from sklearn.neighbors import KNeighborsClassifier\n",
        "from sklearn.tree import DecisionTreeClassifier\n",
        "from sklearn.svm import SVC\n",
        "from sklearn.naive_bayes import GaussianNB\n",
        "from sklearn.ensemble import StackingClassifier\n",
        "from matplotlib import pyplot\n",
        "\n",
        "# get a stacking ensemble of models\n",
        "def get_stacking():\n",
        "\t# define the base models\n",
        "\tlevel0 = list()\n",
        "\tlevel0.append(('lr', LogisticRegression()))\n",
        "\tlevel0.append(('cart', DecisionTreeClassifier()))\n",
        "\tlevel0.append(('svm', SVC()))\n",
        "\t# define meta learner model\n",
        "\tlevel1 = LogisticRegression()\n",
        "\t# define the stacking ensemble\n",
        "\tmodel = StackingClassifier(estimators=level0, final_estimator=level1, cv=5)\n",
        "\treturn model\n",
        "\n",
        "# get a list of models to evaluate\n",
        "def get_models():\n",
        "\tmodels = dict()\n",
        "\tmodels['LogisticRegression'] = LogisticRegression()\n",
        "\tmodels['KNeighbors'] = KNeighborsClassifier()\n",
        "\tmodels['DecisionTree'] = DecisionTreeClassifier()\n",
        "\tmodels['SVM'] = SVC()\n",
        "\tmodels['Bayes'] = GaussianNB()\n",
        "\tmodels['Stacking'] = get_stacking()\n",
        "\treturn models\n",
        "\n",
        "# evaluate a given model using cross-validation\n",
        "def evaluate_model(model, X, y):\n",
        "\tcv = RepeatedStratifiedKFold(n_splits=10, n_repeats=3, random_state=1)\n",
        "\tscores = cross_val_score(model, X, y, scoring='accuracy', cv=cv, n_jobs=-1, error_score='raise')\n",
        "\treturn scores\n",
        "\n",
        "# train and evaluate classifier models\n",
        "def train_evaluate_models(X_train, y_train):\n",
        "  # get the models to evaluate\n",
        "  models = get_models()\n",
        "  # evaluate the models and store results\n",
        "  results, names = list(), list()\n",
        "  for name, model in models.items():\n",
        "    scores = evaluate_model(model, X_train, y_train)\n",
        "    results.append(scores)\n",
        "    names.append(name)\n",
        "    print('>%s accuracy:%.3f (std: %.3f)' % (name, mean(scores), std(scores)))\n",
        "  # plot model performance for comparison\n",
        "  pyplot.boxplot(results, labels=names, showmeans=True)\n",
        "  pyplot.show()"
      ],
      "execution_count": 23,
      "outputs": []
    },
    {
      "cell_type": "code",
      "metadata": {
        "colab": {
          "base_uri": "https://localhost:8080/",
          "height": 374
        },
        "id": "Hfse-CY7QHSC",
        "outputId": "d366ea30-1a87-4dc4-d927-a967077989ba"
      },
      "source": [
        "train_evaluate_models(X_train, y_train)"
      ],
      "execution_count": 24,
      "outputs": [
        {
          "output_type": "stream",
          "text": [
            ">LogisticRegression accuracy:0.775 (std: 0.007)\n",
            ">KNeighbors accuracy:0.769 (std: 0.027)\n",
            ">DecisionTree accuracy:0.797 (std: 0.048)\n",
            ">SVM accuracy:0.777 (std: 0.009)\n",
            ">Bayes accuracy:0.621 (std: 0.057)\n",
            ">Stacking accuracy:0.797 (std: 0.040)\n"
          ],
          "name": "stdout"
        },
        {
          "output_type": "display_data",
          "data": {
            "image/png": "[encoded data removed]",
            "text/plain": [
              "<Figure size 432x288 with 1 Axes>"
            ]
          },
          "metadata": {
            "tags": []
          }
        }
      ]
    },
    {
      "cell_type": "markdown",
      "metadata": {
        "id": "Jl3I183lRr40"
      },
      "source": [
        "## Apply muller loop classifiers on second micro-factor: Confirmation"
      ]
    },
    {
      "cell_type": "markdown",
      "metadata": {
        "id": "t0b_GkTpRr4-"
      },
      "source": [
        "**Apply Train Test Split**"
      ]
    },
    {
      "cell_type": "code",
      "metadata": {
        "id": "w28L7bryRr4_"
      },
      "source": [
        "X, y = df['Statement'].values, df['Confirmation'].values\n",
        "X_train, X_test, y_train, y_test = train_test_split(X, y, test_size=0.30, random_state=42)"
      ],
      "execution_count": 25,
      "outputs": []
    },
    {
      "cell_type": "markdown",
      "metadata": {
        "id": "w_GxEQOSUanw"
      },
      "source": [
        "**Apply frequency, inverse document frequency:**"
      ]
    },
    {
      "cell_type": "code",
      "metadata": {
        "id": "dcdpiTDtR8Np"
      },
      "source": [
        "X_train, X_test = apply_count_vector(X_train, X_test)\n",
        "X_train, X_test = apply_tfidf(X_train, X_test)"
      ],
      "execution_count": 26,
      "outputs": []
    },
    {
      "cell_type": "code",
      "metadata": {
        "colab": {
          "base_uri": "https://localhost:8080/",
          "height": 371
        },
        "id": "-WHxT9WPR98-",
        "outputId": "ff3083a8-11ab-4399-9199-0cc5324ef5c1"
      },
      "source": [
        "train_evaluate_models(X_train, y_train)"
      ],
      "execution_count": 27,
      "outputs": [
        {
          "output_type": "stream",
          "text": [
            ">LogisticRegression accuracy:0.628 (std: 0.022)\n",
            ">KNeighbors accuracy:0.630 (std: 0.057)\n",
            ">DecisionTree accuracy:0.619 (std: 0.042)\n",
            ">SVM accuracy:0.621 (std: 0.016)\n",
            ">Bayes accuracy:0.568 (std: 0.061)\n",
            ">Stacking accuracy:0.632 (std: 0.040)\n"
          ],
          "name": "stdout"
        },
        {
          "output_type": "display_data",
          "data": {
            "image/png": "[encoded data removed]",
            "text/plain": [
              "<Figure size 432x288 with 1 Axes>"
            ]
          },
          "metadata": {
            "tags": []
          }
        }
      ]
    },
    {
      "cell_type": "markdown",
      "metadata": {
        "id": "cYTATWiqRXTa"
      },
      "source": [
        "##Apply Neural Network on Sentiment"
      ]
    },
    {
      "cell_type": "markdown",
      "metadata": {
        "id": "uffntU4UNdbG"
      },
      "source": [
        "**Apply Count Vector and TFIDF on Text**"
      ]
    },
    {
      "cell_type": "code",
      "metadata": {
        "id": "CzzskBauNSJi"
      },
      "source": [
        "def process_data(df, micro_factor='Confirmation'):\n",
        "  # Apply One hot encoding on negative and positive\n",
        "  one_hot = pd.get_dummies(df[micro_factor])\n",
        "  df = pd.concat([df,one_hot],axis=1)\n",
        "  \n",
        "  # Apply Train Test Split\n",
        "  X, y = df['Statement'].values, df[['Positive', 'Negative']].values\n",
        "  X_train, X_test, y_train, y_test = train_test_split(X, y, test_size=0.30, random_state=42)\n",
        "  \n",
        "  # Apply Count Vector and TFIDF on Text\n",
        "  X_train, X_test = apply_count_vector(X_train, X_test)\n",
        "  X_train, X_test = apply_tfidf(X_train, X_test)\n",
        "  return X_train, X_test, y_train, y_test"
      ],
      "execution_count": 28,
      "outputs": []
    },
    {
      "cell_type": "markdown",
      "metadata": {
        "id": "rXV_Xf5kHB73"
      },
      "source": [
        "**Add different layers in CNN model**"
      ]
    },
    {
      "cell_type": "code",
      "metadata": {
        "id": "-Su4eu41HAUT"
      },
      "source": [
        "def construct_model(X_train, X_test, y_train, y_test):\n",
        "  model = Sequential()\n",
        "\n",
        "  model.add(Dense(units=12673,activation='relu'))\n",
        "  model.add(Dropout(0.5))\n",
        "\n",
        "  model.add(Dense(units=4000,activation='relu'))\n",
        "  model.add(Dropout(0.5))\n",
        "\n",
        "  model.add(Dense(units=500,activation='relu'))\n",
        "  model.add(Dropout(0.5))\n",
        "\n",
        "  model.add(Dense(units=2, activation='softmax'))\n",
        "\n",
        "  opt=tf.keras.optimizers.Adam(learning_rate=0.001)\n",
        "  model.compile(loss='categorical_crossentropy', optimizer=opt, metrics=['accuracy'])\n",
        "\n",
        "  early_stop = EarlyStopping(monitor='val_loss', mode='min', verbose=1, patience=2)\n",
        "\n",
        "  model.fit(x=X_train, y=y_train, batch_size=20, epochs=50, validation_data=(X_test, y_test), verbose=1, callbacks=early_stop)"
      ],
      "execution_count": 29,
      "outputs": []
    },
    {
      "cell_type": "markdown",
      "metadata": {
        "id": "NYGn2m1lIFvo"
      },
      "source": [
        "**Apply the Model**"
      ]
    },
    {
      "cell_type": "code",
      "metadata": {
        "colab": {
          "base_uri": "https://localhost:8080/"
        },
        "id": "NtKRqIcYIEev",
        "outputId": "ea734a71-b116-47a0-e206-922640744ef7"
      },
      "source": [
        "X_train, X_test, y_train, y_test = process_data(df, micro_factor='Sentiment')\n",
        "construct_model(X_train, X_test, y_train, y_test)"
      ],
      "execution_count": 30,
      "outputs": [
        {
          "output_type": "stream",
          "text": [
            "Epoch 1/50\n",
            "31/31 [==============================] - 22s 645ms/step - loss: 0.6163 - accuracy: 0.7313 - val_loss: 0.4919 - val_accuracy: 0.7808\n",
            "Epoch 2/50\n",
            "31/31 [==============================] - 19s 625ms/step - loss: 0.3121 - accuracy: 0.8172 - val_loss: 0.7872 - val_accuracy: 0.7154\n",
            "Epoch 3/50\n",
            "31/31 [==============================] - 19s 623ms/step - loss: 0.0094 - accuracy: 0.9989 - val_loss: 1.1687 - val_accuracy: 0.7385\n",
            "Epoch 00003: early stopping\n"
          ],
          "name": "stdout"
        }
      ]
    },
    {
      "cell_type": "markdown",
      "metadata": {
        "id": "H6i6OnCmiTU0"
      },
      "source": [
        "## Apply Neural Network on Confirmation"
      ]
    },
    {
      "cell_type": "code",
      "metadata": {
        "colab": {
          "base_uri": "https://localhost:8080/"
        },
        "id": "jaDLInHfiTd0",
        "outputId": "eb945728-1815-4acd-ad26-7ed24b182cce"
      },
      "source": [
        "X_train, X_test, y_train, y_test = process_data(df, micro_factor='Confirmation')\n",
        "construct_model(X_train, X_test, y_train, y_test)"
      ],
      "execution_count": 31,
      "outputs": [
        {
          "output_type": "stream",
          "text": [
            "Epoch 1/50\n",
            "31/31 [==============================] - 21s 626ms/step - loss: 0.6882 - accuracy: 0.5902 - val_loss: 0.6601 - val_accuracy: 0.6462\n",
            "Epoch 2/50\n",
            "31/31 [==============================] - 19s 612ms/step - loss: 0.3001 - accuracy: 0.9223 - val_loss: 1.7168 - val_accuracy: 0.5769\n",
            "Epoch 3/50\n",
            "31/31 [==============================] - 19s 612ms/step - loss: 0.0828 - accuracy: 0.9822 - val_loss: 2.2092 - val_accuracy: 0.5885\n",
            "Epoch 00003: early stopping\n"
          ],
          "name": "stdout"
        }
      ]
    },
    {
      "cell_type": "markdown",
      "metadata": {
        "id": "mOSbaNrqJBeP"
      },
      "source": [
        "**Conclusion**"
      ]
    },
    {
      "cell_type": "markdown",
      "metadata": {
        "id": "s6c7yRFKJUK4"
      },
      "source": [
        "1. Both sentiment and confirmation are predictable by the article content.\n",
        "2. Stacking ensembling model performs better than single model.\n",
        "3. CNN performs better than other models."
      ]
    }
  ]
}