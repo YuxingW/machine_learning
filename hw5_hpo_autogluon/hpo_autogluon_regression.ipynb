{
  "nbformat": 4,
  "nbformat_minor": 0,
  "metadata": {
    "colab": {
      "name": "hpo_autogluon_regression.ipynb",
      "provenance": [],
      "collapsed_sections": [],
      "include_colab_link": true
    },
    "kernelspec": {
      "name": "python3",
      "display_name": "Python 3"
    },
    "widgets": {
      "application/vnd.jupyter.widget-state+json": {
        "24dcfb59272547348351f1aaca1a1f18": {
          "model_module": "@jupyter-widgets/controls",
          "model_name": "HBoxModel",
          "state": {
            "_view_name": "HBoxView",
            "_dom_classes": [],
            "_model_name": "HBoxModel",
            "_view_module": "@jupyter-widgets/controls",
            "_model_module_version": "1.5.0",
            "_view_count": null,
            "_view_module_version": "1.5.0",
            "box_style": "",
            "layout": "IPY_MODEL_a19c94defe9049869e79e6ccd9debd61",
            "_model_module": "@jupyter-widgets/controls",
            "children": [
              "IPY_MODEL_856ccd6294a14611bd7402fe01c0ffcd",
              "IPY_MODEL_8d6b9d790b3e4c668f0801ff7a34e0e0"
            ]
          }
        },
        "a19c94defe9049869e79e6ccd9debd61": {
          "model_module": "@jupyter-widgets/base",
          "model_name": "LayoutModel",
          "state": {
            "_view_name": "LayoutView",
            "grid_template_rows": null,
            "right": null,
            "justify_content": null,
            "_view_module": "@jupyter-widgets/base",
            "overflow": null,
            "_model_module_version": "1.2.0",
            "_view_count": null,
            "flex_flow": null,
            "width": null,
            "min_width": null,
            "border": null,
            "align_items": null,
            "bottom": null,
            "_model_module": "@jupyter-widgets/base",
            "top": null,
            "grid_column": null,
            "overflow_y": null,
            "overflow_x": null,
            "grid_auto_flow": null,
            "grid_area": null,
            "grid_template_columns": null,
            "flex": null,
            "_model_name": "LayoutModel",
            "justify_items": null,
            "grid_row": null,
            "max_height": null,
            "align_content": null,
            "visibility": null,
            "align_self": null,
            "height": null,
            "min_height": null,
            "padding": null,
            "grid_auto_rows": null,
            "grid_gap": null,
            "max_width": null,
            "order": null,
            "_view_module_version": "1.2.0",
            "grid_template_areas": null,
            "object_position": null,
            "object_fit": null,
            "grid_auto_columns": null,
            "margin": null,
            "display": null,
            "left": null
          }
        },
        "856ccd6294a14611bd7402fe01c0ffcd": {
          "model_module": "@jupyter-widgets/controls",
          "model_name": "FloatProgressModel",
          "state": {
            "_view_name": "ProgressView",
            "style": "IPY_MODEL_933f7cb7107d4356875d367e46774658",
            "_dom_classes": [],
            "description": "  1%",
            "_model_name": "FloatProgressModel",
            "bar_style": "danger",
            "max": 1000,
            "_view_module": "@jupyter-widgets/controls",
            "_model_module_version": "1.5.0",
            "value": 6,
            "_view_count": null,
            "_view_module_version": "1.5.0",
            "orientation": "horizontal",
            "min": 0,
            "description_tooltip": null,
            "_model_module": "@jupyter-widgets/controls",
            "layout": "IPY_MODEL_d661f922b4da4e89a586a49988bf9af2"
          }
        },
        "8d6b9d790b3e4c668f0801ff7a34e0e0": {
          "model_module": "@jupyter-widgets/controls",
          "model_name": "HTMLModel",
          "state": {
            "_view_name": "HTMLView",
            "style": "IPY_MODEL_36010cca71494118ae68ddd4cfbc4c59",
            "_dom_classes": [],
            "description": "",
            "_model_name": "HTMLModel",
            "placeholder": "​",
            "_view_module": "@jupyter-widgets/controls",
            "_model_module_version": "1.5.0",
            "value": " 6/1000 [01:09&lt;2:43:44,  9.88s/it]",
            "_view_count": null,
            "_view_module_version": "1.5.0",
            "description_tooltip": null,
            "_model_module": "@jupyter-widgets/controls",
            "layout": "IPY_MODEL_0c307a23a22c4a04a3112b2eaddcfac6"
          }
        },
        "933f7cb7107d4356875d367e46774658": {
          "model_module": "@jupyter-widgets/controls",
          "model_name": "ProgressStyleModel",
          "state": {
            "_view_name": "StyleView",
            "_model_name": "ProgressStyleModel",
            "description_width": "initial",
            "_view_module": "@jupyter-widgets/base",
            "_model_module_version": "1.5.0",
            "_view_count": null,
            "_view_module_version": "1.2.0",
            "bar_color": null,
            "_model_module": "@jupyter-widgets/controls"
          }
        },
        "d661f922b4da4e89a586a49988bf9af2": {
          "model_module": "@jupyter-widgets/base",
          "model_name": "LayoutModel",
          "state": {
            "_view_name": "LayoutView",
            "grid_template_rows": null,
            "right": null,
            "justify_content": null,
            "_view_module": "@jupyter-widgets/base",
            "overflow": null,
            "_model_module_version": "1.2.0",
            "_view_count": null,
            "flex_flow": null,
            "width": null,
            "min_width": null,
            "border": null,
            "align_items": null,
            "bottom": null,
            "_model_module": "@jupyter-widgets/base",
            "top": null,
            "grid_column": null,
            "overflow_y": null,
            "overflow_x": null,
            "grid_auto_flow": null,
            "grid_area": null,
            "grid_template_columns": null,
            "flex": null,
            "_model_name": "LayoutModel",
            "justify_items": null,
            "grid_row": null,
            "max_height": null,
            "align_content": null,
            "visibility": null,
            "align_self": null,
            "height": null,
            "min_height": null,
            "padding": null,
            "grid_auto_rows": null,
            "grid_gap": null,
            "max_width": null,
            "order": null,
            "_view_module_version": "1.2.0",
            "grid_template_areas": null,
            "object_position": null,
            "object_fit": null,
            "grid_auto_columns": null,
            "margin": null,
            "display": null,
            "left": null
          }
        },
        "36010cca71494118ae68ddd4cfbc4c59": {
          "model_module": "@jupyter-widgets/controls",
          "model_name": "DescriptionStyleModel",
          "state": {
            "_view_name": "StyleView",
            "_model_name": "DescriptionStyleModel",
            "description_width": "",
            "_view_module": "@jupyter-widgets/base",
            "_model_module_version": "1.5.0",
            "_view_count": null,
            "_view_module_version": "1.2.0",
            "_model_module": "@jupyter-widgets/controls"
          }
        },
        "0c307a23a22c4a04a3112b2eaddcfac6": {
          "model_module": "@jupyter-widgets/base",
          "model_name": "LayoutModel",
          "state": {
            "_view_name": "LayoutView",
            "grid_template_rows": null,
            "right": null,
            "justify_content": null,
            "_view_module": "@jupyter-widgets/base",
            "overflow": null,
            "_model_module_version": "1.2.0",
            "_view_count": null,
            "flex_flow": null,
            "width": null,
            "min_width": null,
            "border": null,
            "align_items": null,
            "bottom": null,
            "_model_module": "@jupyter-widgets/base",
            "top": null,
            "grid_column": null,
            "overflow_y": null,
            "overflow_x": null,
            "grid_auto_flow": null,
            "grid_area": null,
            "grid_template_columns": null,
            "flex": null,
            "_model_name": "LayoutModel",
            "justify_items": null,
            "grid_row": null,
            "max_height": null,
            "align_content": null,
            "visibility": null,
            "align_self": null,
            "height": null,
            "min_height": null,
            "padding": null,
            "grid_auto_rows": null,
            "grid_gap": null,
            "max_width": null,
            "order": null,
            "_view_module_version": "1.2.0",
            "grid_template_areas": null,
            "object_position": null,
            "object_fit": null,
            "grid_auto_columns": null,
            "margin": null,
            "display": null,
            "left": null
          }
        },
        "e30895b3cc90467999274ce231f79ded": {
          "model_module": "@jupyter-widgets/controls",
          "model_name": "HBoxModel",
          "state": {
            "_view_name": "HBoxView",
            "_dom_classes": [],
            "_model_name": "HBoxModel",
            "_view_module": "@jupyter-widgets/controls",
            "_model_module_version": "1.5.0",
            "_view_count": null,
            "_view_module_version": "1.5.0",
            "box_style": "",
            "layout": "IPY_MODEL_c80d194bb63c401796b780e5ea4b53f2",
            "_model_module": "@jupyter-widgets/controls",
            "children": [
              "IPY_MODEL_5d5ec95bb1d243ee8fd34b237fd1abba",
              "IPY_MODEL_f55a6e9173084bfd82d8941a5a29cb63"
            ]
          }
        },
        "c80d194bb63c401796b780e5ea4b53f2": {
          "model_module": "@jupyter-widgets/base",
          "model_name": "LayoutModel",
          "state": {
            "_view_name": "LayoutView",
            "grid_template_rows": null,
            "right": null,
            "justify_content": null,
            "_view_module": "@jupyter-widgets/base",
            "overflow": null,
            "_model_module_version": "1.2.0",
            "_view_count": null,
            "flex_flow": null,
            "width": null,
            "min_width": null,
            "border": null,
            "align_items": null,
            "bottom": null,
            "_model_module": "@jupyter-widgets/base",
            "top": null,
            "grid_column": null,
            "overflow_y": null,
            "overflow_x": null,
            "grid_auto_flow": null,
            "grid_area": null,
            "grid_template_columns": null,
            "flex": null,
            "_model_name": "LayoutModel",
            "justify_items": null,
            "grid_row": null,
            "max_height": null,
            "align_content": null,
            "visibility": null,
            "align_self": null,
            "height": null,
            "min_height": null,
            "padding": null,
            "grid_auto_rows": null,
            "grid_gap": null,
            "max_width": null,
            "order": null,
            "_view_module_version": "1.2.0",
            "grid_template_areas": null,
            "object_position": null,
            "object_fit": null,
            "grid_auto_columns": null,
            "margin": null,
            "display": null,
            "left": null
          }
        },
        "5d5ec95bb1d243ee8fd34b237fd1abba": {
          "model_module": "@jupyter-widgets/controls",
          "model_name": "FloatProgressModel",
          "state": {
            "_view_name": "ProgressView",
            "style": "IPY_MODEL_620fa698ab254d8f8ca24b273081a0a9",
            "_dom_classes": [],
            "description": "  0%",
            "_model_name": "FloatProgressModel",
            "bar_style": "danger",
            "max": 1000,
            "_view_module": "@jupyter-widgets/controls",
            "_model_module_version": "1.5.0",
            "value": 4,
            "_view_count": null,
            "_view_module_version": "1.5.0",
            "orientation": "horizontal",
            "min": 0,
            "description_tooltip": null,
            "_model_module": "@jupyter-widgets/controls",
            "layout": "IPY_MODEL_7edd7fda7c0b40fbbb4da9cc025a2134"
          }
        },
        "f55a6e9173084bfd82d8941a5a29cb63": {
          "model_module": "@jupyter-widgets/controls",
          "model_name": "HTMLModel",
          "state": {
            "_view_name": "HTMLView",
            "style": "IPY_MODEL_05995741fada4509934431210a8b5892",
            "_dom_classes": [],
            "description": "",
            "_model_name": "HTMLModel",
            "placeholder": "​",
            "_view_module": "@jupyter-widgets/controls",
            "_model_module_version": "1.5.0",
            "value": " 4/1000 [01:12&lt;4:46:16, 17.25s/it]",
            "_view_count": null,
            "_view_module_version": "1.5.0",
            "description_tooltip": null,
            "_model_module": "@jupyter-widgets/controls",
            "layout": "IPY_MODEL_03f3604956d349299e0c15a419054df8"
          }
        },
        "620fa698ab254d8f8ca24b273081a0a9": {
          "model_module": "@jupyter-widgets/controls",
          "model_name": "ProgressStyleModel",
          "state": {
            "_view_name": "StyleView",
            "_model_name": "ProgressStyleModel",
            "description_width": "initial",
            "_view_module": "@jupyter-widgets/base",
            "_model_module_version": "1.5.0",
            "_view_count": null,
            "_view_module_version": "1.2.0",
            "bar_color": null,
            "_model_module": "@jupyter-widgets/controls"
          }
        },
        "7edd7fda7c0b40fbbb4da9cc025a2134": {
          "model_module": "@jupyter-widgets/base",
          "model_name": "LayoutModel",
          "state": {
            "_view_name": "LayoutView",
            "grid_template_rows": null,
            "right": null,
            "justify_content": null,
            "_view_module": "@jupyter-widgets/base",
            "overflow": null,
            "_model_module_version": "1.2.0",
            "_view_count": null,
            "flex_flow": null,
            "width": null,
            "min_width": null,
            "border": null,
            "align_items": null,
            "bottom": null,
            "_model_module": "@jupyter-widgets/base",
            "top": null,
            "grid_column": null,
            "overflow_y": null,
            "overflow_x": null,
            "grid_auto_flow": null,
            "grid_area": null,
            "grid_template_columns": null,
            "flex": null,
            "_model_name": "LayoutModel",
            "justify_items": null,
            "grid_row": null,
            "max_height": null,
            "align_content": null,
            "visibility": null,
            "align_self": null,
            "height": null,
            "min_height": null,
            "padding": null,
            "grid_auto_rows": null,
            "grid_gap": null,
            "max_width": null,
            "order": null,
            "_view_module_version": "1.2.0",
            "grid_template_areas": null,
            "object_position": null,
            "object_fit": null,
            "grid_auto_columns": null,
            "margin": null,
            "display": null,
            "left": null
          }
        },
        "05995741fada4509934431210a8b5892": {
          "model_module": "@jupyter-widgets/controls",
          "model_name": "DescriptionStyleModel",
          "state": {
            "_view_name": "StyleView",
            "_model_name": "DescriptionStyleModel",
            "description_width": "",
            "_view_module": "@jupyter-widgets/base",
            "_model_module_version": "1.5.0",
            "_view_count": null,
            "_view_module_version": "1.2.0",
            "_model_module": "@jupyter-widgets/controls"
          }
        },
        "03f3604956d349299e0c15a419054df8": {
          "model_module": "@jupyter-widgets/base",
          "model_name": "LayoutModel",
          "state": {
            "_view_name": "LayoutView",
            "grid_template_rows": null,
            "right": null,
            "justify_content": null,
            "_view_module": "@jupyter-widgets/base",
            "overflow": null,
            "_model_module_version": "1.2.0",
            "_view_count": null,
            "flex_flow": null,
            "width": null,
            "min_width": null,
            "border": null,
            "align_items": null,
            "bottom": null,
            "_model_module": "@jupyter-widgets/base",
            "top": null,
            "grid_column": null,
            "overflow_y": null,
            "overflow_x": null,
            "grid_auto_flow": null,
            "grid_area": null,
            "grid_template_columns": null,
            "flex": null,
            "_model_name": "LayoutModel",
            "justify_items": null,
            "grid_row": null,
            "max_height": null,
            "align_content": null,
            "visibility": null,
            "align_self": null,
            "height": null,
            "min_height": null,
            "padding": null,
            "grid_auto_rows": null,
            "grid_gap": null,
            "max_width": null,
            "order": null,
            "_view_module_version": "1.2.0",
            "grid_template_areas": null,
            "object_position": null,
            "object_fit": null,
            "grid_auto_columns": null,
            "margin": null,
            "display": null,
            "left": null
          }
        },
        "6c738b7afdb94c76b2f15fdae5e39abb": {
          "model_module": "@jupyter-widgets/controls",
          "model_name": "HBoxModel",
          "state": {
            "_view_name": "HBoxView",
            "_dom_classes": [],
            "_model_name": "HBoxModel",
            "_view_module": "@jupyter-widgets/controls",
            "_model_module_version": "1.5.0",
            "_view_count": null,
            "_view_module_version": "1.5.0",
            "box_style": "",
            "layout": "IPY_MODEL_28949eef1b6d42e0ab87200dcae37ca9",
            "_model_module": "@jupyter-widgets/controls",
            "children": [
              "IPY_MODEL_f4d81115dbf149c894b754b414a4137e",
              "IPY_MODEL_bf1bbd60ae8a4d29b5ceb5b34aa7ff0a"
            ]
          }
        },
        "28949eef1b6d42e0ab87200dcae37ca9": {
          "model_module": "@jupyter-widgets/base",
          "model_name": "LayoutModel",
          "state": {
            "_view_name": "LayoutView",
            "grid_template_rows": null,
            "right": null,
            "justify_content": null,
            "_view_module": "@jupyter-widgets/base",
            "overflow": null,
            "_model_module_version": "1.2.0",
            "_view_count": null,
            "flex_flow": null,
            "width": null,
            "min_width": null,
            "border": null,
            "align_items": null,
            "bottom": null,
            "_model_module": "@jupyter-widgets/base",
            "top": null,
            "grid_column": null,
            "overflow_y": null,
            "overflow_x": null,
            "grid_auto_flow": null,
            "grid_area": null,
            "grid_template_columns": null,
            "flex": null,
            "_model_name": "LayoutModel",
            "justify_items": null,
            "grid_row": null,
            "max_height": null,
            "align_content": null,
            "visibility": null,
            "align_self": null,
            "height": null,
            "min_height": null,
            "padding": null,
            "grid_auto_rows": null,
            "grid_gap": null,
            "max_width": null,
            "order": null,
            "_view_module_version": "1.2.0",
            "grid_template_areas": null,
            "object_position": null,
            "object_fit": null,
            "grid_auto_columns": null,
            "margin": null,
            "display": null,
            "left": null
          }
        },
        "f4d81115dbf149c894b754b414a4137e": {
          "model_module": "@jupyter-widgets/controls",
          "model_name": "FloatProgressModel",
          "state": {
            "_view_name": "ProgressView",
            "style": "IPY_MODEL_8de7ba4d9f1c4c90a413accbf675184e",
            "_dom_classes": [],
            "description": "  0%",
            "_model_name": "FloatProgressModel",
            "bar_style": "danger",
            "max": 1000,
            "_view_module": "@jupyter-widgets/controls",
            "_model_module_version": "1.5.0",
            "value": 4,
            "_view_count": null,
            "_view_module_version": "1.5.0",
            "orientation": "horizontal",
            "min": 0,
            "description_tooltip": null,
            "_model_module": "@jupyter-widgets/controls",
            "layout": "IPY_MODEL_5709e74852774e76b230045a89576efb"
          }
        },
        "bf1bbd60ae8a4d29b5ceb5b34aa7ff0a": {
          "model_module": "@jupyter-widgets/controls",
          "model_name": "HTMLModel",
          "state": {
            "_view_name": "HTMLView",
            "style": "IPY_MODEL_1a70d81da82f44849317128fee395137",
            "_dom_classes": [],
            "description": "",
            "_model_name": "HTMLModel",
            "placeholder": "​",
            "_view_module": "@jupyter-widgets/controls",
            "_model_module_version": "1.5.0",
            "value": " 4/1000 [01:08&lt;3:00:46, 10.89s/it]",
            "_view_count": null,
            "_view_module_version": "1.5.0",
            "description_tooltip": null,
            "_model_module": "@jupyter-widgets/controls",
            "layout": "IPY_MODEL_933b4d60926348edb6c62238ebd4e6d4"
          }
        },
        "8de7ba4d9f1c4c90a413accbf675184e": {
          "model_module": "@jupyter-widgets/controls",
          "model_name": "ProgressStyleModel",
          "state": {
            "_view_name": "StyleView",
            "_model_name": "ProgressStyleModel",
            "description_width": "initial",
            "_view_module": "@jupyter-widgets/base",
            "_model_module_version": "1.5.0",
            "_view_count": null,
            "_view_module_version": "1.2.0",
            "bar_color": null,
            "_model_module": "@jupyter-widgets/controls"
          }
        },
        "5709e74852774e76b230045a89576efb": {
          "model_module": "@jupyter-widgets/base",
          "model_name": "LayoutModel",
          "state": {
            "_view_name": "LayoutView",
            "grid_template_rows": null,
            "right": null,
            "justify_content": null,
            "_view_module": "@jupyter-widgets/base",
            "overflow": null,
            "_model_module_version": "1.2.0",
            "_view_count": null,
            "flex_flow": null,
            "width": null,
            "min_width": null,
            "border": null,
            "align_items": null,
            "bottom": null,
            "_model_module": "@jupyter-widgets/base",
            "top": null,
            "grid_column": null,
            "overflow_y": null,
            "overflow_x": null,
            "grid_auto_flow": null,
            "grid_area": null,
            "grid_template_columns": null,
            "flex": null,
            "_model_name": "LayoutModel",
            "justify_items": null,
            "grid_row": null,
            "max_height": null,
            "align_content": null,
            "visibility": null,
            "align_self": null,
            "height": null,
            "min_height": null,
            "padding": null,
            "grid_auto_rows": null,
            "grid_gap": null,
            "max_width": null,
            "order": null,
            "_view_module_version": "1.2.0",
            "grid_template_areas": null,
            "object_position": null,
            "object_fit": null,
            "grid_auto_columns": null,
            "margin": null,
            "display": null,
            "left": null
          }
        },
        "1a70d81da82f44849317128fee395137": {
          "model_module": "@jupyter-widgets/controls",
          "model_name": "DescriptionStyleModel",
          "state": {
            "_view_name": "StyleView",
            "_model_name": "DescriptionStyleModel",
            "description_width": "",
            "_view_module": "@jupyter-widgets/base",
            "_model_module_version": "1.5.0",
            "_view_count": null,
            "_view_module_version": "1.2.0",
            "_model_module": "@jupyter-widgets/controls"
          }
        },
        "933b4d60926348edb6c62238ebd4e6d4": {
          "model_module": "@jupyter-widgets/base",
          "model_name": "LayoutModel",
          "state": {
            "_view_name": "LayoutView",
            "grid_template_rows": null,
            "right": null,
            "justify_content": null,
            "_view_module": "@jupyter-widgets/base",
            "overflow": null,
            "_model_module_version": "1.2.0",
            "_view_count": null,
            "flex_flow": null,
            "width": null,
            "min_width": null,
            "border": null,
            "align_items": null,
            "bottom": null,
            "_model_module": "@jupyter-widgets/base",
            "top": null,
            "grid_column": null,
            "overflow_y": null,
            "overflow_x": null,
            "grid_auto_flow": null,
            "grid_area": null,
            "grid_template_columns": null,
            "flex": null,
            "_model_name": "LayoutModel",
            "justify_items": null,
            "grid_row": null,
            "max_height": null,
            "align_content": null,
            "visibility": null,
            "align_self": null,
            "height": null,
            "min_height": null,
            "padding": null,
            "grid_auto_rows": null,
            "grid_gap": null,
            "max_width": null,
            "order": null,
            "_view_module_version": "1.2.0",
            "grid_template_areas": null,
            "object_position": null,
            "object_fit": null,
            "grid_auto_columns": null,
            "margin": null,
            "display": null,
            "left": null
          }
        },
        "08cb521f47994ef8b8a891419ab665a1": {
          "model_module": "@jupyter-widgets/controls",
          "model_name": "HBoxModel",
          "state": {
            "_view_name": "HBoxView",
            "_dom_classes": [],
            "_model_name": "HBoxModel",
            "_view_module": "@jupyter-widgets/controls",
            "_model_module_version": "1.5.0",
            "_view_count": null,
            "_view_module_version": "1.5.0",
            "box_style": "",
            "layout": "IPY_MODEL_3ce7ccc144c94357bef28d44d6aebbf4",
            "_model_module": "@jupyter-widgets/controls",
            "children": [
              "IPY_MODEL_a509ee15319b426baeea29f1f4bbc086",
              "IPY_MODEL_77c5382a304c4497831b0a27e6624c14"
            ]
          }
        },
        "3ce7ccc144c94357bef28d44d6aebbf4": {
          "model_module": "@jupyter-widgets/base",
          "model_name": "LayoutModel",
          "state": {
            "_view_name": "LayoutView",
            "grid_template_rows": null,
            "right": null,
            "justify_content": null,
            "_view_module": "@jupyter-widgets/base",
            "overflow": null,
            "_model_module_version": "1.2.0",
            "_view_count": null,
            "flex_flow": null,
            "width": null,
            "min_width": null,
            "border": null,
            "align_items": null,
            "bottom": null,
            "_model_module": "@jupyter-widgets/base",
            "top": null,
            "grid_column": null,
            "overflow_y": null,
            "overflow_x": null,
            "grid_auto_flow": null,
            "grid_area": null,
            "grid_template_columns": null,
            "flex": null,
            "_model_name": "LayoutModel",
            "justify_items": null,
            "grid_row": null,
            "max_height": null,
            "align_content": null,
            "visibility": null,
            "align_self": null,
            "height": null,
            "min_height": null,
            "padding": null,
            "grid_auto_rows": null,
            "grid_gap": null,
            "max_width": null,
            "order": null,
            "_view_module_version": "1.2.0",
            "grid_template_areas": null,
            "object_position": null,
            "object_fit": null,
            "grid_auto_columns": null,
            "margin": null,
            "display": null,
            "left": null
          }
        },
        "a509ee15319b426baeea29f1f4bbc086": {
          "model_module": "@jupyter-widgets/controls",
          "model_name": "FloatProgressModel",
          "state": {
            "_view_name": "ProgressView",
            "style": "IPY_MODEL_f11fb8dcedcf4ebba2ebc027a69e3253",
            "_dom_classes": [],
            "description": "  0%",
            "_model_name": "FloatProgressModel",
            "bar_style": "danger",
            "max": 1000,
            "_view_module": "@jupyter-widgets/controls",
            "_model_module_version": "1.5.0",
            "value": 4,
            "_view_count": null,
            "_view_module_version": "1.5.0",
            "orientation": "horizontal",
            "min": 0,
            "description_tooltip": null,
            "_model_module": "@jupyter-widgets/controls",
            "layout": "IPY_MODEL_8f70f7934bdd4e5c821aede49888a5e4"
          }
        },
        "77c5382a304c4497831b0a27e6624c14": {
          "model_module": "@jupyter-widgets/controls",
          "model_name": "HTMLModel",
          "state": {
            "_view_name": "HTMLView",
            "style": "IPY_MODEL_77cf19f9785e44b5b045065a44b89391",
            "_dom_classes": [],
            "description": "",
            "_model_name": "HTMLModel",
            "placeholder": "​",
            "_view_module": "@jupyter-widgets/controls",
            "_model_module_version": "1.5.0",
            "value": " 4/1000 [01:08&lt;3:51:36, 13.95s/it]",
            "_view_count": null,
            "_view_module_version": "1.5.0",
            "description_tooltip": null,
            "_model_module": "@jupyter-widgets/controls",
            "layout": "IPY_MODEL_1df016b63139499f99c5c906966a7d89"
          }
        },
        "f11fb8dcedcf4ebba2ebc027a69e3253": {
          "model_module": "@jupyter-widgets/controls",
          "model_name": "ProgressStyleModel",
          "state": {
            "_view_name": "StyleView",
            "_model_name": "ProgressStyleModel",
            "description_width": "initial",
            "_view_module": "@jupyter-widgets/base",
            "_model_module_version": "1.5.0",
            "_view_count": null,
            "_view_module_version": "1.2.0",
            "bar_color": null,
            "_model_module": "@jupyter-widgets/controls"
          }
        },
        "8f70f7934bdd4e5c821aede49888a5e4": {
          "model_module": "@jupyter-widgets/base",
          "model_name": "LayoutModel",
          "state": {
            "_view_name": "LayoutView",
            "grid_template_rows": null,
            "right": null,
            "justify_content": null,
            "_view_module": "@jupyter-widgets/base",
            "overflow": null,
            "_model_module_version": "1.2.0",
            "_view_count": null,
            "flex_flow": null,
            "width": null,
            "min_width": null,
            "border": null,
            "align_items": null,
            "bottom": null,
            "_model_module": "@jupyter-widgets/base",
            "top": null,
            "grid_column": null,
            "overflow_y": null,
            "overflow_x": null,
            "grid_auto_flow": null,
            "grid_area": null,
            "grid_template_columns": null,
            "flex": null,
            "_model_name": "LayoutModel",
            "justify_items": null,
            "grid_row": null,
            "max_height": null,
            "align_content": null,
            "visibility": null,
            "align_self": null,
            "height": null,
            "min_height": null,
            "padding": null,
            "grid_auto_rows": null,
            "grid_gap": null,
            "max_width": null,
            "order": null,
            "_view_module_version": "1.2.0",
            "grid_template_areas": null,
            "object_position": null,
            "object_fit": null,
            "grid_auto_columns": null,
            "margin": null,
            "display": null,
            "left": null
          }
        },
        "77cf19f9785e44b5b045065a44b89391": {
          "model_module": "@jupyter-widgets/controls",
          "model_name": "DescriptionStyleModel",
          "state": {
            "_view_name": "StyleView",
            "_model_name": "DescriptionStyleModel",
            "description_width": "",
            "_view_module": "@jupyter-widgets/base",
            "_model_module_version": "1.5.0",
            "_view_count": null,
            "_view_module_version": "1.2.0",
            "_model_module": "@jupyter-widgets/controls"
          }
        },
        "1df016b63139499f99c5c906966a7d89": {
          "model_module": "@jupyter-widgets/base",
          "model_name": "LayoutModel",
          "state": {
            "_view_name": "LayoutView",
            "grid_template_rows": null,
            "right": null,
            "justify_content": null,
            "_view_module": "@jupyter-widgets/base",
            "overflow": null,
            "_model_module_version": "1.2.0",
            "_view_count": null,
            "flex_flow": null,
            "width": null,
            "min_width": null,
            "border": null,
            "align_items": null,
            "bottom": null,
            "_model_module": "@jupyter-widgets/base",
            "top": null,
            "grid_column": null,
            "overflow_y": null,
            "overflow_x": null,
            "grid_auto_flow": null,
            "grid_area": null,
            "grid_template_columns": null,
            "flex": null,
            "_model_name": "LayoutModel",
            "justify_items": null,
            "grid_row": null,
            "max_height": null,
            "align_content": null,
            "visibility": null,
            "align_self": null,
            "height": null,
            "min_height": null,
            "padding": null,
            "grid_auto_rows": null,
            "grid_gap": null,
            "max_width": null,
            "order": null,
            "_view_module_version": "1.2.0",
            "grid_template_areas": null,
            "object_position": null,
            "object_fit": null,
            "grid_auto_columns": null,
            "margin": null,
            "display": null,
            "left": null
          }
        },
        "89829d121627467587fd1e22e03a99bc": {
          "model_module": "@jupyter-widgets/controls",
          "model_name": "HBoxModel",
          "state": {
            "_view_name": "HBoxView",
            "_dom_classes": [],
            "_model_name": "HBoxModel",
            "_view_module": "@jupyter-widgets/controls",
            "_model_module_version": "1.5.0",
            "_view_count": null,
            "_view_module_version": "1.5.0",
            "box_style": "",
            "layout": "IPY_MODEL_b92d7ce7e6894a68b89767a73b2c359e",
            "_model_module": "@jupyter-widgets/controls",
            "children": [
              "IPY_MODEL_7b6a8ef3477245c988b97252806db0a0",
              "IPY_MODEL_050b16ed0e634a5a99463483b4d4f983"
            ]
          }
        },
        "b92d7ce7e6894a68b89767a73b2c359e": {
          "model_module": "@jupyter-widgets/base",
          "model_name": "LayoutModel",
          "state": {
            "_view_name": "LayoutView",
            "grid_template_rows": null,
            "right": null,
            "justify_content": null,
            "_view_module": "@jupyter-widgets/base",
            "overflow": null,
            "_model_module_version": "1.2.0",
            "_view_count": null,
            "flex_flow": null,
            "width": null,
            "min_width": null,
            "border": null,
            "align_items": null,
            "bottom": null,
            "_model_module": "@jupyter-widgets/base",
            "top": null,
            "grid_column": null,
            "overflow_y": null,
            "overflow_x": null,
            "grid_auto_flow": null,
            "grid_area": null,
            "grid_template_columns": null,
            "flex": null,
            "_model_name": "LayoutModel",
            "justify_items": null,
            "grid_row": null,
            "max_height": null,
            "align_content": null,
            "visibility": null,
            "align_self": null,
            "height": null,
            "min_height": null,
            "padding": null,
            "grid_auto_rows": null,
            "grid_gap": null,
            "max_width": null,
            "order": null,
            "_view_module_version": "1.2.0",
            "grid_template_areas": null,
            "object_position": null,
            "object_fit": null,
            "grid_auto_columns": null,
            "margin": null,
            "display": null,
            "left": null
          }
        },
        "7b6a8ef3477245c988b97252806db0a0": {
          "model_module": "@jupyter-widgets/controls",
          "model_name": "FloatProgressModel",
          "state": {
            "_view_name": "ProgressView",
            "style": "IPY_MODEL_ce123bfeccd1441f8df8dcc34b140048",
            "_dom_classes": [],
            "description": "  0%",
            "_model_name": "FloatProgressModel",
            "bar_style": "danger",
            "max": 1000,
            "_view_module": "@jupyter-widgets/controls",
            "_model_module_version": "1.5.0",
            "value": 2,
            "_view_count": null,
            "_view_module_version": "1.5.0",
            "orientation": "horizontal",
            "min": 0,
            "description_tooltip": null,
            "_model_module": "@jupyter-widgets/controls",
            "layout": "IPY_MODEL_9e0256a75225406a877794b00ededcc1"
          }
        },
        "050b16ed0e634a5a99463483b4d4f983": {
          "model_module": "@jupyter-widgets/controls",
          "model_name": "HTMLModel",
          "state": {
            "_view_name": "HTMLView",
            "style": "IPY_MODEL_dd406c1b603a4d0d868c36e05e3c74f1",
            "_dom_classes": [],
            "description": "",
            "_model_name": "HTMLModel",
            "placeholder": "​",
            "_view_module": "@jupyter-widgets/controls",
            "_model_module_version": "1.5.0",
            "value": " 2/1000 [01:08&lt;5:49:03, 20.99s/it]",
            "_view_count": null,
            "_view_module_version": "1.5.0",
            "description_tooltip": null,
            "_model_module": "@jupyter-widgets/controls",
            "layout": "IPY_MODEL_847b3772258845efbbe13210a32bdfb2"
          }
        },
        "ce123bfeccd1441f8df8dcc34b140048": {
          "model_module": "@jupyter-widgets/controls",
          "model_name": "ProgressStyleModel",
          "state": {
            "_view_name": "StyleView",
            "_model_name": "ProgressStyleModel",
            "description_width": "initial",
            "_view_module": "@jupyter-widgets/base",
            "_model_module_version": "1.5.0",
            "_view_count": null,
            "_view_module_version": "1.2.0",
            "bar_color": null,
            "_model_module": "@jupyter-widgets/controls"
          }
        },
        "9e0256a75225406a877794b00ededcc1": {
          "model_module": "@jupyter-widgets/base",
          "model_name": "LayoutModel",
          "state": {
            "_view_name": "LayoutView",
            "grid_template_rows": null,
            "right": null,
            "justify_content": null,
            "_view_module": "@jupyter-widgets/base",
            "overflow": null,
            "_model_module_version": "1.2.0",
            "_view_count": null,
            "flex_flow": null,
            "width": null,
            "min_width": null,
            "border": null,
            "align_items": null,
            "bottom": null,
            "_model_module": "@jupyter-widgets/base",
            "top": null,
            "grid_column": null,
            "overflow_y": null,
            "overflow_x": null,
            "grid_auto_flow": null,
            "grid_area": null,
            "grid_template_columns": null,
            "flex": null,
            "_model_name": "LayoutModel",
            "justify_items": null,
            "grid_row": null,
            "max_height": null,
            "align_content": null,
            "visibility": null,
            "align_self": null,
            "height": null,
            "min_height": null,
            "padding": null,
            "grid_auto_rows": null,
            "grid_gap": null,
            "max_width": null,
            "order": null,
            "_view_module_version": "1.2.0",
            "grid_template_areas": null,
            "object_position": null,
            "object_fit": null,
            "grid_auto_columns": null,
            "margin": null,
            "display": null,
            "left": null
          }
        },
        "dd406c1b603a4d0d868c36e05e3c74f1": {
          "model_module": "@jupyter-widgets/controls",
          "model_name": "DescriptionStyleModel",
          "state": {
            "_view_name": "StyleView",
            "_model_name": "DescriptionStyleModel",
            "description_width": "",
            "_view_module": "@jupyter-widgets/base",
            "_model_module_version": "1.5.0",
            "_view_count": null,
            "_view_module_version": "1.2.0",
            "_model_module": "@jupyter-widgets/controls"
          }
        },
        "847b3772258845efbbe13210a32bdfb2": {
          "model_module": "@jupyter-widgets/base",
          "model_name": "LayoutModel",
          "state": {
            "_view_name": "LayoutView",
            "grid_template_rows": null,
            "right": null,
            "justify_content": null,
            "_view_module": "@jupyter-widgets/base",
            "overflow": null,
            "_model_module_version": "1.2.0",
            "_view_count": null,
            "flex_flow": null,
            "width": null,
            "min_width": null,
            "border": null,
            "align_items": null,
            "bottom": null,
            "_model_module": "@jupyter-widgets/base",
            "top": null,
            "grid_column": null,
            "overflow_y": null,
            "overflow_x": null,
            "grid_auto_flow": null,
            "grid_area": null,
            "grid_template_columns": null,
            "flex": null,
            "_model_name": "LayoutModel",
            "justify_items": null,
            "grid_row": null,
            "max_height": null,
            "align_content": null,
            "visibility": null,
            "align_self": null,
            "height": null,
            "min_height": null,
            "padding": null,
            "grid_auto_rows": null,
            "grid_gap": null,
            "max_width": null,
            "order": null,
            "_view_module_version": "1.2.0",
            "grid_template_areas": null,
            "object_position": null,
            "object_fit": null,
            "grid_auto_columns": null,
            "margin": null,
            "display": null,
            "left": null
          }
        }
      }
    }
  },
  "cells": [
    {
      "cell_type": "markdown",
      "metadata": {
        "id": "view-in-github",
        "colab_type": "text"
      },
      "source": [
        "<a href=\"https://colab.research.google.com/github/YuxingW/machine_learning/blob/main/hw5_hpo_autogluon/hpo_autogluon_regression.ipynb\" target=\"_parent\"><img src=\"https://colab.research.google.com/assets/colab-badge.svg\" alt=\"Open In Colab\"/></a>"
      ]
    },
    {
      "cell_type": "markdown",
      "metadata": {
        "id": "k2FtSFBn0W6c"
      },
      "source": [
        "### What is the story\n",
        "\n",
        "This note book is to predict the instant power consumption based on smart home sensor data and latent variables <br />\n",
        "Dataset<br />\n",
        "&nbsp;  &nbsp; &nbsp; Home C sensor data set in 2015<br />\n",
        "\n",
        "Objective fuction<br />\n",
        "Predict instant power consumption based on sensor data solar energy and latent variables -- weather info<br />\n",
        "We will optimise hyper parameters for RandomForestRegressor and MLPRegressor, also will use autogluon to complete the prediction and compare the results.\n",
        "\n"
      ]
    },
    {
      "cell_type": "code",
      "metadata": {
        "colab": {
          "base_uri": "https://localhost:8080/"
        },
        "id": "s4OlLYHc-T6A",
        "outputId": "05d2abf5-4224-40a7-ed04-0443a373374f"
      },
      "source": [
        "# Uninstall mkl for faster neural-network training time\n",
        "!pip uninstall -qy mkl\n",
        "# Upgrade pip to ensure the latest package versions are available\n",
        "!pip install -qU pip\n",
        "# Upgrade setuptools to be compatible with namespace packages\n",
        "!pip install -qU setuptools\n",
        "!pip install -qU \"mxnet<2.0.0\"\n",
        "# Install pre-release, frozen to a particual pre-release for stability\n",
        "!pip install -q --pre \"autogluon==0.0.16b20201214\"\n",
        "!pip install -qU ipykernel"
      ],
      "execution_count": 1,
      "outputs": [
        {
          "output_type": "stream",
          "text": [
            "\u001b[33mWARNING: Skipping mkl as it is not installed.\u001b[0m\n"
          ],
          "name": "stdout"
        }
      ]
    },
    {
      "cell_type": "code",
      "metadata": {
        "id": "GCd5PqpMHKFb"
      },
      "source": [
        "from autogluon.tabular import TabularPrediction as task\n",
        "import requests\n",
        "import numpy as np\n",
        "import pandas as pd\n",
        "import tensorflow as tf\n",
        "import seaborn as sns\n",
        "import matplotlib.pyplot as plt\n",
        "from sklearn.tree import DecisionTreeClassifier\n",
        "from sklearn.metrics import silhouette_samples, silhouette_score\n",
        "from sklearn.model_selection import train_test_split\n",
        "from sklearn.preprocessing import RobustScaler\n",
        "from io import BytesIO\n"
      ],
      "execution_count": 2,
      "outputs": []
    },
    {
      "cell_type": "markdown",
      "metadata": {
        "id": "ineTmZcEHTg_"
      },
      "source": [
        "Load the dataset which has aggregated the sensor power consumption data combined with weather data of Home C."
      ]
    },
    {
      "cell_type": "code",
      "metadata": {
        "colab": {
          "base_uri": "https://localhost:8080/",
          "height": 370
        },
        "id": "WGlLAUwcHNgf",
        "outputId": "f8f16dc8-ea66-4d98-d71d-2bb1221cde05"
      },
      "source": [
        "train_url = 'https://docs.google.com/spreadsheets/d/e/2PACX-1vTAH13xa_KY8QeIy48jCgbAY7OkFQCQYfHh-7Nt-TgXKTBeH8buWJZ6Izm91LxIXCo9W9oebwmbgbeF/pub?output=csv#'\n",
        "r = requests.get(train_url)\n",
        "data = r.content\n",
        "stats = pd.read_csv(BytesIO(data))\n",
        "stats.head()"
      ],
      "execution_count": 3,
      "outputs": [
        {
          "output_type": "stream",
          "text": [
            "/usr/local/lib/python3.7/dist-packages/IPython/core/interactiveshell.py:2718: DtypeWarning: Columns (27) have mixed types.Specify dtype option on import or set low_memory=False.\n",
            "  interactivity=interactivity, compiler=compiler, result=result)\n"
          ],
          "name": "stderr"
        },
        {
          "output_type": "execute_result",
          "data": {
            "text/html": [
              "<div>\n",
              "<style scoped>\n",
              "    .dataframe tbody tr th:only-of-type {\n",
              "        vertical-align: middle;\n",
              "    }\n",
              "\n",
              "    .dataframe tbody tr th {\n",
              "        vertical-align: top;\n",
              "    }\n",
              "\n",
              "    .dataframe thead th {\n",
              "        text-align: right;\n",
              "    }\n",
              "</style>\n",
              "<table border=\"1\" class=\"dataframe\">\n",
              "  <thead>\n",
              "    <tr style=\"text-align: right;\">\n",
              "      <th></th>\n",
              "      <th>time</th>\n",
              "      <th>use [kW]</th>\n",
              "      <th>gen [kW]</th>\n",
              "      <th>House overall [kW]</th>\n",
              "      <th>Dishwasher [kW]</th>\n",
              "      <th>Furnace 1 [kW]</th>\n",
              "      <th>Furnace 2 [kW]</th>\n",
              "      <th>Home office [kW]</th>\n",
              "      <th>Fridge [kW]</th>\n",
              "      <th>Wine cellar [kW]</th>\n",
              "      <th>Garage door [kW]</th>\n",
              "      <th>Kitchen 12 [kW]</th>\n",
              "      <th>Kitchen 14 [kW]</th>\n",
              "      <th>Kitchen 38 [kW]</th>\n",
              "      <th>Barn [kW]</th>\n",
              "      <th>Well [kW]</th>\n",
              "      <th>Microwave [kW]</th>\n",
              "      <th>Living room [kW]</th>\n",
              "      <th>Solar [kW]</th>\n",
              "      <th>temperature</th>\n",
              "      <th>icon</th>\n",
              "      <th>humidity</th>\n",
              "      <th>visibility</th>\n",
              "      <th>summary</th>\n",
              "      <th>apparentTemperature</th>\n",
              "      <th>pressure</th>\n",
              "      <th>windSpeed</th>\n",
              "      <th>cloudCover</th>\n",
              "      <th>windBearing</th>\n",
              "      <th>precipIntensity</th>\n",
              "      <th>dewPoint</th>\n",
              "      <th>precipProbability</th>\n",
              "    </tr>\n",
              "  </thead>\n",
              "  <tbody>\n",
              "    <tr>\n",
              "      <th>0</th>\n",
              "      <td>1451624400</td>\n",
              "      <td>0.932833</td>\n",
              "      <td>0.003483</td>\n",
              "      <td>0.932833</td>\n",
              "      <td>0.000033</td>\n",
              "      <td>0.020700</td>\n",
              "      <td>0.061917</td>\n",
              "      <td>0.442633</td>\n",
              "      <td>0.124150</td>\n",
              "      <td>0.006983</td>\n",
              "      <td>0.013083</td>\n",
              "      <td>0.000417</td>\n",
              "      <td>0.000150</td>\n",
              "      <td>0.000000</td>\n",
              "      <td>0.031350</td>\n",
              "      <td>0.001017</td>\n",
              "      <td>0.004067</td>\n",
              "      <td>0.001517</td>\n",
              "      <td>0.003483</td>\n",
              "      <td>36.14</td>\n",
              "      <td>clear-night</td>\n",
              "      <td>0.62</td>\n",
              "      <td>10.0</td>\n",
              "      <td>Clear</td>\n",
              "      <td>29.26</td>\n",
              "      <td>1016.91</td>\n",
              "      <td>9.18</td>\n",
              "      <td>cloudCover</td>\n",
              "      <td>282</td>\n",
              "      <td>0.0</td>\n",
              "      <td>24.4</td>\n",
              "      <td>0.0</td>\n",
              "    </tr>\n",
              "    <tr>\n",
              "      <th>1</th>\n",
              "      <td>1451624401</td>\n",
              "      <td>0.934333</td>\n",
              "      <td>0.003467</td>\n",
              "      <td>0.934333</td>\n",
              "      <td>0.000000</td>\n",
              "      <td>0.020717</td>\n",
              "      <td>0.063817</td>\n",
              "      <td>0.444067</td>\n",
              "      <td>0.124000</td>\n",
              "      <td>0.006983</td>\n",
              "      <td>0.013117</td>\n",
              "      <td>0.000417</td>\n",
              "      <td>0.000150</td>\n",
              "      <td>0.000000</td>\n",
              "      <td>0.031500</td>\n",
              "      <td>0.001017</td>\n",
              "      <td>0.004067</td>\n",
              "      <td>0.001650</td>\n",
              "      <td>0.003467</td>\n",
              "      <td>36.14</td>\n",
              "      <td>clear-night</td>\n",
              "      <td>0.62</td>\n",
              "      <td>10.0</td>\n",
              "      <td>Clear</td>\n",
              "      <td>29.26</td>\n",
              "      <td>1016.91</td>\n",
              "      <td>9.18</td>\n",
              "      <td>cloudCover</td>\n",
              "      <td>282</td>\n",
              "      <td>0.0</td>\n",
              "      <td>24.4</td>\n",
              "      <td>0.0</td>\n",
              "    </tr>\n",
              "    <tr>\n",
              "      <th>2</th>\n",
              "      <td>1451624402</td>\n",
              "      <td>0.931817</td>\n",
              "      <td>0.003467</td>\n",
              "      <td>0.931817</td>\n",
              "      <td>0.000017</td>\n",
              "      <td>0.020700</td>\n",
              "      <td>0.062317</td>\n",
              "      <td>0.446067</td>\n",
              "      <td>0.123533</td>\n",
              "      <td>0.006983</td>\n",
              "      <td>0.013083</td>\n",
              "      <td>0.000433</td>\n",
              "      <td>0.000167</td>\n",
              "      <td>0.000017</td>\n",
              "      <td>0.031517</td>\n",
              "      <td>0.001000</td>\n",
              "      <td>0.004067</td>\n",
              "      <td>0.001650</td>\n",
              "      <td>0.003467</td>\n",
              "      <td>36.14</td>\n",
              "      <td>clear-night</td>\n",
              "      <td>0.62</td>\n",
              "      <td>10.0</td>\n",
              "      <td>Clear</td>\n",
              "      <td>29.26</td>\n",
              "      <td>1016.91</td>\n",
              "      <td>9.18</td>\n",
              "      <td>cloudCover</td>\n",
              "      <td>282</td>\n",
              "      <td>0.0</td>\n",
              "      <td>24.4</td>\n",
              "      <td>0.0</td>\n",
              "    </tr>\n",
              "    <tr>\n",
              "      <th>3</th>\n",
              "      <td>1451624403</td>\n",
              "      <td>1.022050</td>\n",
              "      <td>0.003483</td>\n",
              "      <td>1.022050</td>\n",
              "      <td>0.000017</td>\n",
              "      <td>0.106900</td>\n",
              "      <td>0.068517</td>\n",
              "      <td>0.446583</td>\n",
              "      <td>0.123133</td>\n",
              "      <td>0.006983</td>\n",
              "      <td>0.013000</td>\n",
              "      <td>0.000433</td>\n",
              "      <td>0.000217</td>\n",
              "      <td>0.000000</td>\n",
              "      <td>0.031500</td>\n",
              "      <td>0.001017</td>\n",
              "      <td>0.004067</td>\n",
              "      <td>0.001617</td>\n",
              "      <td>0.003483</td>\n",
              "      <td>36.14</td>\n",
              "      <td>clear-night</td>\n",
              "      <td>0.62</td>\n",
              "      <td>10.0</td>\n",
              "      <td>Clear</td>\n",
              "      <td>29.26</td>\n",
              "      <td>1016.91</td>\n",
              "      <td>9.18</td>\n",
              "      <td>cloudCover</td>\n",
              "      <td>282</td>\n",
              "      <td>0.0</td>\n",
              "      <td>24.4</td>\n",
              "      <td>0.0</td>\n",
              "    </tr>\n",
              "    <tr>\n",
              "      <th>4</th>\n",
              "      <td>1451624404</td>\n",
              "      <td>1.139400</td>\n",
              "      <td>0.003467</td>\n",
              "      <td>1.139400</td>\n",
              "      <td>0.000133</td>\n",
              "      <td>0.236933</td>\n",
              "      <td>0.063983</td>\n",
              "      <td>0.446533</td>\n",
              "      <td>0.122850</td>\n",
              "      <td>0.006850</td>\n",
              "      <td>0.012783</td>\n",
              "      <td>0.000450</td>\n",
              "      <td>0.000333</td>\n",
              "      <td>0.000000</td>\n",
              "      <td>0.031500</td>\n",
              "      <td>0.001017</td>\n",
              "      <td>0.004067</td>\n",
              "      <td>0.001583</td>\n",
              "      <td>0.003467</td>\n",
              "      <td>36.14</td>\n",
              "      <td>clear-night</td>\n",
              "      <td>0.62</td>\n",
              "      <td>10.0</td>\n",
              "      <td>Clear</td>\n",
              "      <td>29.26</td>\n",
              "      <td>1016.91</td>\n",
              "      <td>9.18</td>\n",
              "      <td>cloudCover</td>\n",
              "      <td>282</td>\n",
              "      <td>0.0</td>\n",
              "      <td>24.4</td>\n",
              "      <td>0.0</td>\n",
              "    </tr>\n",
              "  </tbody>\n",
              "</table>\n",
              "</div>"
            ],
            "text/plain": [
              "         time  use [kW]  gen [kW]  ...  precipIntensity  dewPoint  precipProbability\n",
              "0  1451624400  0.932833  0.003483  ...              0.0      24.4                0.0\n",
              "1  1451624401  0.934333  0.003467  ...              0.0      24.4                0.0\n",
              "2  1451624402  0.931817  0.003467  ...              0.0      24.4                0.0\n",
              "3  1451624403  1.022050  0.003483  ...              0.0      24.4                0.0\n",
              "4  1451624404  1.139400  0.003467  ...              0.0      24.4                0.0\n",
              "\n",
              "[5 rows x 32 columns]"
            ]
          },
          "metadata": {
            "tags": []
          },
          "execution_count": 3
        }
      ]
    },
    {
      "cell_type": "markdown",
      "metadata": {
        "id": "PAUcycN9HuWY"
      },
      "source": [
        "### Data preprosessing\n",
        "Remove unit(kW) from dataset column names."
      ]
    },
    {
      "cell_type": "code",
      "metadata": {
        "id": "eK9G3J9KHufk"
      },
      "source": [
        "stats.columns = [i.replace(' [kW]', '') for i in stats.columns]"
      ],
      "execution_count": 4,
      "outputs": []
    },
    {
      "cell_type": "markdown",
      "metadata": {
        "id": "aEbyY4uFNSQP"
      },
      "source": [
        "'cloudCover' value was found in the column, let's replace these invalid values with the next valid value."
      ]
    },
    {
      "cell_type": "code",
      "metadata": {
        "colab": {
          "base_uri": "https://localhost:8080/",
          "height": 317
        },
        "id": "vDRUcqSzNSaT",
        "outputId": "1a57f34a-465e-440f-f52e-70a3843a337b"
      },
      "source": [
        "stats['cloudCover'].replace(['cloudCover'], method='bfill', inplace=True)\n",
        "stats['cloudCover'] = stats['cloudCover'].astype('float')\n",
        "stats.head()"
      ],
      "execution_count": 5,
      "outputs": [
        {
          "output_type": "execute_result",
          "data": {
            "text/html": [
              "<div>\n",
              "<style scoped>\n",
              "    .dataframe tbody tr th:only-of-type {\n",
              "        vertical-align: middle;\n",
              "    }\n",
              "\n",
              "    .dataframe tbody tr th {\n",
              "        vertical-align: top;\n",
              "    }\n",
              "\n",
              "    .dataframe thead th {\n",
              "        text-align: right;\n",
              "    }\n",
              "</style>\n",
              "<table border=\"1\" class=\"dataframe\">\n",
              "  <thead>\n",
              "    <tr style=\"text-align: right;\">\n",
              "      <th></th>\n",
              "      <th>time</th>\n",
              "      <th>use</th>\n",
              "      <th>gen</th>\n",
              "      <th>House overall</th>\n",
              "      <th>Dishwasher</th>\n",
              "      <th>Furnace 1</th>\n",
              "      <th>Furnace 2</th>\n",
              "      <th>Home office</th>\n",
              "      <th>Fridge</th>\n",
              "      <th>Wine cellar</th>\n",
              "      <th>Garage door</th>\n",
              "      <th>Kitchen 12</th>\n",
              "      <th>Kitchen 14</th>\n",
              "      <th>Kitchen 38</th>\n",
              "      <th>Barn</th>\n",
              "      <th>Well</th>\n",
              "      <th>Microwave</th>\n",
              "      <th>Living room</th>\n",
              "      <th>Solar</th>\n",
              "      <th>temperature</th>\n",
              "      <th>icon</th>\n",
              "      <th>humidity</th>\n",
              "      <th>visibility</th>\n",
              "      <th>summary</th>\n",
              "      <th>apparentTemperature</th>\n",
              "      <th>pressure</th>\n",
              "      <th>windSpeed</th>\n",
              "      <th>cloudCover</th>\n",
              "      <th>windBearing</th>\n",
              "      <th>precipIntensity</th>\n",
              "      <th>dewPoint</th>\n",
              "      <th>precipProbability</th>\n",
              "    </tr>\n",
              "  </thead>\n",
              "  <tbody>\n",
              "    <tr>\n",
              "      <th>0</th>\n",
              "      <td>1451624400</td>\n",
              "      <td>0.932833</td>\n",
              "      <td>0.003483</td>\n",
              "      <td>0.932833</td>\n",
              "      <td>0.000033</td>\n",
              "      <td>0.020700</td>\n",
              "      <td>0.061917</td>\n",
              "      <td>0.442633</td>\n",
              "      <td>0.124150</td>\n",
              "      <td>0.006983</td>\n",
              "      <td>0.013083</td>\n",
              "      <td>0.000417</td>\n",
              "      <td>0.000150</td>\n",
              "      <td>0.000000</td>\n",
              "      <td>0.031350</td>\n",
              "      <td>0.001017</td>\n",
              "      <td>0.004067</td>\n",
              "      <td>0.001517</td>\n",
              "      <td>0.003483</td>\n",
              "      <td>36.14</td>\n",
              "      <td>clear-night</td>\n",
              "      <td>0.62</td>\n",
              "      <td>10.0</td>\n",
              "      <td>Clear</td>\n",
              "      <td>29.26</td>\n",
              "      <td>1016.91</td>\n",
              "      <td>9.18</td>\n",
              "      <td>0.75</td>\n",
              "      <td>282</td>\n",
              "      <td>0.0</td>\n",
              "      <td>24.4</td>\n",
              "      <td>0.0</td>\n",
              "    </tr>\n",
              "    <tr>\n",
              "      <th>1</th>\n",
              "      <td>1451624401</td>\n",
              "      <td>0.934333</td>\n",
              "      <td>0.003467</td>\n",
              "      <td>0.934333</td>\n",
              "      <td>0.000000</td>\n",
              "      <td>0.020717</td>\n",
              "      <td>0.063817</td>\n",
              "      <td>0.444067</td>\n",
              "      <td>0.124000</td>\n",
              "      <td>0.006983</td>\n",
              "      <td>0.013117</td>\n",
              "      <td>0.000417</td>\n",
              "      <td>0.000150</td>\n",
              "      <td>0.000000</td>\n",
              "      <td>0.031500</td>\n",
              "      <td>0.001017</td>\n",
              "      <td>0.004067</td>\n",
              "      <td>0.001650</td>\n",
              "      <td>0.003467</td>\n",
              "      <td>36.14</td>\n",
              "      <td>clear-night</td>\n",
              "      <td>0.62</td>\n",
              "      <td>10.0</td>\n",
              "      <td>Clear</td>\n",
              "      <td>29.26</td>\n",
              "      <td>1016.91</td>\n",
              "      <td>9.18</td>\n",
              "      <td>0.75</td>\n",
              "      <td>282</td>\n",
              "      <td>0.0</td>\n",
              "      <td>24.4</td>\n",
              "      <td>0.0</td>\n",
              "    </tr>\n",
              "    <tr>\n",
              "      <th>2</th>\n",
              "      <td>1451624402</td>\n",
              "      <td>0.931817</td>\n",
              "      <td>0.003467</td>\n",
              "      <td>0.931817</td>\n",
              "      <td>0.000017</td>\n",
              "      <td>0.020700</td>\n",
              "      <td>0.062317</td>\n",
              "      <td>0.446067</td>\n",
              "      <td>0.123533</td>\n",
              "      <td>0.006983</td>\n",
              "      <td>0.013083</td>\n",
              "      <td>0.000433</td>\n",
              "      <td>0.000167</td>\n",
              "      <td>0.000017</td>\n",
              "      <td>0.031517</td>\n",
              "      <td>0.001000</td>\n",
              "      <td>0.004067</td>\n",
              "      <td>0.001650</td>\n",
              "      <td>0.003467</td>\n",
              "      <td>36.14</td>\n",
              "      <td>clear-night</td>\n",
              "      <td>0.62</td>\n",
              "      <td>10.0</td>\n",
              "      <td>Clear</td>\n",
              "      <td>29.26</td>\n",
              "      <td>1016.91</td>\n",
              "      <td>9.18</td>\n",
              "      <td>0.75</td>\n",
              "      <td>282</td>\n",
              "      <td>0.0</td>\n",
              "      <td>24.4</td>\n",
              "      <td>0.0</td>\n",
              "    </tr>\n",
              "    <tr>\n",
              "      <th>3</th>\n",
              "      <td>1451624403</td>\n",
              "      <td>1.022050</td>\n",
              "      <td>0.003483</td>\n",
              "      <td>1.022050</td>\n",
              "      <td>0.000017</td>\n",
              "      <td>0.106900</td>\n",
              "      <td>0.068517</td>\n",
              "      <td>0.446583</td>\n",
              "      <td>0.123133</td>\n",
              "      <td>0.006983</td>\n",
              "      <td>0.013000</td>\n",
              "      <td>0.000433</td>\n",
              "      <td>0.000217</td>\n",
              "      <td>0.000000</td>\n",
              "      <td>0.031500</td>\n",
              "      <td>0.001017</td>\n",
              "      <td>0.004067</td>\n",
              "      <td>0.001617</td>\n",
              "      <td>0.003483</td>\n",
              "      <td>36.14</td>\n",
              "      <td>clear-night</td>\n",
              "      <td>0.62</td>\n",
              "      <td>10.0</td>\n",
              "      <td>Clear</td>\n",
              "      <td>29.26</td>\n",
              "      <td>1016.91</td>\n",
              "      <td>9.18</td>\n",
              "      <td>0.75</td>\n",
              "      <td>282</td>\n",
              "      <td>0.0</td>\n",
              "      <td>24.4</td>\n",
              "      <td>0.0</td>\n",
              "    </tr>\n",
              "    <tr>\n",
              "      <th>4</th>\n",
              "      <td>1451624404</td>\n",
              "      <td>1.139400</td>\n",
              "      <td>0.003467</td>\n",
              "      <td>1.139400</td>\n",
              "      <td>0.000133</td>\n",
              "      <td>0.236933</td>\n",
              "      <td>0.063983</td>\n",
              "      <td>0.446533</td>\n",
              "      <td>0.122850</td>\n",
              "      <td>0.006850</td>\n",
              "      <td>0.012783</td>\n",
              "      <td>0.000450</td>\n",
              "      <td>0.000333</td>\n",
              "      <td>0.000000</td>\n",
              "      <td>0.031500</td>\n",
              "      <td>0.001017</td>\n",
              "      <td>0.004067</td>\n",
              "      <td>0.001583</td>\n",
              "      <td>0.003467</td>\n",
              "      <td>36.14</td>\n",
              "      <td>clear-night</td>\n",
              "      <td>0.62</td>\n",
              "      <td>10.0</td>\n",
              "      <td>Clear</td>\n",
              "      <td>29.26</td>\n",
              "      <td>1016.91</td>\n",
              "      <td>9.18</td>\n",
              "      <td>0.75</td>\n",
              "      <td>282</td>\n",
              "      <td>0.0</td>\n",
              "      <td>24.4</td>\n",
              "      <td>0.0</td>\n",
              "    </tr>\n",
              "  </tbody>\n",
              "</table>\n",
              "</div>"
            ],
            "text/plain": [
              "         time       use       gen  ...  precipIntensity  dewPoint  precipProbability\n",
              "0  1451624400  0.932833  0.003483  ...              0.0      24.4                0.0\n",
              "1  1451624401  0.934333  0.003467  ...              0.0      24.4                0.0\n",
              "2  1451624402  0.931817  0.003467  ...              0.0      24.4                0.0\n",
              "3  1451624403  1.022050  0.003483  ...              0.0      24.4                0.0\n",
              "4  1451624404  1.139400  0.003467  ...              0.0      24.4                0.0\n",
              "\n",
              "[5 rows x 32 columns]"
            ]
          },
          "metadata": {
            "tags": []
          },
          "execution_count": 5
        }
      ]
    },
    {
      "cell_type": "markdown",
      "metadata": {
        "id": "CjoSu95rzaCi"
      },
      "source": [
        "Combine 'Furnace 1' and 'Furnace 2' to 'Furnace', combine 'Kitchen 12' 'Kitchen 14' and 'Kitchen 38' to 'Kitchen'."
      ]
    },
    {
      "cell_type": "code",
      "metadata": {
        "id": "KMbHNbKIzaMc"
      },
      "source": [
        "stats['Furnace'] = stats[['Furnace 1','Furnace 2']].sum(axis=1)\n",
        "stats['Kitchen'] = stats[['Kitchen 12','Kitchen 14','Kitchen 38']].sum(axis=1)"
      ],
      "execution_count": 6,
      "outputs": []
    },
    {
      "cell_type": "markdown",
      "metadata": {
        "id": "FQrwgXpFwcUG"
      },
      "source": [
        "See feature correlations, Solar data is negatively correlated to power consumption, that is expected."
      ]
    },
    {
      "cell_type": "code",
      "metadata": {
        "colab": {
          "base_uri": "https://localhost:8080/"
        },
        "id": "VrwXUHhVwckj",
        "outputId": "473d1cbb-707f-4f25-b8cd-68d56a189617"
      },
      "source": [
        "  feature = 'use'\n",
        "  df_corr = stats.corr()[feature]\n",
        "  golden_features_list = df_corr[abs(df_corr) > 0.1].sort_values(ascending=True)\n",
        "  print(\"There is {} correlated values with feature {}:\\n{}\"\n",
        "        .format(len(golden_features_list), feature, golden_features_list))"
      ],
      "execution_count": 7,
      "outputs": [
        {
          "output_type": "stream",
          "text": [
            "There is 21 correlated values with feature use:\n",
            "gen                   -0.309440\n",
            "Solar                 -0.309440\n",
            "time                  -0.159069\n",
            "apparentTemperature   -0.154378\n",
            "temperature           -0.152890\n",
            "dewPoint              -0.120681\n",
            "Kitchen 38             0.107878\n",
            "Kitchen 14             0.154937\n",
            "Home office            0.155206\n",
            "Microwave              0.158953\n",
            "Kitchen                0.170290\n",
            "Fridge                 0.188517\n",
            "Barn                   0.239522\n",
            "Well                   0.257693\n",
            "Dishwasher             0.302407\n",
            "Furnace 1              0.329671\n",
            "Living room            0.342365\n",
            "Furnace 2              0.483417\n",
            "Furnace                0.543849\n",
            "House overall          1.000000\n",
            "use                    1.000000\n",
            "Name: use, dtype: float64\n"
          ],
          "name": "stdout"
        }
      ]
    },
    {
      "cell_type": "markdown",
      "metadata": {
        "id": "TtAuYHEGvnQl"
      },
      "source": [
        "Observe duplicate feature 'use' and 'House overall', 'gen' and 'Solar', remove one of them. <br />\n",
        "Keep only features which absolute correlation with 'use' > 0.1, not involving duplicate features."
      ]
    },
    {
      "cell_type": "code",
      "metadata": {
        "colab": {
          "base_uri": "https://localhost:8080/",
          "height": 197
        },
        "id": "hAJW4sPZvnaf",
        "outputId": "918466dc-abcc-49ac-91a1-0e176b763e93"
      },
      "source": [
        "feature_list = ['gen' , 'apparentTemperature', 'temperature', 'dewPoint', 'Kitchen', 'Furnace', \\\n",
        "                'Home office', 'Microwave', 'Fridge', 'Barn', 'Well', 'Dishwasher', 'Living room', 'use']\n",
        "df = stats[feature_list]\n",
        "df.head()"
      ],
      "execution_count": 8,
      "outputs": [
        {
          "output_type": "execute_result",
          "data": {
            "text/html": [
              "<div>\n",
              "<style scoped>\n",
              "    .dataframe tbody tr th:only-of-type {\n",
              "        vertical-align: middle;\n",
              "    }\n",
              "\n",
              "    .dataframe tbody tr th {\n",
              "        vertical-align: top;\n",
              "    }\n",
              "\n",
              "    .dataframe thead th {\n",
              "        text-align: right;\n",
              "    }\n",
              "</style>\n",
              "<table border=\"1\" class=\"dataframe\">\n",
              "  <thead>\n",
              "    <tr style=\"text-align: right;\">\n",
              "      <th></th>\n",
              "      <th>gen</th>\n",
              "      <th>apparentTemperature</th>\n",
              "      <th>temperature</th>\n",
              "      <th>dewPoint</th>\n",
              "      <th>Kitchen</th>\n",
              "      <th>Furnace</th>\n",
              "      <th>Home office</th>\n",
              "      <th>Microwave</th>\n",
              "      <th>Fridge</th>\n",
              "      <th>Barn</th>\n",
              "      <th>Well</th>\n",
              "      <th>Dishwasher</th>\n",
              "      <th>Living room</th>\n",
              "      <th>use</th>\n",
              "    </tr>\n",
              "  </thead>\n",
              "  <tbody>\n",
              "    <tr>\n",
              "      <th>0</th>\n",
              "      <td>0.003483</td>\n",
              "      <td>29.26</td>\n",
              "      <td>36.14</td>\n",
              "      <td>24.4</td>\n",
              "      <td>0.000567</td>\n",
              "      <td>0.082617</td>\n",
              "      <td>0.442633</td>\n",
              "      <td>0.004067</td>\n",
              "      <td>0.124150</td>\n",
              "      <td>0.031350</td>\n",
              "      <td>0.001017</td>\n",
              "      <td>0.000033</td>\n",
              "      <td>0.001517</td>\n",
              "      <td>0.932833</td>\n",
              "    </tr>\n",
              "    <tr>\n",
              "      <th>1</th>\n",
              "      <td>0.003467</td>\n",
              "      <td>29.26</td>\n",
              "      <td>36.14</td>\n",
              "      <td>24.4</td>\n",
              "      <td>0.000567</td>\n",
              "      <td>0.084533</td>\n",
              "      <td>0.444067</td>\n",
              "      <td>0.004067</td>\n",
              "      <td>0.124000</td>\n",
              "      <td>0.031500</td>\n",
              "      <td>0.001017</td>\n",
              "      <td>0.000000</td>\n",
              "      <td>0.001650</td>\n",
              "      <td>0.934333</td>\n",
              "    </tr>\n",
              "    <tr>\n",
              "      <th>2</th>\n",
              "      <td>0.003467</td>\n",
              "      <td>29.26</td>\n",
              "      <td>36.14</td>\n",
              "      <td>24.4</td>\n",
              "      <td>0.000617</td>\n",
              "      <td>0.083017</td>\n",
              "      <td>0.446067</td>\n",
              "      <td>0.004067</td>\n",
              "      <td>0.123533</td>\n",
              "      <td>0.031517</td>\n",
              "      <td>0.001000</td>\n",
              "      <td>0.000017</td>\n",
              "      <td>0.001650</td>\n",
              "      <td>0.931817</td>\n",
              "    </tr>\n",
              "    <tr>\n",
              "      <th>3</th>\n",
              "      <td>0.003483</td>\n",
              "      <td>29.26</td>\n",
              "      <td>36.14</td>\n",
              "      <td>24.4</td>\n",
              "      <td>0.000650</td>\n",
              "      <td>0.175417</td>\n",
              "      <td>0.446583</td>\n",
              "      <td>0.004067</td>\n",
              "      <td>0.123133</td>\n",
              "      <td>0.031500</td>\n",
              "      <td>0.001017</td>\n",
              "      <td>0.000017</td>\n",
              "      <td>0.001617</td>\n",
              "      <td>1.022050</td>\n",
              "    </tr>\n",
              "    <tr>\n",
              "      <th>4</th>\n",
              "      <td>0.003467</td>\n",
              "      <td>29.26</td>\n",
              "      <td>36.14</td>\n",
              "      <td>24.4</td>\n",
              "      <td>0.000783</td>\n",
              "      <td>0.300917</td>\n",
              "      <td>0.446533</td>\n",
              "      <td>0.004067</td>\n",
              "      <td>0.122850</td>\n",
              "      <td>0.031500</td>\n",
              "      <td>0.001017</td>\n",
              "      <td>0.000133</td>\n",
              "      <td>0.001583</td>\n",
              "      <td>1.139400</td>\n",
              "    </tr>\n",
              "  </tbody>\n",
              "</table>\n",
              "</div>"
            ],
            "text/plain": [
              "        gen  apparentTemperature  ...  Living room       use\n",
              "0  0.003483                29.26  ...     0.001517  0.932833\n",
              "1  0.003467                29.26  ...     0.001650  0.934333\n",
              "2  0.003467                29.26  ...     0.001650  0.931817\n",
              "3  0.003483                29.26  ...     0.001617  1.022050\n",
              "4  0.003467                29.26  ...     0.001583  1.139400\n",
              "\n",
              "[5 rows x 14 columns]"
            ]
          },
          "metadata": {
            "tags": []
          },
          "execution_count": 8
        }
      ]
    },
    {
      "cell_type": "code",
      "metadata": {
        "colab": {
          "base_uri": "https://localhost:8080/"
        },
        "id": "mevcc_gkp-gX",
        "outputId": "135605e9-7f58-4392-8711-adb2baa319ba"
      },
      "source": [
        "df.shape"
      ],
      "execution_count": 9,
      "outputs": [
        {
          "output_type": "execute_result",
          "data": {
            "text/plain": [
              "(113176, 14)"
            ]
          },
          "metadata": {
            "tags": []
          },
          "execution_count": 9
        }
      ]
    },
    {
      "cell_type": "markdown",
      "metadata": {
        "id": "XT0vS0HAJtoQ"
      },
      "source": [
        "### Import libraries and split the data for train test"
      ]
    },
    {
      "cell_type": "code",
      "metadata": {
        "id": "0p6JD-OdOMiz"
      },
      "source": [
        "from sklearn.model_selection import train_test_split\n",
        "from sklearn.preprocessing import StandardScaler\n",
        "from sklearn.linear_model import LinearRegression\n",
        "from sklearn.metrics import mean_squared_error, r2_score\n",
        "import matplotlib.pyplot as plt\n",
        "\n",
        "from sklearn.neural_network import MLPRegressor\n",
        "from sklearn.neighbors import KNeighborsRegressor\n",
        "from sklearn.tree import DecisionTreeRegressor\n",
        "from sklearn.ensemble import RandomForestRegressor\n",
        "from sklearn.metrics import explained_variance_score\n",
        "from sklearn.metrics import mean_squared_error\n",
        "from sklearn.metrics import mean_absolute_error\n",
        "from sklearn.model_selection import RandomizedSearchCV\n",
        "import xgboost as xgb\n",
        "from time import time"
      ],
      "execution_count": null,
      "outputs": []
    },
    {
      "cell_type": "code",
      "metadata": {
        "id": "1QtQ-m-ENVL9"
      },
      "source": [
        "X, y = df.drop(['use'], axis=1), df['use']\n",
        "\n",
        "X = StandardScaler().fit_transform(X)\n",
        "X_train, X_test, y_train, y_test = \\\n",
        "    train_test_split(X, y, test_size=.2, shuffle=True)"
      ],
      "execution_count": null,
      "outputs": []
    },
    {
      "cell_type": "markdown",
      "metadata": {
        "id": "1CQ1HGM_Y4yW"
      },
      "source": [
        "### Hyperparameters tuning loop on RandomForestRegressor and MLPRegressor"
      ]
    },
    {
      "cell_type": "code",
      "metadata": {
        "id": "ucgYC641Y499"
      },
      "source": [
        "def tuning_hyper_parameters():\n",
        "  random_grid = {#'Linear Regression', \n",
        "           'Random Forest': {'bootstrap': [True, False],\n",
        "                             'max_depth': [10, 50, 100, None],\n",
        "                             'max_features': ['auto', 'sqrt'],\n",
        "                             'min_samples_leaf': [1, 2, 4],\n",
        "                             'min_samples_split': [2, 5, 10],\n",
        "                             'n_estimators': [200, 1000, 2000]},\n",
        "           #'Decision Tree',\n",
        "          'MLP Regressor': {'hidden_layer_sizes': [(50,50,50), (50,100,50), (100,1)],\n",
        "                            'activation': ['relu','tanh','logistic'],\n",
        "                            'alpha': [0.0001, 0.05],\n",
        "                            'learning_rate': ['constant','adaptive'],\n",
        "                            'solver': ['lbfgs','sgd','adam']},\n",
        "           #'XBoost Regressor',\n",
        "           #'KNN Regressor'\n",
        "          }\n",
        "  regression = [\n",
        "            #LinearRegression(),\n",
        "            RandomForestRegressor(),\n",
        "            #DecisionTreeRegressor(),\n",
        "            MLPRegressor(),\n",
        "            #xgb.XGBRegressor(),\n",
        "            #KNeighborsRegressor(),\n",
        "          ]\n",
        "  for name, clf in zip(random_grid.keys(), regression):\n",
        "    rf_random = RandomizedSearchCV(estimator = clf, param_distributions = random_grid[name], n_iter = 2, cv = 2, verbose=2, random_state=42, n_jobs = -1)\n",
        "    rf_random.fit(X_train, y_train)\n",
        "    print('model %s best_params %s' % (name, rf_random.best_params_))"
      ],
      "execution_count": null,
      "outputs": []
    },
    {
      "cell_type": "code",
      "metadata": {
        "colab": {
          "base_uri": "https://localhost:8080/"
        },
        "id": "NyrrycUDm-M8",
        "outputId": "8720a43d-58e9-47ee-bb3f-10b34b28eb5c"
      },
      "source": [
        "tuning_hyper_parameters()"
      ],
      "execution_count": null,
      "outputs": [
        {
          "output_type": "stream",
          "text": [
            "Fitting 2 folds for each of 2 candidates, totalling 4 fits\n"
          ],
          "name": "stdout"
        },
        {
          "output_type": "stream",
          "text": [
            "[Parallel(n_jobs=-1)]: Using backend LokyBackend with 2 concurrent workers.\n",
            "[Parallel(n_jobs=-1)]: Done   4 out of   4 | elapsed:  4.6min remaining:    0.0s\n",
            "[Parallel(n_jobs=-1)]: Done   4 out of   4 | elapsed:  4.6min finished\n"
          ],
          "name": "stderr"
        },
        {
          "output_type": "stream",
          "text": [
            "model Random Forest best_params {'n_estimators': 200, 'min_samples_split': 5, 'min_samples_leaf': 4, 'max_features': 'sqrt', 'max_depth': 50, 'bootstrap': True}\n",
            "Fitting 2 folds for each of 2 candidates, totalling 4 fits\n"
          ],
          "name": "stdout"
        },
        {
          "output_type": "stream",
          "text": [
            "[Parallel(n_jobs=-1)]: Using backend LokyBackend with 2 concurrent workers.\n",
            "[Parallel(n_jobs=-1)]: Done   4 out of   4 | elapsed:  3.0min remaining:    0.0s\n",
            "[Parallel(n_jobs=-1)]: Done   4 out of   4 | elapsed:  3.0min finished\n"
          ],
          "name": "stderr"
        },
        {
          "output_type": "stream",
          "text": [
            "model MLP Regressor best_params {'solver': 'adam', 'learning_rate': 'adaptive', 'hidden_layer_sizes': (50, 50, 50), 'alpha': 0.0001, 'activation': 'tanh'}\n"
          ],
          "name": "stdout"
        }
      ]
    },
    {
      "cell_type": "markdown",
      "metadata": {
        "id": "tMe4bp6jxrnh"
      },
      "source": [
        "### Apply the best parameters in muller loop and compare the results"
      ]
    },
    {
      "cell_type": "code",
      "metadata": {
        "id": "Ex-Tbw1EfSsn"
      },
      "source": [
        "def muller_loop(X_train, y_train, X_test, y_test):\n",
        "  names = ['Random Forest',\n",
        "           'Random Forest Tuning',\n",
        "           'MLP Regressor',\n",
        "           'MLP Regressor Tuning',\n",
        "          ]\n",
        "  regression = [\n",
        "            RandomForestRegressor(max_depth=5, n_estimators=10),\n",
        "            RandomForestRegressor(max_depth=50, n_estimators=200, max_features='sqrt', bootstrap=True, min_samples_leaf=4, min_samples_split=5),\n",
        "            MLPRegressor(random_state=1, alpha=1, max_iter=1000),\n",
        "            MLPRegressor(solver='adam', learning_rate= 'adaptive', hidden_layer_sizes= (50, 50, 50), alpha= 0.0001, activation= 'tanh'),\n",
        "          ]\n",
        "  result = pd.DataFrame(columns=['model','r2 score', 'mean squared error', 'mean absolute error', 'time'])\n",
        "\n",
        "  # iterate over classifiers\n",
        "  for name, clf in zip(names, regression):\n",
        "      start_time = time()\n",
        "      clf.fit(X_train, y_train)\n",
        "      r2 = 100.0 * clf.score(X_test, y_test)\n",
        "      y_pred = clf.predict(X_test)\n",
        "      v_score = 100.0 * explained_variance_score(y_test, y_pred, multioutput='raw_values')[0]\n",
        "      mse =  mean_squared_error(y_test, y_pred)\n",
        "      mae =  mean_absolute_error(y_test, y_pred)\n",
        "      result = result.append({'model': name, 'r2 score': r2, 'mean squared error': mse, 'mean absolute error': mae ,'time': (time() - start_time) }, ignore_index=True)\n",
        "\n",
        "  display(result)\n"
      ],
      "execution_count": null,
      "outputs": []
    },
    {
      "cell_type": "code",
      "metadata": {
        "colab": {
          "base_uri": "https://localhost:8080/",
          "height": 223
        },
        "id": "U9SHHGT5gkvH",
        "outputId": "2e9e0492-310b-4fc8-ae52-2ca4b7d02791"
      },
      "source": [
        "muller_loop(X_train, y_train, X_test, y_test)"
      ],
      "execution_count": null,
      "outputs": [
        {
          "output_type": "stream",
          "text": [
            "/usr/local/lib/python3.7/dist-packages/sklearn/neural_network/_multilayer_perceptron.py:571: ConvergenceWarning: Stochastic Optimizer: Maximum iterations (200) reached and the optimization hasn't converged yet.\n",
            "  % self.max_iter, ConvergenceWarning)\n"
          ],
          "name": "stderr"
        },
        {
          "output_type": "display_data",
          "data": {
            "text/html": [
              "<div>\n",
              "<style scoped>\n",
              "    .dataframe tbody tr th:only-of-type {\n",
              "        vertical-align: middle;\n",
              "    }\n",
              "\n",
              "    .dataframe tbody tr th {\n",
              "        vertical-align: top;\n",
              "    }\n",
              "\n",
              "    .dataframe thead th {\n",
              "        text-align: right;\n",
              "    }\n",
              "</style>\n",
              "<table border=\"1\" class=\"dataframe\">\n",
              "  <thead>\n",
              "    <tr style=\"text-align: right;\">\n",
              "      <th></th>\n",
              "      <th>model</th>\n",
              "      <th>r2 score</th>\n",
              "      <th>mean squared error</th>\n",
              "      <th>mean absolute error</th>\n",
              "      <th>time</th>\n",
              "    </tr>\n",
              "  </thead>\n",
              "  <tbody>\n",
              "    <tr>\n",
              "      <th>0</th>\n",
              "      <td>Random Forest</td>\n",
              "      <td>63.775536</td>\n",
              "      <td>0.167543</td>\n",
              "      <td>0.241560</td>\n",
              "      <td>3.050163</td>\n",
              "    </tr>\n",
              "    <tr>\n",
              "      <th>1</th>\n",
              "      <td>Random Forest Tuning</td>\n",
              "      <td>89.603323</td>\n",
              "      <td>0.048086</td>\n",
              "      <td>0.079396</td>\n",
              "      <td>56.466315</td>\n",
              "    </tr>\n",
              "    <tr>\n",
              "      <th>2</th>\n",
              "      <td>MLP Regressor</td>\n",
              "      <td>78.350638</td>\n",
              "      <td>0.100131</td>\n",
              "      <td>0.137237</td>\n",
              "      <td>9.364635</td>\n",
              "    </tr>\n",
              "    <tr>\n",
              "      <th>3</th>\n",
              "      <td>MLP Regressor Tuning</td>\n",
              "      <td>87.281725</td>\n",
              "      <td>0.058824</td>\n",
              "      <td>0.123000</td>\n",
              "      <td>301.890494</td>\n",
              "    </tr>\n",
              "  </tbody>\n",
              "</table>\n",
              "</div>"
            ],
            "text/plain": [
              "                  model   r2 score  ...  mean absolute error        time\n",
              "0         Random Forest  63.775536  ...             0.241560    3.050163\n",
              "1  Random Forest Tuning  89.603323  ...             0.079396   56.466315\n",
              "2         MLP Regressor  78.350638  ...             0.137237    9.364635\n",
              "3  MLP Regressor Tuning  87.281725  ...             0.123000  301.890494\n",
              "\n",
              "[4 rows x 5 columns]"
            ]
          },
          "metadata": {
            "tags": []
          }
        }
      ]
    },
    {
      "cell_type": "markdown",
      "metadata": {
        "id": "OZRsz5Gx5Wn_"
      },
      "source": [
        "### Use AutoML AutoGluon to complete the prediction"
      ]
    },
    {
      "cell_type": "code",
      "metadata": {
        "id": "k4ofvm8G5uWb",
        "colab": {
          "base_uri": "https://localhost:8080/",
          "height": 1000,
          "referenced_widgets": [
            "24dcfb59272547348351f1aaca1a1f18",
            "a19c94defe9049869e79e6ccd9debd61",
            "856ccd6294a14611bd7402fe01c0ffcd",
            "8d6b9d790b3e4c668f0801ff7a34e0e0",
            "933f7cb7107d4356875d367e46774658",
            "d661f922b4da4e89a586a49988bf9af2",
            "36010cca71494118ae68ddd4cfbc4c59",
            "0c307a23a22c4a04a3112b2eaddcfac6",
            "e30895b3cc90467999274ce231f79ded",
            "c80d194bb63c401796b780e5ea4b53f2",
            "5d5ec95bb1d243ee8fd34b237fd1abba",
            "f55a6e9173084bfd82d8941a5a29cb63",
            "620fa698ab254d8f8ca24b273081a0a9",
            "7edd7fda7c0b40fbbb4da9cc025a2134",
            "05995741fada4509934431210a8b5892",
            "03f3604956d349299e0c15a419054df8",
            "6c738b7afdb94c76b2f15fdae5e39abb",
            "28949eef1b6d42e0ab87200dcae37ca9",
            "f4d81115dbf149c894b754b414a4137e",
            "bf1bbd60ae8a4d29b5ceb5b34aa7ff0a",
            "8de7ba4d9f1c4c90a413accbf675184e",
            "5709e74852774e76b230045a89576efb",
            "1a70d81da82f44849317128fee395137",
            "933b4d60926348edb6c62238ebd4e6d4",
            "08cb521f47994ef8b8a891419ab665a1",
            "3ce7ccc144c94357bef28d44d6aebbf4",
            "a509ee15319b426baeea29f1f4bbc086",
            "77c5382a304c4497831b0a27e6624c14",
            "f11fb8dcedcf4ebba2ebc027a69e3253",
            "8f70f7934bdd4e5c821aede49888a5e4",
            "77cf19f9785e44b5b045065a44b89391",
            "1df016b63139499f99c5c906966a7d89",
            "89829d121627467587fd1e22e03a99bc",
            "b92d7ce7e6894a68b89767a73b2c359e",
            "7b6a8ef3477245c988b97252806db0a0",
            "050b16ed0e634a5a99463483b4d4f983",
            "ce123bfeccd1441f8df8dcc34b140048",
            "9e0256a75225406a877794b00ededcc1",
            "dd406c1b603a4d0d868c36e05e3c74f1",
            "847b3772258845efbbe13210a32bdfb2"
          ]
        },
        "outputId": "ca5d88ec-7884-4629-d1f2-27ea4376f3c1"
      },
      "source": [
        "label_column = 'use'\n",
        "train_data = df[:20000]\n",
        "predictor = task.fit(train_data=train_data, label=label_column, eval_metric='r2', hyperparameter_tune=True)\n",
        "test_data = df[20001:]\n",
        "y_test = test_data[label_column]\n",
        "\n",
        "test_data = test_data.drop(labels=[label_column], axis=1)\n",
        "y_pred = predictor.predict(test_data)\n",
        "perf = predictor.evaluate_predictions(y_true=y_test, y_pred=y_pred)\n",
        "results = predictor.fit_summary()"
      ],
      "execution_count": 19,
      "outputs": [
        {
          "output_type": "stream",
          "text": [
            "Warning: `hyperparameter_tune=True` is currently experimental and may cause the process to hang. Setting `auto_stack=True` instead is recommended to achieve maximum quality models.\n",
            "No output_directory specified. Models will be saved in: AutogluonModels/ag-20210307_005126/\n",
            "Beginning AutoGluon training ...\n",
            "AutoGluon will save models to AutogluonModels/ag-20210307_005126/\n",
            "AutoGluon Version:  0.0.16b20201214\n",
            "Train Data Rows:    20000\n",
            "Train Data Columns: 13\n",
            "Preprocessing data ...\n",
            "AutoGluon infers your prediction problem is: 'regression' (because dtype of label-column == float and many unique label-values observed).\n",
            "\tLabel info (max, min, mean, stddev): (7.378916667, 0.000466667, 1.0705, 0.69513)\n",
            "\tIf 'regression' is not the correct problem_type, please manually specify the problem_type argument in fit() (You may specify problem_type as one of: ['binary', 'multiclass', 'regression'])\n",
            "Using Feature Generators to preprocess the data ...\n",
            "Fitting AutoMLPipelineFeatureGenerator...\n",
            "\tAvailable Memory:                    12485.49 MB\n",
            "\tTrain Data (Original)  Memory Usage: 2.08 MB (0.0% of available memory)\n",
            "\tInferring data type of each feature based on column values. Set feature_metadata_in to manually specify special dtypes of the features.\n",
            "\tStage 1 Generators:\n",
            "\t\tFitting AsTypeFeatureGenerator...\n",
            "\tStage 2 Generators:\n",
            "\t\tFitting FillNaFeatureGenerator...\n",
            "\tStage 3 Generators:\n",
            "\t\tFitting IdentityFeatureGenerator...\n",
            "\tStage 4 Generators:\n",
            "\t\tFitting DropUniqueFeatureGenerator...\n",
            "\tTypes of features in original data (raw dtype, special dtypes):\n",
            "\t\t('float', []) : 13 | ['gen', 'apparentTemperature', 'temperature', 'dewPoint', 'Kitchen', ...]\n",
            "\tTypes of features in processed data (raw dtype, special dtypes):\n",
            "\t\t('float', []) : 13 | ['gen', 'apparentTemperature', 'temperature', 'dewPoint', 'Kitchen', ...]\n",
            "\t0.1s = Fit runtime\n",
            "\t13 features in original data used to generate 13 features in processed data.\n",
            "\tTrain Data (Processed) Memory Usage: 2.08 MB (0.0% of available memory)\n",
            "Data preprocessing and feature engineering runtime = 0.13s ...\n",
            "AutoGluon will gauge predictive performance using evaluation metric: 'r2'\n",
            "\tTo change this, specify the eval_metric argument of fit()\n",
            "AutoGluon will early stop models using evaluation metric: 'r2'\n",
            "\t0.9102\t = Validation r2 score\n",
            "\t36.7s\t = Training runtime\n",
            "\t0.4s\t = Validation runtime\n",
            "\t0.9332\t = Validation r2 score\n",
            "\t13.68s\t = Training runtime\n",
            "\t0.4s\t = Validation runtime\n",
            "\t0.8261\t = Validation r2 score\n",
            "\t0.03s\t = Training runtime\n",
            "\t0.1s\t = Validation runtime\n",
            "\t0.847\t = Validation r2 score\n",
            "\t0.03s\t = Training runtime\n",
            "\t0.1s\t = Validation runtime\n",
            "scheduler_options: Key 'training_history_callback_delta_secs': Imputing default value 60\n",
            "scheduler_options: Key 'delay_get_config': Imputing default value True\n",
            "\n",
            "Starting Experiments\n",
            "Num of Finished Tasks is 0\n",
            "Num of Pending Tasks is 1000\n"
          ],
          "name": "stderr"
        },
        {
          "output_type": "display_data",
          "data": {
            "application/vnd.jupyter.widget-view+json": {
              "model_id": "24dcfb59272547348351f1aaca1a1f18",
              "version_minor": 0,
              "version_major": 2
            },
            "text/plain": [
              "HBox(children=(FloatProgress(value=0.0, max=1000.0), HTML(value='')))"
            ]
          },
          "metadata": {
            "tags": []
          }
        },
        {
          "output_type": "stream",
          "text": [
            "Time out (secs) is 67.5\n"
          ],
          "name": "stderr"
        },
        {
          "output_type": "stream",
          "text": [
            "[1000]\ttrain_set's l2: 0.00148299\ttrain_set's r2: 0.802794\tvalid_set's l2: 0.0250958\tvalid_set's r2: 0.772544\n",
            "[1000]\ttrain_set's l2: 0.000955806\ttrain_set's r2: 0.804044\tvalid_set's l2: 0.0238965\tvalid_set's r2: 0.774016\n"
          ],
          "name": "stdout"
        },
        {
          "output_type": "stream",
          "text": [
            "\tRan out of time, early stopping on iteration 318. Best iteration is:\n",
            "\t[318]\ttrain_set's l2: 0.0367752\ttrain_set's r2: 0.726319\tvalid_set's l2: 0.0656735\tvalid_set's r2: 0.693123\n",
            "\t0.952\t = Validation r2 score\n",
            "\t16.88s\t = Training runtime\n",
            "\t0.44s\t = Validation runtime\n",
            "\t0.9536\t = Validation r2 score\n",
            "\t15.06s\t = Training runtime\n",
            "\t0.54s\t = Validation runtime\n",
            "\t0.9489\t = Validation r2 score\n",
            "\t13.0s\t = Training runtime\n",
            "\t0.34s\t = Validation runtime\n",
            "\t0.9486\t = Validation r2 score\n",
            "\t7.4s\t = Training runtime\n",
            "\t0.13s\t = Validation runtime\n",
            "\t0.8723\t = Validation r2 score\n",
            "\t7.28s\t = Training runtime\n",
            "\t0.13s\t = Validation runtime\n",
            "scheduler_options: Key 'training_history_callback_delta_secs': Imputing default value 60\n",
            "scheduler_options: Key 'delay_get_config': Imputing default value True\n",
            "\n",
            "Starting Experiments\n",
            "Num of Finished Tasks is 0\n",
            "Num of Pending Tasks is 1000\n"
          ],
          "name": "stderr"
        },
        {
          "output_type": "display_data",
          "data": {
            "application/vnd.jupyter.widget-view+json": {
              "model_id": "e30895b3cc90467999274ce231f79ded",
              "version_minor": 0,
              "version_major": 2
            },
            "text/plain": [
              "HBox(children=(FloatProgress(value=0.0, max=1000.0), HTML(value='')))"
            ]
          },
          "metadata": {
            "tags": []
          }
        },
        {
          "output_type": "stream",
          "text": [
            "Time out (secs) is 67.5\n"
          ],
          "name": "stderr"
        },
        {
          "output_type": "stream",
          "text": [
            "[1000]\ttrain_set's l2: 0.0117129\ttrain_set's r2: 0.781814\tvalid_set's l2: 0.033613\tvalid_set's r2: 0.75556\n",
            "[1000]\ttrain_set's l2: 0.010963\ttrain_set's r2: 0.784848\tvalid_set's l2: 0.0328581\tvalid_set's r2: 0.757519\n"
          ],
          "name": "stdout"
        },
        {
          "output_type": "stream",
          "text": [
            "\tRan out of time, early stopping on iteration 1851. Best iteration is:\n",
            "\t[1840]\ttrain_set's l2: 0.00437194\ttrain_set's r2: 0.796239\tvalid_set's l2: 0.0280361\tvalid_set's r2: 0.764203\n"
          ],
          "name": "stderr"
        },
        {
          "output_type": "stream",
          "text": [
            "[1000]\ttrain_set's l2: 0.00850108\ttrain_set's r2: 0.788399\tvalid_set's l2: 0.0318254\tvalid_set's r2: 0.75559\n"
          ],
          "name": "stdout"
        },
        {
          "output_type": "stream",
          "text": [
            "\t0.9364\t = Validation r2 score\n",
            "\t16.33s\t = Training runtime\n",
            "\t0.5s\t = Validation runtime\n",
            "\t0.9372\t = Validation r2 score\n",
            "\t16.45s\t = Training runtime\n",
            "\t0.55s\t = Validation runtime\n",
            "\t0.9455\t = Validation r2 score\n",
            "\t31.8s\t = Training runtime\n",
            "\t1.38s\t = Validation runtime\n",
            "scheduler_options: Key 'training_history_callback_delta_secs': Imputing default value 60\n",
            "scheduler_options: Key 'delay_get_config': Imputing default value True\n",
            "\n",
            "Starting Experiments\n",
            "Num of Finished Tasks is 0\n",
            "Num of Pending Tasks is 1000\n"
          ],
          "name": "stderr"
        },
        {
          "output_type": "display_data",
          "data": {
            "application/vnd.jupyter.widget-view+json": {
              "model_id": "6c738b7afdb94c76b2f15fdae5e39abb",
              "version_minor": 0,
              "version_major": 2
            },
            "text/plain": [
              "HBox(children=(FloatProgress(value=0.0, max=1000.0), HTML(value='')))"
            ]
          },
          "metadata": {
            "tags": []
          }
        },
        {
          "output_type": "stream",
          "text": [
            "Time out (secs) is 67.5\n",
            "\t0.9581\t = Validation r2 score\n",
            "\t56.2s\t = Training runtime\n",
            "\t0.05s\t = Validation runtime\n",
            "\t0.9414\t = Validation r2 score\n",
            "\t7.89s\t = Training runtime\n",
            "\t0.02s\t = Validation runtime\n",
            "scheduler_options: Key 'training_history_callback_delta_secs': Imputing default value 60\n",
            "scheduler_options: Key 'delay_get_config': Imputing default value True\n",
            "\n",
            "Starting Experiments\n",
            "Num of Finished Tasks is 0\n",
            "Num of Pending Tasks is 1000\n"
          ],
          "name": "stderr"
        },
        {
          "output_type": "display_data",
          "data": {
            "application/vnd.jupyter.widget-view+json": {
              "model_id": "08cb521f47994ef8b8a891419ab665a1",
              "version_minor": 0,
              "version_major": 2
            },
            "text/plain": [
              "HBox(children=(FloatProgress(value=0.0, max=1000.0), HTML(value='')))"
            ]
          },
          "metadata": {
            "tags": []
          }
        },
        {
          "output_type": "stream",
          "text": [
            "Time out (secs) is 67.5\n",
            "\t0.9262\t = Validation r2 score\n",
            "\t31.02s\t = Training runtime\n",
            "\t0.2s\t = Validation runtime\n",
            "\t0.8648\t = Validation r2 score\n",
            "\t17.66s\t = Training runtime\n",
            "\t0.09s\t = Validation runtime\n",
            "\t0.8627\t = Validation r2 score\n",
            "\t16.46s\t = Training runtime\n",
            "\t0.07s\t = Validation runtime\n",
            "scheduler_options: Key 'training_history_callback_delta_secs': Imputing default value 60\n",
            "scheduler_options: Key 'delay_get_config': Imputing default value True\n",
            "\n",
            "Starting Experiments\n",
            "Num of Finished Tasks is 0\n",
            "Num of Pending Tasks is 1000\n"
          ],
          "name": "stderr"
        },
        {
          "output_type": "display_data",
          "data": {
            "application/vnd.jupyter.widget-view+json": {
              "model_id": "89829d121627467587fd1e22e03a99bc",
              "version_minor": 0,
              "version_major": 2
            },
            "text/plain": [
              "HBox(children=(FloatProgress(value=0.0, max=1000.0), HTML(value='')))"
            ]
          },
          "metadata": {
            "tags": []
          }
        },
        {
          "output_type": "stream",
          "text": [
            "Time out (secs) is 67.5\n",
            "\tRan out of time, stopping training early.\n",
            "Please either provide filename or allow plot in get_training_curves\n",
            "\t0.7436\t = Validation r2 score\n",
            "\t66.36s\t = Training runtime\n",
            "\t0.22s\t = Validation runtime\n",
            "Fitting model: WeightedEnsemble_L1 ...\n",
            "\t0.9603\t = Validation r2 score\n",
            "\t0.85s\t = Training runtime\n",
            "\t0.0s\t = Validation runtime\n",
            "AutoGluon training complete, total runtime = 420.52s ...\n",
            "Evaluation: r2 on test data: 0.7357186994229603\n"
          ],
          "name": "stderr"
        },
        {
          "output_type": "stream",
          "text": [
            "*** Summary of fit() ***\n",
            "Estimated performance of each model:\n",
            "                      model  score_val  pred_time_val   fit_time  pred_time_val_marginal  fit_time_marginal  stack_level  can_infer  fit_order\n",
            "0       WeightedEnsemble_L1   0.960309       1.123969  93.179475                0.000679           0.846694            1       True         19\n",
            "1         CatBoost/trial_10   0.958083       0.052206  56.196870                0.052206          56.196870            0       True         13\n",
            "2          LightGBM/trial_1   0.953586       0.538323  15.057315                0.538323          15.057315            0       True          6\n",
            "3          LightGBM/trial_0   0.952012       0.442393  16.884939                0.442393          16.884939            0       True          5\n",
            "4          LightGBM/trial_2   0.948919       0.340097  12.998804                0.340097          12.998804            0       True          7\n",
            "5          LightGBM/trial_3   0.948558       0.129390   7.402943                0.129390           7.402943            0       True          8\n",
            "6        LightGBMXT/trial_8   0.945489       1.378892  31.796636                1.378892          31.796636            0       True         12\n",
            "7         CatBoost/trial_11   0.941412       0.023895   7.890905                0.023895           7.890905            0       True         14\n",
            "8        LightGBMXT/trial_7   0.937210       0.552421  16.449182                0.552421          16.449182            0       True         11\n",
            "9        LightGBMXT/trial_6   0.936419       0.499435  16.326628                0.499435          16.326628            0       True         10\n",
            "10            ExtraTreesMSE   0.933167       0.403372  13.675654                0.403372          13.675654            0       True          2\n",
            "11         XGBoost/trial_14   0.926191       0.203440  31.022499                0.203440          31.022499            0       True         15\n",
            "12          RandomForestMSE   0.910237       0.403369  36.699749                0.403369          36.699749            0       True          1\n",
            "13         LightGBM/trial_4   0.872309       0.130747   7.279852                0.130747           7.279852            0       True          9\n",
            "14         XGBoost/trial_15   0.864848       0.085560  17.657772                0.085560          17.657772            0       True         16\n",
            "15         XGBoost/trial_16   0.862742       0.074286  16.455507                0.074286          16.455507            0       True         17\n",
            "16           KNeighborsDist   0.846996       0.103677   0.033430                0.103677           0.033430            0       True          4\n",
            "17           KNeighborsUnif   0.826132       0.103548   0.030930                0.103548           0.030930            0       True          3\n",
            "18  NeuralNetMXNet/trial_18   0.743641       0.219936  66.362491                0.219936          66.362491            0       True         18\n",
            "Number of models trained: 19\n",
            "Types of models trained:\n",
            "{'KNNModel', 'LGBModel', 'WeightedEnsembleModel', 'XTModel', 'CatBoostModel', 'RFModel', 'TabularNeuralNetModel', 'XGBoostModel'}\n",
            "Bagging used: False \n",
            "Multi-layer stack-ensembling used: False \n",
            "Hyperparameter-tuning used: True \n",
            "User-specified hyperparameters:\n",
            "{'default': {'NN': [{}], 'GBM': [{}, {'extra_trees': True, 'AG_args': {'name_suffix': 'XT'}}], 'CAT': [{}], 'XGB': [{}], 'RF': [{'criterion': 'mse', 'AG_args': {'name_suffix': 'MSE', 'problem_types': ['regression']}}], 'XT': [{'criterion': 'mse', 'AG_args': {'name_suffix': 'MSE', 'problem_types': ['regression']}}], 'KNN': [{'weights': 'uniform', 'AG_args': {'name_suffix': 'Unif'}}, {'weights': 'distance', 'AG_args': {'name_suffix': 'Dist'}}], 'custom': [{'num_boost_round': 10000, 'num_threads': -1, 'objective': 'regression', 'verbose': -1, 'boosting_type': 'gbdt', 'learning_rate': 0.03, 'num_leaves': 128, 'feature_fraction': 0.9, 'min_data_in_leaf': 5, 'two_round': True, 'seed_value': 0, 'AG_args': {'model_type': 'GBM', 'name_suffix': 'Custom', 'disable_in_hpo': True}}]}}\n",
            "Feature Metadata (Processed):\n",
            "(raw dtype, special dtypes):\n",
            "('float', []) : 13 | ['gen', 'apparentTemperature', 'temperature', 'dewPoint', 'Kitchen', ...]\n",
            "Plot summary of models saved to file: AutogluonModels/ag-20210307_005126/SummaryOfModels.html\n",
            "Plot summary of models saved to file: AutogluonModels/ag-20210307_005126/LightGBM_HPOmodelsummary.html\n",
            "Plot summary of models saved to file: LightGBM_HPOmodelsummary.html\n",
            "Plot of HPO performance saved to file: AutogluonModels/ag-20210307_005126/LightGBM_HPOperformanceVStrials.png\n"
          ],
          "name": "stdout"
        },
        {
          "output_type": "display_data",
          "data": {
            "image/png": "[encoded data removed]",
            "text/plain": [
              "<Figure size 432x288 with 1 Axes>"
            ]
          },
          "metadata": {
            "tags": [],
            "needs_background": "light"
          }
        },
        {
          "output_type": "display_data",
          "data": {
            "image/png": "[encoded data removed]",
            "text/plain": [
              "<Figure size 432x288 with 1 Axes>"
            ]
          },
          "metadata": {
            "tags": [],
            "needs_background": "light"
          }
        },
        {
          "output_type": "stream",
          "text": [
            "Plot summary of models saved to file: AutogluonModels/ag-20210307_005126/LightGBMXT_HPOmodelsummary.html\n",
            "Plot summary of models saved to file: LightGBMXT_HPOmodelsummary.html\n",
            "Plot of HPO performance saved to file: AutogluonModels/ag-20210307_005126/LightGBMXT_HPOperformanceVStrials.png\n"
          ],
          "name": "stdout"
        },
        {
          "output_type": "display_data",
          "data": {
            "image/png": "[encoded data removed]",
            "text/plain": [
              "<Figure size 432x288 with 1 Axes>"
            ]
          },
          "metadata": {
            "tags": [],
            "needs_background": "light"
          }
        },
        {
          "output_type": "stream",
          "text": [
            "Plot summary of models saved to file: AutogluonModels/ag-20210307_005126/CatBoost_HPOmodelsummary.html\n",
            "Plot summary of models saved to file: CatBoost_HPOmodelsummary.html\n",
            "Plot of HPO performance saved to file: AutogluonModels/ag-20210307_005126/CatBoost_HPOperformanceVStrials.png\n"
          ],
          "name": "stdout"
        },
        {
          "output_type": "display_data",
          "data": {
            "image/png": "[encoded data removed]",
            "text/plain": [
              "<Figure size 432x288 with 1 Axes>"
            ]
          },
          "metadata": {
            "tags": [],
            "needs_background": "light"
          }
        },
        {
          "output_type": "stream",
          "text": [
            "Plot summary of models saved to file: AutogluonModels/ag-20210307_005126/XGBoost_HPOmodelsummary.html\n",
            "Plot summary of models saved to file: XGBoost_HPOmodelsummary.html\n",
            "Plot of HPO performance saved to file: AutogluonModels/ag-20210307_005126/XGBoost_HPOperformanceVStrials.png\n"
          ],
          "name": "stdout"
        },
        {
          "output_type": "display_data",
          "data": {
            "image/png": "[encoded data removed]",
            "text/plain": [
              "<Figure size 432x288 with 1 Axes>"
            ]
          },
          "metadata": {
            "tags": [],
            "needs_background": "light"
          }
        },
        {
          "output_type": "stream",
          "text": [
            "Plot summary of models saved to file: AutogluonModels/ag-20210307_005126/NeuralNetMXNet_HPOmodelsummary.html\n",
            "Plot summary of models saved to file: NeuralNetMXNet_HPOmodelsummary.html\n",
            "Plot of HPO performance saved to file: AutogluonModels/ag-20210307_005126/NeuralNetMXNet_HPOperformanceVStrials.png\n"
          ],
          "name": "stdout"
        },
        {
          "output_type": "display_data",
          "data": {
            "image/png": "[encoded data removed]",
            "text/plain": [
              "<Figure size 432x288 with 1 Axes>"
            ]
          },
          "metadata": {
            "tags": [],
            "needs_background": "light"
          }
        },
        {
          "output_type": "stream",
          "text": [
            "*** Details of Hyperparameter optimization ***\n",
            "HPO for LightGBM model:  Num. configurations tried = 5, Time spent = 69.56776022911072s, Search strategy = random\n",
            "Best hyperparameter-configuration (validation-performance: r2 = 0.7748326588759616):\n",
            "{'feature_fraction': 0.8366535802159208, 'learning_rate': 0.10139387945137676, 'min_data_in_leaf': 24, 'num_leaves': 43}\n",
            "HPO for LightGBMXT model:  Num. configurations tried = 3, Time spent = 72.57306456565857s, Search strategy = random\n",
            "Best hyperparameter-configuration (validation-performance: r2 = 0.7638579945023054):\n",
            "{'feature_fraction': 0.9951451434702239, 'learning_rate': 0.06264186449759523, 'min_data_in_leaf': 18, 'num_leaves': 71}\n",
            "HPO for CatBoost model:  Num. configurations tried = 2, Time spent = 68.38838815689087s, Search strategy = random\n",
            "Best hyperparameter-configuration (validation-performance: r2 = 0.9580825959536993):\n",
            "{'depth': 6, 'l2_leaf_reg': 3.0, 'learning_rate': 0.1}\n",
            "HPO for XGBoost model:  Num. configurations tried = 3, Time spent = 68.57248497009277s, Search strategy = random\n",
            "Best hyperparameter-configuration (validation-performance: r2 = 0.926191268282287):\n",
            "{'colsample_bytree': 1.0, 'gamma': 0.01, 'learning_rate': 0.1, 'max_depth': 3, 'min_child_weight': 1, 'reg_alpha': 0.0, 'reg_lambda': 1.0, 'subsample': 1.0}\n",
            "HPO for NeuralNetMXNet model:  Num. configurations tried = 1, Time spent = 69.3410336971283s, Search strategy = random\n",
            "Best hyperparameter-configuration (validation-performance: r2 = 0.743641297690247):\n",
            "{'activation▁choice': 0, 'dropout_prob': 0.1, 'embedding_size_factor': 1.0, 'layers▁choice': 0, 'learning_rate': 0.0003, 'network_type▁choice': 0, 'use_batchnorm▁choice': 0, 'weight_decay': 1e-06}\n",
            "*** End of fit() summary ***\n"
          ],
          "name": "stdout"
        }
      ]
    },
    {
      "cell_type": "markdown",
      "metadata": {
        "id": "fkeNv2qJYMja"
      },
      "source": [
        "### Conclusion \n",
        "1. The models perform much better after tuning the hyper parameters comparing to not tuning. \n",
        "<br />\n",
        "2. The Random Forest increased 25% while the MLP increased 9% in r2 score. MSE and MAE score also improved, especially for Random Forest. <br />\n",
        "3. Autogluon provided best performed models and hyper parameters, CatBoost achieve 96% r2 score while XGBoost got 93% r2 score, which are higher than manual Random Forest Regressor Tuning 89%."
      ]
    }
  ]
}