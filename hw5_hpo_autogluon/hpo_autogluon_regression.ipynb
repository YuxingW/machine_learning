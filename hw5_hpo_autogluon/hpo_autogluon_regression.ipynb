{
  "nbformat": 4,
  "nbformat_minor": 0,
  "metadata": {
    "colab": {
      "name": "hpo_autogluon_regression.ipynb",
      "provenance": [],
      "collapsed_sections": [],
      "include_colab_link": true
    },
    "kernelspec": {
      "name": "python3",
      "display_name": "Python 3"
    }
  },
  "cells": [
    {
      "cell_type": "markdown",
      "metadata": {
        "id": "view-in-github",
        "colab_type": "text"
      },
      "source": [
        "<a href=\"https://colab.research.google.com/github/YuxingW/machine_learning/blob/main/hw5_hpo_autogluon/hpo_autogluon_regression.ipynb\" target=\"_parent\"><img src=\"https://colab.research.google.com/assets/colab-badge.svg\" alt=\"Open In Colab\"/></a>"
      ]
    },
    {
      "cell_type": "markdown",
      "metadata": {
        "id": "k2FtSFBn0W6c"
      },
      "source": [
        "### What is the story\n",
        "\n",
        "This note book is to predict the instant power consumption based on smart home sensor data and latent variables <br />\n",
        "Dataset<br />\n",
        "&nbsp;  &nbsp; &nbsp; Home C sensor data set in 2015<br />\n",
        "\n",
        "Objective fuction<br />\n",
        "Predict instant power consumption based on sensor data solar energy and latent variables -- weather info<br />\n",
        "We will optimise hyper parameters for RandomForestRegressor and MLPRegressor, also will use autogluon to complete the prediction and compare the results.\n",
        "\n"
      ]
    },
    {
      "cell_type": "code",
      "metadata": {
        "colab": {
          "base_uri": "https://localhost:8080/"
        },
        "id": "s4OlLYHc-T6A",
        "outputId": "c8db457d-c0b9-40b2-c719-d1ccc0e7192a"
      },
      "source": [
        "# Uninstall mkl for faster neural-network training time\n",
        "!pip uninstall -qy mkl\n",
        "# Upgrade pip to ensure the latest package versions are available\n",
        "!pip install -qU pip\n",
        "# Upgrade setuptools to be compatible with namespace packages\n",
        "!pip install -qU setuptools\n",
        "!pip install -qU \"mxnet<2.0.0\"\n",
        "# Install pre-release, frozen to a particual pre-release for stability\n",
        "!pip install -q --pre \"autogluon==0.0.16b20201214\"\n",
        "!pip install -qU ipykernel"
      ],
      "execution_count": 1,
      "outputs": [
        {
          "output_type": "stream",
          "text": [
            "\u001b[33mWARNING: Skipping mkl as it is not installed.\u001b[0m\n"
          ],
          "name": "stdout"
        }
      ]
    },
    {
      "cell_type": "code",
      "metadata": {
        "id": "GCd5PqpMHKFb"
      },
      "source": [
        "from autogluon.tabular import TabularPrediction as task\n",
        "import requests\n",
        "import numpy as np\n",
        "import pandas as pd\n",
        "import tensorflow as tf\n",
        "import seaborn as sns\n",
        "import matplotlib.pyplot as plt\n",
        "from sklearn.tree import DecisionTreeClassifier\n",
        "from sklearn.metrics import silhouette_samples, silhouette_score\n",
        "from sklearn.model_selection import train_test_split\n",
        "from sklearn.preprocessing import RobustScaler\n",
        "from io import BytesIO\n"
      ],
      "execution_count": 2,
      "outputs": []
    },
    {
      "cell_type": "markdown",
      "metadata": {
        "id": "ineTmZcEHTg_"
      },
      "source": [
        "Load the dataset which has aggregated the sensor power consumption data combined with weather data of Home C."
      ]
    },
    {
      "cell_type": "code",
      "metadata": {
        "colab": {
          "base_uri": "https://localhost:8080/",
          "height": 370
        },
        "id": "WGlLAUwcHNgf",
        "outputId": "ecdb32b1-5ccc-4f4d-e168-47f5c3926a54"
      },
      "source": [
        "train_url = 'https://docs.google.com/spreadsheets/d/e/2PACX-1vTAH13xa_KY8QeIy48jCgbAY7OkFQCQYfHh-7Nt-TgXKTBeH8buWJZ6Izm91LxIXCo9W9oebwmbgbeF/pub?output=csv#'\n",
        "r = requests.get(train_url)\n",
        "data = r.content\n",
        "stats = pd.read_csv(BytesIO(data))\n",
        "stats.head()"
      ],
      "execution_count": 3,
      "outputs": [
        {
          "output_type": "stream",
          "text": [
            "/usr/local/lib/python3.7/dist-packages/IPython/core/interactiveshell.py:2718: DtypeWarning: Columns (27) have mixed types.Specify dtype option on import or set low_memory=False.\n",
            "  interactivity=interactivity, compiler=compiler, result=result)\n"
          ],
          "name": "stderr"
        },
        {
          "output_type": "execute_result",
          "data": {
            "text/html": [
              "<div>\n",
              "<style scoped>\n",
              "    .dataframe tbody tr th:only-of-type {\n",
              "        vertical-align: middle;\n",
              "    }\n",
              "\n",
              "    .dataframe tbody tr th {\n",
              "        vertical-align: top;\n",
              "    }\n",
              "\n",
              "    .dataframe thead th {\n",
              "        text-align: right;\n",
              "    }\n",
              "</style>\n",
              "<table border=\"1\" class=\"dataframe\">\n",
              "  <thead>\n",
              "    <tr style=\"text-align: right;\">\n",
              "      <th></th>\n",
              "      <th>time</th>\n",
              "      <th>use [kW]</th>\n",
              "      <th>gen [kW]</th>\n",
              "      <th>House overall [kW]</th>\n",
              "      <th>Dishwasher [kW]</th>\n",
              "      <th>Furnace 1 [kW]</th>\n",
              "      <th>Furnace 2 [kW]</th>\n",
              "      <th>Home office [kW]</th>\n",
              "      <th>Fridge [kW]</th>\n",
              "      <th>Wine cellar [kW]</th>\n",
              "      <th>Garage door [kW]</th>\n",
              "      <th>Kitchen 12 [kW]</th>\n",
              "      <th>Kitchen 14 [kW]</th>\n",
              "      <th>Kitchen 38 [kW]</th>\n",
              "      <th>Barn [kW]</th>\n",
              "      <th>Well [kW]</th>\n",
              "      <th>Microwave [kW]</th>\n",
              "      <th>Living room [kW]</th>\n",
              "      <th>Solar [kW]</th>\n",
              "      <th>temperature</th>\n",
              "      <th>icon</th>\n",
              "      <th>humidity</th>\n",
              "      <th>visibility</th>\n",
              "      <th>summary</th>\n",
              "      <th>apparentTemperature</th>\n",
              "      <th>pressure</th>\n",
              "      <th>windSpeed</th>\n",
              "      <th>cloudCover</th>\n",
              "      <th>windBearing</th>\n",
              "      <th>precipIntensity</th>\n",
              "      <th>dewPoint</th>\n",
              "      <th>precipProbability</th>\n",
              "    </tr>\n",
              "  </thead>\n",
              "  <tbody>\n",
              "    <tr>\n",
              "      <th>0</th>\n",
              "      <td>1451624400</td>\n",
              "      <td>0.932833</td>\n",
              "      <td>0.003483</td>\n",
              "      <td>0.932833</td>\n",
              "      <td>0.000033</td>\n",
              "      <td>0.020700</td>\n",
              "      <td>0.061917</td>\n",
              "      <td>0.442633</td>\n",
              "      <td>0.124150</td>\n",
              "      <td>0.006983</td>\n",
              "      <td>0.013083</td>\n",
              "      <td>0.000417</td>\n",
              "      <td>0.000150</td>\n",
              "      <td>0.000000</td>\n",
              "      <td>0.031350</td>\n",
              "      <td>0.001017</td>\n",
              "      <td>0.004067</td>\n",
              "      <td>0.001517</td>\n",
              "      <td>0.003483</td>\n",
              "      <td>36.14</td>\n",
              "      <td>clear-night</td>\n",
              "      <td>0.62</td>\n",
              "      <td>10.0</td>\n",
              "      <td>Clear</td>\n",
              "      <td>29.26</td>\n",
              "      <td>1016.91</td>\n",
              "      <td>9.18</td>\n",
              "      <td>cloudCover</td>\n",
              "      <td>282</td>\n",
              "      <td>0.0</td>\n",
              "      <td>24.4</td>\n",
              "      <td>0.0</td>\n",
              "    </tr>\n",
              "    <tr>\n",
              "      <th>1</th>\n",
              "      <td>1451624401</td>\n",
              "      <td>0.934333</td>\n",
              "      <td>0.003467</td>\n",
              "      <td>0.934333</td>\n",
              "      <td>0.000000</td>\n",
              "      <td>0.020717</td>\n",
              "      <td>0.063817</td>\n",
              "      <td>0.444067</td>\n",
              "      <td>0.124000</td>\n",
              "      <td>0.006983</td>\n",
              "      <td>0.013117</td>\n",
              "      <td>0.000417</td>\n",
              "      <td>0.000150</td>\n",
              "      <td>0.000000</td>\n",
              "      <td>0.031500</td>\n",
              "      <td>0.001017</td>\n",
              "      <td>0.004067</td>\n",
              "      <td>0.001650</td>\n",
              "      <td>0.003467</td>\n",
              "      <td>36.14</td>\n",
              "      <td>clear-night</td>\n",
              "      <td>0.62</td>\n",
              "      <td>10.0</td>\n",
              "      <td>Clear</td>\n",
              "      <td>29.26</td>\n",
              "      <td>1016.91</td>\n",
              "      <td>9.18</td>\n",
              "      <td>cloudCover</td>\n",
              "      <td>282</td>\n",
              "      <td>0.0</td>\n",
              "      <td>24.4</td>\n",
              "      <td>0.0</td>\n",
              "    </tr>\n",
              "    <tr>\n",
              "      <th>2</th>\n",
              "      <td>1451624402</td>\n",
              "      <td>0.931817</td>\n",
              "      <td>0.003467</td>\n",
              "      <td>0.931817</td>\n",
              "      <td>0.000017</td>\n",
              "      <td>0.020700</td>\n",
              "      <td>0.062317</td>\n",
              "      <td>0.446067</td>\n",
              "      <td>0.123533</td>\n",
              "      <td>0.006983</td>\n",
              "      <td>0.013083</td>\n",
              "      <td>0.000433</td>\n",
              "      <td>0.000167</td>\n",
              "      <td>0.000017</td>\n",
              "      <td>0.031517</td>\n",
              "      <td>0.001000</td>\n",
              "      <td>0.004067</td>\n",
              "      <td>0.001650</td>\n",
              "      <td>0.003467</td>\n",
              "      <td>36.14</td>\n",
              "      <td>clear-night</td>\n",
              "      <td>0.62</td>\n",
              "      <td>10.0</td>\n",
              "      <td>Clear</td>\n",
              "      <td>29.26</td>\n",
              "      <td>1016.91</td>\n",
              "      <td>9.18</td>\n",
              "      <td>cloudCover</td>\n",
              "      <td>282</td>\n",
              "      <td>0.0</td>\n",
              "      <td>24.4</td>\n",
              "      <td>0.0</td>\n",
              "    </tr>\n",
              "    <tr>\n",
              "      <th>3</th>\n",
              "      <td>1451624403</td>\n",
              "      <td>1.022050</td>\n",
              "      <td>0.003483</td>\n",
              "      <td>1.022050</td>\n",
              "      <td>0.000017</td>\n",
              "      <td>0.106900</td>\n",
              "      <td>0.068517</td>\n",
              "      <td>0.446583</td>\n",
              "      <td>0.123133</td>\n",
              "      <td>0.006983</td>\n",
              "      <td>0.013000</td>\n",
              "      <td>0.000433</td>\n",
              "      <td>0.000217</td>\n",
              "      <td>0.000000</td>\n",
              "      <td>0.031500</td>\n",
              "      <td>0.001017</td>\n",
              "      <td>0.004067</td>\n",
              "      <td>0.001617</td>\n",
              "      <td>0.003483</td>\n",
              "      <td>36.14</td>\n",
              "      <td>clear-night</td>\n",
              "      <td>0.62</td>\n",
              "      <td>10.0</td>\n",
              "      <td>Clear</td>\n",
              "      <td>29.26</td>\n",
              "      <td>1016.91</td>\n",
              "      <td>9.18</td>\n",
              "      <td>cloudCover</td>\n",
              "      <td>282</td>\n",
              "      <td>0.0</td>\n",
              "      <td>24.4</td>\n",
              "      <td>0.0</td>\n",
              "    </tr>\n",
              "    <tr>\n",
              "      <th>4</th>\n",
              "      <td>1451624404</td>\n",
              "      <td>1.139400</td>\n",
              "      <td>0.003467</td>\n",
              "      <td>1.139400</td>\n",
              "      <td>0.000133</td>\n",
              "      <td>0.236933</td>\n",
              "      <td>0.063983</td>\n",
              "      <td>0.446533</td>\n",
              "      <td>0.122850</td>\n",
              "      <td>0.006850</td>\n",
              "      <td>0.012783</td>\n",
              "      <td>0.000450</td>\n",
              "      <td>0.000333</td>\n",
              "      <td>0.000000</td>\n",
              "      <td>0.031500</td>\n",
              "      <td>0.001017</td>\n",
              "      <td>0.004067</td>\n",
              "      <td>0.001583</td>\n",
              "      <td>0.003467</td>\n",
              "      <td>36.14</td>\n",
              "      <td>clear-night</td>\n",
              "      <td>0.62</td>\n",
              "      <td>10.0</td>\n",
              "      <td>Clear</td>\n",
              "      <td>29.26</td>\n",
              "      <td>1016.91</td>\n",
              "      <td>9.18</td>\n",
              "      <td>cloudCover</td>\n",
              "      <td>282</td>\n",
              "      <td>0.0</td>\n",
              "      <td>24.4</td>\n",
              "      <td>0.0</td>\n",
              "    </tr>\n",
              "  </tbody>\n",
              "</table>\n",
              "</div>"
            ],
            "text/plain": [
              "         time  use [kW]  gen [kW]  ...  precipIntensity  dewPoint  precipProbability\n",
              "0  1451624400  0.932833  0.003483  ...              0.0      24.4                0.0\n",
              "1  1451624401  0.934333  0.003467  ...              0.0      24.4                0.0\n",
              "2  1451624402  0.931817  0.003467  ...              0.0      24.4                0.0\n",
              "3  1451624403  1.022050  0.003483  ...              0.0      24.4                0.0\n",
              "4  1451624404  1.139400  0.003467  ...              0.0      24.4                0.0\n",
              "\n",
              "[5 rows x 32 columns]"
            ]
          },
          "metadata": {
            "tags": []
          },
          "execution_count": 3
        }
      ]
    },
    {
      "cell_type": "markdown",
      "metadata": {
        "id": "PAUcycN9HuWY"
      },
      "source": [
        "### Data preprosessing\n",
        "Remove unit(kW) from dataset column names."
      ]
    },
    {
      "cell_type": "code",
      "metadata": {
        "id": "eK9G3J9KHufk"
      },
      "source": [
        "stats.columns = [i.replace(' [kW]', '') for i in stats.columns]"
      ],
      "execution_count": 4,
      "outputs": []
    },
    {
      "cell_type": "markdown",
      "metadata": {
        "id": "aEbyY4uFNSQP"
      },
      "source": [
        "'cloudCover' value was found in the column, let's replace these invalid values with the next valid value."
      ]
    },
    {
      "cell_type": "code",
      "metadata": {
        "colab": {
          "base_uri": "https://localhost:8080/",
          "height": 317
        },
        "id": "vDRUcqSzNSaT",
        "outputId": "ea4c54e8-1666-43d9-e6b4-b6f7cf582562"
      },
      "source": [
        "stats['cloudCover'].replace(['cloudCover'], method='bfill', inplace=True)\n",
        "stats['cloudCover'] = stats['cloudCover'].astype('float')\n",
        "stats.head()"
      ],
      "execution_count": 5,
      "outputs": [
        {
          "output_type": "execute_result",
          "data": {
            "text/html": [
              "<div>\n",
              "<style scoped>\n",
              "    .dataframe tbody tr th:only-of-type {\n",
              "        vertical-align: middle;\n",
              "    }\n",
              "\n",
              "    .dataframe tbody tr th {\n",
              "        vertical-align: top;\n",
              "    }\n",
              "\n",
              "    .dataframe thead th {\n",
              "        text-align: right;\n",
              "    }\n",
              "</style>\n",
              "<table border=\"1\" class=\"dataframe\">\n",
              "  <thead>\n",
              "    <tr style=\"text-align: right;\">\n",
              "      <th></th>\n",
              "      <th>time</th>\n",
              "      <th>use</th>\n",
              "      <th>gen</th>\n",
              "      <th>House overall</th>\n",
              "      <th>Dishwasher</th>\n",
              "      <th>Furnace 1</th>\n",
              "      <th>Furnace 2</th>\n",
              "      <th>Home office</th>\n",
              "      <th>Fridge</th>\n",
              "      <th>Wine cellar</th>\n",
              "      <th>Garage door</th>\n",
              "      <th>Kitchen 12</th>\n",
              "      <th>Kitchen 14</th>\n",
              "      <th>Kitchen 38</th>\n",
              "      <th>Barn</th>\n",
              "      <th>Well</th>\n",
              "      <th>Microwave</th>\n",
              "      <th>Living room</th>\n",
              "      <th>Solar</th>\n",
              "      <th>temperature</th>\n",
              "      <th>icon</th>\n",
              "      <th>humidity</th>\n",
              "      <th>visibility</th>\n",
              "      <th>summary</th>\n",
              "      <th>apparentTemperature</th>\n",
              "      <th>pressure</th>\n",
              "      <th>windSpeed</th>\n",
              "      <th>cloudCover</th>\n",
              "      <th>windBearing</th>\n",
              "      <th>precipIntensity</th>\n",
              "      <th>dewPoint</th>\n",
              "      <th>precipProbability</th>\n",
              "    </tr>\n",
              "  </thead>\n",
              "  <tbody>\n",
              "    <tr>\n",
              "      <th>0</th>\n",
              "      <td>1451624400</td>\n",
              "      <td>0.932833</td>\n",
              "      <td>0.003483</td>\n",
              "      <td>0.932833</td>\n",
              "      <td>0.000033</td>\n",
              "      <td>0.020700</td>\n",
              "      <td>0.061917</td>\n",
              "      <td>0.442633</td>\n",
              "      <td>0.124150</td>\n",
              "      <td>0.006983</td>\n",
              "      <td>0.013083</td>\n",
              "      <td>0.000417</td>\n",
              "      <td>0.000150</td>\n",
              "      <td>0.000000</td>\n",
              "      <td>0.031350</td>\n",
              "      <td>0.001017</td>\n",
              "      <td>0.004067</td>\n",
              "      <td>0.001517</td>\n",
              "      <td>0.003483</td>\n",
              "      <td>36.14</td>\n",
              "      <td>clear-night</td>\n",
              "      <td>0.62</td>\n",
              "      <td>10.0</td>\n",
              "      <td>Clear</td>\n",
              "      <td>29.26</td>\n",
              "      <td>1016.91</td>\n",
              "      <td>9.18</td>\n",
              "      <td>0.75</td>\n",
              "      <td>282</td>\n",
              "      <td>0.0</td>\n",
              "      <td>24.4</td>\n",
              "      <td>0.0</td>\n",
              "    </tr>\n",
              "    <tr>\n",
              "      <th>1</th>\n",
              "      <td>1451624401</td>\n",
              "      <td>0.934333</td>\n",
              "      <td>0.003467</td>\n",
              "      <td>0.934333</td>\n",
              "      <td>0.000000</td>\n",
              "      <td>0.020717</td>\n",
              "      <td>0.063817</td>\n",
              "      <td>0.444067</td>\n",
              "      <td>0.124000</td>\n",
              "      <td>0.006983</td>\n",
              "      <td>0.013117</td>\n",
              "      <td>0.000417</td>\n",
              "      <td>0.000150</td>\n",
              "      <td>0.000000</td>\n",
              "      <td>0.031500</td>\n",
              "      <td>0.001017</td>\n",
              "      <td>0.004067</td>\n",
              "      <td>0.001650</td>\n",
              "      <td>0.003467</td>\n",
              "      <td>36.14</td>\n",
              "      <td>clear-night</td>\n",
              "      <td>0.62</td>\n",
              "      <td>10.0</td>\n",
              "      <td>Clear</td>\n",
              "      <td>29.26</td>\n",
              "      <td>1016.91</td>\n",
              "      <td>9.18</td>\n",
              "      <td>0.75</td>\n",
              "      <td>282</td>\n",
              "      <td>0.0</td>\n",
              "      <td>24.4</td>\n",
              "      <td>0.0</td>\n",
              "    </tr>\n",
              "    <tr>\n",
              "      <th>2</th>\n",
              "      <td>1451624402</td>\n",
              "      <td>0.931817</td>\n",
              "      <td>0.003467</td>\n",
              "      <td>0.931817</td>\n",
              "      <td>0.000017</td>\n",
              "      <td>0.020700</td>\n",
              "      <td>0.062317</td>\n",
              "      <td>0.446067</td>\n",
              "      <td>0.123533</td>\n",
              "      <td>0.006983</td>\n",
              "      <td>0.013083</td>\n",
              "      <td>0.000433</td>\n",
              "      <td>0.000167</td>\n",
              "      <td>0.000017</td>\n",
              "      <td>0.031517</td>\n",
              "      <td>0.001000</td>\n",
              "      <td>0.004067</td>\n",
              "      <td>0.001650</td>\n",
              "      <td>0.003467</td>\n",
              "      <td>36.14</td>\n",
              "      <td>clear-night</td>\n",
              "      <td>0.62</td>\n",
              "      <td>10.0</td>\n",
              "      <td>Clear</td>\n",
              "      <td>29.26</td>\n",
              "      <td>1016.91</td>\n",
              "      <td>9.18</td>\n",
              "      <td>0.75</td>\n",
              "      <td>282</td>\n",
              "      <td>0.0</td>\n",
              "      <td>24.4</td>\n",
              "      <td>0.0</td>\n",
              "    </tr>\n",
              "    <tr>\n",
              "      <th>3</th>\n",
              "      <td>1451624403</td>\n",
              "      <td>1.022050</td>\n",
              "      <td>0.003483</td>\n",
              "      <td>1.022050</td>\n",
              "      <td>0.000017</td>\n",
              "      <td>0.106900</td>\n",
              "      <td>0.068517</td>\n",
              "      <td>0.446583</td>\n",
              "      <td>0.123133</td>\n",
              "      <td>0.006983</td>\n",
              "      <td>0.013000</td>\n",
              "      <td>0.000433</td>\n",
              "      <td>0.000217</td>\n",
              "      <td>0.000000</td>\n",
              "      <td>0.031500</td>\n",
              "      <td>0.001017</td>\n",
              "      <td>0.004067</td>\n",
              "      <td>0.001617</td>\n",
              "      <td>0.003483</td>\n",
              "      <td>36.14</td>\n",
              "      <td>clear-night</td>\n",
              "      <td>0.62</td>\n",
              "      <td>10.0</td>\n",
              "      <td>Clear</td>\n",
              "      <td>29.26</td>\n",
              "      <td>1016.91</td>\n",
              "      <td>9.18</td>\n",
              "      <td>0.75</td>\n",
              "      <td>282</td>\n",
              "      <td>0.0</td>\n",
              "      <td>24.4</td>\n",
              "      <td>0.0</td>\n",
              "    </tr>\n",
              "    <tr>\n",
              "      <th>4</th>\n",
              "      <td>1451624404</td>\n",
              "      <td>1.139400</td>\n",
              "      <td>0.003467</td>\n",
              "      <td>1.139400</td>\n",
              "      <td>0.000133</td>\n",
              "      <td>0.236933</td>\n",
              "      <td>0.063983</td>\n",
              "      <td>0.446533</td>\n",
              "      <td>0.122850</td>\n",
              "      <td>0.006850</td>\n",
              "      <td>0.012783</td>\n",
              "      <td>0.000450</td>\n",
              "      <td>0.000333</td>\n",
              "      <td>0.000000</td>\n",
              "      <td>0.031500</td>\n",
              "      <td>0.001017</td>\n",
              "      <td>0.004067</td>\n",
              "      <td>0.001583</td>\n",
              "      <td>0.003467</td>\n",
              "      <td>36.14</td>\n",
              "      <td>clear-night</td>\n",
              "      <td>0.62</td>\n",
              "      <td>10.0</td>\n",
              "      <td>Clear</td>\n",
              "      <td>29.26</td>\n",
              "      <td>1016.91</td>\n",
              "      <td>9.18</td>\n",
              "      <td>0.75</td>\n",
              "      <td>282</td>\n",
              "      <td>0.0</td>\n",
              "      <td>24.4</td>\n",
              "      <td>0.0</td>\n",
              "    </tr>\n",
              "  </tbody>\n",
              "</table>\n",
              "</div>"
            ],
            "text/plain": [
              "         time       use       gen  ...  precipIntensity  dewPoint  precipProbability\n",
              "0  1451624400  0.932833  0.003483  ...              0.0      24.4                0.0\n",
              "1  1451624401  0.934333  0.003467  ...              0.0      24.4                0.0\n",
              "2  1451624402  0.931817  0.003467  ...              0.0      24.4                0.0\n",
              "3  1451624403  1.022050  0.003483  ...              0.0      24.4                0.0\n",
              "4  1451624404  1.139400  0.003467  ...              0.0      24.4                0.0\n",
              "\n",
              "[5 rows x 32 columns]"
            ]
          },
          "metadata": {
            "tags": []
          },
          "execution_count": 5
        }
      ]
    },
    {
      "cell_type": "markdown",
      "metadata": {
        "id": "CjoSu95rzaCi"
      },
      "source": [
        "Combine 'Furnace 1' and 'Furnace 2' to 'Furnace', combine 'Kitchen 12' 'Kitchen 14' and 'Kitchen 38' to 'Kitchen'."
      ]
    },
    {
      "cell_type": "code",
      "metadata": {
        "id": "KMbHNbKIzaMc"
      },
      "source": [
        "stats['Furnace'] = stats[['Furnace 1','Furnace 2']].sum(axis=1)\n",
        "stats['Kitchen'] = stats[['Kitchen 12','Kitchen 14','Kitchen 38']].sum(axis=1)"
      ],
      "execution_count": 6,
      "outputs": []
    },
    {
      "cell_type": "markdown",
      "metadata": {
        "id": "FQrwgXpFwcUG"
      },
      "source": [
        "See feature correlations, Solar data is negatively correlated to power consumption, that is expected."
      ]
    },
    {
      "cell_type": "code",
      "metadata": {
        "colab": {
          "base_uri": "https://localhost:8080/"
        },
        "id": "VrwXUHhVwckj",
        "outputId": "92b3907b-67ad-4848-f5cb-52440a88a7fd"
      },
      "source": [
        "  feature = 'use'\n",
        "  df_corr = stats.corr()[feature]\n",
        "  golden_features_list = df_corr[abs(df_corr) > 0.1].sort_values(ascending=True)\n",
        "  print(\"There is {} correlated values with feature {}:\\n{}\"\n",
        "        .format(len(golden_features_list), feature, golden_features_list))"
      ],
      "execution_count": 7,
      "outputs": [
        {
          "output_type": "stream",
          "text": [
            "There is 21 correlated values with feature use:\n",
            "gen                   -0.309440\n",
            "Solar                 -0.309440\n",
            "time                  -0.159069\n",
            "apparentTemperature   -0.154378\n",
            "temperature           -0.152890\n",
            "dewPoint              -0.120681\n",
            "Kitchen 38             0.107878\n",
            "Kitchen 14             0.154937\n",
            "Home office            0.155206\n",
            "Microwave              0.158953\n",
            "Kitchen                0.170290\n",
            "Fridge                 0.188517\n",
            "Barn                   0.239522\n",
            "Well                   0.257693\n",
            "Dishwasher             0.302407\n",
            "Furnace 1              0.329671\n",
            "Living room            0.342365\n",
            "Furnace 2              0.483417\n",
            "Furnace                0.543849\n",
            "House overall          1.000000\n",
            "use                    1.000000\n",
            "Name: use, dtype: float64\n"
          ],
          "name": "stdout"
        }
      ]
    },
    {
      "cell_type": "markdown",
      "metadata": {
        "id": "TtAuYHEGvnQl"
      },
      "source": [
        "Observe duplicate feature 'use' and 'House overall', 'gen' and 'Solar', remove one of them. <br />\n",
        "Keep only features which absolute correlation with 'use' > 0.1, not involving duplicate features."
      ]
    },
    {
      "cell_type": "code",
      "metadata": {
        "colab": {
          "base_uri": "https://localhost:8080/",
          "height": 197
        },
        "id": "hAJW4sPZvnaf",
        "outputId": "cf4a4f58-6560-43eb-bcee-54cc3e67cbaf"
      },
      "source": [
        "feature_list = ['gen' , 'apparentTemperature', 'temperature', 'dewPoint', 'Kitchen', 'Furnace', \\\n",
        "                'Home office', 'Microwave', 'Fridge', 'Barn', 'Well', 'Dishwasher', 'Living room', 'use']\n",
        "df = stats[feature_list]\n",
        "df.head()"
      ],
      "execution_count": 8,
      "outputs": [
        {
          "output_type": "execute_result",
          "data": {
            "text/html": [
              "<div>\n",
              "<style scoped>\n",
              "    .dataframe tbody tr th:only-of-type {\n",
              "        vertical-align: middle;\n",
              "    }\n",
              "\n",
              "    .dataframe tbody tr th {\n",
              "        vertical-align: top;\n",
              "    }\n",
              "\n",
              "    .dataframe thead th {\n",
              "        text-align: right;\n",
              "    }\n",
              "</style>\n",
              "<table border=\"1\" class=\"dataframe\">\n",
              "  <thead>\n",
              "    <tr style=\"text-align: right;\">\n",
              "      <th></th>\n",
              "      <th>gen</th>\n",
              "      <th>apparentTemperature</th>\n",
              "      <th>temperature</th>\n",
              "      <th>dewPoint</th>\n",
              "      <th>Kitchen</th>\n",
              "      <th>Furnace</th>\n",
              "      <th>Home office</th>\n",
              "      <th>Microwave</th>\n",
              "      <th>Fridge</th>\n",
              "      <th>Barn</th>\n",
              "      <th>Well</th>\n",
              "      <th>Dishwasher</th>\n",
              "      <th>Living room</th>\n",
              "      <th>use</th>\n",
              "    </tr>\n",
              "  </thead>\n",
              "  <tbody>\n",
              "    <tr>\n",
              "      <th>0</th>\n",
              "      <td>0.003483</td>\n",
              "      <td>29.26</td>\n",
              "      <td>36.14</td>\n",
              "      <td>24.4</td>\n",
              "      <td>0.000567</td>\n",
              "      <td>0.082617</td>\n",
              "      <td>0.442633</td>\n",
              "      <td>0.004067</td>\n",
              "      <td>0.124150</td>\n",
              "      <td>0.031350</td>\n",
              "      <td>0.001017</td>\n",
              "      <td>0.000033</td>\n",
              "      <td>0.001517</td>\n",
              "      <td>0.932833</td>\n",
              "    </tr>\n",
              "    <tr>\n",
              "      <th>1</th>\n",
              "      <td>0.003467</td>\n",
              "      <td>29.26</td>\n",
              "      <td>36.14</td>\n",
              "      <td>24.4</td>\n",
              "      <td>0.000567</td>\n",
              "      <td>0.084533</td>\n",
              "      <td>0.444067</td>\n",
              "      <td>0.004067</td>\n",
              "      <td>0.124000</td>\n",
              "      <td>0.031500</td>\n",
              "      <td>0.001017</td>\n",
              "      <td>0.000000</td>\n",
              "      <td>0.001650</td>\n",
              "      <td>0.934333</td>\n",
              "    </tr>\n",
              "    <tr>\n",
              "      <th>2</th>\n",
              "      <td>0.003467</td>\n",
              "      <td>29.26</td>\n",
              "      <td>36.14</td>\n",
              "      <td>24.4</td>\n",
              "      <td>0.000617</td>\n",
              "      <td>0.083017</td>\n",
              "      <td>0.446067</td>\n",
              "      <td>0.004067</td>\n",
              "      <td>0.123533</td>\n",
              "      <td>0.031517</td>\n",
              "      <td>0.001000</td>\n",
              "      <td>0.000017</td>\n",
              "      <td>0.001650</td>\n",
              "      <td>0.931817</td>\n",
              "    </tr>\n",
              "    <tr>\n",
              "      <th>3</th>\n",
              "      <td>0.003483</td>\n",
              "      <td>29.26</td>\n",
              "      <td>36.14</td>\n",
              "      <td>24.4</td>\n",
              "      <td>0.000650</td>\n",
              "      <td>0.175417</td>\n",
              "      <td>0.446583</td>\n",
              "      <td>0.004067</td>\n",
              "      <td>0.123133</td>\n",
              "      <td>0.031500</td>\n",
              "      <td>0.001017</td>\n",
              "      <td>0.000017</td>\n",
              "      <td>0.001617</td>\n",
              "      <td>1.022050</td>\n",
              "    </tr>\n",
              "    <tr>\n",
              "      <th>4</th>\n",
              "      <td>0.003467</td>\n",
              "      <td>29.26</td>\n",
              "      <td>36.14</td>\n",
              "      <td>24.4</td>\n",
              "      <td>0.000783</td>\n",
              "      <td>0.300917</td>\n",
              "      <td>0.446533</td>\n",
              "      <td>0.004067</td>\n",
              "      <td>0.122850</td>\n",
              "      <td>0.031500</td>\n",
              "      <td>0.001017</td>\n",
              "      <td>0.000133</td>\n",
              "      <td>0.001583</td>\n",
              "      <td>1.139400</td>\n",
              "    </tr>\n",
              "  </tbody>\n",
              "</table>\n",
              "</div>"
            ],
            "text/plain": [
              "        gen  apparentTemperature  ...  Living room       use\n",
              "0  0.003483                29.26  ...     0.001517  0.932833\n",
              "1  0.003467                29.26  ...     0.001650  0.934333\n",
              "2  0.003467                29.26  ...     0.001650  0.931817\n",
              "3  0.003483                29.26  ...     0.001617  1.022050\n",
              "4  0.003467                29.26  ...     0.001583  1.139400\n",
              "\n",
              "[5 rows x 14 columns]"
            ]
          },
          "metadata": {
            "tags": []
          },
          "execution_count": 8
        }
      ]
    },
    {
      "cell_type": "code",
      "metadata": {
        "colab": {
          "base_uri": "https://localhost:8080/"
        },
        "id": "mevcc_gkp-gX",
        "outputId": "479bcb36-e528-4bfe-a619-90ac4c2896a6"
      },
      "source": [
        "df.shape"
      ],
      "execution_count": 9,
      "outputs": [
        {
          "output_type": "execute_result",
          "data": {
            "text/plain": [
              "(113176, 14)"
            ]
          },
          "metadata": {
            "tags": []
          },
          "execution_count": 9
        }
      ]
    },
    {
      "cell_type": "markdown",
      "metadata": {
        "id": "XT0vS0HAJtoQ"
      },
      "source": [
        "### Import libraries and split the data for train test"
      ]
    },
    {
      "cell_type": "code",
      "metadata": {
        "id": "0p6JD-OdOMiz"
      },
      "source": [
        "from sklearn.model_selection import train_test_split\n",
        "from sklearn.preprocessing import StandardScaler\n",
        "from sklearn.linear_model import LinearRegression\n",
        "from sklearn.metrics import mean_squared_error, r2_score\n",
        "import matplotlib.pyplot as plt\n",
        "\n",
        "from sklearn.neural_network import MLPRegressor\n",
        "from sklearn.neighbors import KNeighborsRegressor\n",
        "from sklearn.tree import DecisionTreeRegressor\n",
        "from sklearn.ensemble import RandomForestRegressor\n",
        "from sklearn.metrics import explained_variance_score\n",
        "from sklearn.metrics import mean_squared_error\n",
        "from sklearn.metrics import mean_absolute_error\n",
        "from sklearn.model_selection import RandomizedSearchCV\n",
        "import xgboost as xgb\n",
        "from time import time"
      ],
      "execution_count": 10,
      "outputs": []
    },
    {
      "cell_type": "code",
      "metadata": {
        "id": "1QtQ-m-ENVL9"
      },
      "source": [
        "X, y = df.drop(['use'], axis=1), df['use']\n",
        "\n",
        "X = StandardScaler().fit_transform(X)\n",
        "X_train, X_test, y_train, y_test = \\\n",
        "    train_test_split(X, y, test_size=.2, shuffle=True)"
      ],
      "execution_count": 11,
      "outputs": []
    },
    {
      "cell_type": "markdown",
      "metadata": {
        "id": "1CQ1HGM_Y4yW"
      },
      "source": [
        "### Hyperparameters tuning loop on RandomForestRegressor and MLPRegressor"
      ]
    },
    {
      "cell_type": "code",
      "metadata": {
        "id": "ucgYC641Y499"
      },
      "source": [
        "def tuning_hyper_parameters():\n",
        "  random_grid = {#'Linear Regression', \n",
        "           'Random Forest': {'bootstrap': [True, False],\n",
        "                             'max_depth': [10, 50, 100, None],\n",
        "                             'max_features': ['auto', 'sqrt'],\n",
        "                             'min_samples_leaf': [1, 2, 4],\n",
        "                             'min_samples_split': [2, 5, 10],\n",
        "                             'n_estimators': [200, 1000, 2000]},\n",
        "           #'Decision Tree',\n",
        "          'MLP Regressor': {'hidden_layer_sizes': [(50,50,50), (50,100,50), (100,1)],\n",
        "                            'activation': ['relu','tanh','logistic'],\n",
        "                            'alpha': [0.0001, 0.05],\n",
        "                            'learning_rate': ['constant','adaptive'],\n",
        "                            'solver': ['lbfgs','sgd','adam']},\n",
        "           #'XBoost Regressor',\n",
        "           #'KNN Regressor'\n",
        "          }\n",
        "  regression = [\n",
        "            #LinearRegression(),\n",
        "            RandomForestRegressor(),\n",
        "            #DecisionTreeRegressor(),\n",
        "            MLPRegressor(),\n",
        "            #xgb.XGBRegressor(),\n",
        "            #KNeighborsRegressor(),\n",
        "          ]\n",
        "  for name, clf in zip(random_grid.keys(), regression):\n",
        "    rf_random = RandomizedSearchCV(estimator = clf, param_distributions = random_grid[name], n_iter = 3, cv = 2, verbose=2, random_state=42, n_jobs = -1)\n",
        "    rf_random.fit(X_train, y_train)\n",
        "    print('model %s best_params %s' % (name, rf_random.best_params_))"
      ],
      "execution_count": 20,
      "outputs": []
    },
    {
      "cell_type": "code",
      "metadata": {
        "colab": {
          "base_uri": "https://localhost:8080/"
        },
        "id": "NyrrycUDm-M8",
        "outputId": "b797f755-f35f-4c50-f608-aa787ff6b91b"
      },
      "source": [
        "tuning_hyper_parameters()"
      ],
      "execution_count": 21,
      "outputs": [
        {
          "output_type": "stream",
          "text": [
            "Fitting 2 folds for each of 3 candidates, totalling 6 fits\n"
          ],
          "name": "stdout"
        },
        {
          "output_type": "stream",
          "text": [
            "[Parallel(n_jobs=-1)]: Using backend LokyBackend with 2 concurrent workers.\n",
            "[Parallel(n_jobs=-1)]: Done   6 out of   6 | elapsed:  9.7min finished\n"
          ],
          "name": "stderr"
        },
        {
          "output_type": "stream",
          "text": [
            "model Random Forest best_params {'n_estimators': 200, 'min_samples_split': 5, 'min_samples_leaf': 4, 'max_features': 'sqrt', 'max_depth': 50, 'bootstrap': True}\n",
            "Fitting 2 folds for each of 3 candidates, totalling 6 fits\n"
          ],
          "name": "stdout"
        },
        {
          "output_type": "stream",
          "text": [
            "[Parallel(n_jobs=-1)]: Using backend LokyBackend with 2 concurrent workers.\n",
            "[Parallel(n_jobs=-1)]: Done   6 out of   6 | elapsed:  3.8min finished\n"
          ],
          "name": "stderr"
        },
        {
          "output_type": "stream",
          "text": [
            "model MLP Regressor best_params {'solver': 'adam', 'learning_rate': 'adaptive', 'hidden_layer_sizes': (50, 50, 50), 'alpha': 0.0001, 'activation': 'logistic'}\n"
          ],
          "name": "stdout"
        }
      ]
    },
    {
      "cell_type": "markdown",
      "metadata": {
        "id": "tMe4bp6jxrnh"
      },
      "source": [
        "### Apply the best parameters in muller loop and compare the results"
      ]
    },
    {
      "cell_type": "code",
      "metadata": {
        "id": "Ex-Tbw1EfSsn"
      },
      "source": [
        "def muller_loop(X_train, y_train, X_test, y_test):\n",
        "  names = ['Random Forest',\n",
        "           'Random Forest Tuning',\n",
        "           'MLP Regressor',\n",
        "           'MLP Regressor Tuning',\n",
        "          ]\n",
        "  regression = [\n",
        "            RandomForestRegressor(max_depth=5, n_estimators=10),\n",
        "            RandomForestRegressor(max_depth=50, n_estimators=200, max_features='sqrt', bootstrap=True, min_samples_leaf=4, min_samples_split=5),\n",
        "            MLPRegressor(random_state=1, alpha=1, max_iter=1000),\n",
        "            MLPRegressor(solver='adam', learning_rate= 'adaptive', hidden_layer_sizes= (50, 50, 50), alpha= 0.0001, activation= 'tanh'),\n",
        "          ]\n",
        "  result = pd.DataFrame(columns=['model','r2 score', 'mean squared error', 'mean absolute error', 'time'])\n",
        "\n",
        "  # iterate over classifiers\n",
        "  for name, clf in zip(names, regression):\n",
        "      start_time = time()\n",
        "      clf.fit(X_train, y_train)\n",
        "      r2 = 100.0 * clf.score(X_test, y_test)\n",
        "      y_pred = clf.predict(X_test)\n",
        "      v_score = 100.0 * explained_variance_score(y_test, y_pred, multioutput='raw_values')[0]\n",
        "      mse =  mean_squared_error(y_test, y_pred)\n",
        "      mae =  mean_absolute_error(y_test, y_pred)\n",
        "      result = result.append({'model': name, 'r2 score': r2, 'mean squared error': mse, 'mean absolute error': mae ,'time': (time() - start_time) }, ignore_index=True)\n",
        "\n",
        "  display(result)\n"
      ],
      "execution_count": 14,
      "outputs": []
    },
    {
      "cell_type": "code",
      "metadata": {
        "colab": {
          "base_uri": "https://localhost:8080/",
          "height": 223
        },
        "id": "U9SHHGT5gkvH",
        "outputId": "cb837ff0-3775-4df2-b790-c40c9d22b451"
      },
      "source": [
        "muller_loop(X_train, y_train, X_test, y_test)"
      ],
      "execution_count": 15,
      "outputs": [
        {
          "output_type": "stream",
          "text": [
            "/usr/local/lib/python3.7/dist-packages/sklearn/neural_network/_multilayer_perceptron.py:571: ConvergenceWarning: Stochastic Optimizer: Maximum iterations (200) reached and the optimization hasn't converged yet.\n",
            "  % self.max_iter, ConvergenceWarning)\n"
          ],
          "name": "stderr"
        },
        {
          "output_type": "display_data",
          "data": {
            "text/html": [
              "<div>\n",
              "<style scoped>\n",
              "    .dataframe tbody tr th:only-of-type {\n",
              "        vertical-align: middle;\n",
              "    }\n",
              "\n",
              "    .dataframe tbody tr th {\n",
              "        vertical-align: top;\n",
              "    }\n",
              "\n",
              "    .dataframe thead th {\n",
              "        text-align: right;\n",
              "    }\n",
              "</style>\n",
              "<table border=\"1\" class=\"dataframe\">\n",
              "  <thead>\n",
              "    <tr style=\"text-align: right;\">\n",
              "      <th></th>\n",
              "      <th>model</th>\n",
              "      <th>r2 score</th>\n",
              "      <th>mean squared error</th>\n",
              "      <th>mean absolute error</th>\n",
              "      <th>time</th>\n",
              "    </tr>\n",
              "  </thead>\n",
              "  <tbody>\n",
              "    <tr>\n",
              "      <th>0</th>\n",
              "      <td>Random Forest</td>\n",
              "      <td>62.573965</td>\n",
              "      <td>0.174889</td>\n",
              "      <td>0.243374</td>\n",
              "      <td>2.988457</td>\n",
              "    </tr>\n",
              "    <tr>\n",
              "      <th>1</th>\n",
              "      <td>Random Forest Tuning</td>\n",
              "      <td>89.775175</td>\n",
              "      <td>0.047780</td>\n",
              "      <td>0.080040</td>\n",
              "      <td>60.248286</td>\n",
              "    </tr>\n",
              "    <tr>\n",
              "      <th>2</th>\n",
              "      <td>MLP Regressor</td>\n",
              "      <td>76.764494</td>\n",
              "      <td>0.108578</td>\n",
              "      <td>0.144515</td>\n",
              "      <td>10.040634</td>\n",
              "    </tr>\n",
              "    <tr>\n",
              "      <th>3</th>\n",
              "      <td>MLP Regressor Tuning</td>\n",
              "      <td>86.544679</td>\n",
              "      <td>0.062876</td>\n",
              "      <td>0.120644</td>\n",
              "      <td>304.453364</td>\n",
              "    </tr>\n",
              "  </tbody>\n",
              "</table>\n",
              "</div>"
            ],
            "text/plain": [
              "                  model   r2 score  ...  mean absolute error        time\n",
              "0         Random Forest  62.573965  ...             0.243374    2.988457\n",
              "1  Random Forest Tuning  89.775175  ...             0.080040   60.248286\n",
              "2         MLP Regressor  76.764494  ...             0.144515   10.040634\n",
              "3  MLP Regressor Tuning  86.544679  ...             0.120644  304.453364\n",
              "\n",
              "[4 rows x 5 columns]"
            ]
          },
          "metadata": {
            "tags": []
          }
        }
      ]
    },
    {
      "cell_type": "markdown",
      "metadata": {
        "id": "OZRsz5Gx5Wn_"
      },
      "source": [
        "### Use AutoML AutoGluon to complete the prediction"
      ]
    },
    {
      "cell_type": "code",
      "metadata": {
        "id": "k4ofvm8G5uWb",
        "colab": {
          "base_uri": "https://localhost:8080/"
        },
        "outputId": "bb7a6e84-6ac5-4f9a-ca25-efc30ab5f2ee"
      },
      "source": [
        "label_column = 'use'\n",
        "train_data = df[:20000]\n",
        "predictor = task.fit(train_data=train_data, label=label_column, eval_metric='r2')\n",
        "test_data = df[20001:]\n",
        "y_test = test_data[label_column]\n",
        "\n",
        "test_data = test_data.drop(labels=[label_column], axis=1)\n",
        "y_pred = predictor.predict(test_data)\n",
        "perf = predictor.evaluate_predictions(y_true=y_test, y_pred=y_pred)\n",
        "results = predictor.fit_summary()"
      ],
      "execution_count": 27,
      "outputs": [
        {
          "output_type": "stream",
          "text": [
            "No output_directory specified. Models will be saved in: AutogluonModels/ag-20210307_054451/\n",
            "Beginning AutoGluon training ...\n",
            "AutoGluon will save models to AutogluonModels/ag-20210307_054451/\n",
            "AutoGluon Version:  0.0.16b20201214\n",
            "Train Data Rows:    20000\n",
            "Train Data Columns: 13\n",
            "Preprocessing data ...\n",
            "AutoGluon infers your prediction problem is: 'regression' (because dtype of label-column == float and many unique label-values observed).\n",
            "\tLabel info (max, min, mean, stddev): (7.378916667, 0.000466667, 1.0705, 0.69513)\n",
            "\tIf 'regression' is not the correct problem_type, please manually specify the problem_type argument in fit() (You may specify problem_type as one of: ['binary', 'multiclass', 'regression'])\n",
            "Using Feature Generators to preprocess the data ...\n",
            "Fitting AutoMLPipelineFeatureGenerator...\n",
            "\tAvailable Memory:                    12290.24 MB\n",
            "\tTrain Data (Original)  Memory Usage: 2.08 MB (0.0% of available memory)\n",
            "\tInferring data type of each feature based on column values. Set feature_metadata_in to manually specify special dtypes of the features.\n",
            "\tStage 1 Generators:\n",
            "\t\tFitting AsTypeFeatureGenerator...\n",
            "\tStage 2 Generators:\n",
            "\t\tFitting FillNaFeatureGenerator...\n",
            "\tStage 3 Generators:\n",
            "\t\tFitting IdentityFeatureGenerator...\n",
            "\tStage 4 Generators:\n",
            "\t\tFitting DropUniqueFeatureGenerator...\n",
            "\tTypes of features in original data (raw dtype, special dtypes):\n",
            "\t\t('float', []) : 13 | ['gen', 'apparentTemperature', 'temperature', 'dewPoint', 'Kitchen', ...]\n",
            "\tTypes of features in processed data (raw dtype, special dtypes):\n",
            "\t\t('float', []) : 13 | ['gen', 'apparentTemperature', 'temperature', 'dewPoint', 'Kitchen', ...]\n",
            "\t0.1s = Fit runtime\n",
            "\t13 features in original data used to generate 13 features in processed data.\n",
            "\tTrain Data (Processed) Memory Usage: 2.08 MB (0.0% of available memory)\n",
            "Data preprocessing and feature engineering runtime = 0.13s ...\n",
            "AutoGluon will gauge predictive performance using evaluation metric: 'r2'\n",
            "\tTo change this, specify the eval_metric argument of fit()\n",
            "AutoGluon will early stop models using evaluation metric: 'r2'\n",
            "Fitting model: RandomForestMSE ...\n",
            "\t0.9333\t = Validation r2 score\n",
            "\t42.62s\t = Training runtime\n",
            "\t0.3s\t = Validation runtime\n",
            "Fitting model: ExtraTreesMSE ...\n",
            "\t0.9475\t = Validation r2 score\n",
            "\t16.06s\t = Training runtime\n",
            "\t0.3s\t = Validation runtime\n",
            "Fitting model: KNeighborsUnif ...\n",
            "\t0.852\t = Validation r2 score\n",
            "\t0.05s\t = Training runtime\n",
            "\t0.1s\t = Validation runtime\n",
            "Fitting model: KNeighborsDist ...\n",
            "\t0.8609\t = Validation r2 score\n",
            "\t0.05s\t = Training runtime\n",
            "\t0.1s\t = Validation runtime\n",
            "Fitting model: LightGBM ...\n",
            "\t0.9637\t = Validation r2 score\n",
            "\t9.25s\t = Training runtime\n",
            "\t0.19s\t = Validation runtime\n",
            "Fitting model: LightGBMXT ...\n",
            "\t0.941\t = Validation r2 score\n",
            "\t7.66s\t = Training runtime\n",
            "\t0.11s\t = Validation runtime\n",
            "Fitting model: CatBoost ...\n",
            "\t0.9693\t = Validation r2 score\n",
            "\t17.3s\t = Training runtime\n",
            "\t0.01s\t = Validation runtime\n",
            "Fitting model: XGBoost ...\n",
            "\t0.9564\t = Validation r2 score\n",
            "\t33.66s\t = Training runtime\n",
            "\t0.24s\t = Validation runtime\n",
            "Fitting model: NeuralNetMXNet ...\n",
            "\t0.8627\t = Validation r2 score\n",
            "\t289.11s\t = Training runtime\n",
            "\t0.07s\t = Validation runtime\n",
            "Fitting model: LightGBMCustom ...\n",
            "\t0.9579\t = Validation r2 score\n",
            "\t5.67s\t = Training runtime\n",
            "\t0.09s\t = Validation runtime\n",
            "Fitting model: WeightedEnsemble_L1 ...\n",
            "\t0.9707\t = Validation r2 score\n",
            "\t0.54s\t = Training runtime\n",
            "\t0.0s\t = Validation runtime\n",
            "AutoGluon training complete, total runtime = 436.4s ...\n",
            "Evaluation: r2 on test data: 0.73484144908076\n"
          ],
          "name": "stderr"
        },
        {
          "output_type": "stream",
          "text": [
            "*** Summary of fit() ***\n",
            "Estimated performance of each model:\n",
            "                  model  score_val  pred_time_val    fit_time  pred_time_val_marginal  fit_time_marginal  stack_level  can_infer  fit_order\n",
            "0   WeightedEnsemble_L1   0.970730       0.591439   48.822532                0.000808           0.541473            1       True         11\n",
            "1              CatBoost   0.969270       0.007375   17.304661                0.007375          17.304661            0       True          7\n",
            "2              LightGBM   0.963676       0.185555    9.250434                0.185555           9.250434            0       True          5\n",
            "3        LightGBMCustom   0.957901       0.093998    5.668685                0.093998           5.668685            0       True         10\n",
            "4               XGBoost   0.956450       0.243168   33.663420                0.243168          33.663420            0       True          8\n",
            "5         ExtraTreesMSE   0.947469       0.303703   16.057278                0.303703          16.057278            0       True          2\n",
            "6            LightGBMXT   0.941043       0.109468    7.660745                0.109468           7.660745            0       True          6\n",
            "7       RandomForestMSE   0.933295       0.303891   42.620848                0.303891          42.620848            0       True          1\n",
            "8        NeuralNetMXNet   0.862667       0.072072  289.111089                0.072072         289.111089            0       True          9\n",
            "9        KNeighborsDist   0.860853       0.104382    0.050365                0.104382           0.050365            0       True          4\n",
            "10       KNeighborsUnif   0.851970       0.104438    0.045979                0.104438           0.045979            0       True          3\n",
            "Number of models trained: 11\n",
            "Types of models trained:\n",
            "{'XTModel', 'LGBModel', 'TabularNeuralNetModel', 'WeightedEnsembleModel', 'KNNModel', 'XGBoostModel', 'RFModel', 'CatBoostModel'}\n",
            "Bagging used: False \n",
            "Multi-layer stack-ensembling used: False \n",
            "Hyperparameter-tuning used: False \n",
            "User-specified hyperparameters:\n",
            "{'default': {'NN': [{}], 'GBM': [{}, {'extra_trees': True, 'AG_args': {'name_suffix': 'XT'}}], 'CAT': [{}], 'XGB': [{}], 'RF': [{'criterion': 'mse', 'AG_args': {'name_suffix': 'MSE', 'problem_types': ['regression']}}], 'XT': [{'criterion': 'mse', 'AG_args': {'name_suffix': 'MSE', 'problem_types': ['regression']}}], 'KNN': [{'weights': 'uniform', 'AG_args': {'name_suffix': 'Unif'}}, {'weights': 'distance', 'AG_args': {'name_suffix': 'Dist'}}], 'custom': [{'num_boost_round': 10000, 'num_threads': -1, 'objective': 'regression', 'verbose': -1, 'boosting_type': 'gbdt', 'learning_rate': 0.03, 'num_leaves': 128, 'feature_fraction': 0.9, 'min_data_in_leaf': 5, 'two_round': True, 'seed_value': 0, 'AG_args': {'model_type': 'GBM', 'name_suffix': 'Custom', 'disable_in_hpo': True}}]}}\n",
            "Feature Metadata (Processed):\n",
            "(raw dtype, special dtypes):\n",
            "('float', []) : 13 | ['gen', 'apparentTemperature', 'temperature', 'dewPoint', 'Kitchen', ...]\n",
            "Plot summary of models saved to file: AutogluonModels/ag-20210307_054451/SummaryOfModels.html\n",
            "*** End of fit() summary ***\n"
          ],
          "name": "stdout"
        }
      ]
    },
    {
      "cell_type": "code",
      "metadata": {
        "colab": {
          "base_uri": "https://localhost:8080/"
        },
        "id": "-3LsG2NAQe-h",
        "outputId": "0333eabe-c247-4b39-a97a-43d289b45292"
      },
      "source": [
        "test_data = df[20001:]\n",
        "leaderboard = predictor.leaderboard(test_data)"
      ],
      "execution_count": 28,
      "outputs": [
        {
          "output_type": "stream",
          "text": [
            "                  model  score_test  score_val  pred_time_test  pred_time_val    fit_time  pred_time_test_marginal  pred_time_val_marginal  fit_time_marginal  stack_level  can_infer  fit_order\n",
            "0         ExtraTreesMSE    0.735984   0.947469        5.425150       0.303703   16.057278                 5.425150                0.303703          16.057278            0       True          2\n",
            "1   WeightedEnsemble_L1    0.734841   0.970730       13.841974       0.591439   48.822532                 0.047729                0.000808           0.541473            1       True         11\n",
            "2        LightGBMCustom    0.723812   0.957901        4.115636       0.093998    5.668685                 4.115636                0.093998           5.668685            0       True         10\n",
            "3              LightGBM    0.720576   0.963676        4.010450       0.185555    9.250434                 4.010450                0.185555           9.250434            0       True          5\n",
            "4            LightGBMXT    0.714009   0.941043        4.653079       0.109468    7.660745                 4.653079                0.109468           7.660745            0       True          6\n",
            "5              CatBoost    0.712827   0.969270        0.243009       0.007375   17.304661                 0.243009                0.007375          17.304661            0       True          7\n",
            "6               XGBoost    0.709097   0.956450       10.894150       0.243168   33.663420                10.894150                0.243168          33.663420            0       True          8\n",
            "7       RandomForestMSE    0.690461   0.933295        3.527619       0.303891   42.620848                 3.527619                0.303891          42.620848            0       True          1\n",
            "8        NeuralNetMXNet    0.675615   0.862667        2.977230       0.072072  289.111089                 2.977230                0.072072         289.111089            0       True          9\n",
            "9        KNeighborsDist    0.072915   0.860853        1.261373       0.104382    0.050365                 1.261373                0.104382           0.050365            0       True          4\n",
            "10       KNeighborsUnif    0.071993   0.851970        1.124914       0.104438    0.045979                 1.124914                0.104438           0.045979            0       True          3\n"
          ],
          "name": "stdout"
        }
      ]
    },
    {
      "cell_type": "markdown",
      "metadata": {
        "id": "fkeNv2qJYMja"
      },
      "source": [
        "### Conclusion \n",
        "1. The models perform much better after tuning the hyper parameters comparing to not tuning. \n",
        "<br />\n",
        "2. The Random Forest increased 27% while the MLP increased 10% in r2 score. MSE and MAE score also improved, especially for Random Forest. <br />\n",
        "3. Autogluon provided good performed models and hyper parameters, CatBoost achieve 96% r2 score while XGBoost got 93% r2 score on train dataset. However, the average r2 score on test data is 73%, lower than manual Random Forest Regressor Tuning 90%."
      ]
    }
  ]
}